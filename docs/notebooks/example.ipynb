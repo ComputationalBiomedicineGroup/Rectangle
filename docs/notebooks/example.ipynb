{
 "cells": [
  {
   "cell_type": "markdown",
   "metadata": {},
   "source": [
    "# Example workflow"
   ]
  },
  {
   "cell_type": "markdown",
   "source": [
    "### Import Packages"
   ],
   "metadata": {
    "collapsed": false
   }
  },
  {
   "cell_type": "code",
   "execution_count": 1,
   "metadata": {
    "ExecuteTime": {
     "end_time": "2024-02-24T15:25:07.397270Z",
     "start_time": "2024-02-24T15:25:05.871959Z"
    }
   },
   "outputs": [],
   "source": [
    "import rectanglepy as rectangle\n",
    "from anndata import AnnData"
   ]
  },
  {
   "cell_type": "markdown",
   "source": [
    "## Load tutorial data"
   ],
   "metadata": {
    "collapsed": false
   }
  },
  {
   "cell_type": "code",
   "execution_count": 2,
   "metadata": {
    "ExecuteTime": {
     "end_time": "2024-02-24T15:25:08.769314Z",
     "start_time": "2024-02-24T15:25:08.722034Z"
    }
   },
   "outputs": [],
   "source": [
    "sc_counts, annotations, bulks  = rectangle.load_tutorial_data()"
   ]
  },
  {
   "cell_type": "code",
   "execution_count": 7,
   "outputs": [
    {
     "data": {
      "text/plain": "                       NOC2L  HES4  ISG15  SDF4  B3GALT6  UBE2J2  INTS11   \nE2L4_GATGCTACAGGCACAA      0    11      7     0        2       1       2  \\\nL3_AACGTCACATCAGCAT        0     0      1     0        0       0       1   \nL3_GGAATGGGTCTAACGT        0     0      0     2        0       0       0   \nE2L7_GTCATTTAGGCCTTCG      2     1      1     2        0       0       0   \nE2L6_CCCTTAGCATTGACCA      0     0      0     1        0       0       0   \n\n                       AURKAIP1  CCNL2  MRPL20  \nE2L4_GATGCTACAGGCACAA         5      0       0  \nL3_AACGTCACATCAGCAT           1      0       1  \nL3_GGAATGGGTCTAACGT           1      0       3  \nE2L7_GTCATTTAGGCCTTCG         1      0       0  \nE2L6_CCCTTAGCATTGACCA         1      2       1  ",
      "text/html": "<div>\n<style scoped>\n    .dataframe tbody tr th:only-of-type {\n        vertical-align: middle;\n    }\n\n    .dataframe tbody tr th {\n        vertical-align: top;\n    }\n\n    .dataframe thead th {\n        text-align: right;\n    }\n</style>\n<table border=\"1\" class=\"dataframe\">\n  <thead>\n    <tr style=\"text-align: right;\">\n      <th></th>\n      <th>NOC2L</th>\n      <th>HES4</th>\n      <th>ISG15</th>\n      <th>SDF4</th>\n      <th>B3GALT6</th>\n      <th>UBE2J2</th>\n      <th>INTS11</th>\n      <th>AURKAIP1</th>\n      <th>CCNL2</th>\n      <th>MRPL20</th>\n    </tr>\n  </thead>\n  <tbody>\n    <tr>\n      <th>E2L4_GATGCTACAGGCACAA</th>\n      <td>0</td>\n      <td>11</td>\n      <td>7</td>\n      <td>0</td>\n      <td>2</td>\n      <td>1</td>\n      <td>2</td>\n      <td>5</td>\n      <td>0</td>\n      <td>0</td>\n    </tr>\n    <tr>\n      <th>L3_AACGTCACATCAGCAT</th>\n      <td>0</td>\n      <td>0</td>\n      <td>1</td>\n      <td>0</td>\n      <td>0</td>\n      <td>0</td>\n      <td>1</td>\n      <td>1</td>\n      <td>0</td>\n      <td>1</td>\n    </tr>\n    <tr>\n      <th>L3_GGAATGGGTCTAACGT</th>\n      <td>0</td>\n      <td>0</td>\n      <td>0</td>\n      <td>2</td>\n      <td>0</td>\n      <td>0</td>\n      <td>0</td>\n      <td>1</td>\n      <td>0</td>\n      <td>3</td>\n    </tr>\n    <tr>\n      <th>E2L7_GTCATTTAGGCCTTCG</th>\n      <td>2</td>\n      <td>1</td>\n      <td>1</td>\n      <td>2</td>\n      <td>0</td>\n      <td>0</td>\n      <td>0</td>\n      <td>1</td>\n      <td>0</td>\n      <td>0</td>\n    </tr>\n    <tr>\n      <th>E2L6_CCCTTAGCATTGACCA</th>\n      <td>0</td>\n      <td>0</td>\n      <td>0</td>\n      <td>1</td>\n      <td>0</td>\n      <td>0</td>\n      <td>0</td>\n      <td>1</td>\n      <td>2</td>\n      <td>1</td>\n    </tr>\n  </tbody>\n</table>\n</div>"
     },
     "execution_count": 7,
     "metadata": {},
     "output_type": "execute_result"
    }
   ],
   "source": [
    "sc_counts.iloc[:, :10].head()"
   ],
   "metadata": {
    "collapsed": false,
    "ExecuteTime": {
     "end_time": "2024-02-24T15:27:24.574926Z",
     "start_time": "2024-02-24T15:27:24.570567Z"
    }
   }
  },
  {
   "cell_type": "code",
   "execution_count": 4,
   "outputs": [
    {
     "data": {
      "text/plain": "E2L4_GATGCTACAGGCACAA    Monocytes\nL3_AACGTCACATCAGCAT      Monocytes\nL3_GGAATGGGTCTAACGT      Monocytes\nE2L7_GTCATTTAGGCCTTCG    Monocytes\nE2L6_CCCTTAGCATTGACCA    Monocytes\nName: 0, dtype: object"
     },
     "execution_count": 4,
     "metadata": {},
     "output_type": "execute_result"
    }
   ],
   "source": [
    "annotations.head()"
   ],
   "metadata": {
    "collapsed": false,
    "ExecuteTime": {
     "end_time": "2024-02-24T15:25:36.564881Z",
     "start_time": "2024-02-24T15:25:36.560802Z"
    }
   }
  },
  {
   "cell_type": "code",
   "execution_count": 6,
   "outputs": [
    {
     "data": {
      "text/plain": "         SNORA52   SNORA53  SNORA54   SNORA55  SNORA56   SNORA57  SNORA59B   \npbmc_1   2.02120  0.426412      0.0  0.585614  0.00000  2.060440  0.666746  \\\npbmc_10  1.15102  0.000000      0.0  1.185750  1.15618  0.325934  0.379692   \n\n         SNORA5A   SNORA5B  SNORA5C  \npbmc_1   1.84082  0.000000  2.53766  \npbmc_10  2.01894  0.884945  1.70451  ",
      "text/html": "<div>\n<style scoped>\n    .dataframe tbody tr th:only-of-type {\n        vertical-align: middle;\n    }\n\n    .dataframe tbody tr th {\n        vertical-align: top;\n    }\n\n    .dataframe thead th {\n        text-align: right;\n    }\n</style>\n<table border=\"1\" class=\"dataframe\">\n  <thead>\n    <tr style=\"text-align: right;\">\n      <th></th>\n      <th>SNORA52</th>\n      <th>SNORA53</th>\n      <th>SNORA54</th>\n      <th>SNORA55</th>\n      <th>SNORA56</th>\n      <th>SNORA57</th>\n      <th>SNORA59B</th>\n      <th>SNORA5A</th>\n      <th>SNORA5B</th>\n      <th>SNORA5C</th>\n    </tr>\n  </thead>\n  <tbody>\n    <tr>\n      <th>pbmc_1</th>\n      <td>2.02120</td>\n      <td>0.426412</td>\n      <td>0.0</td>\n      <td>0.585614</td>\n      <td>0.00000</td>\n      <td>2.060440</td>\n      <td>0.666746</td>\n      <td>1.84082</td>\n      <td>0.000000</td>\n      <td>2.53766</td>\n    </tr>\n    <tr>\n      <th>pbmc_10</th>\n      <td>1.15102</td>\n      <td>0.000000</td>\n      <td>0.0</td>\n      <td>1.185750</td>\n      <td>1.15618</td>\n      <td>0.325934</td>\n      <td>0.379692</td>\n      <td>2.01894</td>\n      <td>0.884945</td>\n      <td>1.70451</td>\n    </tr>\n  </tbody>\n</table>\n</div>"
     },
     "execution_count": 6,
     "metadata": {},
     "output_type": "execute_result"
    }
   ],
   "source": [
    "bulks.iloc[:, :10].head()"
   ],
   "metadata": {
    "collapsed": false,
    "ExecuteTime": {
     "end_time": "2024-02-24T15:26:50.641615Z",
     "start_time": "2024-02-24T15:26:50.637250Z"
    }
   }
  },
  {
   "cell_type": "markdown",
   "metadata": {},
   "source": [
    "### Convert to AnnData object"
   ]
  },
  {
   "cell_type": "code",
   "execution_count": 8,
   "outputs": [],
   "source": [
    "sc_adata = AnnData(sc_counts, obs=annotations.to_frame(name=\"cell_type\"))"
   ],
   "metadata": {
    "collapsed": false,
    "ExecuteTime": {
     "end_time": "2024-02-24T15:27:40.242247Z",
     "start_time": "2024-02-24T15:27:40.234408Z"
    }
   }
  },
  {
   "cell_type": "markdown",
   "source": [
    "## Create Signature result"
   ],
   "metadata": {
    "collapsed": false
   }
  },
  {
   "cell_type": "code",
   "execution_count": 10,
   "outputs": [
    {
     "name": "stderr",
     "output_type": "stream",
     "text": [
      "\u001B[32m2024-02-24 16:28:11.178\u001B[0m | \u001B[1mINFO    \u001B[0m | \u001B[36mrectanglepy.pp.create_signature\u001B[0m:\u001B[36mbuild_rectangle_signatures\u001B[0m:\u001B[36m278\u001B[0m - \u001B[1mUsing 1283 common genes between bulks and single-cell data\u001B[0m\n",
      "\u001B[32m2024-02-24 16:28:11.183\u001B[0m | \u001B[1mINFO    \u001B[0m | \u001B[36mrectanglepy.pp.create_signature\u001B[0m:\u001B[36m_de_analysis\u001B[0m:\u001B[36m159\u001B[0m - \u001B[1mStarting DE analysis\u001B[0m\n",
      "\u001B[32m2024-02-24 16:28:11.184\u001B[0m | \u001B[1mINFO    \u001B[0m | \u001B[36mrectanglepy.pp.create_signature\u001B[0m:\u001B[36m_run_deseq2\u001B[0m:\u001B[36m139\u001B[0m - \u001B[1mRunning DE analysis for B cells\u001B[0m\n",
      "Fitting size factors...\n",
      "... done in 0.00 seconds.\n",
      "\n",
      "Fitting dispersions...\n",
      "... done in 0.07 seconds.\n",
      "\n",
      "Fitting MAP dispersions...\n",
      "... done in 0.06 seconds.\n",
      "\n",
      "Fitting LFCs...\n"
     ]
    },
    {
     "name": "stdout",
     "output_type": "stream",
     "text": [
      "Log2 fold change & Wald test p-value: condition 1.0 vs 0.0\n"
     ]
    },
    {
     "name": "stderr",
     "output_type": "stream",
     "text": [
      "... done in 0.03 seconds.\n",
      "\n"
     ]
    },
    {
     "data": {
      "text/plain": "         baseMean  log2FoldChange     lfcSE      stat    pvalue     padj\nALYREF   2.809087        1.003394  1.116908  0.898368  0.368990  0.99745\nCAPN15   1.692187       -0.720770  1.780589 -0.404793  0.685629  0.99745\nCHAMP1   0.986380        1.032104  1.186439  0.869917  0.384346  0.99745\nCHMP3    5.384211        0.695668  0.555726  1.251817  0.210637  0.99745\nCNEP1R1  1.270098       -3.302906  3.962549 -0.833531  0.404546  0.99745\n...           ...             ...       ...       ...       ...      ...\nZSWIM6   1.345286       -3.562447  4.042029 -0.881351  0.378128  0.99745\nZSWIM7   2.815690       -4.602197  4.036851 -1.140046  0.254267  0.99745\nZYG11B   1.516601       -3.805974  4.082912 -0.932171  0.351248  0.99745\nZYX      6.940604       -2.967047  1.860317 -1.594915  0.110731  0.99745\nZZEF1    2.872968        0.923902  1.582757  0.583729  0.559402  0.99745\n\n[1283 rows x 6 columns]",
      "text/html": "<div>\n<style scoped>\n    .dataframe tbody tr th:only-of-type {\n        vertical-align: middle;\n    }\n\n    .dataframe tbody tr th {\n        vertical-align: top;\n    }\n\n    .dataframe thead th {\n        text-align: right;\n    }\n</style>\n<table border=\"1\" class=\"dataframe\">\n  <thead>\n    <tr style=\"text-align: right;\">\n      <th></th>\n      <th>baseMean</th>\n      <th>log2FoldChange</th>\n      <th>lfcSE</th>\n      <th>stat</th>\n      <th>pvalue</th>\n      <th>padj</th>\n    </tr>\n  </thead>\n  <tbody>\n    <tr>\n      <th>ALYREF</th>\n      <td>2.809087</td>\n      <td>1.003394</td>\n      <td>1.116908</td>\n      <td>0.898368</td>\n      <td>0.368990</td>\n      <td>0.99745</td>\n    </tr>\n    <tr>\n      <th>CAPN15</th>\n      <td>1.692187</td>\n      <td>-0.720770</td>\n      <td>1.780589</td>\n      <td>-0.404793</td>\n      <td>0.685629</td>\n      <td>0.99745</td>\n    </tr>\n    <tr>\n      <th>CHAMP1</th>\n      <td>0.986380</td>\n      <td>1.032104</td>\n      <td>1.186439</td>\n      <td>0.869917</td>\n      <td>0.384346</td>\n      <td>0.99745</td>\n    </tr>\n    <tr>\n      <th>CHMP3</th>\n      <td>5.384211</td>\n      <td>0.695668</td>\n      <td>0.555726</td>\n      <td>1.251817</td>\n      <td>0.210637</td>\n      <td>0.99745</td>\n    </tr>\n    <tr>\n      <th>CNEP1R1</th>\n      <td>1.270098</td>\n      <td>-3.302906</td>\n      <td>3.962549</td>\n      <td>-0.833531</td>\n      <td>0.404546</td>\n      <td>0.99745</td>\n    </tr>\n    <tr>\n      <th>...</th>\n      <td>...</td>\n      <td>...</td>\n      <td>...</td>\n      <td>...</td>\n      <td>...</td>\n      <td>...</td>\n    </tr>\n    <tr>\n      <th>ZSWIM6</th>\n      <td>1.345286</td>\n      <td>-3.562447</td>\n      <td>4.042029</td>\n      <td>-0.881351</td>\n      <td>0.378128</td>\n      <td>0.99745</td>\n    </tr>\n    <tr>\n      <th>ZSWIM7</th>\n      <td>2.815690</td>\n      <td>-4.602197</td>\n      <td>4.036851</td>\n      <td>-1.140046</td>\n      <td>0.254267</td>\n      <td>0.99745</td>\n    </tr>\n    <tr>\n      <th>ZYG11B</th>\n      <td>1.516601</td>\n      <td>-3.805974</td>\n      <td>4.082912</td>\n      <td>-0.932171</td>\n      <td>0.351248</td>\n      <td>0.99745</td>\n    </tr>\n    <tr>\n      <th>ZYX</th>\n      <td>6.940604</td>\n      <td>-2.967047</td>\n      <td>1.860317</td>\n      <td>-1.594915</td>\n      <td>0.110731</td>\n      <td>0.99745</td>\n    </tr>\n    <tr>\n      <th>ZZEF1</th>\n      <td>2.872968</td>\n      <td>0.923902</td>\n      <td>1.582757</td>\n      <td>0.583729</td>\n      <td>0.559402</td>\n      <td>0.99745</td>\n    </tr>\n  </tbody>\n</table>\n<p>1283 rows × 6 columns</p>\n</div>"
     },
     "metadata": {},
     "output_type": "display_data"
    },
    {
     "name": "stderr",
     "output_type": "stream",
     "text": [
      "/Users/berni/miniforge3/envs/Rectangle/lib/python3.10/site-packages/pydeseq2/ds.py:414: RuntimeWarning: divide by zero encountered in divide\n",
      "  size = 1.0 / self.dds.varm[\"dispersions\"]\n",
      "/Users/berni/miniforge3/envs/Rectangle/lib/python3.10/site-packages/pydeseq2/utils.py:1198: RuntimeWarning: invalid value encountered in scalar divide\n",
      "  nbinomFn(\n",
      "/Users/berni/miniforge3/envs/Rectangle/lib/python3.10/site-packages/pydeseq2/utils.py:1220: RuntimeWarning: invalid value encountered in divide\n",
      "  counts - (counts + size) / (1 + size * np.exp(-xbeta - offset))\n",
      "/Users/berni/miniforge3/envs/Rectangle/lib/python3.10/site-packages/pydeseq2/grid_search.py:287: RuntimeWarning: invalid value encountered in scalar divide\n",
      "  pydeseq2.utils.nbinomFn(\n",
      "/Users/berni/miniforge3/envs/Rectangle/lib/python3.10/site-packages/pydeseq2/utils.py:1198: RuntimeWarning: invalid value encountered in scalar divide\n",
      "  nbinomFn(\n",
      "/Users/berni/miniforge3/envs/Rectangle/lib/python3.10/site-packages/pydeseq2/utils.py:1220: RuntimeWarning: invalid value encountered in divide\n",
      "  counts - (counts + size) / (1 + size * np.exp(-xbeta - offset))\n",
      "/Users/berni/miniforge3/envs/Rectangle/lib/python3.10/site-packages/pydeseq2/grid_search.py:287: RuntimeWarning: invalid value encountered in scalar divide\n",
      "  pydeseq2.utils.nbinomFn(\n",
      "/Users/berni/miniforge3/envs/Rectangle/lib/python3.10/site-packages/pydeseq2/utils.py:1198: RuntimeWarning: invalid value encountered in scalar divide\n",
      "  nbinomFn(\n",
      "/Users/berni/miniforge3/envs/Rectangle/lib/python3.10/site-packages/pydeseq2/utils.py:1220: RuntimeWarning: invalid value encountered in divide\n",
      "  counts - (counts + size) / (1 + size * np.exp(-xbeta - offset))\n",
      "/Users/berni/miniforge3/envs/Rectangle/lib/python3.10/site-packages/pydeseq2/grid_search.py:287: RuntimeWarning: invalid value encountered in scalar divide\n",
      "  pydeseq2.utils.nbinomFn(\n",
      "/Users/berni/miniforge3/envs/Rectangle/lib/python3.10/site-packages/pydeseq2/utils.py:1198: RuntimeWarning: invalid value encountered in scalar divide\n",
      "  nbinomFn(\n",
      "/Users/berni/miniforge3/envs/Rectangle/lib/python3.10/site-packages/pydeseq2/utils.py:1220: RuntimeWarning: invalid value encountered in divide\n",
      "  counts - (counts + size) / (1 + size * np.exp(-xbeta - offset))\n",
      "/Users/berni/miniforge3/envs/Rectangle/lib/python3.10/site-packages/pydeseq2/grid_search.py:287: RuntimeWarning: invalid value encountered in scalar divide\n",
      "  pydeseq2.utils.nbinomFn(\n",
      "/Users/berni/miniforge3/envs/Rectangle/lib/python3.10/site-packages/pydeseq2/utils.py:1198: RuntimeWarning: invalid value encountered in scalar divide\n",
      "  nbinomFn(\n",
      "/Users/berni/miniforge3/envs/Rectangle/lib/python3.10/site-packages/pydeseq2/utils.py:1220: RuntimeWarning: invalid value encountered in divide\n",
      "  counts - (counts + size) / (1 + size * np.exp(-xbeta - offset))\n",
      "/Users/berni/miniforge3/envs/Rectangle/lib/python3.10/site-packages/pydeseq2/grid_search.py:287: RuntimeWarning: invalid value encountered in scalar divide\n",
      "  pydeseq2.utils.nbinomFn(\n",
      "/Users/berni/miniforge3/envs/Rectangle/lib/python3.10/site-packages/pydeseq2/utils.py:1198: RuntimeWarning: invalid value encountered in scalar divide\n",
      "  nbinomFn(\n",
      "/Users/berni/miniforge3/envs/Rectangle/lib/python3.10/site-packages/pydeseq2/utils.py:1220: RuntimeWarning: invalid value encountered in divide\n",
      "  counts - (counts + size) / (1 + size * np.exp(-xbeta - offset))\n",
      "/Users/berni/miniforge3/envs/Rectangle/lib/python3.10/site-packages/pydeseq2/grid_search.py:287: RuntimeWarning: invalid value encountered in scalar divide\n",
      "  pydeseq2.utils.nbinomFn(\n",
      "/Users/berni/miniforge3/envs/Rectangle/lib/python3.10/site-packages/pydeseq2/utils.py:1198: RuntimeWarning: invalid value encountered in scalar divide\n",
      "  nbinomFn(\n",
      "/Users/berni/miniforge3/envs/Rectangle/lib/python3.10/site-packages/pydeseq2/utils.py:1220: RuntimeWarning: invalid value encountered in divide\n",
      "  counts - (counts + size) / (1 + size * np.exp(-xbeta - offset))\n",
      "/Users/berni/miniforge3/envs/Rectangle/lib/python3.10/site-packages/pydeseq2/grid_search.py:287: RuntimeWarning: invalid value encountered in scalar divide\n",
      "  pydeseq2.utils.nbinomFn(\n",
      "/Users/berni/miniforge3/envs/Rectangle/lib/python3.10/site-packages/pydeseq2/utils.py:1198: RuntimeWarning: invalid value encountered in scalar divide\n",
      "  nbinomFn(\n",
      "/Users/berni/miniforge3/envs/Rectangle/lib/python3.10/site-packages/pydeseq2/utils.py:1220: RuntimeWarning: invalid value encountered in divide\n",
      "  counts - (counts + size) / (1 + size * np.exp(-xbeta - offset))\n",
      "/Users/berni/miniforge3/envs/Rectangle/lib/python3.10/site-packages/pydeseq2/grid_search.py:287: RuntimeWarning: invalid value encountered in scalar divide\n",
      "  pydeseq2.utils.nbinomFn(\n",
      "/Users/berni/miniforge3/envs/Rectangle/lib/python3.10/site-packages/pydeseq2/utils.py:1230: RuntimeWarning: invalid value encountered in divide\n",
      "  frac = (counts + size) * size * exp_xbeta_off / (size + exp_xbeta_off) ** 2\n",
      "/Users/berni/miniforge3/envs/Rectangle/lib/python3.10/site-packages/pydeseq2/utils.py:1230: RuntimeWarning: invalid value encountered in divide\n",
      "  frac = (counts + size) * size * exp_xbeta_off / (size + exp_xbeta_off) ** 2\n",
      "/Users/berni/miniforge3/envs/Rectangle/lib/python3.10/site-packages/pydeseq2/utils.py:1230: RuntimeWarning: invalid value encountered in divide\n",
      "  frac = (counts + size) * size * exp_xbeta_off / (size + exp_xbeta_off) ** 2\n",
      "/Users/berni/miniforge3/envs/Rectangle/lib/python3.10/site-packages/pydeseq2/utils.py:1230: RuntimeWarning: invalid value encountered in divide\n",
      "  frac = (counts + size) * size * exp_xbeta_off / (size + exp_xbeta_off) ** 2\n",
      "/Users/berni/miniforge3/envs/Rectangle/lib/python3.10/site-packages/pydeseq2/utils.py:1230: RuntimeWarning: invalid value encountered in divide\n",
      "  frac = (counts + size) * size * exp_xbeta_off / (size + exp_xbeta_off) ** 2\n",
      "/Users/berni/miniforge3/envs/Rectangle/lib/python3.10/site-packages/pydeseq2/utils.py:1230: RuntimeWarning: invalid value encountered in divide\n",
      "  frac = (counts + size) * size * exp_xbeta_off / (size + exp_xbeta_off) ** 2\n",
      "/Users/berni/miniforge3/envs/Rectangle/lib/python3.10/site-packages/pydeseq2/utils.py:1230: RuntimeWarning: invalid value encountered in divide\n",
      "  frac = (counts + size) * size * exp_xbeta_off / (size + exp_xbeta_off) ** 2\n",
      "/Users/berni/miniforge3/envs/Rectangle/lib/python3.10/site-packages/pydeseq2/utils.py:1230: RuntimeWarning: invalid value encountered in divide\n",
      "  frac = (counts + size) * size * exp_xbeta_off / (size + exp_xbeta_off) ** 2\n",
      "/Users/berni/miniforge3/envs/Rectangle/lib/python3.10/site-packages/pydeseq2/utils.py:1220: RuntimeWarning: overflow encountered in exp\n",
      "  counts - (counts + size) / (1 + size * np.exp(-xbeta - offset))\n"
     ]
    },
    {
     "name": "stdout",
     "output_type": "stream",
     "text": [
      "Shrunk log2 fold change & Wald test p-value: condition 1.0 vs 0.0\n"
     ]
    },
    {
     "data": {
      "text/plain": "         baseMean  log2FoldChange     lfcSE      stat    pvalue     padj\nALYREF   2.809087    8.654450e-07  0.001106  0.898368  0.368990  0.99745\nCAPN15   1.692187   -2.537308e-07  0.001072 -0.404793  0.685629  0.99745\nCHAMP1   0.986380    6.192675e-07  0.001078  0.869917  0.384346  0.99745\nCHMP3    5.384211    2.065309e-06  0.001075  1.251817  0.210637  0.99745\nCNEP1R1  1.270098   -5.579558e-07  0.001058 -0.833531  0.404546  0.99745\n...           ...             ...       ...       ...       ...      ...\nZSWIM6   1.345286   -5.086051e-07  0.001047 -0.881351  0.378128  0.99745\nZSWIM7   2.815690   -6.601037e-07  0.001037 -1.140046  0.254267  0.99745\nZYG11B   1.516601   -4.763900e-07  0.001044 -0.932171  0.351248  0.99745\nZYX      6.940604   -8.654846e-07  0.001038 -1.594915  0.110731  0.99745\nZZEF1    2.872968    4.400135e-07  0.001116  0.583729  0.559402  0.99745\n\n[1283 rows x 6 columns]",
      "text/html": "<div>\n<style scoped>\n    .dataframe tbody tr th:only-of-type {\n        vertical-align: middle;\n    }\n\n    .dataframe tbody tr th {\n        vertical-align: top;\n    }\n\n    .dataframe thead th {\n        text-align: right;\n    }\n</style>\n<table border=\"1\" class=\"dataframe\">\n  <thead>\n    <tr style=\"text-align: right;\">\n      <th></th>\n      <th>baseMean</th>\n      <th>log2FoldChange</th>\n      <th>lfcSE</th>\n      <th>stat</th>\n      <th>pvalue</th>\n      <th>padj</th>\n    </tr>\n  </thead>\n  <tbody>\n    <tr>\n      <th>ALYREF</th>\n      <td>2.809087</td>\n      <td>8.654450e-07</td>\n      <td>0.001106</td>\n      <td>0.898368</td>\n      <td>0.368990</td>\n      <td>0.99745</td>\n    </tr>\n    <tr>\n      <th>CAPN15</th>\n      <td>1.692187</td>\n      <td>-2.537308e-07</td>\n      <td>0.001072</td>\n      <td>-0.404793</td>\n      <td>0.685629</td>\n      <td>0.99745</td>\n    </tr>\n    <tr>\n      <th>CHAMP1</th>\n      <td>0.986380</td>\n      <td>6.192675e-07</td>\n      <td>0.001078</td>\n      <td>0.869917</td>\n      <td>0.384346</td>\n      <td>0.99745</td>\n    </tr>\n    <tr>\n      <th>CHMP3</th>\n      <td>5.384211</td>\n      <td>2.065309e-06</td>\n      <td>0.001075</td>\n      <td>1.251817</td>\n      <td>0.210637</td>\n      <td>0.99745</td>\n    </tr>\n    <tr>\n      <th>CNEP1R1</th>\n      <td>1.270098</td>\n      <td>-5.579558e-07</td>\n      <td>0.001058</td>\n      <td>-0.833531</td>\n      <td>0.404546</td>\n      <td>0.99745</td>\n    </tr>\n    <tr>\n      <th>...</th>\n      <td>...</td>\n      <td>...</td>\n      <td>...</td>\n      <td>...</td>\n      <td>...</td>\n      <td>...</td>\n    </tr>\n    <tr>\n      <th>ZSWIM6</th>\n      <td>1.345286</td>\n      <td>-5.086051e-07</td>\n      <td>0.001047</td>\n      <td>-0.881351</td>\n      <td>0.378128</td>\n      <td>0.99745</td>\n    </tr>\n    <tr>\n      <th>ZSWIM7</th>\n      <td>2.815690</td>\n      <td>-6.601037e-07</td>\n      <td>0.001037</td>\n      <td>-1.140046</td>\n      <td>0.254267</td>\n      <td>0.99745</td>\n    </tr>\n    <tr>\n      <th>ZYG11B</th>\n      <td>1.516601</td>\n      <td>-4.763900e-07</td>\n      <td>0.001044</td>\n      <td>-0.932171</td>\n      <td>0.351248</td>\n      <td>0.99745</td>\n    </tr>\n    <tr>\n      <th>ZYX</th>\n      <td>6.940604</td>\n      <td>-8.654846e-07</td>\n      <td>0.001038</td>\n      <td>-1.594915</td>\n      <td>0.110731</td>\n      <td>0.99745</td>\n    </tr>\n    <tr>\n      <th>ZZEF1</th>\n      <td>2.872968</td>\n      <td>4.400135e-07</td>\n      <td>0.001116</td>\n      <td>0.583729</td>\n      <td>0.559402</td>\n      <td>0.99745</td>\n    </tr>\n  </tbody>\n</table>\n<p>1283 rows × 6 columns</p>\n</div>"
     },
     "metadata": {},
     "output_type": "display_data"
    },
    {
     "name": "stderr",
     "output_type": "stream",
     "text": [
      "\u001B[32m2024-02-24 16:28:15.432\u001B[0m | \u001B[1mINFO    \u001B[0m | \u001B[36mrectanglepy.pp.create_signature\u001B[0m:\u001B[36m_run_deseq2\u001B[0m:\u001B[36m139\u001B[0m - \u001B[1mRunning DE analysis for Monocytes\u001B[0m\n",
      "Fitting size factors...\n",
      "... done in 0.00 seconds.\n",
      "\n",
      "Fitting dispersions...\n",
      "... done in 0.05 seconds.\n",
      "\n",
      "Fitting MAP dispersions...\n",
      "... done in 0.04 seconds.\n",
      "\n",
      "Fitting LFCs...\n",
      "... done in 0.03 seconds.\n",
      "\n"
     ]
    },
    {
     "name": "stdout",
     "output_type": "stream",
     "text": [
      "Log2 fold change & Wald test p-value: condition 1.0 vs 0.0\n"
     ]
    },
    {
     "data": {
      "text/plain": "         baseMean  log2FoldChange     lfcSE      stat    pvalue      padj\nALYREF   2.809087       -1.553205  1.058659 -1.467144  0.142337  0.997942\nCAPN15   1.692187       -5.388610  4.932530 -1.092464  0.274629  0.997942\nCHAMP1   0.986380       -1.174787  1.513162 -0.776379  0.437525  0.997942\nCHMP3    5.384211        0.343361  0.788338  0.435551  0.663162  0.997942\nCNEP1R1  1.270098        0.562218  0.961787  0.584556  0.558846  0.997942\n...           ...             ...       ...       ...       ...       ...\nZSWIM6   1.345286        1.083897  1.704733  0.635816  0.524896  0.997942\nZSWIM7   2.815690        0.428769  1.647094  0.260318  0.794618  0.997942\nZYG11B   1.516601        1.486842  0.914995  1.624971  0.104169  0.997942\nZYX      6.940604        1.592303  1.295059  1.229521  0.218877  0.997942\nZZEF1    2.872968        1.085484  1.553491  0.698738  0.484716  0.997942\n\n[1283 rows x 6 columns]",
      "text/html": "<div>\n<style scoped>\n    .dataframe tbody tr th:only-of-type {\n        vertical-align: middle;\n    }\n\n    .dataframe tbody tr th {\n        vertical-align: top;\n    }\n\n    .dataframe thead th {\n        text-align: right;\n    }\n</style>\n<table border=\"1\" class=\"dataframe\">\n  <thead>\n    <tr style=\"text-align: right;\">\n      <th></th>\n      <th>baseMean</th>\n      <th>log2FoldChange</th>\n      <th>lfcSE</th>\n      <th>stat</th>\n      <th>pvalue</th>\n      <th>padj</th>\n    </tr>\n  </thead>\n  <tbody>\n    <tr>\n      <th>ALYREF</th>\n      <td>2.809087</td>\n      <td>-1.553205</td>\n      <td>1.058659</td>\n      <td>-1.467144</td>\n      <td>0.142337</td>\n      <td>0.997942</td>\n    </tr>\n    <tr>\n      <th>CAPN15</th>\n      <td>1.692187</td>\n      <td>-5.388610</td>\n      <td>4.932530</td>\n      <td>-1.092464</td>\n      <td>0.274629</td>\n      <td>0.997942</td>\n    </tr>\n    <tr>\n      <th>CHAMP1</th>\n      <td>0.986380</td>\n      <td>-1.174787</td>\n      <td>1.513162</td>\n      <td>-0.776379</td>\n      <td>0.437525</td>\n      <td>0.997942</td>\n    </tr>\n    <tr>\n      <th>CHMP3</th>\n      <td>5.384211</td>\n      <td>0.343361</td>\n      <td>0.788338</td>\n      <td>0.435551</td>\n      <td>0.663162</td>\n      <td>0.997942</td>\n    </tr>\n    <tr>\n      <th>CNEP1R1</th>\n      <td>1.270098</td>\n      <td>0.562218</td>\n      <td>0.961787</td>\n      <td>0.584556</td>\n      <td>0.558846</td>\n      <td>0.997942</td>\n    </tr>\n    <tr>\n      <th>...</th>\n      <td>...</td>\n      <td>...</td>\n      <td>...</td>\n      <td>...</td>\n      <td>...</td>\n      <td>...</td>\n    </tr>\n    <tr>\n      <th>ZSWIM6</th>\n      <td>1.345286</td>\n      <td>1.083897</td>\n      <td>1.704733</td>\n      <td>0.635816</td>\n      <td>0.524896</td>\n      <td>0.997942</td>\n    </tr>\n    <tr>\n      <th>ZSWIM7</th>\n      <td>2.815690</td>\n      <td>0.428769</td>\n      <td>1.647094</td>\n      <td>0.260318</td>\n      <td>0.794618</td>\n      <td>0.997942</td>\n    </tr>\n    <tr>\n      <th>ZYG11B</th>\n      <td>1.516601</td>\n      <td>1.486842</td>\n      <td>0.914995</td>\n      <td>1.624971</td>\n      <td>0.104169</td>\n      <td>0.997942</td>\n    </tr>\n    <tr>\n      <th>ZYX</th>\n      <td>6.940604</td>\n      <td>1.592303</td>\n      <td>1.295059</td>\n      <td>1.229521</td>\n      <td>0.218877</td>\n      <td>0.997942</td>\n    </tr>\n    <tr>\n      <th>ZZEF1</th>\n      <td>2.872968</td>\n      <td>1.085484</td>\n      <td>1.553491</td>\n      <td>0.698738</td>\n      <td>0.484716</td>\n      <td>0.997942</td>\n    </tr>\n  </tbody>\n</table>\n<p>1283 rows × 6 columns</p>\n</div>"
     },
     "metadata": {},
     "output_type": "display_data"
    },
    {
     "name": "stderr",
     "output_type": "stream",
     "text": [
      "/Users/berni/miniforge3/envs/Rectangle/lib/python3.10/site-packages/pydeseq2/ds.py:414: RuntimeWarning: divide by zero encountered in divide\n",
      "  size = 1.0 / self.dds.varm[\"dispersions\"]\n",
      "/Users/berni/miniforge3/envs/Rectangle/lib/python3.10/site-packages/pydeseq2/utils.py:1198: RuntimeWarning: invalid value encountered in scalar divide\n",
      "  nbinomFn(\n",
      "/Users/berni/miniforge3/envs/Rectangle/lib/python3.10/site-packages/pydeseq2/utils.py:1220: RuntimeWarning: invalid value encountered in divide\n",
      "  counts - (counts + size) / (1 + size * np.exp(-xbeta - offset))\n",
      "/Users/berni/miniforge3/envs/Rectangle/lib/python3.10/site-packages/pydeseq2/grid_search.py:287: RuntimeWarning: invalid value encountered in scalar divide\n",
      "  pydeseq2.utils.nbinomFn(\n",
      "/Users/berni/miniforge3/envs/Rectangle/lib/python3.10/site-packages/pydeseq2/utils.py:1198: RuntimeWarning: invalid value encountered in scalar divide\n",
      "  nbinomFn(\n",
      "/Users/berni/miniforge3/envs/Rectangle/lib/python3.10/site-packages/pydeseq2/utils.py:1220: RuntimeWarning: invalid value encountered in divide\n",
      "  counts - (counts + size) / (1 + size * np.exp(-xbeta - offset))\n",
      "/Users/berni/miniforge3/envs/Rectangle/lib/python3.10/site-packages/pydeseq2/utils.py:1198: RuntimeWarning: invalid value encountered in scalar divide\n",
      "  nbinomFn(\n",
      "/Users/berni/miniforge3/envs/Rectangle/lib/python3.10/site-packages/pydeseq2/utils.py:1220: RuntimeWarning: invalid value encountered in divide\n",
      "  counts - (counts + size) / (1 + size * np.exp(-xbeta - offset))\n",
      "/Users/berni/miniforge3/envs/Rectangle/lib/python3.10/site-packages/pydeseq2/grid_search.py:287: RuntimeWarning: invalid value encountered in scalar divide\n",
      "  pydeseq2.utils.nbinomFn(\n",
      "/Users/berni/miniforge3/envs/Rectangle/lib/python3.10/site-packages/pydeseq2/grid_search.py:287: RuntimeWarning: invalid value encountered in scalar divide\n",
      "  pydeseq2.utils.nbinomFn(\n",
      "/Users/berni/miniforge3/envs/Rectangle/lib/python3.10/site-packages/pydeseq2/utils.py:1198: RuntimeWarning: invalid value encountered in scalar divide\n",
      "  nbinomFn(\n",
      "/Users/berni/miniforge3/envs/Rectangle/lib/python3.10/site-packages/pydeseq2/utils.py:1220: RuntimeWarning: invalid value encountered in divide\n",
      "  counts - (counts + size) / (1 + size * np.exp(-xbeta - offset))\n",
      "/Users/berni/miniforge3/envs/Rectangle/lib/python3.10/site-packages/pydeseq2/grid_search.py:287: RuntimeWarning: invalid value encountered in scalar divide\n",
      "  pydeseq2.utils.nbinomFn(\n",
      "/Users/berni/miniforge3/envs/Rectangle/lib/python3.10/site-packages/pydeseq2/utils.py:1198: RuntimeWarning: invalid value encountered in scalar divide\n",
      "  nbinomFn(\n",
      "/Users/berni/miniforge3/envs/Rectangle/lib/python3.10/site-packages/pydeseq2/utils.py:1220: RuntimeWarning: invalid value encountered in divide\n",
      "  counts - (counts + size) / (1 + size * np.exp(-xbeta - offset))\n",
      "/Users/berni/miniforge3/envs/Rectangle/lib/python3.10/site-packages/pydeseq2/grid_search.py:287: RuntimeWarning: invalid value encountered in scalar divide\n",
      "  pydeseq2.utils.nbinomFn(\n",
      "/Users/berni/miniforge3/envs/Rectangle/lib/python3.10/site-packages/pydeseq2/utils.py:1198: RuntimeWarning: invalid value encountered in scalar divide\n",
      "  nbinomFn(\n",
      "/Users/berni/miniforge3/envs/Rectangle/lib/python3.10/site-packages/pydeseq2/utils.py:1220: RuntimeWarning: invalid value encountered in divide\n",
      "  counts - (counts + size) / (1 + size * np.exp(-xbeta - offset))\n",
      "/Users/berni/miniforge3/envs/Rectangle/lib/python3.10/site-packages/pydeseq2/utils.py:1198: RuntimeWarning: invalid value encountered in scalar divide\n",
      "  nbinomFn(\n",
      "/Users/berni/miniforge3/envs/Rectangle/lib/python3.10/site-packages/pydeseq2/utils.py:1220: RuntimeWarning: invalid value encountered in divide\n",
      "  counts - (counts + size) / (1 + size * np.exp(-xbeta - offset))\n",
      "/Users/berni/miniforge3/envs/Rectangle/lib/python3.10/site-packages/pydeseq2/grid_search.py:287: RuntimeWarning: invalid value encountered in scalar divide\n",
      "  pydeseq2.utils.nbinomFn(\n",
      "/Users/berni/miniforge3/envs/Rectangle/lib/python3.10/site-packages/pydeseq2/grid_search.py:287: RuntimeWarning: invalid value encountered in scalar divide\n",
      "  pydeseq2.utils.nbinomFn(\n",
      "/Users/berni/miniforge3/envs/Rectangle/lib/python3.10/site-packages/pydeseq2/utils.py:1198: RuntimeWarning: invalid value encountered in scalar divide\n",
      "  nbinomFn(\n",
      "/Users/berni/miniforge3/envs/Rectangle/lib/python3.10/site-packages/pydeseq2/utils.py:1220: RuntimeWarning: invalid value encountered in divide\n",
      "  counts - (counts + size) / (1 + size * np.exp(-xbeta - offset))\n",
      "/Users/berni/miniforge3/envs/Rectangle/lib/python3.10/site-packages/pydeseq2/grid_search.py:287: RuntimeWarning: invalid value encountered in scalar divide\n",
      "  pydeseq2.utils.nbinomFn(\n",
      "/Users/berni/miniforge3/envs/Rectangle/lib/python3.10/site-packages/pydeseq2/utils.py:1230: RuntimeWarning: invalid value encountered in divide\n",
      "  frac = (counts + size) * size * exp_xbeta_off / (size + exp_xbeta_off) ** 2\n",
      "/Users/berni/miniforge3/envs/Rectangle/lib/python3.10/site-packages/pydeseq2/utils.py:1230: RuntimeWarning: invalid value encountered in divide\n",
      "  frac = (counts + size) * size * exp_xbeta_off / (size + exp_xbeta_off) ** 2\n",
      "/Users/berni/miniforge3/envs/Rectangle/lib/python3.10/site-packages/pydeseq2/utils.py:1230: RuntimeWarning: invalid value encountered in divide\n",
      "  frac = (counts + size) * size * exp_xbeta_off / (size + exp_xbeta_off) ** 2\n",
      "/Users/berni/miniforge3/envs/Rectangle/lib/python3.10/site-packages/pydeseq2/utils.py:1230: RuntimeWarning: invalid value encountered in divide\n",
      "  frac = (counts + size) * size * exp_xbeta_off / (size + exp_xbeta_off) ** 2\n",
      "/Users/berni/miniforge3/envs/Rectangle/lib/python3.10/site-packages/pydeseq2/utils.py:1230: RuntimeWarning: invalid value encountered in divide\n",
      "  frac = (counts + size) * size * exp_xbeta_off / (size + exp_xbeta_off) ** 2\n",
      "/Users/berni/miniforge3/envs/Rectangle/lib/python3.10/site-packages/pydeseq2/utils.py:1230: RuntimeWarning: invalid value encountered in divide\n",
      "  frac = (counts + size) * size * exp_xbeta_off / (size + exp_xbeta_off) ** 2\n",
      "/Users/berni/miniforge3/envs/Rectangle/lib/python3.10/site-packages/pydeseq2/utils.py:1230: RuntimeWarning: invalid value encountered in divide\n",
      "  frac = (counts + size) * size * exp_xbeta_off / (size + exp_xbeta_off) ** 2\n",
      "/Users/berni/miniforge3/envs/Rectangle/lib/python3.10/site-packages/pydeseq2/utils.py:1230: RuntimeWarning: invalid value encountered in divide\n",
      "  frac = (counts + size) * size * exp_xbeta_off / (size + exp_xbeta_off) ** 2\n"
     ]
    },
    {
     "name": "stdout",
     "output_type": "stream",
     "text": [
      "Shrunk log2 fold change & Wald test p-value: condition 1.0 vs 0.0\n"
     ]
    },
    {
     "data": {
      "text/plain": "         baseMean  log2FoldChange     lfcSE      stat    pvalue      padj\nALYREF   2.809087      -44.747999  1.058659 -1.467144  0.142337  0.997942\nCAPN15   1.692187       -0.022557  0.174033 -1.092464  0.274629  0.997942\nCHAMP1   0.986380      -44.747999  1.513162 -0.776379  0.437525  0.997942\nCHMP3    5.384211        0.015185  0.178726  0.435551  0.663162  0.997942\nCNEP1R1  1.270098      -44.747999  0.961787  0.584556  0.558846  0.997942\n...           ...             ...       ...       ...       ...       ...\nZSWIM6   1.345286        0.012141  0.186826  0.635816  0.524896  0.997942\nZSWIM7   2.815690        0.004770  0.180041  0.260318  0.794618  0.997942\nZYG11B   1.516601        1.811468  0.872438  1.624971  0.104169  0.997942\nZYX      6.940604        0.037169  0.197718  1.229521  0.218877  0.997942\nZZEF1    2.872968        0.015200  0.187362  0.698738  0.484716  0.997942\n\n[1283 rows x 6 columns]",
      "text/html": "<div>\n<style scoped>\n    .dataframe tbody tr th:only-of-type {\n        vertical-align: middle;\n    }\n\n    .dataframe tbody tr th {\n        vertical-align: top;\n    }\n\n    .dataframe thead th {\n        text-align: right;\n    }\n</style>\n<table border=\"1\" class=\"dataframe\">\n  <thead>\n    <tr style=\"text-align: right;\">\n      <th></th>\n      <th>baseMean</th>\n      <th>log2FoldChange</th>\n      <th>lfcSE</th>\n      <th>stat</th>\n      <th>pvalue</th>\n      <th>padj</th>\n    </tr>\n  </thead>\n  <tbody>\n    <tr>\n      <th>ALYREF</th>\n      <td>2.809087</td>\n      <td>-44.747999</td>\n      <td>1.058659</td>\n      <td>-1.467144</td>\n      <td>0.142337</td>\n      <td>0.997942</td>\n    </tr>\n    <tr>\n      <th>CAPN15</th>\n      <td>1.692187</td>\n      <td>-0.022557</td>\n      <td>0.174033</td>\n      <td>-1.092464</td>\n      <td>0.274629</td>\n      <td>0.997942</td>\n    </tr>\n    <tr>\n      <th>CHAMP1</th>\n      <td>0.986380</td>\n      <td>-44.747999</td>\n      <td>1.513162</td>\n      <td>-0.776379</td>\n      <td>0.437525</td>\n      <td>0.997942</td>\n    </tr>\n    <tr>\n      <th>CHMP3</th>\n      <td>5.384211</td>\n      <td>0.015185</td>\n      <td>0.178726</td>\n      <td>0.435551</td>\n      <td>0.663162</td>\n      <td>0.997942</td>\n    </tr>\n    <tr>\n      <th>CNEP1R1</th>\n      <td>1.270098</td>\n      <td>-44.747999</td>\n      <td>0.961787</td>\n      <td>0.584556</td>\n      <td>0.558846</td>\n      <td>0.997942</td>\n    </tr>\n    <tr>\n      <th>...</th>\n      <td>...</td>\n      <td>...</td>\n      <td>...</td>\n      <td>...</td>\n      <td>...</td>\n      <td>...</td>\n    </tr>\n    <tr>\n      <th>ZSWIM6</th>\n      <td>1.345286</td>\n      <td>0.012141</td>\n      <td>0.186826</td>\n      <td>0.635816</td>\n      <td>0.524896</td>\n      <td>0.997942</td>\n    </tr>\n    <tr>\n      <th>ZSWIM7</th>\n      <td>2.815690</td>\n      <td>0.004770</td>\n      <td>0.180041</td>\n      <td>0.260318</td>\n      <td>0.794618</td>\n      <td>0.997942</td>\n    </tr>\n    <tr>\n      <th>ZYG11B</th>\n      <td>1.516601</td>\n      <td>1.811468</td>\n      <td>0.872438</td>\n      <td>1.624971</td>\n      <td>0.104169</td>\n      <td>0.997942</td>\n    </tr>\n    <tr>\n      <th>ZYX</th>\n      <td>6.940604</td>\n      <td>0.037169</td>\n      <td>0.197718</td>\n      <td>1.229521</td>\n      <td>0.218877</td>\n      <td>0.997942</td>\n    </tr>\n    <tr>\n      <th>ZZEF1</th>\n      <td>2.872968</td>\n      <td>0.015200</td>\n      <td>0.187362</td>\n      <td>0.698738</td>\n      <td>0.484716</td>\n      <td>0.997942</td>\n    </tr>\n  </tbody>\n</table>\n<p>1283 rows × 6 columns</p>\n</div>"
     },
     "metadata": {},
     "output_type": "display_data"
    },
    {
     "name": "stderr",
     "output_type": "stream",
     "text": [
      "\u001B[32m2024-02-24 16:28:18.440\u001B[0m | \u001B[1mINFO    \u001B[0m | \u001B[36mrectanglepy.pp.create_signature\u001B[0m:\u001B[36m_run_deseq2\u001B[0m:\u001B[36m139\u001B[0m - \u001B[1mRunning DE analysis for NK cells\u001B[0m\n",
      "Fitting size factors...\n",
      "... done in 0.00 seconds.\n",
      "\n",
      "Fitting dispersions...\n",
      "... done in 0.09 seconds.\n",
      "\n",
      "Fitting MAP dispersions...\n",
      "... done in 0.07 seconds.\n",
      "\n",
      "Fitting LFCs...\n"
     ]
    },
    {
     "name": "stdout",
     "output_type": "stream",
     "text": [
      "Log2 fold change & Wald test p-value: condition 1.0 vs 0.0\n"
     ]
    },
    {
     "name": "stderr",
     "output_type": "stream",
     "text": [
      "... done in 0.04 seconds.\n",
      "\n"
     ]
    },
    {
     "data": {
      "text/plain": "         baseMean  log2FoldChange     lfcSE      stat    pvalue      padj\nALYREF   2.809087       -5.112046  4.981334 -1.026240  0.304778  0.995148\nCAPN15   1.692187        0.599007  1.627961  0.367949  0.712911  0.995148\nCHAMP1   0.986380        0.162015  1.930433  0.083927  0.933115  0.995148\nCHMP3    5.384211        0.920872  0.791031  1.164142  0.244367  0.995148\nCNEP1R1  1.270098       -3.939567  5.083030 -0.775043  0.438314  0.995148\n...           ...             ...       ...       ...       ...       ...\nZSWIM6   1.345286       -4.309042  5.215893 -0.826137  0.408726  0.995148\nZSWIM7   2.815690        0.271804  1.751271  0.155204  0.876661  0.995148\nZYG11B   1.516601       -0.508117  2.020866 -0.251435  0.801477  0.995148\nZYX      6.940604       -1.115636  1.549830 -0.719844  0.471621  0.995148\nZZEF1    2.872968        0.285654  1.692988  0.168728  0.866011  0.995148\n\n[1283 rows x 6 columns]",
      "text/html": "<div>\n<style scoped>\n    .dataframe tbody tr th:only-of-type {\n        vertical-align: middle;\n    }\n\n    .dataframe tbody tr th {\n        vertical-align: top;\n    }\n\n    .dataframe thead th {\n        text-align: right;\n    }\n</style>\n<table border=\"1\" class=\"dataframe\">\n  <thead>\n    <tr style=\"text-align: right;\">\n      <th></th>\n      <th>baseMean</th>\n      <th>log2FoldChange</th>\n      <th>lfcSE</th>\n      <th>stat</th>\n      <th>pvalue</th>\n      <th>padj</th>\n    </tr>\n  </thead>\n  <tbody>\n    <tr>\n      <th>ALYREF</th>\n      <td>2.809087</td>\n      <td>-5.112046</td>\n      <td>4.981334</td>\n      <td>-1.026240</td>\n      <td>0.304778</td>\n      <td>0.995148</td>\n    </tr>\n    <tr>\n      <th>CAPN15</th>\n      <td>1.692187</td>\n      <td>0.599007</td>\n      <td>1.627961</td>\n      <td>0.367949</td>\n      <td>0.712911</td>\n      <td>0.995148</td>\n    </tr>\n    <tr>\n      <th>CHAMP1</th>\n      <td>0.986380</td>\n      <td>0.162015</td>\n      <td>1.930433</td>\n      <td>0.083927</td>\n      <td>0.933115</td>\n      <td>0.995148</td>\n    </tr>\n    <tr>\n      <th>CHMP3</th>\n      <td>5.384211</td>\n      <td>0.920872</td>\n      <td>0.791031</td>\n      <td>1.164142</td>\n      <td>0.244367</td>\n      <td>0.995148</td>\n    </tr>\n    <tr>\n      <th>CNEP1R1</th>\n      <td>1.270098</td>\n      <td>-3.939567</td>\n      <td>5.083030</td>\n      <td>-0.775043</td>\n      <td>0.438314</td>\n      <td>0.995148</td>\n    </tr>\n    <tr>\n      <th>...</th>\n      <td>...</td>\n      <td>...</td>\n      <td>...</td>\n      <td>...</td>\n      <td>...</td>\n      <td>...</td>\n    </tr>\n    <tr>\n      <th>ZSWIM6</th>\n      <td>1.345286</td>\n      <td>-4.309042</td>\n      <td>5.215893</td>\n      <td>-0.826137</td>\n      <td>0.408726</td>\n      <td>0.995148</td>\n    </tr>\n    <tr>\n      <th>ZSWIM7</th>\n      <td>2.815690</td>\n      <td>0.271804</td>\n      <td>1.751271</td>\n      <td>0.155204</td>\n      <td>0.876661</td>\n      <td>0.995148</td>\n    </tr>\n    <tr>\n      <th>ZYG11B</th>\n      <td>1.516601</td>\n      <td>-0.508117</td>\n      <td>2.020866</td>\n      <td>-0.251435</td>\n      <td>0.801477</td>\n      <td>0.995148</td>\n    </tr>\n    <tr>\n      <th>ZYX</th>\n      <td>6.940604</td>\n      <td>-1.115636</td>\n      <td>1.549830</td>\n      <td>-0.719844</td>\n      <td>0.471621</td>\n      <td>0.995148</td>\n    </tr>\n    <tr>\n      <th>ZZEF1</th>\n      <td>2.872968</td>\n      <td>0.285654</td>\n      <td>1.692988</td>\n      <td>0.168728</td>\n      <td>0.866011</td>\n      <td>0.995148</td>\n    </tr>\n  </tbody>\n</table>\n<p>1283 rows × 6 columns</p>\n</div>"
     },
     "metadata": {},
     "output_type": "display_data"
    },
    {
     "name": "stderr",
     "output_type": "stream",
     "text": [
      "/Users/berni/miniforge3/envs/Rectangle/lib/python3.10/site-packages/pydeseq2/ds.py:414: RuntimeWarning: divide by zero encountered in divide\n",
      "  size = 1.0 / self.dds.varm[\"dispersions\"]\n",
      "/Users/berni/miniforge3/envs/Rectangle/lib/python3.10/site-packages/pydeseq2/utils.py:1198: RuntimeWarning: invalid value encountered in scalar divide\n",
      "  nbinomFn(\n",
      "/Users/berni/miniforge3/envs/Rectangle/lib/python3.10/site-packages/pydeseq2/utils.py:1220: RuntimeWarning: invalid value encountered in divide\n",
      "  counts - (counts + size) / (1 + size * np.exp(-xbeta - offset))\n",
      "/Users/berni/miniforge3/envs/Rectangle/lib/python3.10/site-packages/pydeseq2/grid_search.py:287: RuntimeWarning: invalid value encountered in scalar divide\n",
      "  pydeseq2.utils.nbinomFn(\n",
      "/Users/berni/miniforge3/envs/Rectangle/lib/python3.10/site-packages/pydeseq2/utils.py:1198: RuntimeWarning: invalid value encountered in scalar divide\n",
      "  nbinomFn(\n",
      "/Users/berni/miniforge3/envs/Rectangle/lib/python3.10/site-packages/pydeseq2/utils.py:1220: RuntimeWarning: invalid value encountered in divide\n",
      "  counts - (counts + size) / (1 + size * np.exp(-xbeta - offset))\n",
      "/Users/berni/miniforge3/envs/Rectangle/lib/python3.10/site-packages/pydeseq2/grid_search.py:287: RuntimeWarning: invalid value encountered in scalar divide\n",
      "  pydeseq2.utils.nbinomFn(\n",
      "/Users/berni/miniforge3/envs/Rectangle/lib/python3.10/site-packages/pydeseq2/utils.py:1198: RuntimeWarning: invalid value encountered in scalar divide\n",
      "  nbinomFn(\n",
      "/Users/berni/miniforge3/envs/Rectangle/lib/python3.10/site-packages/pydeseq2/utils.py:1220: RuntimeWarning: invalid value encountered in divide\n",
      "  counts - (counts + size) / (1 + size * np.exp(-xbeta - offset))\n",
      "/Users/berni/miniforge3/envs/Rectangle/lib/python3.10/site-packages/pydeseq2/grid_search.py:287: RuntimeWarning: invalid value encountered in scalar divide\n",
      "  pydeseq2.utils.nbinomFn(\n",
      "/Users/berni/miniforge3/envs/Rectangle/lib/python3.10/site-packages/pydeseq2/utils.py:1198: RuntimeWarning: invalid value encountered in scalar divide\n",
      "  nbinomFn(\n",
      "/Users/berni/miniforge3/envs/Rectangle/lib/python3.10/site-packages/pydeseq2/utils.py:1220: RuntimeWarning: invalid value encountered in divide\n",
      "  counts - (counts + size) / (1 + size * np.exp(-xbeta - offset))\n",
      "/Users/berni/miniforge3/envs/Rectangle/lib/python3.10/site-packages/pydeseq2/grid_search.py:287: RuntimeWarning: invalid value encountered in scalar divide\n",
      "  pydeseq2.utils.nbinomFn(\n",
      "/Users/berni/miniforge3/envs/Rectangle/lib/python3.10/site-packages/pydeseq2/utils.py:1198: RuntimeWarning: invalid value encountered in scalar divide\n",
      "  nbinomFn(\n",
      "/Users/berni/miniforge3/envs/Rectangle/lib/python3.10/site-packages/pydeseq2/utils.py:1220: RuntimeWarning: invalid value encountered in divide\n",
      "  counts - (counts + size) / (1 + size * np.exp(-xbeta - offset))\n",
      "/Users/berni/miniforge3/envs/Rectangle/lib/python3.10/site-packages/pydeseq2/grid_search.py:287: RuntimeWarning: invalid value encountered in scalar divide\n",
      "  pydeseq2.utils.nbinomFn(\n",
      "/Users/berni/miniforge3/envs/Rectangle/lib/python3.10/site-packages/pydeseq2/utils.py:1198: RuntimeWarning: invalid value encountered in scalar divide\n",
      "  nbinomFn(\n",
      "/Users/berni/miniforge3/envs/Rectangle/lib/python3.10/site-packages/pydeseq2/utils.py:1220: RuntimeWarning: invalid value encountered in divide\n",
      "  counts - (counts + size) / (1 + size * np.exp(-xbeta - offset))\n",
      "/Users/berni/miniforge3/envs/Rectangle/lib/python3.10/site-packages/pydeseq2/grid_search.py:287: RuntimeWarning: invalid value encountered in scalar divide\n",
      "  pydeseq2.utils.nbinomFn(\n",
      "/Users/berni/miniforge3/envs/Rectangle/lib/python3.10/site-packages/pydeseq2/utils.py:1198: RuntimeWarning: invalid value encountered in scalar divide\n",
      "  nbinomFn(\n",
      "/Users/berni/miniforge3/envs/Rectangle/lib/python3.10/site-packages/pydeseq2/utils.py:1220: RuntimeWarning: invalid value encountered in divide\n",
      "  counts - (counts + size) / (1 + size * np.exp(-xbeta - offset))\n",
      "/Users/berni/miniforge3/envs/Rectangle/lib/python3.10/site-packages/pydeseq2/grid_search.py:287: RuntimeWarning: invalid value encountered in scalar divide\n",
      "  pydeseq2.utils.nbinomFn(\n",
      "/Users/berni/miniforge3/envs/Rectangle/lib/python3.10/site-packages/pydeseq2/utils.py:1230: RuntimeWarning: invalid value encountered in divide\n",
      "  frac = (counts + size) * size * exp_xbeta_off / (size + exp_xbeta_off) ** 2\n",
      "/Users/berni/miniforge3/envs/Rectangle/lib/python3.10/site-packages/pydeseq2/utils.py:1230: RuntimeWarning: invalid value encountered in divide\n",
      "  frac = (counts + size) * size * exp_xbeta_off / (size + exp_xbeta_off) ** 2\n",
      "/Users/berni/miniforge3/envs/Rectangle/lib/python3.10/site-packages/pydeseq2/utils.py:1230: RuntimeWarning: invalid value encountered in divide\n",
      "  frac = (counts + size) * size * exp_xbeta_off / (size + exp_xbeta_off) ** 2\n",
      "/Users/berni/miniforge3/envs/Rectangle/lib/python3.10/site-packages/pydeseq2/utils.py:1198: RuntimeWarning: invalid value encountered in scalar divide\n",
      "  nbinomFn(\n",
      "/Users/berni/miniforge3/envs/Rectangle/lib/python3.10/site-packages/pydeseq2/utils.py:1220: RuntimeWarning: invalid value encountered in divide\n",
      "  counts - (counts + size) / (1 + size * np.exp(-xbeta - offset))\n",
      "/Users/berni/miniforge3/envs/Rectangle/lib/python3.10/site-packages/pydeseq2/grid_search.py:287: RuntimeWarning: invalid value encountered in scalar divide\n",
      "  pydeseq2.utils.nbinomFn(\n",
      "/Users/berni/miniforge3/envs/Rectangle/lib/python3.10/site-packages/pydeseq2/utils.py:1230: RuntimeWarning: invalid value encountered in divide\n",
      "  frac = (counts + size) * size * exp_xbeta_off / (size + exp_xbeta_off) ** 2\n",
      "/Users/berni/miniforge3/envs/Rectangle/lib/python3.10/site-packages/pydeseq2/utils.py:1230: RuntimeWarning: invalid value encountered in divide\n",
      "  frac = (counts + size) * size * exp_xbeta_off / (size + exp_xbeta_off) ** 2\n",
      "/Users/berni/miniforge3/envs/Rectangle/lib/python3.10/site-packages/pydeseq2/utils.py:1230: RuntimeWarning: invalid value encountered in divide\n",
      "  frac = (counts + size) * size * exp_xbeta_off / (size + exp_xbeta_off) ** 2\n",
      "/Users/berni/miniforge3/envs/Rectangle/lib/python3.10/site-packages/pydeseq2/utils.py:1230: RuntimeWarning: invalid value encountered in divide\n",
      "  frac = (counts + size) * size * exp_xbeta_off / (size + exp_xbeta_off) ** 2\n",
      "/Users/berni/miniforge3/envs/Rectangle/lib/python3.10/site-packages/pydeseq2/utils.py:1230: RuntimeWarning: invalid value encountered in divide\n",
      "  frac = (counts + size) * size * exp_xbeta_off / (size + exp_xbeta_off) ** 2\n"
     ]
    },
    {
     "name": "stdout",
     "output_type": "stream",
     "text": [
      "Shrunk log2 fold change & Wald test p-value: condition 1.0 vs 0.0\n"
     ]
    },
    {
     "data": {
      "text/plain": "         baseMean  log2FoldChange     lfcSE      stat    pvalue      padj\nALYREF   2.809087   -4.474800e+01  4.981334 -1.026240  0.304778  0.995148\nCAPN15   1.692187    2.408227e-07  0.001091  0.367949  0.712911  0.995148\nCHAMP1   0.986380    2.205403e-08  0.001075  0.083927  0.933115  0.995148\nCHMP3    5.384211    1.515302e-06  0.001092  1.164142  0.244367  0.995148\nCNEP1R1  1.270098   -5.374411e-07  0.001057 -0.775043  0.438314  0.995148\n...           ...             ...       ...       ...       ...       ...\nZSWIM6   1.345286   -4.040408e-07  0.001043 -0.826137  0.408726  0.995148\nZSWIM7   2.815690    9.650872e-08  0.001085  0.155204  0.876661  0.995148\nZYG11B   1.516601   -1.314450e-07  0.001066 -0.251435  0.801477  0.995148\nZYX      6.940604   -4.210207e-07  0.001053 -0.719844  0.471621  0.995148\nZZEF1    2.872968    1.073829e-07  0.001086  0.168728  0.866011  0.995148\n\n[1283 rows x 6 columns]",
      "text/html": "<div>\n<style scoped>\n    .dataframe tbody tr th:only-of-type {\n        vertical-align: middle;\n    }\n\n    .dataframe tbody tr th {\n        vertical-align: top;\n    }\n\n    .dataframe thead th {\n        text-align: right;\n    }\n</style>\n<table border=\"1\" class=\"dataframe\">\n  <thead>\n    <tr style=\"text-align: right;\">\n      <th></th>\n      <th>baseMean</th>\n      <th>log2FoldChange</th>\n      <th>lfcSE</th>\n      <th>stat</th>\n      <th>pvalue</th>\n      <th>padj</th>\n    </tr>\n  </thead>\n  <tbody>\n    <tr>\n      <th>ALYREF</th>\n      <td>2.809087</td>\n      <td>-4.474800e+01</td>\n      <td>4.981334</td>\n      <td>-1.026240</td>\n      <td>0.304778</td>\n      <td>0.995148</td>\n    </tr>\n    <tr>\n      <th>CAPN15</th>\n      <td>1.692187</td>\n      <td>2.408227e-07</td>\n      <td>0.001091</td>\n      <td>0.367949</td>\n      <td>0.712911</td>\n      <td>0.995148</td>\n    </tr>\n    <tr>\n      <th>CHAMP1</th>\n      <td>0.986380</td>\n      <td>2.205403e-08</td>\n      <td>0.001075</td>\n      <td>0.083927</td>\n      <td>0.933115</td>\n      <td>0.995148</td>\n    </tr>\n    <tr>\n      <th>CHMP3</th>\n      <td>5.384211</td>\n      <td>1.515302e-06</td>\n      <td>0.001092</td>\n      <td>1.164142</td>\n      <td>0.244367</td>\n      <td>0.995148</td>\n    </tr>\n    <tr>\n      <th>CNEP1R1</th>\n      <td>1.270098</td>\n      <td>-5.374411e-07</td>\n      <td>0.001057</td>\n      <td>-0.775043</td>\n      <td>0.438314</td>\n      <td>0.995148</td>\n    </tr>\n    <tr>\n      <th>...</th>\n      <td>...</td>\n      <td>...</td>\n      <td>...</td>\n      <td>...</td>\n      <td>...</td>\n      <td>...</td>\n    </tr>\n    <tr>\n      <th>ZSWIM6</th>\n      <td>1.345286</td>\n      <td>-4.040408e-07</td>\n      <td>0.001043</td>\n      <td>-0.826137</td>\n      <td>0.408726</td>\n      <td>0.995148</td>\n    </tr>\n    <tr>\n      <th>ZSWIM7</th>\n      <td>2.815690</td>\n      <td>9.650872e-08</td>\n      <td>0.001085</td>\n      <td>0.155204</td>\n      <td>0.876661</td>\n      <td>0.995148</td>\n    </tr>\n    <tr>\n      <th>ZYG11B</th>\n      <td>1.516601</td>\n      <td>-1.314450e-07</td>\n      <td>0.001066</td>\n      <td>-0.251435</td>\n      <td>0.801477</td>\n      <td>0.995148</td>\n    </tr>\n    <tr>\n      <th>ZYX</th>\n      <td>6.940604</td>\n      <td>-4.210207e-07</td>\n      <td>0.001053</td>\n      <td>-0.719844</td>\n      <td>0.471621</td>\n      <td>0.995148</td>\n    </tr>\n    <tr>\n      <th>ZZEF1</th>\n      <td>2.872968</td>\n      <td>1.073829e-07</td>\n      <td>0.001086</td>\n      <td>0.168728</td>\n      <td>0.866011</td>\n      <td>0.995148</td>\n    </tr>\n  </tbody>\n</table>\n<p>1283 rows × 6 columns</p>\n</div>"
     },
     "metadata": {},
     "output_type": "display_data"
    },
    {
     "name": "stderr",
     "output_type": "stream",
     "text": [
      "\u001B[32m2024-02-24 16:28:21.956\u001B[0m | \u001B[1mINFO    \u001B[0m | \u001B[36mrectanglepy.pp.create_signature\u001B[0m:\u001B[36m_run_deseq2\u001B[0m:\u001B[36m139\u001B[0m - \u001B[1mRunning DE analysis for Plasma cells\u001B[0m\n",
      "Fitting size factors...\n",
      "... done in 0.00 seconds.\n",
      "\n",
      "Fitting dispersions...\n",
      "... done in 0.11 seconds.\n",
      "\n",
      "Fitting MAP dispersions...\n"
     ]
    },
    {
     "name": "stdout",
     "output_type": "stream",
     "text": [
      "Log2 fold change & Wald test p-value: condition 1.0 vs 0.0\n"
     ]
    },
    {
     "name": "stderr",
     "output_type": "stream",
     "text": [
      "... done in 0.09 seconds.\n",
      "\n",
      "Fitting LFCs...\n",
      "... done in 0.03 seconds.\n",
      "\n"
     ]
    },
    {
     "data": {
      "text/plain": "         baseMean  log2FoldChange     lfcSE      stat    pvalue      padj\nALYREF   2.809087       -0.107192  1.378175 -0.077778  0.938004  0.999321\nCAPN15   1.692187       -0.333840  1.914766 -0.174350  0.861590  0.994083\nCHAMP1   0.986380        0.276997  1.536861  0.180236  0.856967  0.994083\nCHMP3    5.384211       -1.102940  1.183036 -0.932296  0.351183  0.940387\nCNEP1R1  1.270098        0.132728  1.506883  0.088081  0.929812  0.999321\n...           ...             ...       ...       ...       ...       ...\nZSWIM6   1.345286       -5.546585  8.010404 -0.692423  0.488672  0.940387\nZSWIM7   2.815690       -1.265244  2.042520 -0.619452  0.535618  0.940387\nZYG11B   1.516601       -5.738031  8.091869 -0.709111  0.478256  0.940387\nZYX      6.940604       -2.582568  1.871969 -1.379600  0.167710  0.940387\nZZEF1    2.872968       -0.179327  1.758941 -0.101952  0.918795  0.999321\n\n[1283 rows x 6 columns]",
      "text/html": "<div>\n<style scoped>\n    .dataframe tbody tr th:only-of-type {\n        vertical-align: middle;\n    }\n\n    .dataframe tbody tr th {\n        vertical-align: top;\n    }\n\n    .dataframe thead th {\n        text-align: right;\n    }\n</style>\n<table border=\"1\" class=\"dataframe\">\n  <thead>\n    <tr style=\"text-align: right;\">\n      <th></th>\n      <th>baseMean</th>\n      <th>log2FoldChange</th>\n      <th>lfcSE</th>\n      <th>stat</th>\n      <th>pvalue</th>\n      <th>padj</th>\n    </tr>\n  </thead>\n  <tbody>\n    <tr>\n      <th>ALYREF</th>\n      <td>2.809087</td>\n      <td>-0.107192</td>\n      <td>1.378175</td>\n      <td>-0.077778</td>\n      <td>0.938004</td>\n      <td>0.999321</td>\n    </tr>\n    <tr>\n      <th>CAPN15</th>\n      <td>1.692187</td>\n      <td>-0.333840</td>\n      <td>1.914766</td>\n      <td>-0.174350</td>\n      <td>0.861590</td>\n      <td>0.994083</td>\n    </tr>\n    <tr>\n      <th>CHAMP1</th>\n      <td>0.986380</td>\n      <td>0.276997</td>\n      <td>1.536861</td>\n      <td>0.180236</td>\n      <td>0.856967</td>\n      <td>0.994083</td>\n    </tr>\n    <tr>\n      <th>CHMP3</th>\n      <td>5.384211</td>\n      <td>-1.102940</td>\n      <td>1.183036</td>\n      <td>-0.932296</td>\n      <td>0.351183</td>\n      <td>0.940387</td>\n    </tr>\n    <tr>\n      <th>CNEP1R1</th>\n      <td>1.270098</td>\n      <td>0.132728</td>\n      <td>1.506883</td>\n      <td>0.088081</td>\n      <td>0.929812</td>\n      <td>0.999321</td>\n    </tr>\n    <tr>\n      <th>...</th>\n      <td>...</td>\n      <td>...</td>\n      <td>...</td>\n      <td>...</td>\n      <td>...</td>\n      <td>...</td>\n    </tr>\n    <tr>\n      <th>ZSWIM6</th>\n      <td>1.345286</td>\n      <td>-5.546585</td>\n      <td>8.010404</td>\n      <td>-0.692423</td>\n      <td>0.488672</td>\n      <td>0.940387</td>\n    </tr>\n    <tr>\n      <th>ZSWIM7</th>\n      <td>2.815690</td>\n      <td>-1.265244</td>\n      <td>2.042520</td>\n      <td>-0.619452</td>\n      <td>0.535618</td>\n      <td>0.940387</td>\n    </tr>\n    <tr>\n      <th>ZYG11B</th>\n      <td>1.516601</td>\n      <td>-5.738031</td>\n      <td>8.091869</td>\n      <td>-0.709111</td>\n      <td>0.478256</td>\n      <td>0.940387</td>\n    </tr>\n    <tr>\n      <th>ZYX</th>\n      <td>6.940604</td>\n      <td>-2.582568</td>\n      <td>1.871969</td>\n      <td>-1.379600</td>\n      <td>0.167710</td>\n      <td>0.940387</td>\n    </tr>\n    <tr>\n      <th>ZZEF1</th>\n      <td>2.872968</td>\n      <td>-0.179327</td>\n      <td>1.758941</td>\n      <td>-0.101952</td>\n      <td>0.918795</td>\n      <td>0.999321</td>\n    </tr>\n  </tbody>\n</table>\n<p>1283 rows × 6 columns</p>\n</div>"
     },
     "metadata": {},
     "output_type": "display_data"
    },
    {
     "name": "stderr",
     "output_type": "stream",
     "text": [
      "/Users/berni/miniforge3/envs/Rectangle/lib/python3.10/site-packages/pydeseq2/ds.py:414: RuntimeWarning: divide by zero encountered in divide\n",
      "  size = 1.0 / self.dds.varm[\"dispersions\"]\n",
      "/Users/berni/miniforge3/envs/Rectangle/lib/python3.10/site-packages/pydeseq2/utils.py:1198: RuntimeWarning: invalid value encountered in scalar divide\n",
      "  nbinomFn(\n",
      "/Users/berni/miniforge3/envs/Rectangle/lib/python3.10/site-packages/pydeseq2/utils.py:1220: RuntimeWarning: invalid value encountered in divide\n",
      "  counts - (counts + size) / (1 + size * np.exp(-xbeta - offset))\n",
      "/Users/berni/miniforge3/envs/Rectangle/lib/python3.10/site-packages/pydeseq2/grid_search.py:287: RuntimeWarning: invalid value encountered in scalar divide\n",
      "  pydeseq2.utils.nbinomFn(\n",
      "/Users/berni/miniforge3/envs/Rectangle/lib/python3.10/site-packages/pydeseq2/utils.py:1198: RuntimeWarning: invalid value encountered in scalar divide\n",
      "  nbinomFn(\n",
      "/Users/berni/miniforge3/envs/Rectangle/lib/python3.10/site-packages/pydeseq2/utils.py:1220: RuntimeWarning: invalid value encountered in divide\n",
      "  counts - (counts + size) / (1 + size * np.exp(-xbeta - offset))\n",
      "/Users/berni/miniforge3/envs/Rectangle/lib/python3.10/site-packages/pydeseq2/grid_search.py:287: RuntimeWarning: invalid value encountered in scalar divide\n",
      "  pydeseq2.utils.nbinomFn(\n",
      "/Users/berni/miniforge3/envs/Rectangle/lib/python3.10/site-packages/pydeseq2/utils.py:1198: RuntimeWarning: invalid value encountered in scalar divide\n",
      "  nbinomFn(\n",
      "/Users/berni/miniforge3/envs/Rectangle/lib/python3.10/site-packages/pydeseq2/utils.py:1220: RuntimeWarning: invalid value encountered in divide\n",
      "  counts - (counts + size) / (1 + size * np.exp(-xbeta - offset))\n",
      "/Users/berni/miniforge3/envs/Rectangle/lib/python3.10/site-packages/pydeseq2/utils.py:1198: RuntimeWarning: invalid value encountered in scalar divide\n",
      "  nbinomFn(\n",
      "/Users/berni/miniforge3/envs/Rectangle/lib/python3.10/site-packages/pydeseq2/utils.py:1220: RuntimeWarning: invalid value encountered in divide\n",
      "  counts - (counts + size) / (1 + size * np.exp(-xbeta - offset))\n",
      "/Users/berni/miniforge3/envs/Rectangle/lib/python3.10/site-packages/pydeseq2/grid_search.py:287: RuntimeWarning: invalid value encountered in scalar divide\n",
      "  pydeseq2.utils.nbinomFn(\n",
      "/Users/berni/miniforge3/envs/Rectangle/lib/python3.10/site-packages/pydeseq2/grid_search.py:287: RuntimeWarning: invalid value encountered in scalar divide\n",
      "  pydeseq2.utils.nbinomFn(\n",
      "/Users/berni/miniforge3/envs/Rectangle/lib/python3.10/site-packages/pydeseq2/utils.py:1198: RuntimeWarning: invalid value encountered in scalar divide\n",
      "  nbinomFn(\n",
      "/Users/berni/miniforge3/envs/Rectangle/lib/python3.10/site-packages/pydeseq2/utils.py:1220: RuntimeWarning: invalid value encountered in divide\n",
      "  counts - (counts + size) / (1 + size * np.exp(-xbeta - offset))\n",
      "/Users/berni/miniforge3/envs/Rectangle/lib/python3.10/site-packages/pydeseq2/grid_search.py:287: RuntimeWarning: invalid value encountered in scalar divide\n",
      "  pydeseq2.utils.nbinomFn(\n",
      "/Users/berni/miniforge3/envs/Rectangle/lib/python3.10/site-packages/pydeseq2/utils.py:1198: RuntimeWarning: invalid value encountered in scalar divide\n",
      "  nbinomFn(\n",
      "/Users/berni/miniforge3/envs/Rectangle/lib/python3.10/site-packages/pydeseq2/utils.py:1220: RuntimeWarning: invalid value encountered in divide\n",
      "  counts - (counts + size) / (1 + size * np.exp(-xbeta - offset))\n",
      "/Users/berni/miniforge3/envs/Rectangle/lib/python3.10/site-packages/pydeseq2/grid_search.py:287: RuntimeWarning: invalid value encountered in scalar divide\n",
      "  pydeseq2.utils.nbinomFn(\n",
      "/Users/berni/miniforge3/envs/Rectangle/lib/python3.10/site-packages/pydeseq2/utils.py:1198: RuntimeWarning: invalid value encountered in scalar divide\n",
      "  nbinomFn(\n",
      "/Users/berni/miniforge3/envs/Rectangle/lib/python3.10/site-packages/pydeseq2/utils.py:1220: RuntimeWarning: invalid value encountered in divide\n",
      "  counts - (counts + size) / (1 + size * np.exp(-xbeta - offset))\n",
      "/Users/berni/miniforge3/envs/Rectangle/lib/python3.10/site-packages/pydeseq2/grid_search.py:287: RuntimeWarning: invalid value encountered in scalar divide\n",
      "  pydeseq2.utils.nbinomFn(\n",
      "/Users/berni/miniforge3/envs/Rectangle/lib/python3.10/site-packages/pydeseq2/utils.py:1230: RuntimeWarning: invalid value encountered in divide\n",
      "  frac = (counts + size) * size * exp_xbeta_off / (size + exp_xbeta_off) ** 2\n",
      "/Users/berni/miniforge3/envs/Rectangle/lib/python3.10/site-packages/pydeseq2/utils.py:1230: RuntimeWarning: invalid value encountered in divide\n",
      "  frac = (counts + size) * size * exp_xbeta_off / (size + exp_xbeta_off) ** 2\n",
      "/Users/berni/miniforge3/envs/Rectangle/lib/python3.10/site-packages/pydeseq2/utils.py:1230: RuntimeWarning: invalid value encountered in divide\n",
      "  frac = (counts + size) * size * exp_xbeta_off / (size + exp_xbeta_off) ** 2\n",
      "/Users/berni/miniforge3/envs/Rectangle/lib/python3.10/site-packages/pydeseq2/utils.py:1230: RuntimeWarning: invalid value encountered in divide\n",
      "  frac = (counts + size) * size * exp_xbeta_off / (size + exp_xbeta_off) ** 2\n",
      "/Users/berni/miniforge3/envs/Rectangle/lib/python3.10/site-packages/pydeseq2/utils.py:1198: RuntimeWarning: invalid value encountered in scalar divide\n",
      "  nbinomFn(\n",
      "/Users/berni/miniforge3/envs/Rectangle/lib/python3.10/site-packages/pydeseq2/utils.py:1220: RuntimeWarning: invalid value encountered in divide\n",
      "  counts - (counts + size) / (1 + size * np.exp(-xbeta - offset))\n",
      "/Users/berni/miniforge3/envs/Rectangle/lib/python3.10/site-packages/pydeseq2/grid_search.py:287: RuntimeWarning: invalid value encountered in scalar divide\n",
      "  pydeseq2.utils.nbinomFn(\n",
      "/Users/berni/miniforge3/envs/Rectangle/lib/python3.10/site-packages/pydeseq2/utils.py:1230: RuntimeWarning: invalid value encountered in divide\n",
      "  frac = (counts + size) * size * exp_xbeta_off / (size + exp_xbeta_off) ** 2\n",
      "/Users/berni/miniforge3/envs/Rectangle/lib/python3.10/site-packages/pydeseq2/utils.py:1230: RuntimeWarning: invalid value encountered in divide\n",
      "  frac = (counts + size) * size * exp_xbeta_off / (size + exp_xbeta_off) ** 2\n",
      "/Users/berni/miniforge3/envs/Rectangle/lib/python3.10/site-packages/pydeseq2/utils.py:1230: RuntimeWarning: invalid value encountered in divide\n",
      "  frac = (counts + size) * size * exp_xbeta_off / (size + exp_xbeta_off) ** 2\n",
      "/Users/berni/miniforge3/envs/Rectangle/lib/python3.10/site-packages/pydeseq2/utils.py:1230: RuntimeWarning: invalid value encountered in divide\n",
      "  frac = (counts + size) * size * exp_xbeta_off / (size + exp_xbeta_off) ** 2\n"
     ]
    },
    {
     "name": "stdout",
     "output_type": "stream",
     "text": [
      "Shrunk log2 fold change & Wald test p-value: condition 1.0 vs 0.0\n"
     ]
    },
    {
     "data": {
      "text/plain": "         baseMean  log2FoldChange     lfcSE      stat    pvalue      padj\nALYREF   2.809087       -0.002782  0.232235 -0.077778  0.938004  0.999321\nCAPN15   1.692187       -0.004595  0.233626 -0.174350  0.861590  0.994083\nCHAMP1   0.986380        0.005784  0.231753  0.180236  0.856967  0.994083\nCHMP3    5.384211       -0.045667  0.234444 -0.932296  0.351183  0.940387\nCNEP1R1  1.270098      -44.747999  1.506883  0.088081  0.929812  0.999321\n...           ...             ...       ...       ...       ...       ...\nZSWIM6   1.345286       -0.030495  0.233178 -0.692423  0.488672  0.940387\nZSWIM7   2.815690       -0.014879  0.231290 -0.619452  0.535618  0.940387\nZYG11B   1.516601       -0.020646  0.230575 -0.709111  0.478256  0.940387\nZYX      6.940604       -0.036870  0.232288 -1.379600  0.167710  0.940387\nZZEF1    2.872968       -0.002829  0.233816 -0.101952  0.918795  0.999321\n\n[1283 rows x 6 columns]",
      "text/html": "<div>\n<style scoped>\n    .dataframe tbody tr th:only-of-type {\n        vertical-align: middle;\n    }\n\n    .dataframe tbody tr th {\n        vertical-align: top;\n    }\n\n    .dataframe thead th {\n        text-align: right;\n    }\n</style>\n<table border=\"1\" class=\"dataframe\">\n  <thead>\n    <tr style=\"text-align: right;\">\n      <th></th>\n      <th>baseMean</th>\n      <th>log2FoldChange</th>\n      <th>lfcSE</th>\n      <th>stat</th>\n      <th>pvalue</th>\n      <th>padj</th>\n    </tr>\n  </thead>\n  <tbody>\n    <tr>\n      <th>ALYREF</th>\n      <td>2.809087</td>\n      <td>-0.002782</td>\n      <td>0.232235</td>\n      <td>-0.077778</td>\n      <td>0.938004</td>\n      <td>0.999321</td>\n    </tr>\n    <tr>\n      <th>CAPN15</th>\n      <td>1.692187</td>\n      <td>-0.004595</td>\n      <td>0.233626</td>\n      <td>-0.174350</td>\n      <td>0.861590</td>\n      <td>0.994083</td>\n    </tr>\n    <tr>\n      <th>CHAMP1</th>\n      <td>0.986380</td>\n      <td>0.005784</td>\n      <td>0.231753</td>\n      <td>0.180236</td>\n      <td>0.856967</td>\n      <td>0.994083</td>\n    </tr>\n    <tr>\n      <th>CHMP3</th>\n      <td>5.384211</td>\n      <td>-0.045667</td>\n      <td>0.234444</td>\n      <td>-0.932296</td>\n      <td>0.351183</td>\n      <td>0.940387</td>\n    </tr>\n    <tr>\n      <th>CNEP1R1</th>\n      <td>1.270098</td>\n      <td>-44.747999</td>\n      <td>1.506883</td>\n      <td>0.088081</td>\n      <td>0.929812</td>\n      <td>0.999321</td>\n    </tr>\n    <tr>\n      <th>...</th>\n      <td>...</td>\n      <td>...</td>\n      <td>...</td>\n      <td>...</td>\n      <td>...</td>\n      <td>...</td>\n    </tr>\n    <tr>\n      <th>ZSWIM6</th>\n      <td>1.345286</td>\n      <td>-0.030495</td>\n      <td>0.233178</td>\n      <td>-0.692423</td>\n      <td>0.488672</td>\n      <td>0.940387</td>\n    </tr>\n    <tr>\n      <th>ZSWIM7</th>\n      <td>2.815690</td>\n      <td>-0.014879</td>\n      <td>0.231290</td>\n      <td>-0.619452</td>\n      <td>0.535618</td>\n      <td>0.940387</td>\n    </tr>\n    <tr>\n      <th>ZYG11B</th>\n      <td>1.516601</td>\n      <td>-0.020646</td>\n      <td>0.230575</td>\n      <td>-0.709111</td>\n      <td>0.478256</td>\n      <td>0.940387</td>\n    </tr>\n    <tr>\n      <th>ZYX</th>\n      <td>6.940604</td>\n      <td>-0.036870</td>\n      <td>0.232288</td>\n      <td>-1.379600</td>\n      <td>0.167710</td>\n      <td>0.940387</td>\n    </tr>\n    <tr>\n      <th>ZZEF1</th>\n      <td>2.872968</td>\n      <td>-0.002829</td>\n      <td>0.233816</td>\n      <td>-0.101952</td>\n      <td>0.918795</td>\n      <td>0.999321</td>\n    </tr>\n  </tbody>\n</table>\n<p>1283 rows × 6 columns</p>\n</div>"
     },
     "metadata": {},
     "output_type": "display_data"
    },
    {
     "name": "stderr",
     "output_type": "stream",
     "text": [
      "\u001B[32m2024-02-24 16:28:25.130\u001B[0m | \u001B[1mINFO    \u001B[0m | \u001B[36mrectanglepy.pp.create_signature\u001B[0m:\u001B[36m_run_deseq2\u001B[0m:\u001B[36m139\u001B[0m - \u001B[1mRunning DE analysis for T cells CD4 conv\u001B[0m\n",
      "Fitting size factors...\n",
      "... done in 0.00 seconds.\n",
      "\n",
      "Fitting dispersions...\n",
      "... done in 0.07 seconds.\n",
      "\n",
      "Fitting MAP dispersions...\n",
      "... done in 0.06 seconds.\n",
      "\n",
      "Fitting LFCs...\n",
      "... done in 0.03 seconds.\n",
      "\n"
     ]
    },
    {
     "name": "stdout",
     "output_type": "stream",
     "text": [
      "Log2 fold change & Wald test p-value: condition 1.0 vs 0.0\n"
     ]
    },
    {
     "data": {
      "text/plain": "         baseMean  log2FoldChange     lfcSE      stat    pvalue      padj\nALYREF   2.809087        0.244970  1.067547  0.229470  0.818504  0.999581\nCAPN15   1.692187        0.487631  1.643672  0.296672  0.766717  0.999581\nCHAMP1   0.986380       -2.466143  3.540214 -0.696608  0.486048  0.999581\nCHMP3    5.384211        0.033326  0.718735  0.046368  0.963017  0.999581\nCNEP1R1  1.270098        0.981898  1.501097  0.654121  0.513034  0.999581\n...           ...             ...       ...       ...       ...       ...\nZSWIM6   1.345286        0.651954  1.919174  0.339705  0.734078  0.999581\nZSWIM7   2.815690        0.164179  1.759310  0.093320  0.925649  0.999581\nZYG11B   1.516601       -0.620792  1.967134 -0.315582  0.752320  0.999581\nZYX      6.940604       -0.772852  1.562880 -0.494505  0.620950  0.999581\nZZEF1    2.872968       -4.120770  3.618586 -1.138779  0.254795  0.999581\n\n[1283 rows x 6 columns]",
      "text/html": "<div>\n<style scoped>\n    .dataframe tbody tr th:only-of-type {\n        vertical-align: middle;\n    }\n\n    .dataframe tbody tr th {\n        vertical-align: top;\n    }\n\n    .dataframe thead th {\n        text-align: right;\n    }\n</style>\n<table border=\"1\" class=\"dataframe\">\n  <thead>\n    <tr style=\"text-align: right;\">\n      <th></th>\n      <th>baseMean</th>\n      <th>log2FoldChange</th>\n      <th>lfcSE</th>\n      <th>stat</th>\n      <th>pvalue</th>\n      <th>padj</th>\n    </tr>\n  </thead>\n  <tbody>\n    <tr>\n      <th>ALYREF</th>\n      <td>2.809087</td>\n      <td>0.244970</td>\n      <td>1.067547</td>\n      <td>0.229470</td>\n      <td>0.818504</td>\n      <td>0.999581</td>\n    </tr>\n    <tr>\n      <th>CAPN15</th>\n      <td>1.692187</td>\n      <td>0.487631</td>\n      <td>1.643672</td>\n      <td>0.296672</td>\n      <td>0.766717</td>\n      <td>0.999581</td>\n    </tr>\n    <tr>\n      <th>CHAMP1</th>\n      <td>0.986380</td>\n      <td>-2.466143</td>\n      <td>3.540214</td>\n      <td>-0.696608</td>\n      <td>0.486048</td>\n      <td>0.999581</td>\n    </tr>\n    <tr>\n      <th>CHMP3</th>\n      <td>5.384211</td>\n      <td>0.033326</td>\n      <td>0.718735</td>\n      <td>0.046368</td>\n      <td>0.963017</td>\n      <td>0.999581</td>\n    </tr>\n    <tr>\n      <th>CNEP1R1</th>\n      <td>1.270098</td>\n      <td>0.981898</td>\n      <td>1.501097</td>\n      <td>0.654121</td>\n      <td>0.513034</td>\n      <td>0.999581</td>\n    </tr>\n    <tr>\n      <th>...</th>\n      <td>...</td>\n      <td>...</td>\n      <td>...</td>\n      <td>...</td>\n      <td>...</td>\n      <td>...</td>\n    </tr>\n    <tr>\n      <th>ZSWIM6</th>\n      <td>1.345286</td>\n      <td>0.651954</td>\n      <td>1.919174</td>\n      <td>0.339705</td>\n      <td>0.734078</td>\n      <td>0.999581</td>\n    </tr>\n    <tr>\n      <th>ZSWIM7</th>\n      <td>2.815690</td>\n      <td>0.164179</td>\n      <td>1.759310</td>\n      <td>0.093320</td>\n      <td>0.925649</td>\n      <td>0.999581</td>\n    </tr>\n    <tr>\n      <th>ZYG11B</th>\n      <td>1.516601</td>\n      <td>-0.620792</td>\n      <td>1.967134</td>\n      <td>-0.315582</td>\n      <td>0.752320</td>\n      <td>0.999581</td>\n    </tr>\n    <tr>\n      <th>ZYX</th>\n      <td>6.940604</td>\n      <td>-0.772852</td>\n      <td>1.562880</td>\n      <td>-0.494505</td>\n      <td>0.620950</td>\n      <td>0.999581</td>\n    </tr>\n    <tr>\n      <th>ZZEF1</th>\n      <td>2.872968</td>\n      <td>-4.120770</td>\n      <td>3.618586</td>\n      <td>-1.138779</td>\n      <td>0.254795</td>\n      <td>0.999581</td>\n    </tr>\n  </tbody>\n</table>\n<p>1283 rows × 6 columns</p>\n</div>"
     },
     "metadata": {},
     "output_type": "display_data"
    },
    {
     "name": "stderr",
     "output_type": "stream",
     "text": [
      "/Users/berni/miniforge3/envs/Rectangle/lib/python3.10/site-packages/pydeseq2/ds.py:414: RuntimeWarning: divide by zero encountered in divide\n",
      "  size = 1.0 / self.dds.varm[\"dispersions\"]\n",
      "/Users/berni/miniforge3/envs/Rectangle/lib/python3.10/site-packages/pydeseq2/utils.py:1198: RuntimeWarning: invalid value encountered in scalar divide\n",
      "  nbinomFn(\n",
      "/Users/berni/miniforge3/envs/Rectangle/lib/python3.10/site-packages/pydeseq2/utils.py:1220: RuntimeWarning: invalid value encountered in divide\n",
      "  counts - (counts + size) / (1 + size * np.exp(-xbeta - offset))\n",
      "/Users/berni/miniforge3/envs/Rectangle/lib/python3.10/site-packages/pydeseq2/grid_search.py:287: RuntimeWarning: invalid value encountered in scalar divide\n",
      "  pydeseq2.utils.nbinomFn(\n",
      "/Users/berni/miniforge3/envs/Rectangle/lib/python3.10/site-packages/pydeseq2/utils.py:1198: RuntimeWarning: invalid value encountered in scalar divide\n",
      "  nbinomFn(\n",
      "/Users/berni/miniforge3/envs/Rectangle/lib/python3.10/site-packages/pydeseq2/utils.py:1220: RuntimeWarning: invalid value encountered in divide\n",
      "  counts - (counts + size) / (1 + size * np.exp(-xbeta - offset))\n",
      "/Users/berni/miniforge3/envs/Rectangle/lib/python3.10/site-packages/pydeseq2/utils.py:1198: RuntimeWarning: invalid value encountered in scalar divide\n",
      "  nbinomFn(\n",
      "/Users/berni/miniforge3/envs/Rectangle/lib/python3.10/site-packages/pydeseq2/utils.py:1220: RuntimeWarning: invalid value encountered in divide\n",
      "  counts - (counts + size) / (1 + size * np.exp(-xbeta - offset))\n",
      "/Users/berni/miniforge3/envs/Rectangle/lib/python3.10/site-packages/pydeseq2/grid_search.py:287: RuntimeWarning: invalid value encountered in scalar divide\n",
      "  pydeseq2.utils.nbinomFn(\n",
      "/Users/berni/miniforge3/envs/Rectangle/lib/python3.10/site-packages/pydeseq2/grid_search.py:287: RuntimeWarning: invalid value encountered in scalar divide\n",
      "  pydeseq2.utils.nbinomFn(\n",
      "/Users/berni/miniforge3/envs/Rectangle/lib/python3.10/site-packages/pydeseq2/utils.py:1198: RuntimeWarning: invalid value encountered in scalar divide\n",
      "  nbinomFn(\n",
      "/Users/berni/miniforge3/envs/Rectangle/lib/python3.10/site-packages/pydeseq2/utils.py:1220: RuntimeWarning: invalid value encountered in divide\n",
      "  counts - (counts + size) / (1 + size * np.exp(-xbeta - offset))\n",
      "/Users/berni/miniforge3/envs/Rectangle/lib/python3.10/site-packages/pydeseq2/grid_search.py:287: RuntimeWarning: invalid value encountered in scalar divide\n",
      "  pydeseq2.utils.nbinomFn(\n",
      "/Users/berni/miniforge3/envs/Rectangle/lib/python3.10/site-packages/pydeseq2/utils.py:1198: RuntimeWarning: invalid value encountered in scalar divide\n",
      "  nbinomFn(\n",
      "/Users/berni/miniforge3/envs/Rectangle/lib/python3.10/site-packages/pydeseq2/utils.py:1220: RuntimeWarning: invalid value encountered in divide\n",
      "  counts - (counts + size) / (1 + size * np.exp(-xbeta - offset))\n",
      "/Users/berni/miniforge3/envs/Rectangle/lib/python3.10/site-packages/pydeseq2/grid_search.py:287: RuntimeWarning: invalid value encountered in scalar divide\n",
      "  pydeseq2.utils.nbinomFn(\n",
      "/Users/berni/miniforge3/envs/Rectangle/lib/python3.10/site-packages/pydeseq2/utils.py:1198: RuntimeWarning: invalid value encountered in scalar divide\n",
      "  nbinomFn(\n",
      "/Users/berni/miniforge3/envs/Rectangle/lib/python3.10/site-packages/pydeseq2/utils.py:1220: RuntimeWarning: invalid value encountered in divide\n",
      "  counts - (counts + size) / (1 + size * np.exp(-xbeta - offset))\n",
      "/Users/berni/miniforge3/envs/Rectangle/lib/python3.10/site-packages/pydeseq2/grid_search.py:287: RuntimeWarning: invalid value encountered in scalar divide\n",
      "  pydeseq2.utils.nbinomFn(\n",
      "/Users/berni/miniforge3/envs/Rectangle/lib/python3.10/site-packages/pydeseq2/utils.py:1198: RuntimeWarning: invalid value encountered in scalar divide\n",
      "  nbinomFn(\n",
      "/Users/berni/miniforge3/envs/Rectangle/lib/python3.10/site-packages/pydeseq2/utils.py:1220: RuntimeWarning: invalid value encountered in divide\n",
      "  counts - (counts + size) / (1 + size * np.exp(-xbeta - offset))\n",
      "/Users/berni/miniforge3/envs/Rectangle/lib/python3.10/site-packages/pydeseq2/grid_search.py:287: RuntimeWarning: invalid value encountered in scalar divide\n",
      "  pydeseq2.utils.nbinomFn(\n",
      "/Users/berni/miniforge3/envs/Rectangle/lib/python3.10/site-packages/pydeseq2/utils.py:1198: RuntimeWarning: invalid value encountered in scalar divide\n",
      "  nbinomFn(\n",
      "/Users/berni/miniforge3/envs/Rectangle/lib/python3.10/site-packages/pydeseq2/utils.py:1220: RuntimeWarning: invalid value encountered in divide\n",
      "  counts - (counts + size) / (1 + size * np.exp(-xbeta - offset))\n",
      "/Users/berni/miniforge3/envs/Rectangle/lib/python3.10/site-packages/pydeseq2/grid_search.py:287: RuntimeWarning: invalid value encountered in scalar divide\n",
      "  pydeseq2.utils.nbinomFn(\n",
      "/Users/berni/miniforge3/envs/Rectangle/lib/python3.10/site-packages/pydeseq2/utils.py:1230: RuntimeWarning: invalid value encountered in divide\n",
      "  frac = (counts + size) * size * exp_xbeta_off / (size + exp_xbeta_off) ** 2\n",
      "/Users/berni/miniforge3/envs/Rectangle/lib/python3.10/site-packages/pydeseq2/utils.py:1230: RuntimeWarning: invalid value encountered in divide\n",
      "  frac = (counts + size) * size * exp_xbeta_off / (size + exp_xbeta_off) ** 2\n",
      "/Users/berni/miniforge3/envs/Rectangle/lib/python3.10/site-packages/pydeseq2/utils.py:1230: RuntimeWarning: invalid value encountered in divide\n",
      "  frac = (counts + size) * size * exp_xbeta_off / (size + exp_xbeta_off) ** 2\n",
      "/Users/berni/miniforge3/envs/Rectangle/lib/python3.10/site-packages/pydeseq2/utils.py:1230: RuntimeWarning: invalid value encountered in divide\n",
      "  frac = (counts + size) * size * exp_xbeta_off / (size + exp_xbeta_off) ** 2\n",
      "/Users/berni/miniforge3/envs/Rectangle/lib/python3.10/site-packages/pydeseq2/utils.py:1230: RuntimeWarning: invalid value encountered in divide\n",
      "  frac = (counts + size) * size * exp_xbeta_off / (size + exp_xbeta_off) ** 2\n",
      "/Users/berni/miniforge3/envs/Rectangle/lib/python3.10/site-packages/pydeseq2/utils.py:1230: RuntimeWarning: invalid value encountered in divide\n",
      "  frac = (counts + size) * size * exp_xbeta_off / (size + exp_xbeta_off) ** 2\n",
      "/Users/berni/miniforge3/envs/Rectangle/lib/python3.10/site-packages/pydeseq2/utils.py:1230: RuntimeWarning: invalid value encountered in divide\n",
      "  frac = (counts + size) * size * exp_xbeta_off / (size + exp_xbeta_off) ** 2\n",
      "/Users/berni/miniforge3/envs/Rectangle/lib/python3.10/site-packages/pydeseq2/utils.py:1230: RuntimeWarning: invalid value encountered in divide\n",
      "  frac = (counts + size) * size * exp_xbeta_off / (size + exp_xbeta_off) ** 2\n",
      "/Users/berni/miniforge3/envs/Rectangle/lib/python3.10/site-packages/pydeseq2/utils.py:1220: RuntimeWarning: overflow encountered in exp\n",
      "  counts - (counts + size) / (1 + size * np.exp(-xbeta - offset))\n"
     ]
    },
    {
     "name": "stdout",
     "output_type": "stream",
     "text": [
      "Shrunk log2 fold change & Wald test p-value: condition 1.0 vs 0.0\n"
     ]
    },
    {
     "data": {
      "text/plain": "         baseMean  log2FoldChange     lfcSE      stat    pvalue      padj\nALYREF   2.809087    2.147741e-07  0.001079  0.229470  0.818504  0.999581\nCAPN15   1.692187    1.838015e-07  0.001091  0.296672  0.766717  0.999581\nCHAMP1   0.986380   -4.674123e-07  0.001057 -0.696608  0.486048  0.999581\nCHMP3    5.384211    4.820235e-08  0.001073  0.046368  0.963017  0.999581\nCNEP1R1  1.270098    4.465974e-07  0.001093  0.654121  0.513034  0.999581\n...           ...             ...       ...       ...       ...       ...\nZSWIM6   1.345286    1.962077e-07  0.001094  0.339705  0.734078  0.999581\nZSWIM7   2.815690    5.660357e-08  0.001083  0.093320  0.925649  0.999581\nZYG11B   1.516601   -1.738107e-07  0.001066 -0.315582  0.752320  0.999581\nZYX      6.940604   -2.910299e-07  0.001059 -0.494505  0.620950  0.999581\nZZEF1    2.872968   -6.273432e-07  0.001038 -1.138779  0.254795  0.999581\n\n[1283 rows x 6 columns]",
      "text/html": "<div>\n<style scoped>\n    .dataframe tbody tr th:only-of-type {\n        vertical-align: middle;\n    }\n\n    .dataframe tbody tr th {\n        vertical-align: top;\n    }\n\n    .dataframe thead th {\n        text-align: right;\n    }\n</style>\n<table border=\"1\" class=\"dataframe\">\n  <thead>\n    <tr style=\"text-align: right;\">\n      <th></th>\n      <th>baseMean</th>\n      <th>log2FoldChange</th>\n      <th>lfcSE</th>\n      <th>stat</th>\n      <th>pvalue</th>\n      <th>padj</th>\n    </tr>\n  </thead>\n  <tbody>\n    <tr>\n      <th>ALYREF</th>\n      <td>2.809087</td>\n      <td>2.147741e-07</td>\n      <td>0.001079</td>\n      <td>0.229470</td>\n      <td>0.818504</td>\n      <td>0.999581</td>\n    </tr>\n    <tr>\n      <th>CAPN15</th>\n      <td>1.692187</td>\n      <td>1.838015e-07</td>\n      <td>0.001091</td>\n      <td>0.296672</td>\n      <td>0.766717</td>\n      <td>0.999581</td>\n    </tr>\n    <tr>\n      <th>CHAMP1</th>\n      <td>0.986380</td>\n      <td>-4.674123e-07</td>\n      <td>0.001057</td>\n      <td>-0.696608</td>\n      <td>0.486048</td>\n      <td>0.999581</td>\n    </tr>\n    <tr>\n      <th>CHMP3</th>\n      <td>5.384211</td>\n      <td>4.820235e-08</td>\n      <td>0.001073</td>\n      <td>0.046368</td>\n      <td>0.963017</td>\n      <td>0.999581</td>\n    </tr>\n    <tr>\n      <th>CNEP1R1</th>\n      <td>1.270098</td>\n      <td>4.465974e-07</td>\n      <td>0.001093</td>\n      <td>0.654121</td>\n      <td>0.513034</td>\n      <td>0.999581</td>\n    </tr>\n    <tr>\n      <th>...</th>\n      <td>...</td>\n      <td>...</td>\n      <td>...</td>\n      <td>...</td>\n      <td>...</td>\n      <td>...</td>\n    </tr>\n    <tr>\n      <th>ZSWIM6</th>\n      <td>1.345286</td>\n      <td>1.962077e-07</td>\n      <td>0.001094</td>\n      <td>0.339705</td>\n      <td>0.734078</td>\n      <td>0.999581</td>\n    </tr>\n    <tr>\n      <th>ZSWIM7</th>\n      <td>2.815690</td>\n      <td>5.660357e-08</td>\n      <td>0.001083</td>\n      <td>0.093320</td>\n      <td>0.925649</td>\n      <td>0.999581</td>\n    </tr>\n    <tr>\n      <th>ZYG11B</th>\n      <td>1.516601</td>\n      <td>-1.738107e-07</td>\n      <td>0.001066</td>\n      <td>-0.315582</td>\n      <td>0.752320</td>\n      <td>0.999581</td>\n    </tr>\n    <tr>\n      <th>ZYX</th>\n      <td>6.940604</td>\n      <td>-2.910299e-07</td>\n      <td>0.001059</td>\n      <td>-0.494505</td>\n      <td>0.620950</td>\n      <td>0.999581</td>\n    </tr>\n    <tr>\n      <th>ZZEF1</th>\n      <td>2.872968</td>\n      <td>-6.273432e-07</td>\n      <td>0.001038</td>\n      <td>-1.138779</td>\n      <td>0.254795</td>\n      <td>0.999581</td>\n    </tr>\n  </tbody>\n</table>\n<p>1283 rows × 6 columns</p>\n</div>"
     },
     "metadata": {},
     "output_type": "display_data"
    },
    {
     "name": "stderr",
     "output_type": "stream",
     "text": [
      "\u001B[32m2024-02-24 16:28:28.193\u001B[0m | \u001B[1mINFO    \u001B[0m | \u001B[36mrectanglepy.pp.create_signature\u001B[0m:\u001B[36m_run_deseq2\u001B[0m:\u001B[36m139\u001B[0m - \u001B[1mRunning DE analysis for T cells CD8\u001B[0m\n",
      "Fitting size factors...\n",
      "... done in 0.00 seconds.\n",
      "\n",
      "Fitting dispersions...\n",
      "... done in 0.08 seconds.\n",
      "\n",
      "Fitting MAP dispersions...\n",
      "... done in 0.06 seconds.\n",
      "\n",
      "Fitting LFCs...\n"
     ]
    },
    {
     "name": "stdout",
     "output_type": "stream",
     "text": [
      "Log2 fold change & Wald test p-value: condition 1.0 vs 0.0\n"
     ]
    },
    {
     "name": "stderr",
     "output_type": "stream",
     "text": [
      "... done in 0.03 seconds.\n",
      "\n"
     ]
    },
    {
     "data": {
      "text/plain": "         baseMean  log2FoldChange     lfcSE      stat    pvalue      padj\nALYREF   2.809087        0.872542  1.174930  0.742633  0.457704  0.995168\nCAPN15   1.692187        1.914456  1.338549  1.430247  0.152646  0.995168\nCHAMP1   0.986380       -1.522332  2.545377 -0.598077  0.549788  0.995168\nCHMP3    5.384211       -0.191878  0.972030 -0.197400  0.843515  0.995168\nCNEP1R1  1.270098       -0.034336  1.810234 -0.018968  0.984867  0.996795\n...           ...             ...       ...       ...       ...       ...\nZSWIM6   1.345286       -0.340332  2.129497 -0.159818  0.873024  0.995168\nZSWIM7   2.815690       -0.348844  1.836437 -0.189957  0.849343  0.995168\nZYG11B   1.516601        0.634786  1.726856  0.367596  0.713174  0.995168\nZYX      6.940604       -1.086205  1.555099 -0.698480  0.484877  0.995168\nZZEF1    2.872968        0.801129  1.632233  0.490817  0.623556  0.995168\n\n[1283 rows x 6 columns]",
      "text/html": "<div>\n<style scoped>\n    .dataframe tbody tr th:only-of-type {\n        vertical-align: middle;\n    }\n\n    .dataframe tbody tr th {\n        vertical-align: top;\n    }\n\n    .dataframe thead th {\n        text-align: right;\n    }\n</style>\n<table border=\"1\" class=\"dataframe\">\n  <thead>\n    <tr style=\"text-align: right;\">\n      <th></th>\n      <th>baseMean</th>\n      <th>log2FoldChange</th>\n      <th>lfcSE</th>\n      <th>stat</th>\n      <th>pvalue</th>\n      <th>padj</th>\n    </tr>\n  </thead>\n  <tbody>\n    <tr>\n      <th>ALYREF</th>\n      <td>2.809087</td>\n      <td>0.872542</td>\n      <td>1.174930</td>\n      <td>0.742633</td>\n      <td>0.457704</td>\n      <td>0.995168</td>\n    </tr>\n    <tr>\n      <th>CAPN15</th>\n      <td>1.692187</td>\n      <td>1.914456</td>\n      <td>1.338549</td>\n      <td>1.430247</td>\n      <td>0.152646</td>\n      <td>0.995168</td>\n    </tr>\n    <tr>\n      <th>CHAMP1</th>\n      <td>0.986380</td>\n      <td>-1.522332</td>\n      <td>2.545377</td>\n      <td>-0.598077</td>\n      <td>0.549788</td>\n      <td>0.995168</td>\n    </tr>\n    <tr>\n      <th>CHMP3</th>\n      <td>5.384211</td>\n      <td>-0.191878</td>\n      <td>0.972030</td>\n      <td>-0.197400</td>\n      <td>0.843515</td>\n      <td>0.995168</td>\n    </tr>\n    <tr>\n      <th>CNEP1R1</th>\n      <td>1.270098</td>\n      <td>-0.034336</td>\n      <td>1.810234</td>\n      <td>-0.018968</td>\n      <td>0.984867</td>\n      <td>0.996795</td>\n    </tr>\n    <tr>\n      <th>...</th>\n      <td>...</td>\n      <td>...</td>\n      <td>...</td>\n      <td>...</td>\n      <td>...</td>\n      <td>...</td>\n    </tr>\n    <tr>\n      <th>ZSWIM6</th>\n      <td>1.345286</td>\n      <td>-0.340332</td>\n      <td>2.129497</td>\n      <td>-0.159818</td>\n      <td>0.873024</td>\n      <td>0.995168</td>\n    </tr>\n    <tr>\n      <th>ZSWIM7</th>\n      <td>2.815690</td>\n      <td>-0.348844</td>\n      <td>1.836437</td>\n      <td>-0.189957</td>\n      <td>0.849343</td>\n      <td>0.995168</td>\n    </tr>\n    <tr>\n      <th>ZYG11B</th>\n      <td>1.516601</td>\n      <td>0.634786</td>\n      <td>1.726856</td>\n      <td>0.367596</td>\n      <td>0.713174</td>\n      <td>0.995168</td>\n    </tr>\n    <tr>\n      <th>ZYX</th>\n      <td>6.940604</td>\n      <td>-1.086205</td>\n      <td>1.555099</td>\n      <td>-0.698480</td>\n      <td>0.484877</td>\n      <td>0.995168</td>\n    </tr>\n    <tr>\n      <th>ZZEF1</th>\n      <td>2.872968</td>\n      <td>0.801129</td>\n      <td>1.632233</td>\n      <td>0.490817</td>\n      <td>0.623556</td>\n      <td>0.995168</td>\n    </tr>\n  </tbody>\n</table>\n<p>1283 rows × 6 columns</p>\n</div>"
     },
     "metadata": {},
     "output_type": "display_data"
    },
    {
     "name": "stderr",
     "output_type": "stream",
     "text": [
      "/Users/berni/miniforge3/envs/Rectangle/lib/python3.10/site-packages/pydeseq2/ds.py:414: RuntimeWarning: divide by zero encountered in divide\n",
      "  size = 1.0 / self.dds.varm[\"dispersions\"]\n",
      "/Users/berni/miniforge3/envs/Rectangle/lib/python3.10/site-packages/pydeseq2/utils.py:1198: RuntimeWarning: invalid value encountered in scalar divide\n",
      "  nbinomFn(\n",
      "/Users/berni/miniforge3/envs/Rectangle/lib/python3.10/site-packages/pydeseq2/utils.py:1220: RuntimeWarning: invalid value encountered in divide\n",
      "  counts - (counts + size) / (1 + size * np.exp(-xbeta - offset))\n",
      "/Users/berni/miniforge3/envs/Rectangle/lib/python3.10/site-packages/pydeseq2/grid_search.py:287: RuntimeWarning: invalid value encountered in scalar divide\n",
      "  pydeseq2.utils.nbinomFn(\n",
      "/Users/berni/miniforge3/envs/Rectangle/lib/python3.10/site-packages/pydeseq2/utils.py:1198: RuntimeWarning: invalid value encountered in scalar divide\n",
      "  nbinomFn(\n",
      "/Users/berni/miniforge3/envs/Rectangle/lib/python3.10/site-packages/pydeseq2/utils.py:1220: RuntimeWarning: invalid value encountered in divide\n",
      "  counts - (counts + size) / (1 + size * np.exp(-xbeta - offset))\n",
      "/Users/berni/miniforge3/envs/Rectangle/lib/python3.10/site-packages/pydeseq2/grid_search.py:287: RuntimeWarning: invalid value encountered in scalar divide\n",
      "  pydeseq2.utils.nbinomFn(\n",
      "/Users/berni/miniforge3/envs/Rectangle/lib/python3.10/site-packages/pydeseq2/utils.py:1198: RuntimeWarning: invalid value encountered in scalar divide\n",
      "  nbinomFn(\n",
      "/Users/berni/miniforge3/envs/Rectangle/lib/python3.10/site-packages/pydeseq2/utils.py:1220: RuntimeWarning: invalid value encountered in divide\n",
      "  counts - (counts + size) / (1 + size * np.exp(-xbeta - offset))\n",
      "/Users/berni/miniforge3/envs/Rectangle/lib/python3.10/site-packages/pydeseq2/utils.py:1198: RuntimeWarning: invalid value encountered in scalar divide\n",
      "  nbinomFn(\n",
      "/Users/berni/miniforge3/envs/Rectangle/lib/python3.10/site-packages/pydeseq2/utils.py:1220: RuntimeWarning: invalid value encountered in divide\n",
      "  counts - (counts + size) / (1 + size * np.exp(-xbeta - offset))\n",
      "/Users/berni/miniforge3/envs/Rectangle/lib/python3.10/site-packages/pydeseq2/grid_search.py:287: RuntimeWarning: invalid value encountered in scalar divide\n",
      "  pydeseq2.utils.nbinomFn(\n",
      "/Users/berni/miniforge3/envs/Rectangle/lib/python3.10/site-packages/pydeseq2/grid_search.py:287: RuntimeWarning: invalid value encountered in scalar divide\n",
      "  pydeseq2.utils.nbinomFn(\n",
      "/Users/berni/miniforge3/envs/Rectangle/lib/python3.10/site-packages/pydeseq2/utils.py:1198: RuntimeWarning: invalid value encountered in scalar divide\n",
      "  nbinomFn(\n",
      "/Users/berni/miniforge3/envs/Rectangle/lib/python3.10/site-packages/pydeseq2/utils.py:1220: RuntimeWarning: invalid value encountered in divide\n",
      "  counts - (counts + size) / (1 + size * np.exp(-xbeta - offset))\n",
      "/Users/berni/miniforge3/envs/Rectangle/lib/python3.10/site-packages/pydeseq2/grid_search.py:287: RuntimeWarning: invalid value encountered in scalar divide\n",
      "  pydeseq2.utils.nbinomFn(\n",
      "/Users/berni/miniforge3/envs/Rectangle/lib/python3.10/site-packages/pydeseq2/utils.py:1198: RuntimeWarning: invalid value encountered in scalar divide\n",
      "  nbinomFn(\n",
      "/Users/berni/miniforge3/envs/Rectangle/lib/python3.10/site-packages/pydeseq2/utils.py:1220: RuntimeWarning: invalid value encountered in divide\n",
      "  counts - (counts + size) / (1 + size * np.exp(-xbeta - offset))\n",
      "/Users/berni/miniforge3/envs/Rectangle/lib/python3.10/site-packages/pydeseq2/grid_search.py:287: RuntimeWarning: invalid value encountered in scalar divide\n",
      "  pydeseq2.utils.nbinomFn(\n",
      "/Users/berni/miniforge3/envs/Rectangle/lib/python3.10/site-packages/pydeseq2/utils.py:1230: RuntimeWarning: invalid value encountered in divide\n",
      "  frac = (counts + size) * size * exp_xbeta_off / (size + exp_xbeta_off) ** 2\n",
      "/Users/berni/miniforge3/envs/Rectangle/lib/python3.10/site-packages/pydeseq2/utils.py:1198: RuntimeWarning: invalid value encountered in scalar divide\n",
      "  nbinomFn(\n",
      "/Users/berni/miniforge3/envs/Rectangle/lib/python3.10/site-packages/pydeseq2/utils.py:1220: RuntimeWarning: invalid value encountered in divide\n",
      "  counts - (counts + size) / (1 + size * np.exp(-xbeta - offset))\n",
      "/Users/berni/miniforge3/envs/Rectangle/lib/python3.10/site-packages/pydeseq2/grid_search.py:287: RuntimeWarning: invalid value encountered in scalar divide\n",
      "  pydeseq2.utils.nbinomFn(\n",
      "/Users/berni/miniforge3/envs/Rectangle/lib/python3.10/site-packages/pydeseq2/utils.py:1198: RuntimeWarning: invalid value encountered in scalar divide\n",
      "  nbinomFn(\n",
      "/Users/berni/miniforge3/envs/Rectangle/lib/python3.10/site-packages/pydeseq2/utils.py:1220: RuntimeWarning: invalid value encountered in divide\n",
      "  counts - (counts + size) / (1 + size * np.exp(-xbeta - offset))\n",
      "/Users/berni/miniforge3/envs/Rectangle/lib/python3.10/site-packages/pydeseq2/grid_search.py:287: RuntimeWarning: invalid value encountered in scalar divide\n",
      "  pydeseq2.utils.nbinomFn(\n",
      "/Users/berni/miniforge3/envs/Rectangle/lib/python3.10/site-packages/pydeseq2/utils.py:1230: RuntimeWarning: invalid value encountered in divide\n",
      "  frac = (counts + size) * size * exp_xbeta_off / (size + exp_xbeta_off) ** 2\n",
      "/Users/berni/miniforge3/envs/Rectangle/lib/python3.10/site-packages/pydeseq2/utils.py:1230: RuntimeWarning: invalid value encountered in divide\n",
      "  frac = (counts + size) * size * exp_xbeta_off / (size + exp_xbeta_off) ** 2\n",
      "/Users/berni/miniforge3/envs/Rectangle/lib/python3.10/site-packages/pydeseq2/utils.py:1230: RuntimeWarning: invalid value encountered in divide\n",
      "  frac = (counts + size) * size * exp_xbeta_off / (size + exp_xbeta_off) ** 2\n",
      "/Users/berni/miniforge3/envs/Rectangle/lib/python3.10/site-packages/pydeseq2/utils.py:1230: RuntimeWarning: invalid value encountered in divide\n",
      "  frac = (counts + size) * size * exp_xbeta_off / (size + exp_xbeta_off) ** 2\n",
      "/Users/berni/miniforge3/envs/Rectangle/lib/python3.10/site-packages/pydeseq2/utils.py:1230: RuntimeWarning: invalid value encountered in divide\n",
      "  frac = (counts + size) * size * exp_xbeta_off / (size + exp_xbeta_off) ** 2\n",
      "/Users/berni/miniforge3/envs/Rectangle/lib/python3.10/site-packages/pydeseq2/utils.py:1230: RuntimeWarning: invalid value encountered in divide\n",
      "  frac = (counts + size) * size * exp_xbeta_off / (size + exp_xbeta_off) ** 2\n",
      "/Users/berni/miniforge3/envs/Rectangle/lib/python3.10/site-packages/pydeseq2/utils.py:1230: RuntimeWarning: invalid value encountered in divide\n",
      "  frac = (counts + size) * size * exp_xbeta_off / (size + exp_xbeta_off) ** 2\n",
      "/Users/berni/miniforge3/envs/Rectangle/lib/python3.10/site-packages/pydeseq2/utils.py:1220: RuntimeWarning: overflow encountered in exp\n",
      "  counts - (counts + size) / (1 + size * np.exp(-xbeta - offset))\n",
      "/Users/berni/miniforge3/envs/Rectangle/lib/python3.10/site-packages/pydeseq2/utils.py:1220: RuntimeWarning: overflow encountered in exp\n",
      "  counts - (counts + size) / (1 + size * np.exp(-xbeta - offset))\n"
     ]
    },
    {
     "name": "stdout",
     "output_type": "stream",
     "text": [
      "Shrunk log2 fold change & Wald test p-value: condition 1.0 vs 0.0\n"
     ]
    },
    {
     "data": {
      "text/plain": "         baseMean  log2FoldChange     lfcSE      stat    pvalue      padj\nALYREF   2.809087    6.660298e-07  0.001093  0.742633  0.457704  0.995168\nCAPN15   1.692187    1.178090e-06  0.001125  1.430247  0.152646  0.995168\nCHAMP1   0.986380   -4.474800e+01  2.545377 -0.598077  0.549788  0.995168\nCHMP3    5.384211   -1.715481e-07  0.001072 -0.197400  0.843515  0.995168\nCNEP1R1  1.270098   -4.465270e-08  0.001073 -0.018968  0.984867  0.996795\n...           ...             ...       ...       ...       ...       ...\nZSWIM6   1.345286   -7.806183e-08  0.001068 -0.159818  0.873024  0.995168\nZSWIM7   2.815690   -1.027816e-07  0.001068 -0.189957  0.849343  0.995168\nZYG11B   1.516601    2.323269e-07  0.001088  0.367596  0.713174  0.995168\nZYX      6.940604   -4.067693e-07  0.001053 -0.698480  0.484877  0.995168\nZZEF1    2.872968    3.483621e-07  0.001105  0.490817  0.623556  0.995168\n\n[1283 rows x 6 columns]",
      "text/html": "<div>\n<style scoped>\n    .dataframe tbody tr th:only-of-type {\n        vertical-align: middle;\n    }\n\n    .dataframe tbody tr th {\n        vertical-align: top;\n    }\n\n    .dataframe thead th {\n        text-align: right;\n    }\n</style>\n<table border=\"1\" class=\"dataframe\">\n  <thead>\n    <tr style=\"text-align: right;\">\n      <th></th>\n      <th>baseMean</th>\n      <th>log2FoldChange</th>\n      <th>lfcSE</th>\n      <th>stat</th>\n      <th>pvalue</th>\n      <th>padj</th>\n    </tr>\n  </thead>\n  <tbody>\n    <tr>\n      <th>ALYREF</th>\n      <td>2.809087</td>\n      <td>6.660298e-07</td>\n      <td>0.001093</td>\n      <td>0.742633</td>\n      <td>0.457704</td>\n      <td>0.995168</td>\n    </tr>\n    <tr>\n      <th>CAPN15</th>\n      <td>1.692187</td>\n      <td>1.178090e-06</td>\n      <td>0.001125</td>\n      <td>1.430247</td>\n      <td>0.152646</td>\n      <td>0.995168</td>\n    </tr>\n    <tr>\n      <th>CHAMP1</th>\n      <td>0.986380</td>\n      <td>-4.474800e+01</td>\n      <td>2.545377</td>\n      <td>-0.598077</td>\n      <td>0.549788</td>\n      <td>0.995168</td>\n    </tr>\n    <tr>\n      <th>CHMP3</th>\n      <td>5.384211</td>\n      <td>-1.715481e-07</td>\n      <td>0.001072</td>\n      <td>-0.197400</td>\n      <td>0.843515</td>\n      <td>0.995168</td>\n    </tr>\n    <tr>\n      <th>CNEP1R1</th>\n      <td>1.270098</td>\n      <td>-4.465270e-08</td>\n      <td>0.001073</td>\n      <td>-0.018968</td>\n      <td>0.984867</td>\n      <td>0.996795</td>\n    </tr>\n    <tr>\n      <th>...</th>\n      <td>...</td>\n      <td>...</td>\n      <td>...</td>\n      <td>...</td>\n      <td>...</td>\n      <td>...</td>\n    </tr>\n    <tr>\n      <th>ZSWIM6</th>\n      <td>1.345286</td>\n      <td>-7.806183e-08</td>\n      <td>0.001068</td>\n      <td>-0.159818</td>\n      <td>0.873024</td>\n      <td>0.995168</td>\n    </tr>\n    <tr>\n      <th>ZSWIM7</th>\n      <td>2.815690</td>\n      <td>-1.027816e-07</td>\n      <td>0.001068</td>\n      <td>-0.189957</td>\n      <td>0.849343</td>\n      <td>0.995168</td>\n    </tr>\n    <tr>\n      <th>ZYG11B</th>\n      <td>1.516601</td>\n      <td>2.323269e-07</td>\n      <td>0.001088</td>\n      <td>0.367596</td>\n      <td>0.713174</td>\n      <td>0.995168</td>\n    </tr>\n    <tr>\n      <th>ZYX</th>\n      <td>6.940604</td>\n      <td>-4.067693e-07</td>\n      <td>0.001053</td>\n      <td>-0.698480</td>\n      <td>0.484877</td>\n      <td>0.995168</td>\n    </tr>\n    <tr>\n      <th>ZZEF1</th>\n      <td>2.872968</td>\n      <td>3.483621e-07</td>\n      <td>0.001105</td>\n      <td>0.490817</td>\n      <td>0.623556</td>\n      <td>0.995168</td>\n    </tr>\n  </tbody>\n</table>\n<p>1283 rows × 6 columns</p>\n</div>"
     },
     "metadata": {},
     "output_type": "display_data"
    },
    {
     "name": "stderr",
     "output_type": "stream",
     "text": [
      "\u001B[32m2024-02-24 16:28:31.198\u001B[0m | \u001B[1mINFO    \u001B[0m | \u001B[36mrectanglepy.pp.create_signature\u001B[0m:\u001B[36m_run_deseq2\u001B[0m:\u001B[36m139\u001B[0m - \u001B[1mRunning DE analysis for Tregs\u001B[0m\n",
      "Fitting size factors...\n",
      "... done in 0.00 seconds.\n",
      "\n",
      "Fitting dispersions...\n",
      "... done in 0.13 seconds.\n",
      "\n",
      "Fitting MAP dispersions...\n"
     ]
    },
    {
     "name": "stdout",
     "output_type": "stream",
     "text": [
      "Log2 fold change & Wald test p-value: condition 1.0 vs 0.0\n"
     ]
    },
    {
     "name": "stderr",
     "output_type": "stream",
     "text": [
      "... done in 0.10 seconds.\n",
      "\n",
      "Fitting LFCs...\n",
      "... done in 0.03 seconds.\n",
      "\n"
     ]
    },
    {
     "data": {
      "text/plain": "         baseMean  log2FoldChange     lfcSE      stat    pvalue      padj\nALYREF   2.809087       -0.895481  1.704359 -0.525406  0.599301  0.999449\nCAPN15   1.692187       -1.128043  2.489346 -0.453148  0.650442  0.999449\nCHAMP1   0.986380       -0.382747  2.419486 -0.158194  0.874304  0.999449\nCHMP3    5.384211       -0.823923  1.197714 -0.687913  0.491507  0.999449\nCNEP1R1  1.270098        1.549022  1.117508  1.386140  0.165704  0.999449\n...           ...             ...       ...       ...       ...       ...\nZSWIM6   1.345286       -0.979301  2.586321 -0.378646  0.704950  0.999449\nZSWIM7   2.815690       -2.094649  2.635754 -0.794706  0.426785  0.999449\nZYG11B   1.516601       -0.035635  2.037786 -0.017487  0.986048  0.999449\nZYX      6.940604       -0.202122  1.529249 -0.132171  0.894849  0.999449\nZZEF1    2.872968       -2.161013  2.641843 -0.817994  0.413360  0.999449\n\n[1283 rows x 6 columns]",
      "text/html": "<div>\n<style scoped>\n    .dataframe tbody tr th:only-of-type {\n        vertical-align: middle;\n    }\n\n    .dataframe tbody tr th {\n        vertical-align: top;\n    }\n\n    .dataframe thead th {\n        text-align: right;\n    }\n</style>\n<table border=\"1\" class=\"dataframe\">\n  <thead>\n    <tr style=\"text-align: right;\">\n      <th></th>\n      <th>baseMean</th>\n      <th>log2FoldChange</th>\n      <th>lfcSE</th>\n      <th>stat</th>\n      <th>pvalue</th>\n      <th>padj</th>\n    </tr>\n  </thead>\n  <tbody>\n    <tr>\n      <th>ALYREF</th>\n      <td>2.809087</td>\n      <td>-0.895481</td>\n      <td>1.704359</td>\n      <td>-0.525406</td>\n      <td>0.599301</td>\n      <td>0.999449</td>\n    </tr>\n    <tr>\n      <th>CAPN15</th>\n      <td>1.692187</td>\n      <td>-1.128043</td>\n      <td>2.489346</td>\n      <td>-0.453148</td>\n      <td>0.650442</td>\n      <td>0.999449</td>\n    </tr>\n    <tr>\n      <th>CHAMP1</th>\n      <td>0.986380</td>\n      <td>-0.382747</td>\n      <td>2.419486</td>\n      <td>-0.158194</td>\n      <td>0.874304</td>\n      <td>0.999449</td>\n    </tr>\n    <tr>\n      <th>CHMP3</th>\n      <td>5.384211</td>\n      <td>-0.823923</td>\n      <td>1.197714</td>\n      <td>-0.687913</td>\n      <td>0.491507</td>\n      <td>0.999449</td>\n    </tr>\n    <tr>\n      <th>CNEP1R1</th>\n      <td>1.270098</td>\n      <td>1.549022</td>\n      <td>1.117508</td>\n      <td>1.386140</td>\n      <td>0.165704</td>\n      <td>0.999449</td>\n    </tr>\n    <tr>\n      <th>...</th>\n      <td>...</td>\n      <td>...</td>\n      <td>...</td>\n      <td>...</td>\n      <td>...</td>\n      <td>...</td>\n    </tr>\n    <tr>\n      <th>ZSWIM6</th>\n      <td>1.345286</td>\n      <td>-0.979301</td>\n      <td>2.586321</td>\n      <td>-0.378646</td>\n      <td>0.704950</td>\n      <td>0.999449</td>\n    </tr>\n    <tr>\n      <th>ZSWIM7</th>\n      <td>2.815690</td>\n      <td>-2.094649</td>\n      <td>2.635754</td>\n      <td>-0.794706</td>\n      <td>0.426785</td>\n      <td>0.999449</td>\n    </tr>\n    <tr>\n      <th>ZYG11B</th>\n      <td>1.516601</td>\n      <td>-0.035635</td>\n      <td>2.037786</td>\n      <td>-0.017487</td>\n      <td>0.986048</td>\n      <td>0.999449</td>\n    </tr>\n    <tr>\n      <th>ZYX</th>\n      <td>6.940604</td>\n      <td>-0.202122</td>\n      <td>1.529249</td>\n      <td>-0.132171</td>\n      <td>0.894849</td>\n      <td>0.999449</td>\n    </tr>\n    <tr>\n      <th>ZZEF1</th>\n      <td>2.872968</td>\n      <td>-2.161013</td>\n      <td>2.641843</td>\n      <td>-0.817994</td>\n      <td>0.413360</td>\n      <td>0.999449</td>\n    </tr>\n  </tbody>\n</table>\n<p>1283 rows × 6 columns</p>\n</div>"
     },
     "metadata": {},
     "output_type": "display_data"
    },
    {
     "name": "stderr",
     "output_type": "stream",
     "text": [
      "/Users/berni/miniforge3/envs/Rectangle/lib/python3.10/site-packages/pydeseq2/ds.py:414: RuntimeWarning: divide by zero encountered in divide\n",
      "  size = 1.0 / self.dds.varm[\"dispersions\"]\n",
      "/Users/berni/miniforge3/envs/Rectangle/lib/python3.10/site-packages/pydeseq2/utils.py:1198: RuntimeWarning: invalid value encountered in scalar divide\n",
      "  nbinomFn(\n",
      "/Users/berni/miniforge3/envs/Rectangle/lib/python3.10/site-packages/pydeseq2/utils.py:1220: RuntimeWarning: invalid value encountered in divide\n",
      "  counts - (counts + size) / (1 + size * np.exp(-xbeta - offset))\n",
      "/Users/berni/miniforge3/envs/Rectangle/lib/python3.10/site-packages/pydeseq2/grid_search.py:287: RuntimeWarning: invalid value encountered in scalar divide\n",
      "  pydeseq2.utils.nbinomFn(\n",
      "/Users/berni/miniforge3/envs/Rectangle/lib/python3.10/site-packages/pydeseq2/utils.py:1198: RuntimeWarning: invalid value encountered in scalar divide\n",
      "  nbinomFn(\n",
      "/Users/berni/miniforge3/envs/Rectangle/lib/python3.10/site-packages/pydeseq2/utils.py:1220: RuntimeWarning: invalid value encountered in divide\n",
      "  counts - (counts + size) / (1 + size * np.exp(-xbeta - offset))\n",
      "/Users/berni/miniforge3/envs/Rectangle/lib/python3.10/site-packages/pydeseq2/utils.py:1198: RuntimeWarning: invalid value encountered in scalar divide\n",
      "  nbinomFn(\n",
      "/Users/berni/miniforge3/envs/Rectangle/lib/python3.10/site-packages/pydeseq2/utils.py:1220: RuntimeWarning: invalid value encountered in divide\n",
      "  counts - (counts + size) / (1 + size * np.exp(-xbeta - offset))\n",
      "/Users/berni/miniforge3/envs/Rectangle/lib/python3.10/site-packages/pydeseq2/grid_search.py:287: RuntimeWarning: invalid value encountered in scalar divide\n",
      "  pydeseq2.utils.nbinomFn(\n",
      "/Users/berni/miniforge3/envs/Rectangle/lib/python3.10/site-packages/pydeseq2/grid_search.py:287: RuntimeWarning: invalid value encountered in scalar divide\n",
      "  pydeseq2.utils.nbinomFn(\n",
      "/Users/berni/miniforge3/envs/Rectangle/lib/python3.10/site-packages/pydeseq2/utils.py:1198: RuntimeWarning: invalid value encountered in scalar divide\n",
      "  nbinomFn(\n",
      "/Users/berni/miniforge3/envs/Rectangle/lib/python3.10/site-packages/pydeseq2/utils.py:1220: RuntimeWarning: invalid value encountered in divide\n",
      "  counts - (counts + size) / (1 + size * np.exp(-xbeta - offset))\n",
      "/Users/berni/miniforge3/envs/Rectangle/lib/python3.10/site-packages/pydeseq2/utils.py:1198: RuntimeWarning: invalid value encountered in scalar divide\n",
      "  nbinomFn(\n",
      "/Users/berni/miniforge3/envs/Rectangle/lib/python3.10/site-packages/pydeseq2/utils.py:1220: RuntimeWarning: invalid value encountered in divide\n",
      "  counts - (counts + size) / (1 + size * np.exp(-xbeta - offset))\n",
      "/Users/berni/miniforge3/envs/Rectangle/lib/python3.10/site-packages/pydeseq2/grid_search.py:287: RuntimeWarning: invalid value encountered in scalar divide\n",
      "  pydeseq2.utils.nbinomFn(\n",
      "/Users/berni/miniforge3/envs/Rectangle/lib/python3.10/site-packages/pydeseq2/grid_search.py:287: RuntimeWarning: invalid value encountered in scalar divide\n",
      "  pydeseq2.utils.nbinomFn(\n",
      "/Users/berni/miniforge3/envs/Rectangle/lib/python3.10/site-packages/pydeseq2/utils.py:1198: RuntimeWarning: invalid value encountered in scalar divide\n",
      "  nbinomFn(\n",
      "/Users/berni/miniforge3/envs/Rectangle/lib/python3.10/site-packages/pydeseq2/utils.py:1220: RuntimeWarning: invalid value encountered in divide\n",
      "  counts - (counts + size) / (1 + size * np.exp(-xbeta - offset))\n",
      "/Users/berni/miniforge3/envs/Rectangle/lib/python3.10/site-packages/pydeseq2/grid_search.py:287: RuntimeWarning: invalid value encountered in scalar divide\n",
      "  pydeseq2.utils.nbinomFn(\n",
      "/Users/berni/miniforge3/envs/Rectangle/lib/python3.10/site-packages/pydeseq2/utils.py:1198: RuntimeWarning: invalid value encountered in scalar divide\n",
      "  nbinomFn(\n",
      "/Users/berni/miniforge3/envs/Rectangle/lib/python3.10/site-packages/pydeseq2/utils.py:1220: RuntimeWarning: invalid value encountered in divide\n",
      "  counts - (counts + size) / (1 + size * np.exp(-xbeta - offset))\n",
      "/Users/berni/miniforge3/envs/Rectangle/lib/python3.10/site-packages/pydeseq2/utils.py:1198: RuntimeWarning: invalid value encountered in scalar divide\n",
      "  nbinomFn(\n",
      "/Users/berni/miniforge3/envs/Rectangle/lib/python3.10/site-packages/pydeseq2/utils.py:1220: RuntimeWarning: invalid value encountered in divide\n",
      "  counts - (counts + size) / (1 + size * np.exp(-xbeta - offset))\n",
      "/Users/berni/miniforge3/envs/Rectangle/lib/python3.10/site-packages/pydeseq2/grid_search.py:287: RuntimeWarning: invalid value encountered in scalar divide\n",
      "  pydeseq2.utils.nbinomFn(\n",
      "/Users/berni/miniforge3/envs/Rectangle/lib/python3.10/site-packages/pydeseq2/grid_search.py:287: RuntimeWarning: invalid value encountered in scalar divide\n",
      "  pydeseq2.utils.nbinomFn(\n",
      "/Users/berni/miniforge3/envs/Rectangle/lib/python3.10/site-packages/pydeseq2/utils.py:1230: RuntimeWarning: invalid value encountered in divide\n",
      "  frac = (counts + size) * size * exp_xbeta_off / (size + exp_xbeta_off) ** 2\n",
      "/Users/berni/miniforge3/envs/Rectangle/lib/python3.10/site-packages/pydeseq2/utils.py:1230: RuntimeWarning: invalid value encountered in divide\n",
      "  frac = (counts + size) * size * exp_xbeta_off / (size + exp_xbeta_off) ** 2\n",
      "/Users/berni/miniforge3/envs/Rectangle/lib/python3.10/site-packages/pydeseq2/utils.py:1230: RuntimeWarning: invalid value encountered in divide\n",
      "  frac = (counts + size) * size * exp_xbeta_off / (size + exp_xbeta_off) ** 2\n",
      "/Users/berni/miniforge3/envs/Rectangle/lib/python3.10/site-packages/pydeseq2/utils.py:1230: RuntimeWarning: invalid value encountered in divide\n",
      "  frac = (counts + size) * size * exp_xbeta_off / (size + exp_xbeta_off) ** 2\n",
      "/Users/berni/miniforge3/envs/Rectangle/lib/python3.10/site-packages/pydeseq2/utils.py:1230: RuntimeWarning: invalid value encountered in divide\n",
      "  frac = (counts + size) * size * exp_xbeta_off / (size + exp_xbeta_off) ** 2\n",
      "/Users/berni/miniforge3/envs/Rectangle/lib/python3.10/site-packages/pydeseq2/utils.py:1230: RuntimeWarning: invalid value encountered in divide\n",
      "  frac = (counts + size) * size * exp_xbeta_off / (size + exp_xbeta_off) ** 2\n",
      "/Users/berni/miniforge3/envs/Rectangle/lib/python3.10/site-packages/pydeseq2/utils.py:1230: RuntimeWarning: invalid value encountered in divide\n",
      "  frac = (counts + size) * size * exp_xbeta_off / (size + exp_xbeta_off) ** 2\n",
      "/Users/berni/miniforge3/envs/Rectangle/lib/python3.10/site-packages/pydeseq2/utils.py:1230: RuntimeWarning: invalid value encountered in divide\n",
      "  frac = (counts + size) * size * exp_xbeta_off / (size + exp_xbeta_off) ** 2\n"
     ]
    },
    {
     "name": "stdout",
     "output_type": "stream",
     "text": [
      "Shrunk log2 fold change & Wald test p-value: condition 1.0 vs 0.0\n"
     ]
    },
    {
     "data": {
      "text/plain": "         baseMean  log2FoldChange     lfcSE      stat    pvalue      padj\nALYREF   2.809087       -0.011379  0.187697 -0.525406  0.599301  0.999449\nCAPN15   1.692187       -0.013934  0.187071 -0.453148  0.650442  0.999449\nCHAMP1   0.986380       -0.011599  0.187289 -0.158194  0.874304  0.999449\nCHMP3    5.384211       -0.020892  0.187592 -0.687913  0.491507  0.999449\nCNEP1R1  1.270098      -44.747999  1.117508  1.386140  0.165704  0.999449\n...           ...             ...       ...       ...       ...       ...\nZSWIM6   1.345286       -0.011808  0.186324 -0.378646  0.704950  0.999449\nZSWIM7   2.815690       -0.014717  0.185425 -0.794706  0.426785  0.999449\nZYG11B   1.516601       -0.000279  0.189182 -0.017487  0.986048  0.999449\nZYX      6.940604       -0.002721  0.189266 -0.132171  0.894849  0.999449\nZZEF1    2.872968       -0.014533  0.185469 -0.817994  0.413360  0.999449\n\n[1283 rows x 6 columns]",
      "text/html": "<div>\n<style scoped>\n    .dataframe tbody tr th:only-of-type {\n        vertical-align: middle;\n    }\n\n    .dataframe tbody tr th {\n        vertical-align: top;\n    }\n\n    .dataframe thead th {\n        text-align: right;\n    }\n</style>\n<table border=\"1\" class=\"dataframe\">\n  <thead>\n    <tr style=\"text-align: right;\">\n      <th></th>\n      <th>baseMean</th>\n      <th>log2FoldChange</th>\n      <th>lfcSE</th>\n      <th>stat</th>\n      <th>pvalue</th>\n      <th>padj</th>\n    </tr>\n  </thead>\n  <tbody>\n    <tr>\n      <th>ALYREF</th>\n      <td>2.809087</td>\n      <td>-0.011379</td>\n      <td>0.187697</td>\n      <td>-0.525406</td>\n      <td>0.599301</td>\n      <td>0.999449</td>\n    </tr>\n    <tr>\n      <th>CAPN15</th>\n      <td>1.692187</td>\n      <td>-0.013934</td>\n      <td>0.187071</td>\n      <td>-0.453148</td>\n      <td>0.650442</td>\n      <td>0.999449</td>\n    </tr>\n    <tr>\n      <th>CHAMP1</th>\n      <td>0.986380</td>\n      <td>-0.011599</td>\n      <td>0.187289</td>\n      <td>-0.158194</td>\n      <td>0.874304</td>\n      <td>0.999449</td>\n    </tr>\n    <tr>\n      <th>CHMP3</th>\n      <td>5.384211</td>\n      <td>-0.020892</td>\n      <td>0.187592</td>\n      <td>-0.687913</td>\n      <td>0.491507</td>\n      <td>0.999449</td>\n    </tr>\n    <tr>\n      <th>CNEP1R1</th>\n      <td>1.270098</td>\n      <td>-44.747999</td>\n      <td>1.117508</td>\n      <td>1.386140</td>\n      <td>0.165704</td>\n      <td>0.999449</td>\n    </tr>\n    <tr>\n      <th>...</th>\n      <td>...</td>\n      <td>...</td>\n      <td>...</td>\n      <td>...</td>\n      <td>...</td>\n      <td>...</td>\n    </tr>\n    <tr>\n      <th>ZSWIM6</th>\n      <td>1.345286</td>\n      <td>-0.011808</td>\n      <td>0.186324</td>\n      <td>-0.378646</td>\n      <td>0.704950</td>\n      <td>0.999449</td>\n    </tr>\n    <tr>\n      <th>ZSWIM7</th>\n      <td>2.815690</td>\n      <td>-0.014717</td>\n      <td>0.185425</td>\n      <td>-0.794706</td>\n      <td>0.426785</td>\n      <td>0.999449</td>\n    </tr>\n    <tr>\n      <th>ZYG11B</th>\n      <td>1.516601</td>\n      <td>-0.000279</td>\n      <td>0.189182</td>\n      <td>-0.017487</td>\n      <td>0.986048</td>\n      <td>0.999449</td>\n    </tr>\n    <tr>\n      <th>ZYX</th>\n      <td>6.940604</td>\n      <td>-0.002721</td>\n      <td>0.189266</td>\n      <td>-0.132171</td>\n      <td>0.894849</td>\n      <td>0.999449</td>\n    </tr>\n    <tr>\n      <th>ZZEF1</th>\n      <td>2.872968</td>\n      <td>-0.014533</td>\n      <td>0.185469</td>\n      <td>-0.817994</td>\n      <td>0.413360</td>\n      <td>0.999449</td>\n    </tr>\n  </tbody>\n</table>\n<p>1283 rows × 6 columns</p>\n</div>"
     },
     "metadata": {},
     "output_type": "display_data"
    },
    {
     "name": "stderr",
     "output_type": "stream",
     "text": [
      "\u001B[32m2024-02-24 16:28:34.430\u001B[0m | \u001B[1mINFO    \u001B[0m | \u001B[36mrectanglepy.pp.create_signature\u001B[0m:\u001B[36m_run_deseq2\u001B[0m:\u001B[36m139\u001B[0m - \u001B[1mRunning DE analysis for mDC\u001B[0m\n",
      "Fitting size factors...\n",
      "... done in 0.00 seconds.\n",
      "\n",
      "Fitting dispersions...\n",
      "... done in 0.05 seconds.\n",
      "\n",
      "Fitting MAP dispersions...\n",
      "... done in 0.04 seconds.\n",
      "\n",
      "Fitting LFCs...\n",
      "... done in 0.02 seconds.\n",
      "\n"
     ]
    },
    {
     "name": "stdout",
     "output_type": "stream",
     "text": [
      "Log2 fold change & Wald test p-value: condition 1.0 vs 0.0\n"
     ]
    },
    {
     "data": {
      "text/plain": "         baseMean  log2FoldChange     lfcSE      stat    pvalue      padj\nALYREF   2.809087        0.717597  1.094092  0.655883  0.511899  0.990047\nCAPN15   1.692187       -0.703891  1.656662 -0.424885  0.670921  0.990047\nCHAMP1   0.986380        1.288038  1.525412  0.844387  0.398453  0.990047\nCHMP3    5.384211       -0.857105  0.860624 -0.995912  0.319293  0.990047\nCNEP1R1  1.270098       -0.236891  1.556562 -0.152188  0.879038  0.990047\n...           ...             ...       ...       ...       ...       ...\nZSWIM6   1.345286        1.029219  1.755508  0.586280  0.557688  0.990047\nZSWIM7   2.815690        2.337022  1.166580  2.003310  0.045144  0.990047\nZYG11B   1.516601       -0.688310  1.703980 -0.403942  0.686255  0.990047\nZYX      6.940604        0.361828  1.109973  0.325979  0.744440  0.990047\nZZEF1    2.872968        0.620070  1.575535  0.393562  0.693905  0.990047\n\n[1283 rows x 6 columns]",
      "text/html": "<div>\n<style scoped>\n    .dataframe tbody tr th:only-of-type {\n        vertical-align: middle;\n    }\n\n    .dataframe tbody tr th {\n        vertical-align: top;\n    }\n\n    .dataframe thead th {\n        text-align: right;\n    }\n</style>\n<table border=\"1\" class=\"dataframe\">\n  <thead>\n    <tr style=\"text-align: right;\">\n      <th></th>\n      <th>baseMean</th>\n      <th>log2FoldChange</th>\n      <th>lfcSE</th>\n      <th>stat</th>\n      <th>pvalue</th>\n      <th>padj</th>\n    </tr>\n  </thead>\n  <tbody>\n    <tr>\n      <th>ALYREF</th>\n      <td>2.809087</td>\n      <td>0.717597</td>\n      <td>1.094092</td>\n      <td>0.655883</td>\n      <td>0.511899</td>\n      <td>0.990047</td>\n    </tr>\n    <tr>\n      <th>CAPN15</th>\n      <td>1.692187</td>\n      <td>-0.703891</td>\n      <td>1.656662</td>\n      <td>-0.424885</td>\n      <td>0.670921</td>\n      <td>0.990047</td>\n    </tr>\n    <tr>\n      <th>CHAMP1</th>\n      <td>0.986380</td>\n      <td>1.288038</td>\n      <td>1.525412</td>\n      <td>0.844387</td>\n      <td>0.398453</td>\n      <td>0.990047</td>\n    </tr>\n    <tr>\n      <th>CHMP3</th>\n      <td>5.384211</td>\n      <td>-0.857105</td>\n      <td>0.860624</td>\n      <td>-0.995912</td>\n      <td>0.319293</td>\n      <td>0.990047</td>\n    </tr>\n    <tr>\n      <th>CNEP1R1</th>\n      <td>1.270098</td>\n      <td>-0.236891</td>\n      <td>1.556562</td>\n      <td>-0.152188</td>\n      <td>0.879038</td>\n      <td>0.990047</td>\n    </tr>\n    <tr>\n      <th>...</th>\n      <td>...</td>\n      <td>...</td>\n      <td>...</td>\n      <td>...</td>\n      <td>...</td>\n      <td>...</td>\n    </tr>\n    <tr>\n      <th>ZSWIM6</th>\n      <td>1.345286</td>\n      <td>1.029219</td>\n      <td>1.755508</td>\n      <td>0.586280</td>\n      <td>0.557688</td>\n      <td>0.990047</td>\n    </tr>\n    <tr>\n      <th>ZSWIM7</th>\n      <td>2.815690</td>\n      <td>2.337022</td>\n      <td>1.166580</td>\n      <td>2.003310</td>\n      <td>0.045144</td>\n      <td>0.990047</td>\n    </tr>\n    <tr>\n      <th>ZYG11B</th>\n      <td>1.516601</td>\n      <td>-0.688310</td>\n      <td>1.703980</td>\n      <td>-0.403942</td>\n      <td>0.686255</td>\n      <td>0.990047</td>\n    </tr>\n    <tr>\n      <th>ZYX</th>\n      <td>6.940604</td>\n      <td>0.361828</td>\n      <td>1.109973</td>\n      <td>0.325979</td>\n      <td>0.744440</td>\n      <td>0.990047</td>\n    </tr>\n    <tr>\n      <th>ZZEF1</th>\n      <td>2.872968</td>\n      <td>0.620070</td>\n      <td>1.575535</td>\n      <td>0.393562</td>\n      <td>0.693905</td>\n      <td>0.990047</td>\n    </tr>\n  </tbody>\n</table>\n<p>1283 rows × 6 columns</p>\n</div>"
     },
     "metadata": {},
     "output_type": "display_data"
    },
    {
     "name": "stderr",
     "output_type": "stream",
     "text": [
      "/Users/berni/miniforge3/envs/Rectangle/lib/python3.10/site-packages/pydeseq2/ds.py:414: RuntimeWarning: divide by zero encountered in divide\n",
      "  size = 1.0 / self.dds.varm[\"dispersions\"]\n",
      "/Users/berni/miniforge3/envs/Rectangle/lib/python3.10/site-packages/pydeseq2/utils.py:1198: RuntimeWarning: invalid value encountered in scalar divide\n",
      "  nbinomFn(\n",
      "/Users/berni/miniforge3/envs/Rectangle/lib/python3.10/site-packages/pydeseq2/utils.py:1220: RuntimeWarning: invalid value encountered in divide\n",
      "  counts - (counts + size) / (1 + size * np.exp(-xbeta - offset))\n",
      "/Users/berni/miniforge3/envs/Rectangle/lib/python3.10/site-packages/pydeseq2/grid_search.py:287: RuntimeWarning: invalid value encountered in scalar divide\n",
      "  pydeseq2.utils.nbinomFn(\n",
      "/Users/berni/miniforge3/envs/Rectangle/lib/python3.10/site-packages/pydeseq2/utils.py:1198: RuntimeWarning: invalid value encountered in scalar divide\n",
      "  nbinomFn(\n",
      "/Users/berni/miniforge3/envs/Rectangle/lib/python3.10/site-packages/pydeseq2/utils.py:1220: RuntimeWarning: invalid value encountered in divide\n",
      "  counts - (counts + size) / (1 + size * np.exp(-xbeta - offset))\n",
      "/Users/berni/miniforge3/envs/Rectangle/lib/python3.10/site-packages/pydeseq2/grid_search.py:287: RuntimeWarning: invalid value encountered in scalar divide\n",
      "  pydeseq2.utils.nbinomFn(\n",
      "/Users/berni/miniforge3/envs/Rectangle/lib/python3.10/site-packages/pydeseq2/utils.py:1198: RuntimeWarning: invalid value encountered in scalar divide\n",
      "  nbinomFn(\n",
      "/Users/berni/miniforge3/envs/Rectangle/lib/python3.10/site-packages/pydeseq2/utils.py:1220: RuntimeWarning: invalid value encountered in divide\n",
      "  counts - (counts + size) / (1 + size * np.exp(-xbeta - offset))\n",
      "/Users/berni/miniforge3/envs/Rectangle/lib/python3.10/site-packages/pydeseq2/grid_search.py:287: RuntimeWarning: invalid value encountered in scalar divide\n",
      "  pydeseq2.utils.nbinomFn(\n",
      "/Users/berni/miniforge3/envs/Rectangle/lib/python3.10/site-packages/pydeseq2/utils.py:1198: RuntimeWarning: invalid value encountered in scalar divide\n",
      "  nbinomFn(\n",
      "/Users/berni/miniforge3/envs/Rectangle/lib/python3.10/site-packages/pydeseq2/utils.py:1220: RuntimeWarning: invalid value encountered in divide\n",
      "  counts - (counts + size) / (1 + size * np.exp(-xbeta - offset))\n",
      "/Users/berni/miniforge3/envs/Rectangle/lib/python3.10/site-packages/pydeseq2/grid_search.py:287: RuntimeWarning: invalid value encountered in scalar divide\n",
      "  pydeseq2.utils.nbinomFn(\n",
      "/Users/berni/miniforge3/envs/Rectangle/lib/python3.10/site-packages/pydeseq2/utils.py:1198: RuntimeWarning: invalid value encountered in scalar divide\n",
      "  nbinomFn(\n",
      "/Users/berni/miniforge3/envs/Rectangle/lib/python3.10/site-packages/pydeseq2/utils.py:1220: RuntimeWarning: invalid value encountered in divide\n",
      "  counts - (counts + size) / (1 + size * np.exp(-xbeta - offset))\n",
      "/Users/berni/miniforge3/envs/Rectangle/lib/python3.10/site-packages/pydeseq2/grid_search.py:287: RuntimeWarning: invalid value encountered in scalar divide\n",
      "  pydeseq2.utils.nbinomFn(\n",
      "/Users/berni/miniforge3/envs/Rectangle/lib/python3.10/site-packages/pydeseq2/utils.py:1198: RuntimeWarning: invalid value encountered in scalar divide\n",
      "  nbinomFn(\n",
      "/Users/berni/miniforge3/envs/Rectangle/lib/python3.10/site-packages/pydeseq2/utils.py:1220: RuntimeWarning: invalid value encountered in divide\n",
      "  counts - (counts + size) / (1 + size * np.exp(-xbeta - offset))\n",
      "/Users/berni/miniforge3/envs/Rectangle/lib/python3.10/site-packages/pydeseq2/grid_search.py:287: RuntimeWarning: invalid value encountered in scalar divide\n",
      "  pydeseq2.utils.nbinomFn(\n",
      "/Users/berni/miniforge3/envs/Rectangle/lib/python3.10/site-packages/pydeseq2/utils.py:1198: RuntimeWarning: invalid value encountered in scalar divide\n",
      "  nbinomFn(\n",
      "/Users/berni/miniforge3/envs/Rectangle/lib/python3.10/site-packages/pydeseq2/utils.py:1220: RuntimeWarning: invalid value encountered in divide\n",
      "  counts - (counts + size) / (1 + size * np.exp(-xbeta - offset))\n",
      "/Users/berni/miniforge3/envs/Rectangle/lib/python3.10/site-packages/pydeseq2/grid_search.py:287: RuntimeWarning: invalid value encountered in scalar divide\n",
      "  pydeseq2.utils.nbinomFn(\n",
      "/Users/berni/miniforge3/envs/Rectangle/lib/python3.10/site-packages/pydeseq2/utils.py:1198: RuntimeWarning: invalid value encountered in scalar divide\n",
      "  nbinomFn(\n",
      "/Users/berni/miniforge3/envs/Rectangle/lib/python3.10/site-packages/pydeseq2/utils.py:1220: RuntimeWarning: invalid value encountered in divide\n",
      "  counts - (counts + size) / (1 + size * np.exp(-xbeta - offset))\n",
      "/Users/berni/miniforge3/envs/Rectangle/lib/python3.10/site-packages/pydeseq2/grid_search.py:287: RuntimeWarning: invalid value encountered in scalar divide\n",
      "  pydeseq2.utils.nbinomFn(\n",
      "/Users/berni/miniforge3/envs/Rectangle/lib/python3.10/site-packages/pydeseq2/utils.py:1230: RuntimeWarning: invalid value encountered in divide\n",
      "  frac = (counts + size) * size * exp_xbeta_off / (size + exp_xbeta_off) ** 2\n",
      "/Users/berni/miniforge3/envs/Rectangle/lib/python3.10/site-packages/pydeseq2/utils.py:1230: RuntimeWarning: invalid value encountered in divide\n",
      "  frac = (counts + size) * size * exp_xbeta_off / (size + exp_xbeta_off) ** 2\n",
      "/Users/berni/miniforge3/envs/Rectangle/lib/python3.10/site-packages/pydeseq2/utils.py:1230: RuntimeWarning: invalid value encountered in divide\n",
      "  frac = (counts + size) * size * exp_xbeta_off / (size + exp_xbeta_off) ** 2\n",
      "/Users/berni/miniforge3/envs/Rectangle/lib/python3.10/site-packages/pydeseq2/utils.py:1230: RuntimeWarning: invalid value encountered in divide\n",
      "  frac = (counts + size) * size * exp_xbeta_off / (size + exp_xbeta_off) ** 2\n",
      "/Users/berni/miniforge3/envs/Rectangle/lib/python3.10/site-packages/pydeseq2/utils.py:1230: RuntimeWarning: invalid value encountered in divide\n",
      "  frac = (counts + size) * size * exp_xbeta_off / (size + exp_xbeta_off) ** 2\n",
      "/Users/berni/miniforge3/envs/Rectangle/lib/python3.10/site-packages/pydeseq2/utils.py:1230: RuntimeWarning: invalid value encountered in divide\n",
      "  frac = (counts + size) * size * exp_xbeta_off / (size + exp_xbeta_off) ** 2\n",
      "/Users/berni/miniforge3/envs/Rectangle/lib/python3.10/site-packages/pydeseq2/utils.py:1230: RuntimeWarning: invalid value encountered in divide\n",
      "  frac = (counts + size) * size * exp_xbeta_off / (size + exp_xbeta_off) ** 2\n",
      "/Users/berni/miniforge3/envs/Rectangle/lib/python3.10/site-packages/pydeseq2/utils.py:1230: RuntimeWarning: invalid value encountered in divide\n",
      "  frac = (counts + size) * size * exp_xbeta_off / (size + exp_xbeta_off) ** 2\n"
     ]
    },
    {
     "name": "stdout",
     "output_type": "stream",
     "text": [
      "Shrunk log2 fold change & Wald test p-value: condition 1.0 vs 0.0\n"
     ]
    },
    {
     "data": {
      "text/plain": "         baseMean  log2FoldChange     lfcSE      stat    pvalue      padj\nALYREF   2.809087        0.000112  0.014665  0.655883  0.511899  0.990047\nCAPN15   1.692187       -0.000043  0.014003 -0.424885  0.670921  0.990047\nCHAMP1   0.986380        0.000107  0.015040  0.844387  0.398453  0.990047\nCHMP3    5.384211       -0.000200  0.014002 -0.995912  0.319293  0.990047\nCNEP1R1  1.270098       -0.000016  0.014262 -0.152188  0.879038  0.990047\n...           ...             ...       ...       ...       ...       ...\nZSWIM6   1.345286        0.000068  0.014799  0.586280  0.557688  0.990047\nZSWIM7   2.815690        0.000424  0.016307  2.003310  0.045144  0.990047\nZYG11B   1.516601       -0.000040  0.013932 -0.403942  0.686255  0.990047\nZYX      6.940604        0.000397  0.015701  0.325979  0.744440  0.990047\nZZEF1    2.872968        0.000049  0.014493  0.393562  0.693905  0.990047\n\n[1283 rows x 6 columns]",
      "text/html": "<div>\n<style scoped>\n    .dataframe tbody tr th:only-of-type {\n        vertical-align: middle;\n    }\n\n    .dataframe tbody tr th {\n        vertical-align: top;\n    }\n\n    .dataframe thead th {\n        text-align: right;\n    }\n</style>\n<table border=\"1\" class=\"dataframe\">\n  <thead>\n    <tr style=\"text-align: right;\">\n      <th></th>\n      <th>baseMean</th>\n      <th>log2FoldChange</th>\n      <th>lfcSE</th>\n      <th>stat</th>\n      <th>pvalue</th>\n      <th>padj</th>\n    </tr>\n  </thead>\n  <tbody>\n    <tr>\n      <th>ALYREF</th>\n      <td>2.809087</td>\n      <td>0.000112</td>\n      <td>0.014665</td>\n      <td>0.655883</td>\n      <td>0.511899</td>\n      <td>0.990047</td>\n    </tr>\n    <tr>\n      <th>CAPN15</th>\n      <td>1.692187</td>\n      <td>-0.000043</td>\n      <td>0.014003</td>\n      <td>-0.424885</td>\n      <td>0.670921</td>\n      <td>0.990047</td>\n    </tr>\n    <tr>\n      <th>CHAMP1</th>\n      <td>0.986380</td>\n      <td>0.000107</td>\n      <td>0.015040</td>\n      <td>0.844387</td>\n      <td>0.398453</td>\n      <td>0.990047</td>\n    </tr>\n    <tr>\n      <th>CHMP3</th>\n      <td>5.384211</td>\n      <td>-0.000200</td>\n      <td>0.014002</td>\n      <td>-0.995912</td>\n      <td>0.319293</td>\n      <td>0.990047</td>\n    </tr>\n    <tr>\n      <th>CNEP1R1</th>\n      <td>1.270098</td>\n      <td>-0.000016</td>\n      <td>0.014262</td>\n      <td>-0.152188</td>\n      <td>0.879038</td>\n      <td>0.990047</td>\n    </tr>\n    <tr>\n      <th>...</th>\n      <td>...</td>\n      <td>...</td>\n      <td>...</td>\n      <td>...</td>\n      <td>...</td>\n      <td>...</td>\n    </tr>\n    <tr>\n      <th>ZSWIM6</th>\n      <td>1.345286</td>\n      <td>0.000068</td>\n      <td>0.014799</td>\n      <td>0.586280</td>\n      <td>0.557688</td>\n      <td>0.990047</td>\n    </tr>\n    <tr>\n      <th>ZSWIM7</th>\n      <td>2.815690</td>\n      <td>0.000424</td>\n      <td>0.016307</td>\n      <td>2.003310</td>\n      <td>0.045144</td>\n      <td>0.990047</td>\n    </tr>\n    <tr>\n      <th>ZYG11B</th>\n      <td>1.516601</td>\n      <td>-0.000040</td>\n      <td>0.013932</td>\n      <td>-0.403942</td>\n      <td>0.686255</td>\n      <td>0.990047</td>\n    </tr>\n    <tr>\n      <th>ZYX</th>\n      <td>6.940604</td>\n      <td>0.000397</td>\n      <td>0.015701</td>\n      <td>0.325979</td>\n      <td>0.744440</td>\n      <td>0.990047</td>\n    </tr>\n    <tr>\n      <th>ZZEF1</th>\n      <td>2.872968</td>\n      <td>0.000049</td>\n      <td>0.014493</td>\n      <td>0.393562</td>\n      <td>0.693905</td>\n      <td>0.990047</td>\n    </tr>\n  </tbody>\n</table>\n<p>1283 rows × 6 columns</p>\n</div>"
     },
     "metadata": {},
     "output_type": "display_data"
    },
    {
     "name": "stderr",
     "output_type": "stream",
     "text": [
      "\u001B[32m2024-02-24 16:28:37.715\u001B[0m | \u001B[1mINFO    \u001B[0m | \u001B[36mrectanglepy.pp.create_signature\u001B[0m:\u001B[36m_run_deseq2\u001B[0m:\u001B[36m139\u001B[0m - \u001B[1mRunning DE analysis for pDC\u001B[0m\n",
      "Fitting size factors...\n",
      "... done in 0.00 seconds.\n",
      "\n",
      "Fitting dispersions...\n",
      "... done in 0.08 seconds.\n",
      "\n",
      "Fitting MAP dispersions...\n",
      "... done in 0.06 seconds.\n",
      "\n",
      "Fitting LFCs...\n"
     ]
    },
    {
     "name": "stdout",
     "output_type": "stream",
     "text": [
      "Log2 fold change & Wald test p-value: condition 1.0 vs 0.0\n"
     ]
    },
    {
     "name": "stderr",
     "output_type": "stream",
     "text": [
      "... done in 0.03 seconds.\n",
      "\n"
     ]
    },
    {
     "data": {
      "text/plain": "         baseMean  log2FoldChange     lfcSE      stat    pvalue      padj\nALYREF   2.809087       -0.221742  1.256124 -0.176529  0.859878  0.998764\nCAPN15   1.692187        0.703602  1.526683  0.460870  0.644892  0.998184\nCHAMP1   0.986380        0.744863  1.661275  0.448368  0.653887  0.998184\nCHMP3    5.384211       -0.146578  0.878208 -0.166906  0.867444  0.998764\nCNEP1R1  1.270098       -0.635940  1.796846 -0.353920  0.723399  0.998184\n...           ...             ...       ...       ...       ...       ...\nZSWIM6   1.345286        1.385709  1.705916  0.812296  0.416622  0.998184\nZSWIM7   2.815690       -1.995103  2.012467 -0.991372  0.321504  0.998184\nZYG11B   1.516601       -1.070047  2.006132 -0.533388  0.593765  0.998184\nZYX      6.940604       -0.597997  1.465049 -0.408176  0.683145  0.998184\nZZEF1    2.872968       -6.514489  6.454724 -1.009259  0.312850  0.998184\n\n[1283 rows x 6 columns]",
      "text/html": "<div>\n<style scoped>\n    .dataframe tbody tr th:only-of-type {\n        vertical-align: middle;\n    }\n\n    .dataframe tbody tr th {\n        vertical-align: top;\n    }\n\n    .dataframe thead th {\n        text-align: right;\n    }\n</style>\n<table border=\"1\" class=\"dataframe\">\n  <thead>\n    <tr style=\"text-align: right;\">\n      <th></th>\n      <th>baseMean</th>\n      <th>log2FoldChange</th>\n      <th>lfcSE</th>\n      <th>stat</th>\n      <th>pvalue</th>\n      <th>padj</th>\n    </tr>\n  </thead>\n  <tbody>\n    <tr>\n      <th>ALYREF</th>\n      <td>2.809087</td>\n      <td>-0.221742</td>\n      <td>1.256124</td>\n      <td>-0.176529</td>\n      <td>0.859878</td>\n      <td>0.998764</td>\n    </tr>\n    <tr>\n      <th>CAPN15</th>\n      <td>1.692187</td>\n      <td>0.703602</td>\n      <td>1.526683</td>\n      <td>0.460870</td>\n      <td>0.644892</td>\n      <td>0.998184</td>\n    </tr>\n    <tr>\n      <th>CHAMP1</th>\n      <td>0.986380</td>\n      <td>0.744863</td>\n      <td>1.661275</td>\n      <td>0.448368</td>\n      <td>0.653887</td>\n      <td>0.998184</td>\n    </tr>\n    <tr>\n      <th>CHMP3</th>\n      <td>5.384211</td>\n      <td>-0.146578</td>\n      <td>0.878208</td>\n      <td>-0.166906</td>\n      <td>0.867444</td>\n      <td>0.998764</td>\n    </tr>\n    <tr>\n      <th>CNEP1R1</th>\n      <td>1.270098</td>\n      <td>-0.635940</td>\n      <td>1.796846</td>\n      <td>-0.353920</td>\n      <td>0.723399</td>\n      <td>0.998184</td>\n    </tr>\n    <tr>\n      <th>...</th>\n      <td>...</td>\n      <td>...</td>\n      <td>...</td>\n      <td>...</td>\n      <td>...</td>\n      <td>...</td>\n    </tr>\n    <tr>\n      <th>ZSWIM6</th>\n      <td>1.345286</td>\n      <td>1.385709</td>\n      <td>1.705916</td>\n      <td>0.812296</td>\n      <td>0.416622</td>\n      <td>0.998184</td>\n    </tr>\n    <tr>\n      <th>ZSWIM7</th>\n      <td>2.815690</td>\n      <td>-1.995103</td>\n      <td>2.012467</td>\n      <td>-0.991372</td>\n      <td>0.321504</td>\n      <td>0.998184</td>\n    </tr>\n    <tr>\n      <th>ZYG11B</th>\n      <td>1.516601</td>\n      <td>-1.070047</td>\n      <td>2.006132</td>\n      <td>-0.533388</td>\n      <td>0.593765</td>\n      <td>0.998184</td>\n    </tr>\n    <tr>\n      <th>ZYX</th>\n      <td>6.940604</td>\n      <td>-0.597997</td>\n      <td>1.465049</td>\n      <td>-0.408176</td>\n      <td>0.683145</td>\n      <td>0.998184</td>\n    </tr>\n    <tr>\n      <th>ZZEF1</th>\n      <td>2.872968</td>\n      <td>-6.514489</td>\n      <td>6.454724</td>\n      <td>-1.009259</td>\n      <td>0.312850</td>\n      <td>0.998184</td>\n    </tr>\n  </tbody>\n</table>\n<p>1283 rows × 6 columns</p>\n</div>"
     },
     "metadata": {},
     "output_type": "display_data"
    },
    {
     "name": "stderr",
     "output_type": "stream",
     "text": [
      "/Users/berni/miniforge3/envs/Rectangle/lib/python3.10/site-packages/pydeseq2/ds.py:414: RuntimeWarning: divide by zero encountered in divide\n",
      "  size = 1.0 / self.dds.varm[\"dispersions\"]\n",
      "/Users/berni/miniforge3/envs/Rectangle/lib/python3.10/site-packages/pydeseq2/utils.py:1198: RuntimeWarning: invalid value encountered in scalar divide\n",
      "  nbinomFn(\n",
      "/Users/berni/miniforge3/envs/Rectangle/lib/python3.10/site-packages/pydeseq2/utils.py:1220: RuntimeWarning: invalid value encountered in divide\n",
      "  counts - (counts + size) / (1 + size * np.exp(-xbeta - offset))\n",
      "/Users/berni/miniforge3/envs/Rectangle/lib/python3.10/site-packages/pydeseq2/grid_search.py:287: RuntimeWarning: invalid value encountered in scalar divide\n",
      "  pydeseq2.utils.nbinomFn(\n",
      "/Users/berni/miniforge3/envs/Rectangle/lib/python3.10/site-packages/pydeseq2/utils.py:1198: RuntimeWarning: invalid value encountered in scalar divide\n",
      "  nbinomFn(\n",
      "/Users/berni/miniforge3/envs/Rectangle/lib/python3.10/site-packages/pydeseq2/utils.py:1220: RuntimeWarning: invalid value encountered in divide\n",
      "  counts - (counts + size) / (1 + size * np.exp(-xbeta - offset))\n",
      "/Users/berni/miniforge3/envs/Rectangle/lib/python3.10/site-packages/pydeseq2/grid_search.py:287: RuntimeWarning: invalid value encountered in scalar divide\n",
      "  pydeseq2.utils.nbinomFn(\n",
      "/Users/berni/miniforge3/envs/Rectangle/lib/python3.10/site-packages/pydeseq2/utils.py:1198: RuntimeWarning: invalid value encountered in scalar divide\n",
      "  nbinomFn(\n",
      "/Users/berni/miniforge3/envs/Rectangle/lib/python3.10/site-packages/pydeseq2/utils.py:1220: RuntimeWarning: invalid value encountered in divide\n",
      "  counts - (counts + size) / (1 + size * np.exp(-xbeta - offset))\n",
      "/Users/berni/miniforge3/envs/Rectangle/lib/python3.10/site-packages/pydeseq2/grid_search.py:287: RuntimeWarning: invalid value encountered in scalar divide\n",
      "  pydeseq2.utils.nbinomFn(\n",
      "/Users/berni/miniforge3/envs/Rectangle/lib/python3.10/site-packages/pydeseq2/utils.py:1198: RuntimeWarning: invalid value encountered in scalar divide\n",
      "  nbinomFn(\n",
      "/Users/berni/miniforge3/envs/Rectangle/lib/python3.10/site-packages/pydeseq2/utils.py:1220: RuntimeWarning: invalid value encountered in divide\n",
      "  counts - (counts + size) / (1 + size * np.exp(-xbeta - offset))\n",
      "/Users/berni/miniforge3/envs/Rectangle/lib/python3.10/site-packages/pydeseq2/grid_search.py:287: RuntimeWarning: invalid value encountered in scalar divide\n",
      "  pydeseq2.utils.nbinomFn(\n",
      "/Users/berni/miniforge3/envs/Rectangle/lib/python3.10/site-packages/pydeseq2/utils.py:1198: RuntimeWarning: invalid value encountered in scalar divide\n",
      "  nbinomFn(\n",
      "/Users/berni/miniforge3/envs/Rectangle/lib/python3.10/site-packages/pydeseq2/utils.py:1220: RuntimeWarning: invalid value encountered in divide\n",
      "  counts - (counts + size) / (1 + size * np.exp(-xbeta - offset))\n",
      "/Users/berni/miniforge3/envs/Rectangle/lib/python3.10/site-packages/pydeseq2/utils.py:1198: RuntimeWarning: invalid value encountered in scalar divide\n",
      "  nbinomFn(\n",
      "/Users/berni/miniforge3/envs/Rectangle/lib/python3.10/site-packages/pydeseq2/utils.py:1220: RuntimeWarning: invalid value encountered in divide\n",
      "  counts - (counts + size) / (1 + size * np.exp(-xbeta - offset))\n",
      "/Users/berni/miniforge3/envs/Rectangle/lib/python3.10/site-packages/pydeseq2/grid_search.py:287: RuntimeWarning: invalid value encountered in scalar divide\n",
      "  pydeseq2.utils.nbinomFn(\n",
      "/Users/berni/miniforge3/envs/Rectangle/lib/python3.10/site-packages/pydeseq2/grid_search.py:287: RuntimeWarning: invalid value encountered in scalar divide\n",
      "  pydeseq2.utils.nbinomFn(\n",
      "/Users/berni/miniforge3/envs/Rectangle/lib/python3.10/site-packages/pydeseq2/utils.py:1198: RuntimeWarning: invalid value encountered in scalar divide\n",
      "  nbinomFn(\n",
      "/Users/berni/miniforge3/envs/Rectangle/lib/python3.10/site-packages/pydeseq2/utils.py:1220: RuntimeWarning: invalid value encountered in divide\n",
      "  counts - (counts + size) / (1 + size * np.exp(-xbeta - offset))\n",
      "/Users/berni/miniforge3/envs/Rectangle/lib/python3.10/site-packages/pydeseq2/grid_search.py:287: RuntimeWarning: invalid value encountered in scalar divide\n",
      "  pydeseq2.utils.nbinomFn(\n",
      "/Users/berni/miniforge3/envs/Rectangle/lib/python3.10/site-packages/pydeseq2/utils.py:1198: RuntimeWarning: invalid value encountered in scalar divide\n",
      "  nbinomFn(\n",
      "/Users/berni/miniforge3/envs/Rectangle/lib/python3.10/site-packages/pydeseq2/utils.py:1220: RuntimeWarning: invalid value encountered in divide\n",
      "  counts - (counts + size) / (1 + size * np.exp(-xbeta - offset))\n",
      "/Users/berni/miniforge3/envs/Rectangle/lib/python3.10/site-packages/pydeseq2/grid_search.py:287: RuntimeWarning: invalid value encountered in scalar divide\n",
      "  pydeseq2.utils.nbinomFn(\n",
      "/Users/berni/miniforge3/envs/Rectangle/lib/python3.10/site-packages/pydeseq2/utils.py:1230: RuntimeWarning: invalid value encountered in divide\n",
      "  frac = (counts + size) * size * exp_xbeta_off / (size + exp_xbeta_off) ** 2\n",
      "/Users/berni/miniforge3/envs/Rectangle/lib/python3.10/site-packages/pydeseq2/utils.py:1230: RuntimeWarning: invalid value encountered in divide\n",
      "  frac = (counts + size) * size * exp_xbeta_off / (size + exp_xbeta_off) ** 2\n",
      "/Users/berni/miniforge3/envs/Rectangle/lib/python3.10/site-packages/pydeseq2/utils.py:1230: RuntimeWarning: invalid value encountered in divide\n",
      "  frac = (counts + size) * size * exp_xbeta_off / (size + exp_xbeta_off) ** 2\n",
      "/Users/berni/miniforge3/envs/Rectangle/lib/python3.10/site-packages/pydeseq2/utils.py:1230: RuntimeWarning: invalid value encountered in divide\n",
      "  frac = (counts + size) * size * exp_xbeta_off / (size + exp_xbeta_off) ** 2\n",
      "/Users/berni/miniforge3/envs/Rectangle/lib/python3.10/site-packages/pydeseq2/utils.py:1230: RuntimeWarning: invalid value encountered in divide\n",
      "  frac = (counts + size) * size * exp_xbeta_off / (size + exp_xbeta_off) ** 2\n",
      "/Users/berni/miniforge3/envs/Rectangle/lib/python3.10/site-packages/pydeseq2/utils.py:1230: RuntimeWarning: invalid value encountered in divide\n",
      "  frac = (counts + size) * size * exp_xbeta_off / (size + exp_xbeta_off) ** 2\n",
      "/Users/berni/miniforge3/envs/Rectangle/lib/python3.10/site-packages/pydeseq2/utils.py:1230: RuntimeWarning: invalid value encountered in divide\n",
      "  frac = (counts + size) * size * exp_xbeta_off / (size + exp_xbeta_off) ** 2\n",
      "/Users/berni/miniforge3/envs/Rectangle/lib/python3.10/site-packages/pydeseq2/utils.py:1230: RuntimeWarning: invalid value encountered in divide\n",
      "  frac = (counts + size) * size * exp_xbeta_off / (size + exp_xbeta_off) ** 2\n"
     ]
    },
    {
     "name": "stdout",
     "output_type": "stream",
     "text": [
      "Shrunk log2 fold change & Wald test p-value: condition 1.0 vs 0.0\n"
     ]
    },
    {
     "data": {
      "text/plain": "         baseMean  log2FoldChange     lfcSE      stat    pvalue      padj\nALYREF   2.809087       -0.002808  0.150194 -0.176529  0.859878  0.998764\nCAPN15   1.692187        0.006314  0.154735  0.460870  0.644892  0.998184\nCHAMP1   0.986380        0.005513  0.153872  0.448368  0.653887  0.998184\nCHMP3    5.384211       -0.003748  0.149395 -0.166906  0.867444  0.998764\nCNEP1R1  1.270098       -0.004235  0.150404 -0.353920  0.723399  0.998184\n...           ...             ...       ...       ...       ...       ...\nZSWIM6   1.345286        0.011413  0.159005  0.812296  0.416622  0.998184\nZSWIM7   2.815690       -0.009443  0.146494 -0.991372  0.321504  0.998184\nZYG11B   1.516601       -0.005431  0.148412 -0.533388  0.593765  0.998184\nZYX      6.940604       -0.005039  0.148182 -0.408176  0.683145  0.998184\nZZEF1    2.872968       -0.021307  0.148052 -1.009259  0.312850  0.998184\n\n[1283 rows x 6 columns]",
      "text/html": "<div>\n<style scoped>\n    .dataframe tbody tr th:only-of-type {\n        vertical-align: middle;\n    }\n\n    .dataframe tbody tr th {\n        vertical-align: top;\n    }\n\n    .dataframe thead th {\n        text-align: right;\n    }\n</style>\n<table border=\"1\" class=\"dataframe\">\n  <thead>\n    <tr style=\"text-align: right;\">\n      <th></th>\n      <th>baseMean</th>\n      <th>log2FoldChange</th>\n      <th>lfcSE</th>\n      <th>stat</th>\n      <th>pvalue</th>\n      <th>padj</th>\n    </tr>\n  </thead>\n  <tbody>\n    <tr>\n      <th>ALYREF</th>\n      <td>2.809087</td>\n      <td>-0.002808</td>\n      <td>0.150194</td>\n      <td>-0.176529</td>\n      <td>0.859878</td>\n      <td>0.998764</td>\n    </tr>\n    <tr>\n      <th>CAPN15</th>\n      <td>1.692187</td>\n      <td>0.006314</td>\n      <td>0.154735</td>\n      <td>0.460870</td>\n      <td>0.644892</td>\n      <td>0.998184</td>\n    </tr>\n    <tr>\n      <th>CHAMP1</th>\n      <td>0.986380</td>\n      <td>0.005513</td>\n      <td>0.153872</td>\n      <td>0.448368</td>\n      <td>0.653887</td>\n      <td>0.998184</td>\n    </tr>\n    <tr>\n      <th>CHMP3</th>\n      <td>5.384211</td>\n      <td>-0.003748</td>\n      <td>0.149395</td>\n      <td>-0.166906</td>\n      <td>0.867444</td>\n      <td>0.998764</td>\n    </tr>\n    <tr>\n      <th>CNEP1R1</th>\n      <td>1.270098</td>\n      <td>-0.004235</td>\n      <td>0.150404</td>\n      <td>-0.353920</td>\n      <td>0.723399</td>\n      <td>0.998184</td>\n    </tr>\n    <tr>\n      <th>...</th>\n      <td>...</td>\n      <td>...</td>\n      <td>...</td>\n      <td>...</td>\n      <td>...</td>\n      <td>...</td>\n    </tr>\n    <tr>\n      <th>ZSWIM6</th>\n      <td>1.345286</td>\n      <td>0.011413</td>\n      <td>0.159005</td>\n      <td>0.812296</td>\n      <td>0.416622</td>\n      <td>0.998184</td>\n    </tr>\n    <tr>\n      <th>ZSWIM7</th>\n      <td>2.815690</td>\n      <td>-0.009443</td>\n      <td>0.146494</td>\n      <td>-0.991372</td>\n      <td>0.321504</td>\n      <td>0.998184</td>\n    </tr>\n    <tr>\n      <th>ZYG11B</th>\n      <td>1.516601</td>\n      <td>-0.005431</td>\n      <td>0.148412</td>\n      <td>-0.533388</td>\n      <td>0.593765</td>\n      <td>0.998184</td>\n    </tr>\n    <tr>\n      <th>ZYX</th>\n      <td>6.940604</td>\n      <td>-0.005039</td>\n      <td>0.148182</td>\n      <td>-0.408176</td>\n      <td>0.683145</td>\n      <td>0.998184</td>\n    </tr>\n    <tr>\n      <th>ZZEF1</th>\n      <td>2.872968</td>\n      <td>-0.021307</td>\n      <td>0.148052</td>\n      <td>-1.009259</td>\n      <td>0.312850</td>\n      <td>0.998184</td>\n    </tr>\n  </tbody>\n</table>\n<p>1283 rows × 6 columns</p>\n</div>"
     },
     "metadata": {},
     "output_type": "display_data"
    },
    {
     "name": "stderr",
     "output_type": "stream",
     "text": [
      "\u001B[32m2024-02-24 16:28:40.698\u001B[0m | \u001B[1mINFO    \u001B[0m | \u001B[36mrectanglepy.pp.create_signature\u001B[0m:\u001B[36m_de_analysis\u001B[0m:\u001B[36m164\u001B[0m - \u001B[1mOptimizing cutoff parameters p and lfc\u001B[0m\n",
      "\u001B[32m2024-02-24 16:28:40.698\u001B[0m | \u001B[1mINFO    \u001B[0m | \u001B[36mrectanglepy.pp.create_signature\u001B[0m:\u001B[36m_optimize_parameters\u001B[0m:\u001B[36m352\u001B[0m - \u001B[1mgenerating pseudo bulks\u001B[0m\n",
      "\u001B[32m2024-02-24 16:28:40.781\u001B[0m | \u001B[1mINFO    \u001B[0m | \u001B[36mrectanglepy.pp.create_signature\u001B[0m:\u001B[36m_get_marker_genes\u001B[0m:\u001B[36m184\u001B[0m - \u001B[1mOptimal condition number: 8\u001B[0m\n",
      "\u001B[32m2024-02-24 16:28:40.781\u001B[0m | \u001B[1mINFO    \u001B[0m | \u001B[36mrectanglepy.pp.create_signature\u001B[0m:\u001B[36m_count_marker_genes_per_cell_type\u001B[0m:\u001B[36m196\u001B[0m - \u001B[1mNumber of marker genes per cell type: {'B cells': 5, 'Monocytes': 8, 'NK cells': 5, 'Plasma cells': 5, 'T cells CD4 conv': 0, 'T cells CD8': 1, 'Tregs': 0, 'mDC': 1, 'pDC': 3}\u001B[0m\n",
      "\u001B[32m2024-02-24 16:28:40.820\u001B[0m | \u001B[1mINFO    \u001B[0m | \u001B[36mrectanglepy.pp.create_signature\u001B[0m:\u001B[36m_optimize_parameters\u001B[0m:\u001B[36m357\u001B[0m - \u001B[1mRMSE:0.09593650659610253, Pearson R:0.4903561773161613 for p=0.015, lfc=1.4\u001B[0m\n",
      "\u001B[32m2024-02-24 16:28:40.844\u001B[0m | \u001B[1mINFO    \u001B[0m | \u001B[36mrectanglepy.pp.create_signature\u001B[0m:\u001B[36m_get_marker_genes\u001B[0m:\u001B[36m184\u001B[0m - \u001B[1mOptimal condition number: 8\u001B[0m\n",
      "\u001B[32m2024-02-24 16:28:40.844\u001B[0m | \u001B[1mINFO    \u001B[0m | \u001B[36mrectanglepy.pp.create_signature\u001B[0m:\u001B[36m_count_marker_genes_per_cell_type\u001B[0m:\u001B[36m196\u001B[0m - \u001B[1mNumber of marker genes per cell type: {'B cells': 5, 'Monocytes': 8, 'NK cells': 5, 'Plasma cells': 5, 'T cells CD4 conv': 0, 'T cells CD8': 1, 'Tregs': 0, 'mDC': 1, 'pDC': 3}\u001B[0m\n",
      "\u001B[32m2024-02-24 16:28:40.882\u001B[0m | \u001B[1mINFO    \u001B[0m | \u001B[36mrectanglepy.pp.create_signature\u001B[0m:\u001B[36m_optimize_parameters\u001B[0m:\u001B[36m357\u001B[0m - \u001B[1mRMSE:0.09593650659610253, Pearson R:0.4903561773161613 for p=0.015, lfc=1.5\u001B[0m\n",
      "\u001B[32m2024-02-24 16:28:40.908\u001B[0m | \u001B[1mINFO    \u001B[0m | \u001B[36mrectanglepy.pp.create_signature\u001B[0m:\u001B[36m_get_marker_genes\u001B[0m:\u001B[36m184\u001B[0m - \u001B[1mOptimal condition number: 8\u001B[0m\n",
      "\u001B[32m2024-02-24 16:28:40.909\u001B[0m | \u001B[1mINFO    \u001B[0m | \u001B[36mrectanglepy.pp.create_signature\u001B[0m:\u001B[36m_count_marker_genes_per_cell_type\u001B[0m:\u001B[36m196\u001B[0m - \u001B[1mNumber of marker genes per cell type: {'B cells': 5, 'Monocytes': 8, 'NK cells': 5, 'Plasma cells': 5, 'T cells CD4 conv': 0, 'T cells CD8': 1, 'Tregs': 0, 'mDC': 1, 'pDC': 3}\u001B[0m\n",
      "\u001B[32m2024-02-24 16:28:40.946\u001B[0m | \u001B[1mINFO    \u001B[0m | \u001B[36mrectanglepy.pp.create_signature\u001B[0m:\u001B[36m_optimize_parameters\u001B[0m:\u001B[36m357\u001B[0m - \u001B[1mRMSE:0.09593650659610253, Pearson R:0.4903561773161613 for p=0.015, lfc=1.6\u001B[0m\n",
      "\u001B[32m2024-02-24 16:28:40.973\u001B[0m | \u001B[1mINFO    \u001B[0m | \u001B[36mrectanglepy.pp.create_signature\u001B[0m:\u001B[36m_get_marker_genes\u001B[0m:\u001B[36m184\u001B[0m - \u001B[1mOptimal condition number: 8\u001B[0m\n",
      "\u001B[32m2024-02-24 16:28:40.974\u001B[0m | \u001B[1mINFO    \u001B[0m | \u001B[36mrectanglepy.pp.create_signature\u001B[0m:\u001B[36m_count_marker_genes_per_cell_type\u001B[0m:\u001B[36m196\u001B[0m - \u001B[1mNumber of marker genes per cell type: {'B cells': 5, 'Monocytes': 8, 'NK cells': 5, 'Plasma cells': 5, 'T cells CD4 conv': 0, 'T cells CD8': 1, 'Tregs': 0, 'mDC': 1, 'pDC': 3}\u001B[0m\n",
      "\u001B[32m2024-02-24 16:28:41.010\u001B[0m | \u001B[1mINFO    \u001B[0m | \u001B[36mrectanglepy.pp.create_signature\u001B[0m:\u001B[36m_optimize_parameters\u001B[0m:\u001B[36m357\u001B[0m - \u001B[1mRMSE:0.09593650659610253, Pearson R:0.4903561773161613 for p=0.015, lfc=1.7\u001B[0m\n",
      "\u001B[32m2024-02-24 16:28:41.039\u001B[0m | \u001B[1mINFO    \u001B[0m | \u001B[36mrectanglepy.pp.create_signature\u001B[0m:\u001B[36m_get_marker_genes\u001B[0m:\u001B[36m184\u001B[0m - \u001B[1mOptimal condition number: 8\u001B[0m\n",
      "\u001B[32m2024-02-24 16:28:41.039\u001B[0m | \u001B[1mINFO    \u001B[0m | \u001B[36mrectanglepy.pp.create_signature\u001B[0m:\u001B[36m_count_marker_genes_per_cell_type\u001B[0m:\u001B[36m196\u001B[0m - \u001B[1mNumber of marker genes per cell type: {'B cells': 5, 'Monocytes': 8, 'NK cells': 5, 'Plasma cells': 5, 'T cells CD4 conv': 0, 'T cells CD8': 1, 'Tregs': 0, 'mDC': 2, 'pDC': 3}\u001B[0m\n",
      "\u001B[32m2024-02-24 16:28:41.076\u001B[0m | \u001B[1mINFO    \u001B[0m | \u001B[36mrectanglepy.pp.create_signature\u001B[0m:\u001B[36m_optimize_parameters\u001B[0m:\u001B[36m357\u001B[0m - \u001B[1mRMSE:0.10192575212873703, Pearson R:0.44905599115046596 for p=0.015, lfc=1.8\u001B[0m\n",
      "\u001B[32m2024-02-24 16:28:41.106\u001B[0m | \u001B[1mINFO    \u001B[0m | \u001B[36mrectanglepy.pp.create_signature\u001B[0m:\u001B[36m_get_marker_genes\u001B[0m:\u001B[36m184\u001B[0m - \u001B[1mOptimal condition number: 8\u001B[0m\n",
      "\u001B[32m2024-02-24 16:28:41.107\u001B[0m | \u001B[1mINFO    \u001B[0m | \u001B[36mrectanglepy.pp.create_signature\u001B[0m:\u001B[36m_count_marker_genes_per_cell_type\u001B[0m:\u001B[36m196\u001B[0m - \u001B[1mNumber of marker genes per cell type: {'B cells': 5, 'Monocytes': 8, 'NK cells': 5, 'Plasma cells': 5, 'T cells CD4 conv': 0, 'T cells CD8': 1, 'Tregs': 0, 'mDC': 2, 'pDC': 3}\u001B[0m\n",
      "\u001B[32m2024-02-24 16:28:41.143\u001B[0m | \u001B[1mINFO    \u001B[0m | \u001B[36mrectanglepy.pp.create_signature\u001B[0m:\u001B[36m_optimize_parameters\u001B[0m:\u001B[36m357\u001B[0m - \u001B[1mRMSE:0.10192575212873703, Pearson R:0.44905599115046596 for p=0.015, lfc=1.9\u001B[0m\n",
      "\u001B[32m2024-02-24 16:28:41.165\u001B[0m | \u001B[1mINFO    \u001B[0m | \u001B[36mrectanglepy.pp.create_signature\u001B[0m:\u001B[36m_get_marker_genes\u001B[0m:\u001B[36m184\u001B[0m - \u001B[1mOptimal condition number: 8\u001B[0m\n",
      "\u001B[32m2024-02-24 16:28:41.165\u001B[0m | \u001B[1mINFO    \u001B[0m | \u001B[36mrectanglepy.pp.create_signature\u001B[0m:\u001B[36m_count_marker_genes_per_cell_type\u001B[0m:\u001B[36m196\u001B[0m - \u001B[1mNumber of marker genes per cell type: {'B cells': 5, 'Monocytes': 8, 'NK cells': 5, 'Plasma cells': 5, 'T cells CD4 conv': 0, 'T cells CD8': 1, 'Tregs': 0, 'mDC': 1, 'pDC': 3}\u001B[0m\n",
      "\u001B[32m2024-02-24 16:28:41.202\u001B[0m | \u001B[1mINFO    \u001B[0m | \u001B[36mrectanglepy.pp.create_signature\u001B[0m:\u001B[36m_optimize_parameters\u001B[0m:\u001B[36m357\u001B[0m - \u001B[1mRMSE:0.09593650659610253, Pearson R:0.4903561773161613 for p=0.016, lfc=1.4\u001B[0m\n",
      "\u001B[32m2024-02-24 16:28:41.227\u001B[0m | \u001B[1mINFO    \u001B[0m | \u001B[36mrectanglepy.pp.create_signature\u001B[0m:\u001B[36m_get_marker_genes\u001B[0m:\u001B[36m184\u001B[0m - \u001B[1mOptimal condition number: 8\u001B[0m\n",
      "\u001B[32m2024-02-24 16:28:41.227\u001B[0m | \u001B[1mINFO    \u001B[0m | \u001B[36mrectanglepy.pp.create_signature\u001B[0m:\u001B[36m_count_marker_genes_per_cell_type\u001B[0m:\u001B[36m196\u001B[0m - \u001B[1mNumber of marker genes per cell type: {'B cells': 5, 'Monocytes': 8, 'NK cells': 5, 'Plasma cells': 5, 'T cells CD4 conv': 0, 'T cells CD8': 1, 'Tregs': 0, 'mDC': 1, 'pDC': 3}\u001B[0m\n",
      "\u001B[32m2024-02-24 16:28:41.265\u001B[0m | \u001B[1mINFO    \u001B[0m | \u001B[36mrectanglepy.pp.create_signature\u001B[0m:\u001B[36m_optimize_parameters\u001B[0m:\u001B[36m357\u001B[0m - \u001B[1mRMSE:0.09593650659610253, Pearson R:0.4903561773161613 for p=0.016, lfc=1.5\u001B[0m\n",
      "\u001B[32m2024-02-24 16:28:41.290\u001B[0m | \u001B[1mINFO    \u001B[0m | \u001B[36mrectanglepy.pp.create_signature\u001B[0m:\u001B[36m_get_marker_genes\u001B[0m:\u001B[36m184\u001B[0m - \u001B[1mOptimal condition number: 8\u001B[0m\n",
      "\u001B[32m2024-02-24 16:28:41.291\u001B[0m | \u001B[1mINFO    \u001B[0m | \u001B[36mrectanglepy.pp.create_signature\u001B[0m:\u001B[36m_count_marker_genes_per_cell_type\u001B[0m:\u001B[36m196\u001B[0m - \u001B[1mNumber of marker genes per cell type: {'B cells': 5, 'Monocytes': 8, 'NK cells': 5, 'Plasma cells': 5, 'T cells CD4 conv': 0, 'T cells CD8': 1, 'Tregs': 0, 'mDC': 1, 'pDC': 3}\u001B[0m\n",
      "\u001B[32m2024-02-24 16:28:41.326\u001B[0m | \u001B[1mINFO    \u001B[0m | \u001B[36mrectanglepy.pp.create_signature\u001B[0m:\u001B[36m_optimize_parameters\u001B[0m:\u001B[36m357\u001B[0m - \u001B[1mRMSE:0.09593650659610253, Pearson R:0.4903561773161613 for p=0.016, lfc=1.6\u001B[0m\n",
      "\u001B[32m2024-02-24 16:28:41.353\u001B[0m | \u001B[1mINFO    \u001B[0m | \u001B[36mrectanglepy.pp.create_signature\u001B[0m:\u001B[36m_get_marker_genes\u001B[0m:\u001B[36m184\u001B[0m - \u001B[1mOptimal condition number: 8\u001B[0m\n",
      "\u001B[32m2024-02-24 16:28:41.353\u001B[0m | \u001B[1mINFO    \u001B[0m | \u001B[36mrectanglepy.pp.create_signature\u001B[0m:\u001B[36m_count_marker_genes_per_cell_type\u001B[0m:\u001B[36m196\u001B[0m - \u001B[1mNumber of marker genes per cell type: {'B cells': 5, 'Monocytes': 8, 'NK cells': 5, 'Plasma cells': 5, 'T cells CD4 conv': 0, 'T cells CD8': 1, 'Tregs': 0, 'mDC': 2, 'pDC': 3}\u001B[0m\n",
      "\u001B[32m2024-02-24 16:28:41.392\u001B[0m | \u001B[1mINFO    \u001B[0m | \u001B[36mrectanglepy.pp.create_signature\u001B[0m:\u001B[36m_optimize_parameters\u001B[0m:\u001B[36m357\u001B[0m - \u001B[1mRMSE:0.10192575212873703, Pearson R:0.44905599115046596 for p=0.016, lfc=1.7\u001B[0m\n",
      "\u001B[32m2024-02-24 16:28:41.420\u001B[0m | \u001B[1mINFO    \u001B[0m | \u001B[36mrectanglepy.pp.create_signature\u001B[0m:\u001B[36m_get_marker_genes\u001B[0m:\u001B[36m184\u001B[0m - \u001B[1mOptimal condition number: 8\u001B[0m\n",
      "\u001B[32m2024-02-24 16:28:41.420\u001B[0m | \u001B[1mINFO    \u001B[0m | \u001B[36mrectanglepy.pp.create_signature\u001B[0m:\u001B[36m_count_marker_genes_per_cell_type\u001B[0m:\u001B[36m196\u001B[0m - \u001B[1mNumber of marker genes per cell type: {'B cells': 5, 'Monocytes': 8, 'NK cells': 5, 'Plasma cells': 5, 'T cells CD4 conv': 0, 'T cells CD8': 1, 'Tregs': 0, 'mDC': 2, 'pDC': 3}\u001B[0m\n",
      "\u001B[32m2024-02-24 16:28:41.457\u001B[0m | \u001B[1mINFO    \u001B[0m | \u001B[36mrectanglepy.pp.create_signature\u001B[0m:\u001B[36m_optimize_parameters\u001B[0m:\u001B[36m357\u001B[0m - \u001B[1mRMSE:0.10192575212873703, Pearson R:0.44905599115046596 for p=0.016, lfc=1.8\u001B[0m\n",
      "\u001B[32m2024-02-24 16:28:41.488\u001B[0m | \u001B[1mINFO    \u001B[0m | \u001B[36mrectanglepy.pp.create_signature\u001B[0m:\u001B[36m_get_marker_genes\u001B[0m:\u001B[36m184\u001B[0m - \u001B[1mOptimal condition number: 8\u001B[0m\n",
      "\u001B[32m2024-02-24 16:28:41.488\u001B[0m | \u001B[1mINFO    \u001B[0m | \u001B[36mrectanglepy.pp.create_signature\u001B[0m:\u001B[36m_count_marker_genes_per_cell_type\u001B[0m:\u001B[36m196\u001B[0m - \u001B[1mNumber of marker genes per cell type: {'B cells': 5, 'Monocytes': 8, 'NK cells': 5, 'Plasma cells': 5, 'T cells CD4 conv': 0, 'T cells CD8': 1, 'Tregs': 0, 'mDC': 2, 'pDC': 3}\u001B[0m\n",
      "\u001B[32m2024-02-24 16:28:41.526\u001B[0m | \u001B[1mINFO    \u001B[0m | \u001B[36mrectanglepy.pp.create_signature\u001B[0m:\u001B[36m_optimize_parameters\u001B[0m:\u001B[36m357\u001B[0m - \u001B[1mRMSE:0.10192575212873703, Pearson R:0.44905599115046596 for p=0.016, lfc=1.9\u001B[0m\n",
      "\u001B[32m2024-02-24 16:28:41.548\u001B[0m | \u001B[1mINFO    \u001B[0m | \u001B[36mrectanglepy.pp.create_signature\u001B[0m:\u001B[36m_get_marker_genes\u001B[0m:\u001B[36m184\u001B[0m - \u001B[1mOptimal condition number: 8\u001B[0m\n",
      "\u001B[32m2024-02-24 16:28:41.548\u001B[0m | \u001B[1mINFO    \u001B[0m | \u001B[36mrectanglepy.pp.create_signature\u001B[0m:\u001B[36m_count_marker_genes_per_cell_type\u001B[0m:\u001B[36m196\u001B[0m - \u001B[1mNumber of marker genes per cell type: {'B cells': 5, 'Monocytes': 8, 'NK cells': 5, 'Plasma cells': 5, 'T cells CD4 conv': 0, 'T cells CD8': 1, 'Tregs': 0, 'mDC': 1, 'pDC': 3}\u001B[0m\n",
      "\u001B[32m2024-02-24 16:28:41.586\u001B[0m | \u001B[1mINFO    \u001B[0m | \u001B[36mrectanglepy.pp.create_signature\u001B[0m:\u001B[36m_optimize_parameters\u001B[0m:\u001B[36m357\u001B[0m - \u001B[1mRMSE:0.09593650659610253, Pearson R:0.4903561773161613 for p=0.017, lfc=1.4\u001B[0m\n",
      "\u001B[32m2024-02-24 16:28:41.609\u001B[0m | \u001B[1mINFO    \u001B[0m | \u001B[36mrectanglepy.pp.create_signature\u001B[0m:\u001B[36m_get_marker_genes\u001B[0m:\u001B[36m184\u001B[0m - \u001B[1mOptimal condition number: 8\u001B[0m\n",
      "\u001B[32m2024-02-24 16:28:41.610\u001B[0m | \u001B[1mINFO    \u001B[0m | \u001B[36mrectanglepy.pp.create_signature\u001B[0m:\u001B[36m_count_marker_genes_per_cell_type\u001B[0m:\u001B[36m196\u001B[0m - \u001B[1mNumber of marker genes per cell type: {'B cells': 5, 'Monocytes': 8, 'NK cells': 5, 'Plasma cells': 5, 'T cells CD4 conv': 0, 'T cells CD8': 1, 'Tregs': 0, 'mDC': 1, 'pDC': 3}\u001B[0m\n",
      "\u001B[32m2024-02-24 16:28:41.646\u001B[0m | \u001B[1mINFO    \u001B[0m | \u001B[36mrectanglepy.pp.create_signature\u001B[0m:\u001B[36m_optimize_parameters\u001B[0m:\u001B[36m357\u001B[0m - \u001B[1mRMSE:0.09593650659610253, Pearson R:0.4903561773161613 for p=0.017, lfc=1.5\u001B[0m\n",
      "\u001B[32m2024-02-24 16:28:41.673\u001B[0m | \u001B[1mINFO    \u001B[0m | \u001B[36mrectanglepy.pp.create_signature\u001B[0m:\u001B[36m_get_marker_genes\u001B[0m:\u001B[36m184\u001B[0m - \u001B[1mOptimal condition number: 8\u001B[0m\n",
      "\u001B[32m2024-02-24 16:28:41.673\u001B[0m | \u001B[1mINFO    \u001B[0m | \u001B[36mrectanglepy.pp.create_signature\u001B[0m:\u001B[36m_count_marker_genes_per_cell_type\u001B[0m:\u001B[36m196\u001B[0m - \u001B[1mNumber of marker genes per cell type: {'B cells': 5, 'Monocytes': 8, 'NK cells': 5, 'Plasma cells': 5, 'T cells CD4 conv': 0, 'T cells CD8': 1, 'Tregs': 0, 'mDC': 2, 'pDC': 3}\u001B[0m\n",
      "\u001B[32m2024-02-24 16:28:41.710\u001B[0m | \u001B[1mINFO    \u001B[0m | \u001B[36mrectanglepy.pp.create_signature\u001B[0m:\u001B[36m_optimize_parameters\u001B[0m:\u001B[36m357\u001B[0m - \u001B[1mRMSE:0.10192575212873703, Pearson R:0.44905599115046596 for p=0.017, lfc=1.6\u001B[0m\n",
      "\u001B[32m2024-02-24 16:28:41.737\u001B[0m | \u001B[1mINFO    \u001B[0m | \u001B[36mrectanglepy.pp.create_signature\u001B[0m:\u001B[36m_get_marker_genes\u001B[0m:\u001B[36m184\u001B[0m - \u001B[1mOptimal condition number: 8\u001B[0m\n",
      "\u001B[32m2024-02-24 16:28:41.738\u001B[0m | \u001B[1mINFO    \u001B[0m | \u001B[36mrectanglepy.pp.create_signature\u001B[0m:\u001B[36m_count_marker_genes_per_cell_type\u001B[0m:\u001B[36m196\u001B[0m - \u001B[1mNumber of marker genes per cell type: {'B cells': 5, 'Monocytes': 8, 'NK cells': 5, 'Plasma cells': 5, 'T cells CD4 conv': 0, 'T cells CD8': 1, 'Tregs': 0, 'mDC': 2, 'pDC': 3}\u001B[0m\n",
      "\u001B[32m2024-02-24 16:28:41.774\u001B[0m | \u001B[1mINFO    \u001B[0m | \u001B[36mrectanglepy.pp.create_signature\u001B[0m:\u001B[36m_optimize_parameters\u001B[0m:\u001B[36m357\u001B[0m - \u001B[1mRMSE:0.10192575212873703, Pearson R:0.44905599115046596 for p=0.017, lfc=1.7\u001B[0m\n",
      "\u001B[32m2024-02-24 16:28:41.803\u001B[0m | \u001B[1mINFO    \u001B[0m | \u001B[36mrectanglepy.pp.create_signature\u001B[0m:\u001B[36m_get_marker_genes\u001B[0m:\u001B[36m184\u001B[0m - \u001B[1mOptimal condition number: 8\u001B[0m\n",
      "\u001B[32m2024-02-24 16:28:41.804\u001B[0m | \u001B[1mINFO    \u001B[0m | \u001B[36mrectanglepy.pp.create_signature\u001B[0m:\u001B[36m_count_marker_genes_per_cell_type\u001B[0m:\u001B[36m196\u001B[0m - \u001B[1mNumber of marker genes per cell type: {'B cells': 5, 'Monocytes': 8, 'NK cells': 5, 'Plasma cells': 5, 'T cells CD4 conv': 0, 'T cells CD8': 1, 'Tregs': 0, 'mDC': 2, 'pDC': 3}\u001B[0m\n",
      "\u001B[32m2024-02-24 16:28:41.842\u001B[0m | \u001B[1mINFO    \u001B[0m | \u001B[36mrectanglepy.pp.create_signature\u001B[0m:\u001B[36m_optimize_parameters\u001B[0m:\u001B[36m357\u001B[0m - \u001B[1mRMSE:0.10192575212873703, Pearson R:0.44905599115046596 for p=0.017, lfc=1.8\u001B[0m\n",
      "\u001B[32m2024-02-24 16:28:41.871\u001B[0m | \u001B[1mINFO    \u001B[0m | \u001B[36mrectanglepy.pp.create_signature\u001B[0m:\u001B[36m_get_marker_genes\u001B[0m:\u001B[36m184\u001B[0m - \u001B[1mOptimal condition number: 8\u001B[0m\n",
      "\u001B[32m2024-02-24 16:28:41.871\u001B[0m | \u001B[1mINFO    \u001B[0m | \u001B[36mrectanglepy.pp.create_signature\u001B[0m:\u001B[36m_count_marker_genes_per_cell_type\u001B[0m:\u001B[36m196\u001B[0m - \u001B[1mNumber of marker genes per cell type: {'B cells': 5, 'Monocytes': 8, 'NK cells': 5, 'Plasma cells': 5, 'T cells CD4 conv': 0, 'T cells CD8': 1, 'Tregs': 0, 'mDC': 2, 'pDC': 3}\u001B[0m\n",
      "\u001B[32m2024-02-24 16:28:41.909\u001B[0m | \u001B[1mINFO    \u001B[0m | \u001B[36mrectanglepy.pp.create_signature\u001B[0m:\u001B[36m_optimize_parameters\u001B[0m:\u001B[36m357\u001B[0m - \u001B[1mRMSE:0.10192575212873703, Pearson R:0.44905599115046596 for p=0.017, lfc=1.9\u001B[0m\n",
      "\u001B[32m2024-02-24 16:28:41.932\u001B[0m | \u001B[1mINFO    \u001B[0m | \u001B[36mrectanglepy.pp.create_signature\u001B[0m:\u001B[36m_get_marker_genes\u001B[0m:\u001B[36m184\u001B[0m - \u001B[1mOptimal condition number: 8\u001B[0m\n",
      "\u001B[32m2024-02-24 16:28:41.932\u001B[0m | \u001B[1mINFO    \u001B[0m | \u001B[36mrectanglepy.pp.create_signature\u001B[0m:\u001B[36m_count_marker_genes_per_cell_type\u001B[0m:\u001B[36m196\u001B[0m - \u001B[1mNumber of marker genes per cell type: {'B cells': 5, 'Monocytes': 8, 'NK cells': 5, 'Plasma cells': 5, 'T cells CD4 conv': 0, 'T cells CD8': 1, 'Tregs': 0, 'mDC': 1, 'pDC': 3}\u001B[0m\n",
      "\u001B[32m2024-02-24 16:28:41.971\u001B[0m | \u001B[1mINFO    \u001B[0m | \u001B[36mrectanglepy.pp.create_signature\u001B[0m:\u001B[36m_optimize_parameters\u001B[0m:\u001B[36m357\u001B[0m - \u001B[1mRMSE:0.09593650659610253, Pearson R:0.4903561773161613 for p=0.018, lfc=1.4\u001B[0m\n",
      "\u001B[32m2024-02-24 16:28:41.996\u001B[0m | \u001B[1mINFO    \u001B[0m | \u001B[36mrectanglepy.pp.create_signature\u001B[0m:\u001B[36m_get_marker_genes\u001B[0m:\u001B[36m184\u001B[0m - \u001B[1mOptimal condition number: 8\u001B[0m\n",
      "\u001B[32m2024-02-24 16:28:41.997\u001B[0m | \u001B[1mINFO    \u001B[0m | \u001B[36mrectanglepy.pp.create_signature\u001B[0m:\u001B[36m_count_marker_genes_per_cell_type\u001B[0m:\u001B[36m196\u001B[0m - \u001B[1mNumber of marker genes per cell type: {'B cells': 5, 'Monocytes': 8, 'NK cells': 5, 'Plasma cells': 5, 'T cells CD4 conv': 0, 'T cells CD8': 1, 'Tregs': 0, 'mDC': 2, 'pDC': 3}\u001B[0m\n",
      "\u001B[32m2024-02-24 16:28:42.035\u001B[0m | \u001B[1mINFO    \u001B[0m | \u001B[36mrectanglepy.pp.create_signature\u001B[0m:\u001B[36m_optimize_parameters\u001B[0m:\u001B[36m357\u001B[0m - \u001B[1mRMSE:0.10192575212873703, Pearson R:0.44905599115046596 for p=0.018, lfc=1.5\u001B[0m\n",
      "\u001B[32m2024-02-24 16:28:42.060\u001B[0m | \u001B[1mINFO    \u001B[0m | \u001B[36mrectanglepy.pp.create_signature\u001B[0m:\u001B[36m_get_marker_genes\u001B[0m:\u001B[36m184\u001B[0m - \u001B[1mOptimal condition number: 8\u001B[0m\n",
      "\u001B[32m2024-02-24 16:28:42.060\u001B[0m | \u001B[1mINFO    \u001B[0m | \u001B[36mrectanglepy.pp.create_signature\u001B[0m:\u001B[36m_count_marker_genes_per_cell_type\u001B[0m:\u001B[36m196\u001B[0m - \u001B[1mNumber of marker genes per cell type: {'B cells': 5, 'Monocytes': 8, 'NK cells': 5, 'Plasma cells': 5, 'T cells CD4 conv': 0, 'T cells CD8': 1, 'Tregs': 0, 'mDC': 2, 'pDC': 3}\u001B[0m\n",
      "\u001B[32m2024-02-24 16:28:42.096\u001B[0m | \u001B[1mINFO    \u001B[0m | \u001B[36mrectanglepy.pp.create_signature\u001B[0m:\u001B[36m_optimize_parameters\u001B[0m:\u001B[36m357\u001B[0m - \u001B[1mRMSE:0.10192575212873703, Pearson R:0.44905599115046596 for p=0.018, lfc=1.6\u001B[0m\n",
      "\u001B[32m2024-02-24 16:28:42.123\u001B[0m | \u001B[1mINFO    \u001B[0m | \u001B[36mrectanglepy.pp.create_signature\u001B[0m:\u001B[36m_get_marker_genes\u001B[0m:\u001B[36m184\u001B[0m - \u001B[1mOptimal condition number: 8\u001B[0m\n",
      "\u001B[32m2024-02-24 16:28:42.123\u001B[0m | \u001B[1mINFO    \u001B[0m | \u001B[36mrectanglepy.pp.create_signature\u001B[0m:\u001B[36m_count_marker_genes_per_cell_type\u001B[0m:\u001B[36m196\u001B[0m - \u001B[1mNumber of marker genes per cell type: {'B cells': 5, 'Monocytes': 8, 'NK cells': 5, 'Plasma cells': 5, 'T cells CD4 conv': 0, 'T cells CD8': 1, 'Tregs': 0, 'mDC': 2, 'pDC': 3}\u001B[0m\n",
      "\u001B[32m2024-02-24 16:28:42.161\u001B[0m | \u001B[1mINFO    \u001B[0m | \u001B[36mrectanglepy.pp.create_signature\u001B[0m:\u001B[36m_optimize_parameters\u001B[0m:\u001B[36m357\u001B[0m - \u001B[1mRMSE:0.10192575212873703, Pearson R:0.44905599115046596 for p=0.018, lfc=1.7\u001B[0m\n",
      "\u001B[32m2024-02-24 16:28:42.190\u001B[0m | \u001B[1mINFO    \u001B[0m | \u001B[36mrectanglepy.pp.create_signature\u001B[0m:\u001B[36m_get_marker_genes\u001B[0m:\u001B[36m184\u001B[0m - \u001B[1mOptimal condition number: 8\u001B[0m\n",
      "\u001B[32m2024-02-24 16:28:42.190\u001B[0m | \u001B[1mINFO    \u001B[0m | \u001B[36mrectanglepy.pp.create_signature\u001B[0m:\u001B[36m_count_marker_genes_per_cell_type\u001B[0m:\u001B[36m196\u001B[0m - \u001B[1mNumber of marker genes per cell type: {'B cells': 5, 'Monocytes': 8, 'NK cells': 5, 'Plasma cells': 5, 'T cells CD4 conv': 0, 'T cells CD8': 1, 'Tregs': 0, 'mDC': 2, 'pDC': 3}\u001B[0m\n",
      "\u001B[32m2024-02-24 16:28:42.225\u001B[0m | \u001B[1mINFO    \u001B[0m | \u001B[36mrectanglepy.pp.create_signature\u001B[0m:\u001B[36m_optimize_parameters\u001B[0m:\u001B[36m357\u001B[0m - \u001B[1mRMSE:0.10192575212873703, Pearson R:0.44905599115046596 for p=0.018, lfc=1.8\u001B[0m\n",
      "\u001B[32m2024-02-24 16:28:42.257\u001B[0m | \u001B[1mINFO    \u001B[0m | \u001B[36mrectanglepy.pp.create_signature\u001B[0m:\u001B[36m_get_marker_genes\u001B[0m:\u001B[36m184\u001B[0m - \u001B[1mOptimal condition number: 8\u001B[0m\n",
      "\u001B[32m2024-02-24 16:28:42.257\u001B[0m | \u001B[1mINFO    \u001B[0m | \u001B[36mrectanglepy.pp.create_signature\u001B[0m:\u001B[36m_count_marker_genes_per_cell_type\u001B[0m:\u001B[36m196\u001B[0m - \u001B[1mNumber of marker genes per cell type: {'B cells': 5, 'Monocytes': 8, 'NK cells': 5, 'Plasma cells': 5, 'T cells CD4 conv': 0, 'T cells CD8': 1, 'Tregs': 0, 'mDC': 2, 'pDC': 3}\u001B[0m\n",
      "\u001B[32m2024-02-24 16:28:42.293\u001B[0m | \u001B[1mINFO    \u001B[0m | \u001B[36mrectanglepy.pp.create_signature\u001B[0m:\u001B[36m_optimize_parameters\u001B[0m:\u001B[36m357\u001B[0m - \u001B[1mRMSE:0.10192575212873703, Pearson R:0.44905599115046596 for p=0.018, lfc=1.9\u001B[0m\n",
      "\u001B[32m2024-02-24 16:28:42.315\u001B[0m | \u001B[1mINFO    \u001B[0m | \u001B[36mrectanglepy.pp.create_signature\u001B[0m:\u001B[36m_get_marker_genes\u001B[0m:\u001B[36m184\u001B[0m - \u001B[1mOptimal condition number: 8\u001B[0m\n",
      "\u001B[32m2024-02-24 16:28:42.315\u001B[0m | \u001B[1mINFO    \u001B[0m | \u001B[36mrectanglepy.pp.create_signature\u001B[0m:\u001B[36m_count_marker_genes_per_cell_type\u001B[0m:\u001B[36m196\u001B[0m - \u001B[1mNumber of marker genes per cell type: {'B cells': 5, 'Monocytes': 8, 'NK cells': 5, 'Plasma cells': 5, 'T cells CD4 conv': 0, 'T cells CD8': 1, 'Tregs': 0, 'mDC': 2, 'pDC': 3}\u001B[0m\n",
      "\u001B[32m2024-02-24 16:28:42.354\u001B[0m | \u001B[1mINFO    \u001B[0m | \u001B[36mrectanglepy.pp.create_signature\u001B[0m:\u001B[36m_optimize_parameters\u001B[0m:\u001B[36m357\u001B[0m - \u001B[1mRMSE:0.10192575212873703, Pearson R:0.44905599115046596 for p=0.019, lfc=1.4\u001B[0m\n",
      "\u001B[32m2024-02-24 16:28:42.377\u001B[0m | \u001B[1mINFO    \u001B[0m | \u001B[36mrectanglepy.pp.create_signature\u001B[0m:\u001B[36m_get_marker_genes\u001B[0m:\u001B[36m184\u001B[0m - \u001B[1mOptimal condition number: 8\u001B[0m\n",
      "\u001B[32m2024-02-24 16:28:42.378\u001B[0m | \u001B[1mINFO    \u001B[0m | \u001B[36mrectanglepy.pp.create_signature\u001B[0m:\u001B[36m_count_marker_genes_per_cell_type\u001B[0m:\u001B[36m196\u001B[0m - \u001B[1mNumber of marker genes per cell type: {'B cells': 5, 'Monocytes': 8, 'NK cells': 5, 'Plasma cells': 5, 'T cells CD4 conv': 0, 'T cells CD8': 1, 'Tregs': 0, 'mDC': 2, 'pDC': 3}\u001B[0m\n",
      "\u001B[32m2024-02-24 16:28:42.414\u001B[0m | \u001B[1mINFO    \u001B[0m | \u001B[36mrectanglepy.pp.create_signature\u001B[0m:\u001B[36m_optimize_parameters\u001B[0m:\u001B[36m357\u001B[0m - \u001B[1mRMSE:0.10192575212873703, Pearson R:0.44905599115046596 for p=0.019, lfc=1.5\u001B[0m\n",
      "\u001B[32m2024-02-24 16:28:42.440\u001B[0m | \u001B[1mINFO    \u001B[0m | \u001B[36mrectanglepy.pp.create_signature\u001B[0m:\u001B[36m_get_marker_genes\u001B[0m:\u001B[36m184\u001B[0m - \u001B[1mOptimal condition number: 8\u001B[0m\n",
      "\u001B[32m2024-02-24 16:28:42.440\u001B[0m | \u001B[1mINFO    \u001B[0m | \u001B[36mrectanglepy.pp.create_signature\u001B[0m:\u001B[36m_count_marker_genes_per_cell_type\u001B[0m:\u001B[36m196\u001B[0m - \u001B[1mNumber of marker genes per cell type: {'B cells': 5, 'Monocytes': 8, 'NK cells': 5, 'Plasma cells': 5, 'T cells CD4 conv': 0, 'T cells CD8': 1, 'Tregs': 0, 'mDC': 2, 'pDC': 3}\u001B[0m\n",
      "\u001B[32m2024-02-24 16:28:42.477\u001B[0m | \u001B[1mINFO    \u001B[0m | \u001B[36mrectanglepy.pp.create_signature\u001B[0m:\u001B[36m_optimize_parameters\u001B[0m:\u001B[36m357\u001B[0m - \u001B[1mRMSE:0.10192575212873703, Pearson R:0.44905599115046596 for p=0.019, lfc=1.6\u001B[0m\n",
      "\u001B[32m2024-02-24 16:28:42.503\u001B[0m | \u001B[1mINFO    \u001B[0m | \u001B[36mrectanglepy.pp.create_signature\u001B[0m:\u001B[36m_get_marker_genes\u001B[0m:\u001B[36m184\u001B[0m - \u001B[1mOptimal condition number: 8\u001B[0m\n",
      "\u001B[32m2024-02-24 16:28:42.504\u001B[0m | \u001B[1mINFO    \u001B[0m | \u001B[36mrectanglepy.pp.create_signature\u001B[0m:\u001B[36m_count_marker_genes_per_cell_type\u001B[0m:\u001B[36m196\u001B[0m - \u001B[1mNumber of marker genes per cell type: {'B cells': 5, 'Monocytes': 8, 'NK cells': 5, 'Plasma cells': 5, 'T cells CD4 conv': 0, 'T cells CD8': 1, 'Tregs': 0, 'mDC': 2, 'pDC': 3}\u001B[0m\n",
      "\u001B[32m2024-02-24 16:28:42.539\u001B[0m | \u001B[1mINFO    \u001B[0m | \u001B[36mrectanglepy.pp.create_signature\u001B[0m:\u001B[36m_optimize_parameters\u001B[0m:\u001B[36m357\u001B[0m - \u001B[1mRMSE:0.10192575212873703, Pearson R:0.44905599115046596 for p=0.019, lfc=1.7\u001B[0m\n",
      "\u001B[32m2024-02-24 16:28:42.567\u001B[0m | \u001B[1mINFO    \u001B[0m | \u001B[36mrectanglepy.pp.create_signature\u001B[0m:\u001B[36m_get_marker_genes\u001B[0m:\u001B[36m184\u001B[0m - \u001B[1mOptimal condition number: 8\u001B[0m\n",
      "\u001B[32m2024-02-24 16:28:42.568\u001B[0m | \u001B[1mINFO    \u001B[0m | \u001B[36mrectanglepy.pp.create_signature\u001B[0m:\u001B[36m_count_marker_genes_per_cell_type\u001B[0m:\u001B[36m196\u001B[0m - \u001B[1mNumber of marker genes per cell type: {'B cells': 5, 'Monocytes': 8, 'NK cells': 5, 'Plasma cells': 5, 'T cells CD4 conv': 0, 'T cells CD8': 1, 'Tregs': 0, 'mDC': 2, 'pDC': 3}\u001B[0m\n",
      "\u001B[32m2024-02-24 16:28:42.603\u001B[0m | \u001B[1mINFO    \u001B[0m | \u001B[36mrectanglepy.pp.create_signature\u001B[0m:\u001B[36m_optimize_parameters\u001B[0m:\u001B[36m357\u001B[0m - \u001B[1mRMSE:0.10192575212873703, Pearson R:0.44905599115046596 for p=0.019, lfc=1.8\u001B[0m\n",
      "\u001B[32m2024-02-24 16:28:42.634\u001B[0m | \u001B[1mINFO    \u001B[0m | \u001B[36mrectanglepy.pp.create_signature\u001B[0m:\u001B[36m_get_marker_genes\u001B[0m:\u001B[36m184\u001B[0m - \u001B[1mOptimal condition number: 8\u001B[0m\n",
      "\u001B[32m2024-02-24 16:28:42.634\u001B[0m | \u001B[1mINFO    \u001B[0m | \u001B[36mrectanglepy.pp.create_signature\u001B[0m:\u001B[36m_count_marker_genes_per_cell_type\u001B[0m:\u001B[36m196\u001B[0m - \u001B[1mNumber of marker genes per cell type: {'B cells': 5, 'Monocytes': 8, 'NK cells': 5, 'Plasma cells': 5, 'T cells CD4 conv': 0, 'T cells CD8': 1, 'Tregs': 0, 'mDC': 2, 'pDC': 3}\u001B[0m\n",
      "\u001B[32m2024-02-24 16:28:42.670\u001B[0m | \u001B[1mINFO    \u001B[0m | \u001B[36mrectanglepy.pp.create_signature\u001B[0m:\u001B[36m_optimize_parameters\u001B[0m:\u001B[36m357\u001B[0m - \u001B[1mRMSE:0.10192575212873703, Pearson R:0.44905599115046596 for p=0.019, lfc=1.9\u001B[0m\n",
      "\u001B[32m2024-02-24 16:28:42.673\u001B[0m | \u001B[1mINFO    \u001B[0m | \u001B[36mrectanglepy.pp.create_signature\u001B[0m:\u001B[36m_de_analysis\u001B[0m:\u001B[36m167\u001B[0m - \u001B[1mOptimization done\n",
      " Best cutoffs  p: 0.015 and lfc: 1.4\u001B[0m\n",
      "\u001B[32m2024-02-24 16:28:42.695\u001B[0m | \u001B[1mINFO    \u001B[0m | \u001B[36mrectanglepy.pp.create_signature\u001B[0m:\u001B[36m_get_marker_genes\u001B[0m:\u001B[36m184\u001B[0m - \u001B[1mOptimal condition number: 8\u001B[0m\n",
      "\u001B[32m2024-02-24 16:28:42.695\u001B[0m | \u001B[1mINFO    \u001B[0m | \u001B[36mrectanglepy.pp.create_signature\u001B[0m:\u001B[36m_count_marker_genes_per_cell_type\u001B[0m:\u001B[36m196\u001B[0m - \u001B[1mNumber of marker genes per cell type: {'B cells': 5, 'Monocytes': 8, 'NK cells': 5, 'Plasma cells': 5, 'T cells CD4 conv': 0, 'T cells CD8': 1, 'Tregs': 0, 'mDC': 1, 'pDC': 3}\u001B[0m\n",
      "\u001B[32m2024-02-24 16:28:42.697\u001B[0m | \u001B[1mINFO    \u001B[0m | \u001B[36mrectanglepy.pp.create_signature\u001B[0m:\u001B[36mbuild_rectangle_signatures\u001B[0m:\u001B[36m301\u001B[0m - \u001B[1mStarting rectangle cluster analysis\u001B[0m\n",
      "\u001B[32m2024-02-24 16:28:42.699\u001B[0m | \u001B[1mINFO    \u001B[0m | \u001B[36mrectanglepy.pp.create_signature\u001B[0m:\u001B[36m_create_clustered_data\u001B[0m:\u001B[36m225\u001B[0m - \u001B[1mStarting clustered analysis\u001B[0m\n",
      "\u001B[32m2024-02-24 16:28:42.701\u001B[0m | \u001B[1mINFO    \u001B[0m | \u001B[36mrectanglepy.pp.create_signature\u001B[0m:\u001B[36m_de_analysis\u001B[0m:\u001B[36m159\u001B[0m - \u001B[1mStarting DE analysis\u001B[0m\n",
      "\u001B[32m2024-02-24 16:28:42.702\u001B[0m | \u001B[1mINFO    \u001B[0m | \u001B[36mrectanglepy.pp.create_signature\u001B[0m:\u001B[36m_run_deseq2\u001B[0m:\u001B[36m139\u001B[0m - \u001B[1mRunning DE analysis for 1\u001B[0m\n"
     ]
    },
    {
     "name": "stdout",
     "output_type": "stream",
     "text": [
      "Log2 fold change & Wald test p-value: condition 1.0 vs 0.0\n"
     ]
    },
    {
     "data": {
      "text/plain": "         baseMean  log2FoldChange     lfcSE      stat    pvalue  padj\nALYREF   3.217992        0.017024  1.222937  0.013920  0.988893   NaN\nCAPN15   2.091377       -1.902482  1.529756 -1.243651  0.213628   NaN\nCHAMP1   1.247325        0.496143  1.363107  0.363979  0.715873   NaN\nCHMP3    6.942525       -0.214673  0.857583 -0.250323  0.802337   NaN\nCNEP1R1  1.755229        0.115127  1.504131  0.076541  0.938989   NaN\n...           ...             ...       ...       ...       ...   ...\nZSWIM6   1.373032        1.542674  1.865429  0.826981  0.408248   NaN\nZSWIM7   3.309607        2.045742  1.133444  1.804889  0.071092   NaN\nZYG11B   1.782630        1.698341  0.721360  2.354359  0.018555   NaN\nZYX      8.059483        2.336012  0.796377  2.933298  0.003354   NaN\nZZEF1    3.417447        1.084474  1.011154  1.072511  0.283491   NaN\n\n[1283 rows x 6 columns]",
      "text/html": "<div>\n<style scoped>\n    .dataframe tbody tr th:only-of-type {\n        vertical-align: middle;\n    }\n\n    .dataframe tbody tr th {\n        vertical-align: top;\n    }\n\n    .dataframe thead th {\n        text-align: right;\n    }\n</style>\n<table border=\"1\" class=\"dataframe\">\n  <thead>\n    <tr style=\"text-align: right;\">\n      <th></th>\n      <th>baseMean</th>\n      <th>log2FoldChange</th>\n      <th>lfcSE</th>\n      <th>stat</th>\n      <th>pvalue</th>\n      <th>padj</th>\n    </tr>\n  </thead>\n  <tbody>\n    <tr>\n      <th>ALYREF</th>\n      <td>3.217992</td>\n      <td>0.017024</td>\n      <td>1.222937</td>\n      <td>0.013920</td>\n      <td>0.988893</td>\n      <td>NaN</td>\n    </tr>\n    <tr>\n      <th>CAPN15</th>\n      <td>2.091377</td>\n      <td>-1.902482</td>\n      <td>1.529756</td>\n      <td>-1.243651</td>\n      <td>0.213628</td>\n      <td>NaN</td>\n    </tr>\n    <tr>\n      <th>CHAMP1</th>\n      <td>1.247325</td>\n      <td>0.496143</td>\n      <td>1.363107</td>\n      <td>0.363979</td>\n      <td>0.715873</td>\n      <td>NaN</td>\n    </tr>\n    <tr>\n      <th>CHMP3</th>\n      <td>6.942525</td>\n      <td>-0.214673</td>\n      <td>0.857583</td>\n      <td>-0.250323</td>\n      <td>0.802337</td>\n      <td>NaN</td>\n    </tr>\n    <tr>\n      <th>CNEP1R1</th>\n      <td>1.755229</td>\n      <td>0.115127</td>\n      <td>1.504131</td>\n      <td>0.076541</td>\n      <td>0.938989</td>\n      <td>NaN</td>\n    </tr>\n    <tr>\n      <th>...</th>\n      <td>...</td>\n      <td>...</td>\n      <td>...</td>\n      <td>...</td>\n      <td>...</td>\n      <td>...</td>\n    </tr>\n    <tr>\n      <th>ZSWIM6</th>\n      <td>1.373032</td>\n      <td>1.542674</td>\n      <td>1.865429</td>\n      <td>0.826981</td>\n      <td>0.408248</td>\n      <td>NaN</td>\n    </tr>\n    <tr>\n      <th>ZSWIM7</th>\n      <td>3.309607</td>\n      <td>2.045742</td>\n      <td>1.133444</td>\n      <td>1.804889</td>\n      <td>0.071092</td>\n      <td>NaN</td>\n    </tr>\n    <tr>\n      <th>ZYG11B</th>\n      <td>1.782630</td>\n      <td>1.698341</td>\n      <td>0.721360</td>\n      <td>2.354359</td>\n      <td>0.018555</td>\n      <td>NaN</td>\n    </tr>\n    <tr>\n      <th>ZYX</th>\n      <td>8.059483</td>\n      <td>2.336012</td>\n      <td>0.796377</td>\n      <td>2.933298</td>\n      <td>0.003354</td>\n      <td>NaN</td>\n    </tr>\n    <tr>\n      <th>ZZEF1</th>\n      <td>3.417447</td>\n      <td>1.084474</td>\n      <td>1.011154</td>\n      <td>1.072511</td>\n      <td>0.283491</td>\n      <td>NaN</td>\n    </tr>\n  </tbody>\n</table>\n<p>1283 rows × 6 columns</p>\n</div>"
     },
     "metadata": {},
     "output_type": "display_data"
    },
    {
     "name": "stderr",
     "output_type": "stream",
     "text": [
      "/Users/berni/miniforge3/envs/Rectangle/lib/python3.10/site-packages/pydeseq2/ds.py:414: RuntimeWarning: divide by zero encountered in divide\n",
      "  size = 1.0 / self.dds.varm[\"dispersions\"]\n",
      "/Users/berni/miniforge3/envs/Rectangle/lib/python3.10/site-packages/pydeseq2/utils.py:1198: RuntimeWarning: invalid value encountered in scalar divide\n",
      "  nbinomFn(\n",
      "/Users/berni/miniforge3/envs/Rectangle/lib/python3.10/site-packages/pydeseq2/utils.py:1220: RuntimeWarning: invalid value encountered in divide\n",
      "  counts - (counts + size) / (1 + size * np.exp(-xbeta - offset))\n",
      "/Users/berni/miniforge3/envs/Rectangle/lib/python3.10/site-packages/pydeseq2/grid_search.py:287: RuntimeWarning: invalid value encountered in scalar divide\n",
      "  pydeseq2.utils.nbinomFn(\n",
      "/Users/berni/miniforge3/envs/Rectangle/lib/python3.10/site-packages/pydeseq2/utils.py:1198: RuntimeWarning: invalid value encountered in scalar divide\n",
      "  nbinomFn(\n",
      "/Users/berni/miniforge3/envs/Rectangle/lib/python3.10/site-packages/pydeseq2/utils.py:1220: RuntimeWarning: invalid value encountered in divide\n",
      "  counts - (counts + size) / (1 + size * np.exp(-xbeta - offset))\n",
      "/Users/berni/miniforge3/envs/Rectangle/lib/python3.10/site-packages/pydeseq2/grid_search.py:287: RuntimeWarning: invalid value encountered in scalar divide\n",
      "  pydeseq2.utils.nbinomFn(\n",
      "/Users/berni/miniforge3/envs/Rectangle/lib/python3.10/site-packages/pydeseq2/utils.py:1198: RuntimeWarning: invalid value encountered in scalar divide\n",
      "  nbinomFn(\n",
      "/Users/berni/miniforge3/envs/Rectangle/lib/python3.10/site-packages/pydeseq2/utils.py:1220: RuntimeWarning: invalid value encountered in divide\n",
      "  counts - (counts + size) / (1 + size * np.exp(-xbeta - offset))\n",
      "/Users/berni/miniforge3/envs/Rectangle/lib/python3.10/site-packages/pydeseq2/grid_search.py:287: RuntimeWarning: invalid value encountered in scalar divide\n",
      "  pydeseq2.utils.nbinomFn(\n",
      "/Users/berni/miniforge3/envs/Rectangle/lib/python3.10/site-packages/pydeseq2/utils.py:1198: RuntimeWarning: invalid value encountered in scalar divide\n",
      "  nbinomFn(\n",
      "/Users/berni/miniforge3/envs/Rectangle/lib/python3.10/site-packages/pydeseq2/utils.py:1220: RuntimeWarning: invalid value encountered in divide\n",
      "  counts - (counts + size) / (1 + size * np.exp(-xbeta - offset))\n",
      "/Users/berni/miniforge3/envs/Rectangle/lib/python3.10/site-packages/pydeseq2/grid_search.py:287: RuntimeWarning: invalid value encountered in scalar divide\n",
      "  pydeseq2.utils.nbinomFn(\n",
      "/Users/berni/miniforge3/envs/Rectangle/lib/python3.10/site-packages/pydeseq2/utils.py:1198: RuntimeWarning: invalid value encountered in scalar divide\n",
      "  nbinomFn(\n",
      "/Users/berni/miniforge3/envs/Rectangle/lib/python3.10/site-packages/pydeseq2/utils.py:1220: RuntimeWarning: invalid value encountered in divide\n",
      "  counts - (counts + size) / (1 + size * np.exp(-xbeta - offset))\n",
      "/Users/berni/miniforge3/envs/Rectangle/lib/python3.10/site-packages/pydeseq2/grid_search.py:287: RuntimeWarning: invalid value encountered in scalar divide\n",
      "  pydeseq2.utils.nbinomFn(\n",
      "/Users/berni/miniforge3/envs/Rectangle/lib/python3.10/site-packages/pydeseq2/utils.py:1198: RuntimeWarning: invalid value encountered in scalar divide\n",
      "  nbinomFn(\n",
      "/Users/berni/miniforge3/envs/Rectangle/lib/python3.10/site-packages/pydeseq2/utils.py:1220: RuntimeWarning: invalid value encountered in divide\n",
      "  counts - (counts + size) / (1 + size * np.exp(-xbeta - offset))\n",
      "/Users/berni/miniforge3/envs/Rectangle/lib/python3.10/site-packages/pydeseq2/utils.py:1198: RuntimeWarning: invalid value encountered in scalar divide\n",
      "  nbinomFn(\n",
      "/Users/berni/miniforge3/envs/Rectangle/lib/python3.10/site-packages/pydeseq2/grid_search.py:287: RuntimeWarning: invalid value encountered in scalar divide\n",
      "  pydeseq2.utils.nbinomFn(\n",
      "/Users/berni/miniforge3/envs/Rectangle/lib/python3.10/site-packages/pydeseq2/utils.py:1220: RuntimeWarning: invalid value encountered in divide\n",
      "  counts - (counts + size) / (1 + size * np.exp(-xbeta - offset))\n",
      "/Users/berni/miniforge3/envs/Rectangle/lib/python3.10/site-packages/pydeseq2/grid_search.py:287: RuntimeWarning: invalid value encountered in scalar divide\n",
      "  pydeseq2.utils.nbinomFn(\n",
      "/Users/berni/miniforge3/envs/Rectangle/lib/python3.10/site-packages/pydeseq2/utils.py:1198: RuntimeWarning: invalid value encountered in scalar divide\n",
      "  nbinomFn(\n",
      "/Users/berni/miniforge3/envs/Rectangle/lib/python3.10/site-packages/pydeseq2/utils.py:1220: RuntimeWarning: invalid value encountered in divide\n",
      "  counts - (counts + size) / (1 + size * np.exp(-xbeta - offset))\n",
      "/Users/berni/miniforge3/envs/Rectangle/lib/python3.10/site-packages/pydeseq2/grid_search.py:287: RuntimeWarning: invalid value encountered in scalar divide\n",
      "  pydeseq2.utils.nbinomFn(\n",
      "/Users/berni/miniforge3/envs/Rectangle/lib/python3.10/site-packages/pydeseq2/utils.py:1230: RuntimeWarning: invalid value encountered in divide\n",
      "  frac = (counts + size) * size * exp_xbeta_off / (size + exp_xbeta_off) ** 2\n",
      "/Users/berni/miniforge3/envs/Rectangle/lib/python3.10/site-packages/pydeseq2/utils.py:1230: RuntimeWarning: invalid value encountered in divide\n",
      "  frac = (counts + size) * size * exp_xbeta_off / (size + exp_xbeta_off) ** 2\n",
      "/Users/berni/miniforge3/envs/Rectangle/lib/python3.10/site-packages/pydeseq2/utils.py:1230: RuntimeWarning: invalid value encountered in divide\n",
      "  frac = (counts + size) * size * exp_xbeta_off / (size + exp_xbeta_off) ** 2\n",
      "/Users/berni/miniforge3/envs/Rectangle/lib/python3.10/site-packages/pydeseq2/utils.py:1230: RuntimeWarning: invalid value encountered in divide\n",
      "  frac = (counts + size) * size * exp_xbeta_off / (size + exp_xbeta_off) ** 2\n",
      "/Users/berni/miniforge3/envs/Rectangle/lib/python3.10/site-packages/pydeseq2/utils.py:1230: RuntimeWarning: invalid value encountered in divide\n",
      "  frac = (counts + size) * size * exp_xbeta_off / (size + exp_xbeta_off) ** 2\n",
      "/Users/berni/miniforge3/envs/Rectangle/lib/python3.10/site-packages/pydeseq2/utils.py:1230: RuntimeWarning: invalid value encountered in divide\n",
      "  frac = (counts + size) * size * exp_xbeta_off / (size + exp_xbeta_off) ** 2\n",
      "/Users/berni/miniforge3/envs/Rectangle/lib/python3.10/site-packages/pydeseq2/utils.py:1230: RuntimeWarning: invalid value encountered in divide\n",
      "  frac = (counts + size) * size * exp_xbeta_off / (size + exp_xbeta_off) ** 2\n",
      "/Users/berni/miniforge3/envs/Rectangle/lib/python3.10/site-packages/pydeseq2/utils.py:1230: RuntimeWarning: invalid value encountered in divide\n",
      "  frac = (counts + size) * size * exp_xbeta_off / (size + exp_xbeta_off) ** 2\n"
     ]
    },
    {
     "name": "stdout",
     "output_type": "stream",
     "text": [
      "Shrunk log2 fold change & Wald test p-value: condition 1.0 vs 0.0\n"
     ]
    },
    {
     "data": {
      "text/plain": "         baseMean  log2FoldChange     lfcSE      stat    pvalue  padj\nALYREF   3.217992        0.000538  0.234904  0.013920  0.988893   NaN\nCAPN15   2.091377       -0.034502  0.228964 -1.243651  0.213628   NaN\nCHAMP1   1.247325        0.012148  0.250430  0.363979  0.715873   NaN\nCHMP3    6.942525       -0.012037  0.229649 -0.250323  0.802337   NaN\nCNEP1R1  1.755229        0.002255  0.243169  0.076541  0.938989   NaN\n...           ...             ...       ...       ...       ...   ...\nZSWIM6   1.373032        0.024928  0.266594  0.826981  0.408248   NaN\nZSWIM7   3.309607        0.093709  0.310343  1.804889  0.071092   NaN\nZYG11B   1.782630      -44.747999  0.721360  2.354359  0.018555   NaN\nZYX      8.059483        1.665418  0.827278  2.933298  0.003354   NaN\nZZEF1    3.417447        0.052431  0.262019  1.072511  0.283491   NaN\n\n[1283 rows x 6 columns]",
      "text/html": "<div>\n<style scoped>\n    .dataframe tbody tr th:only-of-type {\n        vertical-align: middle;\n    }\n\n    .dataframe tbody tr th {\n        vertical-align: top;\n    }\n\n    .dataframe thead th {\n        text-align: right;\n    }\n</style>\n<table border=\"1\" class=\"dataframe\">\n  <thead>\n    <tr style=\"text-align: right;\">\n      <th></th>\n      <th>baseMean</th>\n      <th>log2FoldChange</th>\n      <th>lfcSE</th>\n      <th>stat</th>\n      <th>pvalue</th>\n      <th>padj</th>\n    </tr>\n  </thead>\n  <tbody>\n    <tr>\n      <th>ALYREF</th>\n      <td>3.217992</td>\n      <td>0.000538</td>\n      <td>0.234904</td>\n      <td>0.013920</td>\n      <td>0.988893</td>\n      <td>NaN</td>\n    </tr>\n    <tr>\n      <th>CAPN15</th>\n      <td>2.091377</td>\n      <td>-0.034502</td>\n      <td>0.228964</td>\n      <td>-1.243651</td>\n      <td>0.213628</td>\n      <td>NaN</td>\n    </tr>\n    <tr>\n      <th>CHAMP1</th>\n      <td>1.247325</td>\n      <td>0.012148</td>\n      <td>0.250430</td>\n      <td>0.363979</td>\n      <td>0.715873</td>\n      <td>NaN</td>\n    </tr>\n    <tr>\n      <th>CHMP3</th>\n      <td>6.942525</td>\n      <td>-0.012037</td>\n      <td>0.229649</td>\n      <td>-0.250323</td>\n      <td>0.802337</td>\n      <td>NaN</td>\n    </tr>\n    <tr>\n      <th>CNEP1R1</th>\n      <td>1.755229</td>\n      <td>0.002255</td>\n      <td>0.243169</td>\n      <td>0.076541</td>\n      <td>0.938989</td>\n      <td>NaN</td>\n    </tr>\n    <tr>\n      <th>...</th>\n      <td>...</td>\n      <td>...</td>\n      <td>...</td>\n      <td>...</td>\n      <td>...</td>\n      <td>...</td>\n    </tr>\n    <tr>\n      <th>ZSWIM6</th>\n      <td>1.373032</td>\n      <td>0.024928</td>\n      <td>0.266594</td>\n      <td>0.826981</td>\n      <td>0.408248</td>\n      <td>NaN</td>\n    </tr>\n    <tr>\n      <th>ZSWIM7</th>\n      <td>3.309607</td>\n      <td>0.093709</td>\n      <td>0.310343</td>\n      <td>1.804889</td>\n      <td>0.071092</td>\n      <td>NaN</td>\n    </tr>\n    <tr>\n      <th>ZYG11B</th>\n      <td>1.782630</td>\n      <td>-44.747999</td>\n      <td>0.721360</td>\n      <td>2.354359</td>\n      <td>0.018555</td>\n      <td>NaN</td>\n    </tr>\n    <tr>\n      <th>ZYX</th>\n      <td>8.059483</td>\n      <td>1.665418</td>\n      <td>0.827278</td>\n      <td>2.933298</td>\n      <td>0.003354</td>\n      <td>NaN</td>\n    </tr>\n    <tr>\n      <th>ZZEF1</th>\n      <td>3.417447</td>\n      <td>0.052431</td>\n      <td>0.262019</td>\n      <td>1.072511</td>\n      <td>0.283491</td>\n      <td>NaN</td>\n    </tr>\n  </tbody>\n</table>\n<p>1283 rows × 6 columns</p>\n</div>"
     },
     "metadata": {},
     "output_type": "display_data"
    },
    {
     "name": "stderr",
     "output_type": "stream",
     "text": [
      "\u001B[32m2024-02-24 16:28:45.624\u001B[0m | \u001B[1mINFO    \u001B[0m | \u001B[36mrectanglepy.pp.create_signature\u001B[0m:\u001B[36m_run_deseq2\u001B[0m:\u001B[36m139\u001B[0m - \u001B[1mRunning DE analysis for 2\u001B[0m\n"
     ]
    },
    {
     "name": "stdout",
     "output_type": "stream",
     "text": [
      "Log2 fold change & Wald test p-value: condition 1.0 vs 0.0\n"
     ]
    },
    {
     "data": {
      "text/plain": "         baseMean  log2FoldChange     lfcSE      stat    pvalue      padj\nALYREF   3.217992        0.802860  1.220501  0.657811  0.510659  0.999935\nCAPN15   2.091377        1.532431  1.377300  1.112634  0.265866  0.999935\nCHAMP1   1.247325       -3.660262  3.391827 -1.079142  0.280525  0.999935\nCHMP3    6.942525       -0.047753  0.527810 -0.090474  0.927910  0.999935\nCNEP1R1  1.755229        0.618772  1.572579  0.393476  0.693968  0.999935\n...           ...             ...       ...       ...       ...       ...\nZSWIM6   1.373032        0.621802  2.188262  0.284153  0.776293  0.999935\nZSWIM7   3.309607        0.124649  1.762154  0.070737  0.943607  0.999935\nZYG11B   1.782630        0.280893  1.715422  0.163746  0.869931  0.999935\nZYX      8.059483       -0.763763  1.434700 -0.532350  0.594484  0.999935\nZZEF1    3.417447       -0.396020  1.042752 -0.379783  0.704106  0.999935\n\n[1283 rows x 6 columns]",
      "text/html": "<div>\n<style scoped>\n    .dataframe tbody tr th:only-of-type {\n        vertical-align: middle;\n    }\n\n    .dataframe tbody tr th {\n        vertical-align: top;\n    }\n\n    .dataframe thead th {\n        text-align: right;\n    }\n</style>\n<table border=\"1\" class=\"dataframe\">\n  <thead>\n    <tr style=\"text-align: right;\">\n      <th></th>\n      <th>baseMean</th>\n      <th>log2FoldChange</th>\n      <th>lfcSE</th>\n      <th>stat</th>\n      <th>pvalue</th>\n      <th>padj</th>\n    </tr>\n  </thead>\n  <tbody>\n    <tr>\n      <th>ALYREF</th>\n      <td>3.217992</td>\n      <td>0.802860</td>\n      <td>1.220501</td>\n      <td>0.657811</td>\n      <td>0.510659</td>\n      <td>0.999935</td>\n    </tr>\n    <tr>\n      <th>CAPN15</th>\n      <td>2.091377</td>\n      <td>1.532431</td>\n      <td>1.377300</td>\n      <td>1.112634</td>\n      <td>0.265866</td>\n      <td>0.999935</td>\n    </tr>\n    <tr>\n      <th>CHAMP1</th>\n      <td>1.247325</td>\n      <td>-3.660262</td>\n      <td>3.391827</td>\n      <td>-1.079142</td>\n      <td>0.280525</td>\n      <td>0.999935</td>\n    </tr>\n    <tr>\n      <th>CHMP3</th>\n      <td>6.942525</td>\n      <td>-0.047753</td>\n      <td>0.527810</td>\n      <td>-0.090474</td>\n      <td>0.927910</td>\n      <td>0.999935</td>\n    </tr>\n    <tr>\n      <th>CNEP1R1</th>\n      <td>1.755229</td>\n      <td>0.618772</td>\n      <td>1.572579</td>\n      <td>0.393476</td>\n      <td>0.693968</td>\n      <td>0.999935</td>\n    </tr>\n    <tr>\n      <th>...</th>\n      <td>...</td>\n      <td>...</td>\n      <td>...</td>\n      <td>...</td>\n      <td>...</td>\n      <td>...</td>\n    </tr>\n    <tr>\n      <th>ZSWIM6</th>\n      <td>1.373032</td>\n      <td>0.621802</td>\n      <td>2.188262</td>\n      <td>0.284153</td>\n      <td>0.776293</td>\n      <td>0.999935</td>\n    </tr>\n    <tr>\n      <th>ZSWIM7</th>\n      <td>3.309607</td>\n      <td>0.124649</td>\n      <td>1.762154</td>\n      <td>0.070737</td>\n      <td>0.943607</td>\n      <td>0.999935</td>\n    </tr>\n    <tr>\n      <th>ZYG11B</th>\n      <td>1.782630</td>\n      <td>0.280893</td>\n      <td>1.715422</td>\n      <td>0.163746</td>\n      <td>0.869931</td>\n      <td>0.999935</td>\n    </tr>\n    <tr>\n      <th>ZYX</th>\n      <td>8.059483</td>\n      <td>-0.763763</td>\n      <td>1.434700</td>\n      <td>-0.532350</td>\n      <td>0.594484</td>\n      <td>0.999935</td>\n    </tr>\n    <tr>\n      <th>ZZEF1</th>\n      <td>3.417447</td>\n      <td>-0.396020</td>\n      <td>1.042752</td>\n      <td>-0.379783</td>\n      <td>0.704106</td>\n      <td>0.999935</td>\n    </tr>\n  </tbody>\n</table>\n<p>1283 rows × 6 columns</p>\n</div>"
     },
     "metadata": {},
     "output_type": "display_data"
    },
    {
     "name": "stderr",
     "output_type": "stream",
     "text": [
      "/Users/berni/miniforge3/envs/Rectangle/lib/python3.10/site-packages/pydeseq2/ds.py:414: RuntimeWarning: divide by zero encountered in divide\n",
      "  size = 1.0 / self.dds.varm[\"dispersions\"]\n",
      "/Users/berni/miniforge3/envs/Rectangle/lib/python3.10/site-packages/pydeseq2/utils.py:1198: RuntimeWarning: invalid value encountered in scalar divide\n",
      "  nbinomFn(\n",
      "/Users/berni/miniforge3/envs/Rectangle/lib/python3.10/site-packages/pydeseq2/utils.py:1220: RuntimeWarning: invalid value encountered in divide\n",
      "  counts - (counts + size) / (1 + size * np.exp(-xbeta - offset))\n",
      "/Users/berni/miniforge3/envs/Rectangle/lib/python3.10/site-packages/pydeseq2/grid_search.py:287: RuntimeWarning: invalid value encountered in scalar divide\n",
      "  pydeseq2.utils.nbinomFn(\n",
      "/Users/berni/miniforge3/envs/Rectangle/lib/python3.10/site-packages/pydeseq2/utils.py:1198: RuntimeWarning: invalid value encountered in scalar divide\n",
      "  nbinomFn(\n",
      "/Users/berni/miniforge3/envs/Rectangle/lib/python3.10/site-packages/pydeseq2/utils.py:1220: RuntimeWarning: invalid value encountered in divide\n",
      "  counts - (counts + size) / (1 + size * np.exp(-xbeta - offset))\n",
      "/Users/berni/miniforge3/envs/Rectangle/lib/python3.10/site-packages/pydeseq2/utils.py:1198: RuntimeWarning: invalid value encountered in scalar divide\n",
      "  nbinomFn(\n",
      "/Users/berni/miniforge3/envs/Rectangle/lib/python3.10/site-packages/pydeseq2/utils.py:1220: RuntimeWarning: invalid value encountered in divide\n",
      "  counts - (counts + size) / (1 + size * np.exp(-xbeta - offset))\n",
      "/Users/berni/miniforge3/envs/Rectangle/lib/python3.10/site-packages/pydeseq2/grid_search.py:287: RuntimeWarning: invalid value encountered in scalar divide\n",
      "  pydeseq2.utils.nbinomFn(\n",
      "/Users/berni/miniforge3/envs/Rectangle/lib/python3.10/site-packages/pydeseq2/grid_search.py:287: RuntimeWarning: invalid value encountered in scalar divide\n",
      "  pydeseq2.utils.nbinomFn(\n",
      "/Users/berni/miniforge3/envs/Rectangle/lib/python3.10/site-packages/pydeseq2/utils.py:1198: RuntimeWarning: invalid value encountered in scalar divide\n",
      "  nbinomFn(\n",
      "/Users/berni/miniforge3/envs/Rectangle/lib/python3.10/site-packages/pydeseq2/utils.py:1220: RuntimeWarning: invalid value encountered in divide\n",
      "  counts - (counts + size) / (1 + size * np.exp(-xbeta - offset))\n",
      "/Users/berni/miniforge3/envs/Rectangle/lib/python3.10/site-packages/pydeseq2/utils.py:1198: RuntimeWarning: invalid value encountered in scalar divide\n",
      "  nbinomFn(\n",
      "/Users/berni/miniforge3/envs/Rectangle/lib/python3.10/site-packages/pydeseq2/utils.py:1220: RuntimeWarning: invalid value encountered in divide\n",
      "  counts - (counts + size) / (1 + size * np.exp(-xbeta - offset))\n",
      "/Users/berni/miniforge3/envs/Rectangle/lib/python3.10/site-packages/pydeseq2/grid_search.py:287: RuntimeWarning: invalid value encountered in scalar divide\n",
      "  pydeseq2.utils.nbinomFn(\n",
      "/Users/berni/miniforge3/envs/Rectangle/lib/python3.10/site-packages/pydeseq2/grid_search.py:287: RuntimeWarning: invalid value encountered in scalar divide\n",
      "  pydeseq2.utils.nbinomFn(\n",
      "/Users/berni/miniforge3/envs/Rectangle/lib/python3.10/site-packages/pydeseq2/utils.py:1198: RuntimeWarning: invalid value encountered in scalar divide\n",
      "  nbinomFn(\n",
      "/Users/berni/miniforge3/envs/Rectangle/lib/python3.10/site-packages/pydeseq2/utils.py:1220: RuntimeWarning: invalid value encountered in divide\n",
      "  counts - (counts + size) / (1 + size * np.exp(-xbeta - offset))\n",
      "/Users/berni/miniforge3/envs/Rectangle/lib/python3.10/site-packages/pydeseq2/grid_search.py:287: RuntimeWarning: invalid value encountered in scalar divide\n",
      "  pydeseq2.utils.nbinomFn(\n",
      "/Users/berni/miniforge3/envs/Rectangle/lib/python3.10/site-packages/pydeseq2/utils.py:1198: RuntimeWarning: invalid value encountered in scalar divide\n",
      "  nbinomFn(\n",
      "/Users/berni/miniforge3/envs/Rectangle/lib/python3.10/site-packages/pydeseq2/utils.py:1220: RuntimeWarning: invalid value encountered in divide\n",
      "  counts - (counts + size) / (1 + size * np.exp(-xbeta - offset))\n",
      "/Users/berni/miniforge3/envs/Rectangle/lib/python3.10/site-packages/pydeseq2/grid_search.py:287: RuntimeWarning: invalid value encountered in scalar divide\n",
      "  pydeseq2.utils.nbinomFn(\n",
      "/Users/berni/miniforge3/envs/Rectangle/lib/python3.10/site-packages/pydeseq2/utils.py:1230: RuntimeWarning: invalid value encountered in divide\n",
      "  frac = (counts + size) * size * exp_xbeta_off / (size + exp_xbeta_off) ** 2\n",
      "/Users/berni/miniforge3/envs/Rectangle/lib/python3.10/site-packages/pydeseq2/utils.py:1230: RuntimeWarning: invalid value encountered in divide\n",
      "  frac = (counts + size) * size * exp_xbeta_off / (size + exp_xbeta_off) ** 2\n",
      "/Users/berni/miniforge3/envs/Rectangle/lib/python3.10/site-packages/pydeseq2/utils.py:1230: RuntimeWarning: invalid value encountered in divide\n",
      "  frac = (counts + size) * size * exp_xbeta_off / (size + exp_xbeta_off) ** 2\n",
      "/Users/berni/miniforge3/envs/Rectangle/lib/python3.10/site-packages/pydeseq2/utils.py:1230: RuntimeWarning: invalid value encountered in divide\n",
      "  frac = (counts + size) * size * exp_xbeta_off / (size + exp_xbeta_off) ** 2\n",
      "/Users/berni/miniforge3/envs/Rectangle/lib/python3.10/site-packages/pydeseq2/utils.py:1230: RuntimeWarning: invalid value encountered in divide\n",
      "  frac = (counts + size) * size * exp_xbeta_off / (size + exp_xbeta_off) ** 2\n",
      "/Users/berni/miniforge3/envs/Rectangle/lib/python3.10/site-packages/pydeseq2/utils.py:1230: RuntimeWarning: invalid value encountered in divide\n",
      "  frac = (counts + size) * size * exp_xbeta_off / (size + exp_xbeta_off) ** 2\n",
      "/Users/berni/miniforge3/envs/Rectangle/lib/python3.10/site-packages/pydeseq2/utils.py:1198: RuntimeWarning: invalid value encountered in scalar divide\n",
      "  nbinomFn(\n",
      "/Users/berni/miniforge3/envs/Rectangle/lib/python3.10/site-packages/pydeseq2/utils.py:1220: RuntimeWarning: invalid value encountered in divide\n",
      "  counts - (counts + size) / (1 + size * np.exp(-xbeta - offset))\n",
      "/Users/berni/miniforge3/envs/Rectangle/lib/python3.10/site-packages/pydeseq2/grid_search.py:287: RuntimeWarning: invalid value encountered in scalar divide\n",
      "  pydeseq2.utils.nbinomFn(\n",
      "/Users/berni/miniforge3/envs/Rectangle/lib/python3.10/site-packages/pydeseq2/utils.py:1230: RuntimeWarning: invalid value encountered in divide\n",
      "  frac = (counts + size) * size * exp_xbeta_off / (size + exp_xbeta_off) ** 2\n",
      "/Users/berni/miniforge3/envs/Rectangle/lib/python3.10/site-packages/pydeseq2/utils.py:1230: RuntimeWarning: invalid value encountered in divide\n",
      "  frac = (counts + size) * size * exp_xbeta_off / (size + exp_xbeta_off) ** 2\n"
     ]
    },
    {
     "name": "stdout",
     "output_type": "stream",
     "text": [
      "Shrunk log2 fold change & Wald test p-value: condition 1.0 vs 0.0\n"
     ]
    },
    {
     "data": {
      "text/plain": "         baseMean  log2FoldChange     lfcSE      stat    pvalue      padj\nALYREF   3.217992    6.107784e-07  0.001173  0.657811  0.510659  0.999935\nCAPN15   2.091377    9.372886e-07  0.001232  1.112634  0.265866  0.999935\nCHAMP1   1.247325   -4.474800e+01  3.391827 -1.079142  0.280525  0.999935\nCHMP3    6.942525   -4.474800e+01  0.527810 -0.090474  0.927910  0.999935\nCNEP1R1  1.755229    2.540392e-07  0.001167  0.393476  0.693968  0.999935\n...           ...             ...       ...       ...       ...       ...\nZSWIM6   1.373032    1.220094e-07  0.001154  0.284153  0.776293  0.999935\nZSWIM7   3.309607    4.362185e-08  0.001127  0.070737  0.943607  0.999935\nZYG11B   1.782630    1.035926e-07  0.001138  0.163746  0.869931  0.999935\nZYX      8.059483   -3.416025e-07  0.001084 -0.532350  0.594484  0.999935\nZZEF1    3.417447   -3.855790e-07  0.001115 -0.379783  0.704106  0.999935\n\n[1283 rows x 6 columns]",
      "text/html": "<div>\n<style scoped>\n    .dataframe tbody tr th:only-of-type {\n        vertical-align: middle;\n    }\n\n    .dataframe tbody tr th {\n        vertical-align: top;\n    }\n\n    .dataframe thead th {\n        text-align: right;\n    }\n</style>\n<table border=\"1\" class=\"dataframe\">\n  <thead>\n    <tr style=\"text-align: right;\">\n      <th></th>\n      <th>baseMean</th>\n      <th>log2FoldChange</th>\n      <th>lfcSE</th>\n      <th>stat</th>\n      <th>pvalue</th>\n      <th>padj</th>\n    </tr>\n  </thead>\n  <tbody>\n    <tr>\n      <th>ALYREF</th>\n      <td>3.217992</td>\n      <td>6.107784e-07</td>\n      <td>0.001173</td>\n      <td>0.657811</td>\n      <td>0.510659</td>\n      <td>0.999935</td>\n    </tr>\n    <tr>\n      <th>CAPN15</th>\n      <td>2.091377</td>\n      <td>9.372886e-07</td>\n      <td>0.001232</td>\n      <td>1.112634</td>\n      <td>0.265866</td>\n      <td>0.999935</td>\n    </tr>\n    <tr>\n      <th>CHAMP1</th>\n      <td>1.247325</td>\n      <td>-4.474800e+01</td>\n      <td>3.391827</td>\n      <td>-1.079142</td>\n      <td>0.280525</td>\n      <td>0.999935</td>\n    </tr>\n    <tr>\n      <th>CHMP3</th>\n      <td>6.942525</td>\n      <td>-4.474800e+01</td>\n      <td>0.527810</td>\n      <td>-0.090474</td>\n      <td>0.927910</td>\n      <td>0.999935</td>\n    </tr>\n    <tr>\n      <th>CNEP1R1</th>\n      <td>1.755229</td>\n      <td>2.540392e-07</td>\n      <td>0.001167</td>\n      <td>0.393476</td>\n      <td>0.693968</td>\n      <td>0.999935</td>\n    </tr>\n    <tr>\n      <th>...</th>\n      <td>...</td>\n      <td>...</td>\n      <td>...</td>\n      <td>...</td>\n      <td>...</td>\n      <td>...</td>\n    </tr>\n    <tr>\n      <th>ZSWIM6</th>\n      <td>1.373032</td>\n      <td>1.220094e-07</td>\n      <td>0.001154</td>\n      <td>0.284153</td>\n      <td>0.776293</td>\n      <td>0.999935</td>\n    </tr>\n    <tr>\n      <th>ZSWIM7</th>\n      <td>3.309607</td>\n      <td>4.362185e-08</td>\n      <td>0.001127</td>\n      <td>0.070737</td>\n      <td>0.943607</td>\n      <td>0.999935</td>\n    </tr>\n    <tr>\n      <th>ZYG11B</th>\n      <td>1.782630</td>\n      <td>1.035926e-07</td>\n      <td>0.001138</td>\n      <td>0.163746</td>\n      <td>0.869931</td>\n      <td>0.999935</td>\n    </tr>\n    <tr>\n      <th>ZYX</th>\n      <td>8.059483</td>\n      <td>-3.416025e-07</td>\n      <td>0.001084</td>\n      <td>-0.532350</td>\n      <td>0.594484</td>\n      <td>0.999935</td>\n    </tr>\n    <tr>\n      <th>ZZEF1</th>\n      <td>3.417447</td>\n      <td>-3.855790e-07</td>\n      <td>0.001115</td>\n      <td>-0.379783</td>\n      <td>0.704106</td>\n      <td>0.999935</td>\n    </tr>\n  </tbody>\n</table>\n<p>1283 rows × 6 columns</p>\n</div>"
     },
     "metadata": {},
     "output_type": "display_data"
    },
    {
     "name": "stderr",
     "output_type": "stream",
     "text": [
      "\u001B[32m2024-02-24 16:28:48.481\u001B[0m | \u001B[1mINFO    \u001B[0m | \u001B[36mrectanglepy.pp.create_signature\u001B[0m:\u001B[36m_run_deseq2\u001B[0m:\u001B[36m139\u001B[0m - \u001B[1mRunning DE analysis for 5\u001B[0m\n"
     ]
    },
    {
     "name": "stdout",
     "output_type": "stream",
     "text": [
      "Log2 fold change & Wald test p-value: condition 1.0 vs 0.0\n"
     ]
    },
    {
     "data": {
      "text/plain": "         baseMean  log2FoldChange     lfcSE      stat    pvalue      padj\nALYREF   3.217992        0.659312  1.251940  0.526632  0.598449  0.998531\nCAPN15   2.091377        0.245691  1.384748  0.177426  0.859173  0.998531\nCHAMP1   1.247325        1.213162  1.811947  0.669535  0.503154  0.998531\nCHMP3    6.942525        0.362694  0.895115  0.405192  0.685336  0.998531\nCNEP1R1  1.755229       -1.638180  1.901180 -0.861665  0.388872  0.998531\n...           ...             ...       ...       ...       ...       ...\nZSWIM6   1.373032        0.788000  2.262727  0.348252  0.727651  0.998531\nZSWIM7   3.309607       -2.808062  1.958195 -1.434005  0.151571  0.998531\nZYG11B   1.782630       -1.904935  1.966940 -0.968476  0.332807  0.998531\nZYX      8.059483       -1.116790  1.402110 -0.796507  0.425737  0.998531\nZZEF1    3.417447       -0.321721  1.273359 -0.252655  0.800535  0.998531\n\n[1283 rows x 6 columns]",
      "text/html": "<div>\n<style scoped>\n    .dataframe tbody tr th:only-of-type {\n        vertical-align: middle;\n    }\n\n    .dataframe tbody tr th {\n        vertical-align: top;\n    }\n\n    .dataframe thead th {\n        text-align: right;\n    }\n</style>\n<table border=\"1\" class=\"dataframe\">\n  <thead>\n    <tr style=\"text-align: right;\">\n      <th></th>\n      <th>baseMean</th>\n      <th>log2FoldChange</th>\n      <th>lfcSE</th>\n      <th>stat</th>\n      <th>pvalue</th>\n      <th>padj</th>\n    </tr>\n  </thead>\n  <tbody>\n    <tr>\n      <th>ALYREF</th>\n      <td>3.217992</td>\n      <td>0.659312</td>\n      <td>1.251940</td>\n      <td>0.526632</td>\n      <td>0.598449</td>\n      <td>0.998531</td>\n    </tr>\n    <tr>\n      <th>CAPN15</th>\n      <td>2.091377</td>\n      <td>0.245691</td>\n      <td>1.384748</td>\n      <td>0.177426</td>\n      <td>0.859173</td>\n      <td>0.998531</td>\n    </tr>\n    <tr>\n      <th>CHAMP1</th>\n      <td>1.247325</td>\n      <td>1.213162</td>\n      <td>1.811947</td>\n      <td>0.669535</td>\n      <td>0.503154</td>\n      <td>0.998531</td>\n    </tr>\n    <tr>\n      <th>CHMP3</th>\n      <td>6.942525</td>\n      <td>0.362694</td>\n      <td>0.895115</td>\n      <td>0.405192</td>\n      <td>0.685336</td>\n      <td>0.998531</td>\n    </tr>\n    <tr>\n      <th>CNEP1R1</th>\n      <td>1.755229</td>\n      <td>-1.638180</td>\n      <td>1.901180</td>\n      <td>-0.861665</td>\n      <td>0.388872</td>\n      <td>0.998531</td>\n    </tr>\n    <tr>\n      <th>...</th>\n      <td>...</td>\n      <td>...</td>\n      <td>...</td>\n      <td>...</td>\n      <td>...</td>\n      <td>...</td>\n    </tr>\n    <tr>\n      <th>ZSWIM6</th>\n      <td>1.373032</td>\n      <td>0.788000</td>\n      <td>2.262727</td>\n      <td>0.348252</td>\n      <td>0.727651</td>\n      <td>0.998531</td>\n    </tr>\n    <tr>\n      <th>ZSWIM7</th>\n      <td>3.309607</td>\n      <td>-2.808062</td>\n      <td>1.958195</td>\n      <td>-1.434005</td>\n      <td>0.151571</td>\n      <td>0.998531</td>\n    </tr>\n    <tr>\n      <th>ZYG11B</th>\n      <td>1.782630</td>\n      <td>-1.904935</td>\n      <td>1.966940</td>\n      <td>-0.968476</td>\n      <td>0.332807</td>\n      <td>0.998531</td>\n    </tr>\n    <tr>\n      <th>ZYX</th>\n      <td>8.059483</td>\n      <td>-1.116790</td>\n      <td>1.402110</td>\n      <td>-0.796507</td>\n      <td>0.425737</td>\n      <td>0.998531</td>\n    </tr>\n    <tr>\n      <th>ZZEF1</th>\n      <td>3.417447</td>\n      <td>-0.321721</td>\n      <td>1.273359</td>\n      <td>-0.252655</td>\n      <td>0.800535</td>\n      <td>0.998531</td>\n    </tr>\n  </tbody>\n</table>\n<p>1283 rows × 6 columns</p>\n</div>"
     },
     "metadata": {},
     "output_type": "display_data"
    },
    {
     "name": "stderr",
     "output_type": "stream",
     "text": [
      "/Users/berni/miniforge3/envs/Rectangle/lib/python3.10/site-packages/pydeseq2/ds.py:414: RuntimeWarning: divide by zero encountered in divide\n",
      "  size = 1.0 / self.dds.varm[\"dispersions\"]\n",
      "/Users/berni/miniforge3/envs/Rectangle/lib/python3.10/site-packages/pydeseq2/utils.py:1198: RuntimeWarning: invalid value encountered in scalar divide\n",
      "  nbinomFn(\n",
      "/Users/berni/miniforge3/envs/Rectangle/lib/python3.10/site-packages/pydeseq2/utils.py:1220: RuntimeWarning: invalid value encountered in divide\n",
      "  counts - (counts + size) / (1 + size * np.exp(-xbeta - offset))\n",
      "/Users/berni/miniforge3/envs/Rectangle/lib/python3.10/site-packages/pydeseq2/grid_search.py:287: RuntimeWarning: invalid value encountered in scalar divide\n",
      "  pydeseq2.utils.nbinomFn(\n",
      "/Users/berni/miniforge3/envs/Rectangle/lib/python3.10/site-packages/pydeseq2/utils.py:1198: RuntimeWarning: invalid value encountered in scalar divide\n",
      "  nbinomFn(\n",
      "/Users/berni/miniforge3/envs/Rectangle/lib/python3.10/site-packages/pydeseq2/utils.py:1220: RuntimeWarning: invalid value encountered in divide\n",
      "  counts - (counts + size) / (1 + size * np.exp(-xbeta - offset))\n",
      "/Users/berni/miniforge3/envs/Rectangle/lib/python3.10/site-packages/pydeseq2/grid_search.py:287: RuntimeWarning: invalid value encountered in scalar divide\n",
      "  pydeseq2.utils.nbinomFn(\n",
      "/Users/berni/miniforge3/envs/Rectangle/lib/python3.10/site-packages/pydeseq2/utils.py:1198: RuntimeWarning: invalid value encountered in scalar divide\n",
      "  nbinomFn(\n",
      "/Users/berni/miniforge3/envs/Rectangle/lib/python3.10/site-packages/pydeseq2/utils.py:1220: RuntimeWarning: invalid value encountered in divide\n",
      "  counts - (counts + size) / (1 + size * np.exp(-xbeta - offset))\n",
      "/Users/berni/miniforge3/envs/Rectangle/lib/python3.10/site-packages/pydeseq2/utils.py:1198: RuntimeWarning: invalid value encountered in scalar divide\n",
      "  nbinomFn(\n",
      "/Users/berni/miniforge3/envs/Rectangle/lib/python3.10/site-packages/pydeseq2/utils.py:1220: RuntimeWarning: invalid value encountered in divide\n",
      "  counts - (counts + size) / (1 + size * np.exp(-xbeta - offset))\n",
      "/Users/berni/miniforge3/envs/Rectangle/lib/python3.10/site-packages/pydeseq2/grid_search.py:287: RuntimeWarning: invalid value encountered in scalar divide\n",
      "  pydeseq2.utils.nbinomFn(\n",
      "/Users/berni/miniforge3/envs/Rectangle/lib/python3.10/site-packages/pydeseq2/grid_search.py:287: RuntimeWarning: invalid value encountered in scalar divide\n",
      "  pydeseq2.utils.nbinomFn(\n",
      "/Users/berni/miniforge3/envs/Rectangle/lib/python3.10/site-packages/pydeseq2/utils.py:1198: RuntimeWarning: invalid value encountered in scalar divide\n",
      "  nbinomFn(\n",
      "/Users/berni/miniforge3/envs/Rectangle/lib/python3.10/site-packages/pydeseq2/utils.py:1220: RuntimeWarning: invalid value encountered in divide\n",
      "  counts - (counts + size) / (1 + size * np.exp(-xbeta - offset))\n",
      "/Users/berni/miniforge3/envs/Rectangle/lib/python3.10/site-packages/pydeseq2/grid_search.py:287: RuntimeWarning: invalid value encountered in scalar divide\n",
      "  pydeseq2.utils.nbinomFn(\n",
      "/Users/berni/miniforge3/envs/Rectangle/lib/python3.10/site-packages/pydeseq2/utils.py:1198: RuntimeWarning: invalid value encountered in scalar divide\n",
      "  nbinomFn(\n",
      "/Users/berni/miniforge3/envs/Rectangle/lib/python3.10/site-packages/pydeseq2/utils.py:1220: RuntimeWarning: invalid value encountered in divide\n",
      "  counts - (counts + size) / (1 + size * np.exp(-xbeta - offset))\n",
      "/Users/berni/miniforge3/envs/Rectangle/lib/python3.10/site-packages/pydeseq2/grid_search.py:287: RuntimeWarning: invalid value encountered in scalar divide\n",
      "  pydeseq2.utils.nbinomFn(\n",
      "/Users/berni/miniforge3/envs/Rectangle/lib/python3.10/site-packages/pydeseq2/utils.py:1198: RuntimeWarning: invalid value encountered in scalar divide\n",
      "  nbinomFn(\n",
      "/Users/berni/miniforge3/envs/Rectangle/lib/python3.10/site-packages/pydeseq2/utils.py:1220: RuntimeWarning: invalid value encountered in divide\n",
      "  counts - (counts + size) / (1 + size * np.exp(-xbeta - offset))\n",
      "/Users/berni/miniforge3/envs/Rectangle/lib/python3.10/site-packages/pydeseq2/grid_search.py:287: RuntimeWarning: invalid value encountered in scalar divide\n",
      "  pydeseq2.utils.nbinomFn(\n",
      "/Users/berni/miniforge3/envs/Rectangle/lib/python3.10/site-packages/pydeseq2/utils.py:1198: RuntimeWarning: invalid value encountered in scalar divide\n",
      "  nbinomFn(\n",
      "/Users/berni/miniforge3/envs/Rectangle/lib/python3.10/site-packages/pydeseq2/utils.py:1220: RuntimeWarning: invalid value encountered in divide\n",
      "  counts - (counts + size) / (1 + size * np.exp(-xbeta - offset))\n",
      "/Users/berni/miniforge3/envs/Rectangle/lib/python3.10/site-packages/pydeseq2/grid_search.py:287: RuntimeWarning: invalid value encountered in scalar divide\n",
      "  pydeseq2.utils.nbinomFn(\n",
      "/Users/berni/miniforge3/envs/Rectangle/lib/python3.10/site-packages/pydeseq2/utils.py:1230: RuntimeWarning: invalid value encountered in divide\n",
      "  frac = (counts + size) * size * exp_xbeta_off / (size + exp_xbeta_off) ** 2\n",
      "/Users/berni/miniforge3/envs/Rectangle/lib/python3.10/site-packages/pydeseq2/utils.py:1230: RuntimeWarning: invalid value encountered in divide\n",
      "  frac = (counts + size) * size * exp_xbeta_off / (size + exp_xbeta_off) ** 2\n",
      "/Users/berni/miniforge3/envs/Rectangle/lib/python3.10/site-packages/pydeseq2/utils.py:1230: RuntimeWarning: invalid value encountered in divide\n",
      "  frac = (counts + size) * size * exp_xbeta_off / (size + exp_xbeta_off) ** 2\n",
      "/Users/berni/miniforge3/envs/Rectangle/lib/python3.10/site-packages/pydeseq2/utils.py:1230: RuntimeWarning: invalid value encountered in divide\n",
      "  frac = (counts + size) * size * exp_xbeta_off / (size + exp_xbeta_off) ** 2\n",
      "/Users/berni/miniforge3/envs/Rectangle/lib/python3.10/site-packages/pydeseq2/utils.py:1230: RuntimeWarning: invalid value encountered in divide\n",
      "  frac = (counts + size) * size * exp_xbeta_off / (size + exp_xbeta_off) ** 2\n",
      "/Users/berni/miniforge3/envs/Rectangle/lib/python3.10/site-packages/pydeseq2/utils.py:1230: RuntimeWarning: invalid value encountered in divide\n",
      "  frac = (counts + size) * size * exp_xbeta_off / (size + exp_xbeta_off) ** 2\n",
      "/Users/berni/miniforge3/envs/Rectangle/lib/python3.10/site-packages/pydeseq2/utils.py:1230: RuntimeWarning: invalid value encountered in divide\n",
      "  frac = (counts + size) * size * exp_xbeta_off / (size + exp_xbeta_off) ** 2\n",
      "/Users/berni/miniforge3/envs/Rectangle/lib/python3.10/site-packages/pydeseq2/utils.py:1230: RuntimeWarning: invalid value encountered in divide\n",
      "  frac = (counts + size) * size * exp_xbeta_off / (size + exp_xbeta_off) ** 2\n"
     ]
    },
    {
     "name": "stdout",
     "output_type": "stream",
     "text": [
      "Shrunk log2 fold change & Wald test p-value: condition 1.0 vs 0.0\n"
     ]
    },
    {
     "data": {
      "text/plain": "         baseMean  log2FoldChange     lfcSE      stat    pvalue      padj\nALYREF   3.217992        0.004405  0.113279  0.526632  0.598449  0.998531\nCAPN15   2.091377        0.001256  0.111535  0.177426  0.859173  0.998531\nCHAMP1   1.247325        0.004037  0.118017  0.669535  0.503154  0.998531\nCHMP3    6.942525        0.004520  0.111291  0.405192  0.685336  0.998531\nCNEP1R1  1.755229       -0.004694  0.105956 -0.861665  0.388872  0.998531\n...           ...             ...       ...       ...       ...       ...\nZSWIM6   1.373032        0.001721  0.113421  0.348252  0.727651  0.998531\nZSWIM7   3.309607       -0.006779  0.101929 -1.434005  0.151571  0.998531\nZYG11B   1.782630       -0.004909  0.104015 -0.968476  0.332807  0.998531\nZYX      8.059483       -0.004582  0.103639 -0.796507  0.425737  0.998531\nZZEF1    3.417447       -0.001874  0.107563 -0.252655  0.800535  0.998531\n\n[1283 rows x 6 columns]",
      "text/html": "<div>\n<style scoped>\n    .dataframe tbody tr th:only-of-type {\n        vertical-align: middle;\n    }\n\n    .dataframe tbody tr th {\n        vertical-align: top;\n    }\n\n    .dataframe thead th {\n        text-align: right;\n    }\n</style>\n<table border=\"1\" class=\"dataframe\">\n  <thead>\n    <tr style=\"text-align: right;\">\n      <th></th>\n      <th>baseMean</th>\n      <th>log2FoldChange</th>\n      <th>lfcSE</th>\n      <th>stat</th>\n      <th>pvalue</th>\n      <th>padj</th>\n    </tr>\n  </thead>\n  <tbody>\n    <tr>\n      <th>ALYREF</th>\n      <td>3.217992</td>\n      <td>0.004405</td>\n      <td>0.113279</td>\n      <td>0.526632</td>\n      <td>0.598449</td>\n      <td>0.998531</td>\n    </tr>\n    <tr>\n      <th>CAPN15</th>\n      <td>2.091377</td>\n      <td>0.001256</td>\n      <td>0.111535</td>\n      <td>0.177426</td>\n      <td>0.859173</td>\n      <td>0.998531</td>\n    </tr>\n    <tr>\n      <th>CHAMP1</th>\n      <td>1.247325</td>\n      <td>0.004037</td>\n      <td>0.118017</td>\n      <td>0.669535</td>\n      <td>0.503154</td>\n      <td>0.998531</td>\n    </tr>\n    <tr>\n      <th>CHMP3</th>\n      <td>6.942525</td>\n      <td>0.004520</td>\n      <td>0.111291</td>\n      <td>0.405192</td>\n      <td>0.685336</td>\n      <td>0.998531</td>\n    </tr>\n    <tr>\n      <th>CNEP1R1</th>\n      <td>1.755229</td>\n      <td>-0.004694</td>\n      <td>0.105956</td>\n      <td>-0.861665</td>\n      <td>0.388872</td>\n      <td>0.998531</td>\n    </tr>\n    <tr>\n      <th>...</th>\n      <td>...</td>\n      <td>...</td>\n      <td>...</td>\n      <td>...</td>\n      <td>...</td>\n      <td>...</td>\n    </tr>\n    <tr>\n      <th>ZSWIM6</th>\n      <td>1.373032</td>\n      <td>0.001721</td>\n      <td>0.113421</td>\n      <td>0.348252</td>\n      <td>0.727651</td>\n      <td>0.998531</td>\n    </tr>\n    <tr>\n      <th>ZSWIM7</th>\n      <td>3.309607</td>\n      <td>-0.006779</td>\n      <td>0.101929</td>\n      <td>-1.434005</td>\n      <td>0.151571</td>\n      <td>0.998531</td>\n    </tr>\n    <tr>\n      <th>ZYG11B</th>\n      <td>1.782630</td>\n      <td>-0.004909</td>\n      <td>0.104015</td>\n      <td>-0.968476</td>\n      <td>0.332807</td>\n      <td>0.998531</td>\n    </tr>\n    <tr>\n      <th>ZYX</th>\n      <td>8.059483</td>\n      <td>-0.004582</td>\n      <td>0.103639</td>\n      <td>-0.796507</td>\n      <td>0.425737</td>\n      <td>0.998531</td>\n    </tr>\n    <tr>\n      <th>ZZEF1</th>\n      <td>3.417447</td>\n      <td>-0.001874</td>\n      <td>0.107563</td>\n      <td>-0.252655</td>\n      <td>0.800535</td>\n      <td>0.998531</td>\n    </tr>\n  </tbody>\n</table>\n<p>1283 rows × 6 columns</p>\n</div>"
     },
     "metadata": {},
     "output_type": "display_data"
    },
    {
     "name": "stderr",
     "output_type": "stream",
     "text": [
      "\u001B[32m2024-02-24 16:28:50.836\u001B[0m | \u001B[1mINFO    \u001B[0m | \u001B[36mrectanglepy.pp.create_signature\u001B[0m:\u001B[36m_run_deseq2\u001B[0m:\u001B[36m139\u001B[0m - \u001B[1mRunning DE analysis for NK cells\u001B[0m\n"
     ]
    },
    {
     "name": "stdout",
     "output_type": "stream",
     "text": [
      "Log2 fold change & Wald test p-value: condition 1.0 vs 0.0\n"
     ]
    },
    {
     "data": {
      "text/plain": "         baseMean  log2FoldChange     lfcSE      stat    pvalue      padj\nALYREF   3.217992       -3.844638  3.464128 -1.109843  0.267067  0.991956\nCAPN15   2.091377        0.606942  1.501459  0.404235  0.686040  0.991956\nCHAMP1   1.247325        0.152781  1.725550  0.088541  0.929447  0.991956\nCHMP3    6.942525        0.903560  0.553549  1.632303  0.102616  0.991956\nCNEP1R1  1.755229       -2.741121  3.569224 -0.767988  0.442494  0.991956\n...           ...             ...       ...       ...       ...       ...\nZSWIM6   1.373032       -2.867933  3.570487 -0.803233  0.421840  0.991956\nZSWIM7   3.309607        0.444494  1.818206  0.244469  0.806868  0.991956\nZYG11B   1.782630       -0.405686  2.018813 -0.200953  0.840736  0.991956\nZYX      8.059483       -0.985216  1.592206 -0.618774  0.536065  0.991956\nZZEF1    3.417447        0.366589  1.344527  0.272653  0.785120  0.991956\n\n[1283 rows x 6 columns]",
      "text/html": "<div>\n<style scoped>\n    .dataframe tbody tr th:only-of-type {\n        vertical-align: middle;\n    }\n\n    .dataframe tbody tr th {\n        vertical-align: top;\n    }\n\n    .dataframe thead th {\n        text-align: right;\n    }\n</style>\n<table border=\"1\" class=\"dataframe\">\n  <thead>\n    <tr style=\"text-align: right;\">\n      <th></th>\n      <th>baseMean</th>\n      <th>log2FoldChange</th>\n      <th>lfcSE</th>\n      <th>stat</th>\n      <th>pvalue</th>\n      <th>padj</th>\n    </tr>\n  </thead>\n  <tbody>\n    <tr>\n      <th>ALYREF</th>\n      <td>3.217992</td>\n      <td>-3.844638</td>\n      <td>3.464128</td>\n      <td>-1.109843</td>\n      <td>0.267067</td>\n      <td>0.991956</td>\n    </tr>\n    <tr>\n      <th>CAPN15</th>\n      <td>2.091377</td>\n      <td>0.606942</td>\n      <td>1.501459</td>\n      <td>0.404235</td>\n      <td>0.686040</td>\n      <td>0.991956</td>\n    </tr>\n    <tr>\n      <th>CHAMP1</th>\n      <td>1.247325</td>\n      <td>0.152781</td>\n      <td>1.725550</td>\n      <td>0.088541</td>\n      <td>0.929447</td>\n      <td>0.991956</td>\n    </tr>\n    <tr>\n      <th>CHMP3</th>\n      <td>6.942525</td>\n      <td>0.903560</td>\n      <td>0.553549</td>\n      <td>1.632303</td>\n      <td>0.102616</td>\n      <td>0.991956</td>\n    </tr>\n    <tr>\n      <th>CNEP1R1</th>\n      <td>1.755229</td>\n      <td>-2.741121</td>\n      <td>3.569224</td>\n      <td>-0.767988</td>\n      <td>0.442494</td>\n      <td>0.991956</td>\n    </tr>\n    <tr>\n      <th>...</th>\n      <td>...</td>\n      <td>...</td>\n      <td>...</td>\n      <td>...</td>\n      <td>...</td>\n      <td>...</td>\n    </tr>\n    <tr>\n      <th>ZSWIM6</th>\n      <td>1.373032</td>\n      <td>-2.867933</td>\n      <td>3.570487</td>\n      <td>-0.803233</td>\n      <td>0.421840</td>\n      <td>0.991956</td>\n    </tr>\n    <tr>\n      <th>ZSWIM7</th>\n      <td>3.309607</td>\n      <td>0.444494</td>\n      <td>1.818206</td>\n      <td>0.244469</td>\n      <td>0.806868</td>\n      <td>0.991956</td>\n    </tr>\n    <tr>\n      <th>ZYG11B</th>\n      <td>1.782630</td>\n      <td>-0.405686</td>\n      <td>2.018813</td>\n      <td>-0.200953</td>\n      <td>0.840736</td>\n      <td>0.991956</td>\n    </tr>\n    <tr>\n      <th>ZYX</th>\n      <td>8.059483</td>\n      <td>-0.985216</td>\n      <td>1.592206</td>\n      <td>-0.618774</td>\n      <td>0.536065</td>\n      <td>0.991956</td>\n    </tr>\n    <tr>\n      <th>ZZEF1</th>\n      <td>3.417447</td>\n      <td>0.366589</td>\n      <td>1.344527</td>\n      <td>0.272653</td>\n      <td>0.785120</td>\n      <td>0.991956</td>\n    </tr>\n  </tbody>\n</table>\n<p>1283 rows × 6 columns</p>\n</div>"
     },
     "metadata": {},
     "output_type": "display_data"
    },
    {
     "name": "stderr",
     "output_type": "stream",
     "text": [
      "/Users/berni/miniforge3/envs/Rectangle/lib/python3.10/site-packages/pydeseq2/ds.py:414: RuntimeWarning: divide by zero encountered in divide\n",
      "  size = 1.0 / self.dds.varm[\"dispersions\"]\n",
      "/Users/berni/miniforge3/envs/Rectangle/lib/python3.10/site-packages/pydeseq2/utils.py:1198: RuntimeWarning: invalid value encountered in scalar divide\n",
      "  nbinomFn(\n",
      "/Users/berni/miniforge3/envs/Rectangle/lib/python3.10/site-packages/pydeseq2/utils.py:1220: RuntimeWarning: invalid value encountered in divide\n",
      "  counts - (counts + size) / (1 + size * np.exp(-xbeta - offset))\n",
      "/Users/berni/miniforge3/envs/Rectangle/lib/python3.10/site-packages/pydeseq2/grid_search.py:287: RuntimeWarning: invalid value encountered in scalar divide\n",
      "  pydeseq2.utils.nbinomFn(\n",
      "/Users/berni/miniforge3/envs/Rectangle/lib/python3.10/site-packages/pydeseq2/utils.py:1198: RuntimeWarning: invalid value encountered in scalar divide\n",
      "  nbinomFn(\n",
      "/Users/berni/miniforge3/envs/Rectangle/lib/python3.10/site-packages/pydeseq2/utils.py:1220: RuntimeWarning: invalid value encountered in divide\n",
      "  counts - (counts + size) / (1 + size * np.exp(-xbeta - offset))\n",
      "/Users/berni/miniforge3/envs/Rectangle/lib/python3.10/site-packages/pydeseq2/grid_search.py:287: RuntimeWarning: invalid value encountered in scalar divide\n",
      "  pydeseq2.utils.nbinomFn(\n",
      "/Users/berni/miniforge3/envs/Rectangle/lib/python3.10/site-packages/pydeseq2/utils.py:1198: RuntimeWarning: invalid value encountered in scalar divide\n",
      "  nbinomFn(\n",
      "/Users/berni/miniforge3/envs/Rectangle/lib/python3.10/site-packages/pydeseq2/utils.py:1220: RuntimeWarning: invalid value encountered in divide\n",
      "  counts - (counts + size) / (1 + size * np.exp(-xbeta - offset))\n",
      "/Users/berni/miniforge3/envs/Rectangle/lib/python3.10/site-packages/pydeseq2/grid_search.py:287: RuntimeWarning: invalid value encountered in scalar divide\n",
      "  pydeseq2.utils.nbinomFn(\n",
      "/Users/berni/miniforge3/envs/Rectangle/lib/python3.10/site-packages/pydeseq2/utils.py:1198: RuntimeWarning: invalid value encountered in scalar divide\n",
      "  nbinomFn(\n",
      "/Users/berni/miniforge3/envs/Rectangle/lib/python3.10/site-packages/pydeseq2/utils.py:1220: RuntimeWarning: invalid value encountered in divide\n",
      "  counts - (counts + size) / (1 + size * np.exp(-xbeta - offset))\n",
      "/Users/berni/miniforge3/envs/Rectangle/lib/python3.10/site-packages/pydeseq2/grid_search.py:287: RuntimeWarning: invalid value encountered in scalar divide\n",
      "  pydeseq2.utils.nbinomFn(\n",
      "/Users/berni/miniforge3/envs/Rectangle/lib/python3.10/site-packages/pydeseq2/utils.py:1198: RuntimeWarning: invalid value encountered in scalar divide\n",
      "  nbinomFn(\n",
      "/Users/berni/miniforge3/envs/Rectangle/lib/python3.10/site-packages/pydeseq2/utils.py:1220: RuntimeWarning: invalid value encountered in divide\n",
      "  counts - (counts + size) / (1 + size * np.exp(-xbeta - offset))\n",
      "/Users/berni/miniforge3/envs/Rectangle/lib/python3.10/site-packages/pydeseq2/grid_search.py:287: RuntimeWarning: invalid value encountered in scalar divide\n",
      "  pydeseq2.utils.nbinomFn(\n",
      "/Users/berni/miniforge3/envs/Rectangle/lib/python3.10/site-packages/pydeseq2/utils.py:1198: RuntimeWarning: invalid value encountered in scalar divide\n",
      "  nbinomFn(\n",
      "/Users/berni/miniforge3/envs/Rectangle/lib/python3.10/site-packages/pydeseq2/utils.py:1220: RuntimeWarning: invalid value encountered in divide\n",
      "  counts - (counts + size) / (1 + size * np.exp(-xbeta - offset))\n",
      "/Users/berni/miniforge3/envs/Rectangle/lib/python3.10/site-packages/pydeseq2/grid_search.py:287: RuntimeWarning: invalid value encountered in scalar divide\n",
      "  pydeseq2.utils.nbinomFn(\n",
      "/Users/berni/miniforge3/envs/Rectangle/lib/python3.10/site-packages/pydeseq2/utils.py:1198: RuntimeWarning: invalid value encountered in scalar divide\n",
      "  nbinomFn(\n",
      "/Users/berni/miniforge3/envs/Rectangle/lib/python3.10/site-packages/pydeseq2/utils.py:1220: RuntimeWarning: invalid value encountered in divide\n",
      "  counts - (counts + size) / (1 + size * np.exp(-xbeta - offset))\n",
      "/Users/berni/miniforge3/envs/Rectangle/lib/python3.10/site-packages/pydeseq2/grid_search.py:287: RuntimeWarning: invalid value encountered in scalar divide\n",
      "  pydeseq2.utils.nbinomFn(\n",
      "/Users/berni/miniforge3/envs/Rectangle/lib/python3.10/site-packages/pydeseq2/utils.py:1198: RuntimeWarning: invalid value encountered in scalar divide\n",
      "  nbinomFn(\n",
      "/Users/berni/miniforge3/envs/Rectangle/lib/python3.10/site-packages/pydeseq2/utils.py:1220: RuntimeWarning: invalid value encountered in divide\n",
      "  counts - (counts + size) / (1 + size * np.exp(-xbeta - offset))\n",
      "/Users/berni/miniforge3/envs/Rectangle/lib/python3.10/site-packages/pydeseq2/grid_search.py:287: RuntimeWarning: invalid value encountered in scalar divide\n",
      "  pydeseq2.utils.nbinomFn(\n",
      "/Users/berni/miniforge3/envs/Rectangle/lib/python3.10/site-packages/pydeseq2/utils.py:1230: RuntimeWarning: invalid value encountered in divide\n",
      "  frac = (counts + size) * size * exp_xbeta_off / (size + exp_xbeta_off) ** 2\n",
      "/Users/berni/miniforge3/envs/Rectangle/lib/python3.10/site-packages/pydeseq2/utils.py:1230: RuntimeWarning: invalid value encountered in divide\n",
      "  frac = (counts + size) * size * exp_xbeta_off / (size + exp_xbeta_off) ** 2\n",
      "/Users/berni/miniforge3/envs/Rectangle/lib/python3.10/site-packages/pydeseq2/utils.py:1230: RuntimeWarning: invalid value encountered in divide\n",
      "  frac = (counts + size) * size * exp_xbeta_off / (size + exp_xbeta_off) ** 2\n",
      "/Users/berni/miniforge3/envs/Rectangle/lib/python3.10/site-packages/pydeseq2/utils.py:1230: RuntimeWarning: invalid value encountered in divide\n",
      "  frac = (counts + size) * size * exp_xbeta_off / (size + exp_xbeta_off) ** 2\n",
      "/Users/berni/miniforge3/envs/Rectangle/lib/python3.10/site-packages/pydeseq2/utils.py:1230: RuntimeWarning: invalid value encountered in divide\n",
      "  frac = (counts + size) * size * exp_xbeta_off / (size + exp_xbeta_off) ** 2\n",
      "/Users/berni/miniforge3/envs/Rectangle/lib/python3.10/site-packages/pydeseq2/utils.py:1230: RuntimeWarning: invalid value encountered in divide\n",
      "  frac = (counts + size) * size * exp_xbeta_off / (size + exp_xbeta_off) ** 2\n",
      "/Users/berni/miniforge3/envs/Rectangle/lib/python3.10/site-packages/pydeseq2/utils.py:1230: RuntimeWarning: invalid value encountered in divide\n",
      "  frac = (counts + size) * size * exp_xbeta_off / (size + exp_xbeta_off) ** 2\n",
      "/Users/berni/miniforge3/envs/Rectangle/lib/python3.10/site-packages/pydeseq2/utils.py:1230: RuntimeWarning: invalid value encountered in divide\n",
      "  frac = (counts + size) * size * exp_xbeta_off / (size + exp_xbeta_off) ** 2\n"
     ]
    },
    {
     "name": "stdout",
     "output_type": "stream",
     "text": [
      "Shrunk log2 fold change & Wald test p-value: condition 1.0 vs 0.0\n"
     ]
    },
    {
     "data": {
      "text/plain": "         baseMean  log2FoldChange     lfcSE      stat    pvalue      padj\nALYREF   3.217992       -0.000113  0.010882 -1.109843  0.267067  0.991956\nCAPN15   2.091377        0.000029  0.011325  0.404235  0.686040  0.991956\nCHAMP1   1.247325        0.000005  0.011068  0.088541  0.929447  0.991956\nCHMP3    6.942525      -44.747999  0.553549  1.632303  0.102616  0.991956\nCNEP1R1  1.755229       -0.000053  0.010916 -0.767988  0.442494  0.991956\n...           ...             ...       ...       ...       ...       ...\nZSWIM6   1.373032       -0.000056  0.010843 -0.803233  0.421840  0.991956\nZSWIM7   3.309607        0.000016  0.011489  0.244469  0.806868  0.991956\nZYG11B   1.782630       -0.000011  0.011106 -0.200953  0.840736  0.991956\nZYX      8.059483       -0.000038  0.010987 -0.618774  0.536065  0.991956\nZZEF1    3.417447        0.000023  0.011313  0.272653  0.785120  0.991956\n\n[1283 rows x 6 columns]",
      "text/html": "<div>\n<style scoped>\n    .dataframe tbody tr th:only-of-type {\n        vertical-align: middle;\n    }\n\n    .dataframe tbody tr th {\n        vertical-align: top;\n    }\n\n    .dataframe thead th {\n        text-align: right;\n    }\n</style>\n<table border=\"1\" class=\"dataframe\">\n  <thead>\n    <tr style=\"text-align: right;\">\n      <th></th>\n      <th>baseMean</th>\n      <th>log2FoldChange</th>\n      <th>lfcSE</th>\n      <th>stat</th>\n      <th>pvalue</th>\n      <th>padj</th>\n    </tr>\n  </thead>\n  <tbody>\n    <tr>\n      <th>ALYREF</th>\n      <td>3.217992</td>\n      <td>-0.000113</td>\n      <td>0.010882</td>\n      <td>-1.109843</td>\n      <td>0.267067</td>\n      <td>0.991956</td>\n    </tr>\n    <tr>\n      <th>CAPN15</th>\n      <td>2.091377</td>\n      <td>0.000029</td>\n      <td>0.011325</td>\n      <td>0.404235</td>\n      <td>0.686040</td>\n      <td>0.991956</td>\n    </tr>\n    <tr>\n      <th>CHAMP1</th>\n      <td>1.247325</td>\n      <td>0.000005</td>\n      <td>0.011068</td>\n      <td>0.088541</td>\n      <td>0.929447</td>\n      <td>0.991956</td>\n    </tr>\n    <tr>\n      <th>CHMP3</th>\n      <td>6.942525</td>\n      <td>-44.747999</td>\n      <td>0.553549</td>\n      <td>1.632303</td>\n      <td>0.102616</td>\n      <td>0.991956</td>\n    </tr>\n    <tr>\n      <th>CNEP1R1</th>\n      <td>1.755229</td>\n      <td>-0.000053</td>\n      <td>0.010916</td>\n      <td>-0.767988</td>\n      <td>0.442494</td>\n      <td>0.991956</td>\n    </tr>\n    <tr>\n      <th>...</th>\n      <td>...</td>\n      <td>...</td>\n      <td>...</td>\n      <td>...</td>\n      <td>...</td>\n      <td>...</td>\n    </tr>\n    <tr>\n      <th>ZSWIM6</th>\n      <td>1.373032</td>\n      <td>-0.000056</td>\n      <td>0.010843</td>\n      <td>-0.803233</td>\n      <td>0.421840</td>\n      <td>0.991956</td>\n    </tr>\n    <tr>\n      <th>ZSWIM7</th>\n      <td>3.309607</td>\n      <td>0.000016</td>\n      <td>0.011489</td>\n      <td>0.244469</td>\n      <td>0.806868</td>\n      <td>0.991956</td>\n    </tr>\n    <tr>\n      <th>ZYG11B</th>\n      <td>1.782630</td>\n      <td>-0.000011</td>\n      <td>0.011106</td>\n      <td>-0.200953</td>\n      <td>0.840736</td>\n      <td>0.991956</td>\n    </tr>\n    <tr>\n      <th>ZYX</th>\n      <td>8.059483</td>\n      <td>-0.000038</td>\n      <td>0.010987</td>\n      <td>-0.618774</td>\n      <td>0.536065</td>\n      <td>0.991956</td>\n    </tr>\n    <tr>\n      <th>ZZEF1</th>\n      <td>3.417447</td>\n      <td>0.000023</td>\n      <td>0.011313</td>\n      <td>0.272653</td>\n      <td>0.785120</td>\n      <td>0.991956</td>\n    </tr>\n  </tbody>\n</table>\n<p>1283 rows × 6 columns</p>\n</div>"
     },
     "metadata": {},
     "output_type": "display_data"
    },
    {
     "name": "stderr",
     "output_type": "stream",
     "text": [
      "\u001B[32m2024-02-24 16:28:53.608\u001B[0m | \u001B[1mINFO    \u001B[0m | \u001B[36mrectanglepy.pp.create_signature\u001B[0m:\u001B[36m_run_deseq2\u001B[0m:\u001B[36m139\u001B[0m - \u001B[1mRunning DE analysis for Plasma cells\u001B[0m\n"
     ]
    },
    {
     "name": "stdout",
     "output_type": "stream",
     "text": [
      "Log2 fold change & Wald test p-value: condition 1.0 vs 0.0\n"
     ]
    },
    {
     "data": {
      "text/plain": "         baseMean  log2FoldChange     lfcSE      stat    pvalue      padj\nALYREF   3.217992        0.007213  1.464331  0.004926  0.996070       NaN\nCAPN15   2.091377       -0.334850  1.791198 -0.186942  0.851706       NaN\nCHAMP1   1.247325        0.447668  2.163891  0.206881  0.836103       NaN\nCHMP3    6.942525       -1.119243  1.209177 -0.925623  0.354642  0.743059\nCNEP1R1  1.755229        0.100989  1.928137  0.052376  0.958229       NaN\n...           ...             ...       ...       ...       ...       ...\nZSWIM6   1.373032       -2.576221  3.758572 -0.685425  0.493076       NaN\nZSWIM7   3.309607       -1.151703  2.078928 -0.553989  0.579586       NaN\nZYG11B   1.782630       -2.814409  3.607292 -0.780200  0.435273       NaN\nZYX      8.059483       -2.473501  1.835901 -1.347295  0.177885  0.632132\nZZEF1    3.417447       -0.156388  1.255825 -0.124530  0.900895       NaN\n\n[1283 rows x 6 columns]",
      "text/html": "<div>\n<style scoped>\n    .dataframe tbody tr th:only-of-type {\n        vertical-align: middle;\n    }\n\n    .dataframe tbody tr th {\n        vertical-align: top;\n    }\n\n    .dataframe thead th {\n        text-align: right;\n    }\n</style>\n<table border=\"1\" class=\"dataframe\">\n  <thead>\n    <tr style=\"text-align: right;\">\n      <th></th>\n      <th>baseMean</th>\n      <th>log2FoldChange</th>\n      <th>lfcSE</th>\n      <th>stat</th>\n      <th>pvalue</th>\n      <th>padj</th>\n    </tr>\n  </thead>\n  <tbody>\n    <tr>\n      <th>ALYREF</th>\n      <td>3.217992</td>\n      <td>0.007213</td>\n      <td>1.464331</td>\n      <td>0.004926</td>\n      <td>0.996070</td>\n      <td>NaN</td>\n    </tr>\n    <tr>\n      <th>CAPN15</th>\n      <td>2.091377</td>\n      <td>-0.334850</td>\n      <td>1.791198</td>\n      <td>-0.186942</td>\n      <td>0.851706</td>\n      <td>NaN</td>\n    </tr>\n    <tr>\n      <th>CHAMP1</th>\n      <td>1.247325</td>\n      <td>0.447668</td>\n      <td>2.163891</td>\n      <td>0.206881</td>\n      <td>0.836103</td>\n      <td>NaN</td>\n    </tr>\n    <tr>\n      <th>CHMP3</th>\n      <td>6.942525</td>\n      <td>-1.119243</td>\n      <td>1.209177</td>\n      <td>-0.925623</td>\n      <td>0.354642</td>\n      <td>0.743059</td>\n    </tr>\n    <tr>\n      <th>CNEP1R1</th>\n      <td>1.755229</td>\n      <td>0.100989</td>\n      <td>1.928137</td>\n      <td>0.052376</td>\n      <td>0.958229</td>\n      <td>NaN</td>\n    </tr>\n    <tr>\n      <th>...</th>\n      <td>...</td>\n      <td>...</td>\n      <td>...</td>\n      <td>...</td>\n      <td>...</td>\n      <td>...</td>\n    </tr>\n    <tr>\n      <th>ZSWIM6</th>\n      <td>1.373032</td>\n      <td>-2.576221</td>\n      <td>3.758572</td>\n      <td>-0.685425</td>\n      <td>0.493076</td>\n      <td>NaN</td>\n    </tr>\n    <tr>\n      <th>ZSWIM7</th>\n      <td>3.309607</td>\n      <td>-1.151703</td>\n      <td>2.078928</td>\n      <td>-0.553989</td>\n      <td>0.579586</td>\n      <td>NaN</td>\n    </tr>\n    <tr>\n      <th>ZYG11B</th>\n      <td>1.782630</td>\n      <td>-2.814409</td>\n      <td>3.607292</td>\n      <td>-0.780200</td>\n      <td>0.435273</td>\n      <td>NaN</td>\n    </tr>\n    <tr>\n      <th>ZYX</th>\n      <td>8.059483</td>\n      <td>-2.473501</td>\n      <td>1.835901</td>\n      <td>-1.347295</td>\n      <td>0.177885</td>\n      <td>0.632132</td>\n    </tr>\n    <tr>\n      <th>ZZEF1</th>\n      <td>3.417447</td>\n      <td>-0.156388</td>\n      <td>1.255825</td>\n      <td>-0.124530</td>\n      <td>0.900895</td>\n      <td>NaN</td>\n    </tr>\n  </tbody>\n</table>\n<p>1283 rows × 6 columns</p>\n</div>"
     },
     "metadata": {},
     "output_type": "display_data"
    },
    {
     "name": "stderr",
     "output_type": "stream",
     "text": [
      "/Users/berni/miniforge3/envs/Rectangle/lib/python3.10/site-packages/pydeseq2/ds.py:414: RuntimeWarning: divide by zero encountered in divide\n",
      "  size = 1.0 / self.dds.varm[\"dispersions\"]\n",
      "/Users/berni/miniforge3/envs/Rectangle/lib/python3.10/site-packages/pydeseq2/utils.py:1198: RuntimeWarning: invalid value encountered in scalar divide\n",
      "  nbinomFn(\n",
      "/Users/berni/miniforge3/envs/Rectangle/lib/python3.10/site-packages/pydeseq2/utils.py:1220: RuntimeWarning: invalid value encountered in divide\n",
      "  counts - (counts + size) / (1 + size * np.exp(-xbeta - offset))\n",
      "/Users/berni/miniforge3/envs/Rectangle/lib/python3.10/site-packages/pydeseq2/utils.py:1198: RuntimeWarning: invalid value encountered in scalar divide\n",
      "  nbinomFn(\n",
      "/Users/berni/miniforge3/envs/Rectangle/lib/python3.10/site-packages/pydeseq2/grid_search.py:287: RuntimeWarning: invalid value encountered in scalar divide\n",
      "  pydeseq2.utils.nbinomFn(\n",
      "/Users/berni/miniforge3/envs/Rectangle/lib/python3.10/site-packages/pydeseq2/utils.py:1220: RuntimeWarning: invalid value encountered in divide\n",
      "  counts - (counts + size) / (1 + size * np.exp(-xbeta - offset))\n",
      "/Users/berni/miniforge3/envs/Rectangle/lib/python3.10/site-packages/pydeseq2/grid_search.py:287: RuntimeWarning: invalid value encountered in scalar divide\n",
      "  pydeseq2.utils.nbinomFn(\n",
      "/Users/berni/miniforge3/envs/Rectangle/lib/python3.10/site-packages/pydeseq2/utils.py:1198: RuntimeWarning: invalid value encountered in scalar divide\n",
      "  nbinomFn(\n",
      "/Users/berni/miniforge3/envs/Rectangle/lib/python3.10/site-packages/pydeseq2/utils.py:1220: RuntimeWarning: invalid value encountered in divide\n",
      "  counts - (counts + size) / (1 + size * np.exp(-xbeta - offset))\n",
      "/Users/berni/miniforge3/envs/Rectangle/lib/python3.10/site-packages/pydeseq2/grid_search.py:287: RuntimeWarning: invalid value encountered in scalar divide\n",
      "  pydeseq2.utils.nbinomFn(\n",
      "/Users/berni/miniforge3/envs/Rectangle/lib/python3.10/site-packages/pydeseq2/utils.py:1198: RuntimeWarning: invalid value encountered in scalar divide\n",
      "  nbinomFn(\n",
      "/Users/berni/miniforge3/envs/Rectangle/lib/python3.10/site-packages/pydeseq2/utils.py:1220: RuntimeWarning: invalid value encountered in divide\n",
      "  counts - (counts + size) / (1 + size * np.exp(-xbeta - offset))\n",
      "/Users/berni/miniforge3/envs/Rectangle/lib/python3.10/site-packages/pydeseq2/grid_search.py:287: RuntimeWarning: invalid value encountered in scalar divide\n",
      "  pydeseq2.utils.nbinomFn(\n",
      "/Users/berni/miniforge3/envs/Rectangle/lib/python3.10/site-packages/pydeseq2/utils.py:1198: RuntimeWarning: invalid value encountered in scalar divide\n",
      "  nbinomFn(\n",
      "/Users/berni/miniforge3/envs/Rectangle/lib/python3.10/site-packages/pydeseq2/utils.py:1220: RuntimeWarning: invalid value encountered in divide\n",
      "  counts - (counts + size) / (1 + size * np.exp(-xbeta - offset))\n",
      "/Users/berni/miniforge3/envs/Rectangle/lib/python3.10/site-packages/pydeseq2/grid_search.py:287: RuntimeWarning: invalid value encountered in scalar divide\n",
      "  pydeseq2.utils.nbinomFn(\n",
      "/Users/berni/miniforge3/envs/Rectangle/lib/python3.10/site-packages/pydeseq2/utils.py:1198: RuntimeWarning: invalid value encountered in scalar divide\n",
      "  nbinomFn(\n",
      "/Users/berni/miniforge3/envs/Rectangle/lib/python3.10/site-packages/pydeseq2/utils.py:1220: RuntimeWarning: invalid value encountered in divide\n",
      "  counts - (counts + size) / (1 + size * np.exp(-xbeta - offset))\n",
      "/Users/berni/miniforge3/envs/Rectangle/lib/python3.10/site-packages/pydeseq2/grid_search.py:287: RuntimeWarning: invalid value encountered in scalar divide\n",
      "  pydeseq2.utils.nbinomFn(\n",
      "/Users/berni/miniforge3/envs/Rectangle/lib/python3.10/site-packages/pydeseq2/utils.py:1198: RuntimeWarning: invalid value encountered in scalar divide\n",
      "  nbinomFn(\n",
      "/Users/berni/miniforge3/envs/Rectangle/lib/python3.10/site-packages/pydeseq2/utils.py:1220: RuntimeWarning: invalid value encountered in divide\n",
      "  counts - (counts + size) / (1 + size * np.exp(-xbeta - offset))\n",
      "/Users/berni/miniforge3/envs/Rectangle/lib/python3.10/site-packages/pydeseq2/grid_search.py:287: RuntimeWarning: invalid value encountered in scalar divide\n",
      "  pydeseq2.utils.nbinomFn(\n",
      "/Users/berni/miniforge3/envs/Rectangle/lib/python3.10/site-packages/pydeseq2/utils.py:1198: RuntimeWarning: invalid value encountered in scalar divide\n",
      "  nbinomFn(\n",
      "/Users/berni/miniforge3/envs/Rectangle/lib/python3.10/site-packages/pydeseq2/utils.py:1220: RuntimeWarning: invalid value encountered in divide\n",
      "  counts - (counts + size) / (1 + size * np.exp(-xbeta - offset))\n",
      "/Users/berni/miniforge3/envs/Rectangle/lib/python3.10/site-packages/pydeseq2/grid_search.py:287: RuntimeWarning: invalid value encountered in scalar divide\n",
      "  pydeseq2.utils.nbinomFn(\n",
      "/Users/berni/miniforge3/envs/Rectangle/lib/python3.10/site-packages/pydeseq2/utils.py:1230: RuntimeWarning: invalid value encountered in divide\n",
      "  frac = (counts + size) * size * exp_xbeta_off / (size + exp_xbeta_off) ** 2\n",
      "/Users/berni/miniforge3/envs/Rectangle/lib/python3.10/site-packages/pydeseq2/utils.py:1230: RuntimeWarning: invalid value encountered in divide\n",
      "  frac = (counts + size) * size * exp_xbeta_off / (size + exp_xbeta_off) ** 2\n",
      "/Users/berni/miniforge3/envs/Rectangle/lib/python3.10/site-packages/pydeseq2/utils.py:1230: RuntimeWarning: invalid value encountered in divide\n",
      "  frac = (counts + size) * size * exp_xbeta_off / (size + exp_xbeta_off) ** 2\n",
      "/Users/berni/miniforge3/envs/Rectangle/lib/python3.10/site-packages/pydeseq2/utils.py:1230: RuntimeWarning: invalid value encountered in divide\n",
      "  frac = (counts + size) * size * exp_xbeta_off / (size + exp_xbeta_off) ** 2\n",
      "/Users/berni/miniforge3/envs/Rectangle/lib/python3.10/site-packages/pydeseq2/utils.py:1230: RuntimeWarning: invalid value encountered in divide\n",
      "  frac = (counts + size) * size * exp_xbeta_off / (size + exp_xbeta_off) ** 2\n",
      "/Users/berni/miniforge3/envs/Rectangle/lib/python3.10/site-packages/pydeseq2/utils.py:1230: RuntimeWarning: invalid value encountered in divide\n",
      "  frac = (counts + size) * size * exp_xbeta_off / (size + exp_xbeta_off) ** 2\n",
      "/Users/berni/miniforge3/envs/Rectangle/lib/python3.10/site-packages/pydeseq2/utils.py:1230: RuntimeWarning: invalid value encountered in divide\n",
      "  frac = (counts + size) * size * exp_xbeta_off / (size + exp_xbeta_off) ** 2\n",
      "/Users/berni/miniforge3/envs/Rectangle/lib/python3.10/site-packages/pydeseq2/utils.py:1230: RuntimeWarning: invalid value encountered in divide\n",
      "  frac = (counts + size) * size * exp_xbeta_off / (size + exp_xbeta_off) ** 2\n"
     ]
    },
    {
     "name": "stdout",
     "output_type": "stream",
     "text": [
      "Shrunk log2 fold change & Wald test p-value: condition 1.0 vs 0.0\n"
     ]
    },
    {
     "data": {
      "text/plain": "         baseMean  log2FoldChange     lfcSE      stat    pvalue      padj\nALYREF   3.217992        0.000886  0.498652  0.004926  0.996070       NaN\nCAPN15   2.091377       -0.024633  0.504680 -0.186942  0.851706       NaN\nCHAMP1   1.247325        0.022402  0.520141  0.206881  0.836103       NaN\nCHMP3    6.942525       -0.190833  0.512647 -0.925623  0.354642  0.743059\nCNEP1R1  1.755229        0.006257  0.512308  0.052376  0.958229       NaN\n...           ...             ...       ...       ...       ...       ...\nZSWIM6   1.373032       -0.080893  0.515069 -0.685425  0.493076       NaN\nZSWIM7   3.309607       -0.062364  0.512126 -0.553989  0.579586       NaN\nZYG11B   1.782630       -0.112535  0.521954 -0.780200  0.435273       NaN\nZYX      8.059483       -0.193060  0.548757 -1.347295  0.177885  0.632132\nZZEF1    3.417447       -0.021473  0.483228 -0.124530  0.900895       NaN\n\n[1283 rows x 6 columns]",
      "text/html": "<div>\n<style scoped>\n    .dataframe tbody tr th:only-of-type {\n        vertical-align: middle;\n    }\n\n    .dataframe tbody tr th {\n        vertical-align: top;\n    }\n\n    .dataframe thead th {\n        text-align: right;\n    }\n</style>\n<table border=\"1\" class=\"dataframe\">\n  <thead>\n    <tr style=\"text-align: right;\">\n      <th></th>\n      <th>baseMean</th>\n      <th>log2FoldChange</th>\n      <th>lfcSE</th>\n      <th>stat</th>\n      <th>pvalue</th>\n      <th>padj</th>\n    </tr>\n  </thead>\n  <tbody>\n    <tr>\n      <th>ALYREF</th>\n      <td>3.217992</td>\n      <td>0.000886</td>\n      <td>0.498652</td>\n      <td>0.004926</td>\n      <td>0.996070</td>\n      <td>NaN</td>\n    </tr>\n    <tr>\n      <th>CAPN15</th>\n      <td>2.091377</td>\n      <td>-0.024633</td>\n      <td>0.504680</td>\n      <td>-0.186942</td>\n      <td>0.851706</td>\n      <td>NaN</td>\n    </tr>\n    <tr>\n      <th>CHAMP1</th>\n      <td>1.247325</td>\n      <td>0.022402</td>\n      <td>0.520141</td>\n      <td>0.206881</td>\n      <td>0.836103</td>\n      <td>NaN</td>\n    </tr>\n    <tr>\n      <th>CHMP3</th>\n      <td>6.942525</td>\n      <td>-0.190833</td>\n      <td>0.512647</td>\n      <td>-0.925623</td>\n      <td>0.354642</td>\n      <td>0.743059</td>\n    </tr>\n    <tr>\n      <th>CNEP1R1</th>\n      <td>1.755229</td>\n      <td>0.006257</td>\n      <td>0.512308</td>\n      <td>0.052376</td>\n      <td>0.958229</td>\n      <td>NaN</td>\n    </tr>\n    <tr>\n      <th>...</th>\n      <td>...</td>\n      <td>...</td>\n      <td>...</td>\n      <td>...</td>\n      <td>...</td>\n      <td>...</td>\n    </tr>\n    <tr>\n      <th>ZSWIM6</th>\n      <td>1.373032</td>\n      <td>-0.080893</td>\n      <td>0.515069</td>\n      <td>-0.685425</td>\n      <td>0.493076</td>\n      <td>NaN</td>\n    </tr>\n    <tr>\n      <th>ZSWIM7</th>\n      <td>3.309607</td>\n      <td>-0.062364</td>\n      <td>0.512126</td>\n      <td>-0.553989</td>\n      <td>0.579586</td>\n      <td>NaN</td>\n    </tr>\n    <tr>\n      <th>ZYG11B</th>\n      <td>1.782630</td>\n      <td>-0.112535</td>\n      <td>0.521954</td>\n      <td>-0.780200</td>\n      <td>0.435273</td>\n      <td>NaN</td>\n    </tr>\n    <tr>\n      <th>ZYX</th>\n      <td>8.059483</td>\n      <td>-0.193060</td>\n      <td>0.548757</td>\n      <td>-1.347295</td>\n      <td>0.177885</td>\n      <td>0.632132</td>\n    </tr>\n    <tr>\n      <th>ZZEF1</th>\n      <td>3.417447</td>\n      <td>-0.021473</td>\n      <td>0.483228</td>\n      <td>-0.124530</td>\n      <td>0.900895</td>\n      <td>NaN</td>\n    </tr>\n  </tbody>\n</table>\n<p>1283 rows × 6 columns</p>\n</div>"
     },
     "metadata": {},
     "output_type": "display_data"
    },
    {
     "name": "stderr",
     "output_type": "stream",
     "text": [
      "\u001B[32m2024-02-24 16:28:56.289\u001B[0m | \u001B[1mINFO    \u001B[0m | \u001B[36mrectanglepy.pp.create_signature\u001B[0m:\u001B[36m_run_deseq2\u001B[0m:\u001B[36m139\u001B[0m - \u001B[1mRunning DE analysis for Tregs\u001B[0m\n"
     ]
    },
    {
     "name": "stdout",
     "output_type": "stream",
     "text": [
      "Log2 fold change & Wald test p-value: condition 1.0 vs 0.0\n"
     ]
    },
    {
     "data": {
      "text/plain": "         baseMean  log2FoldChange     lfcSE      stat    pvalue      padj\nALYREF   3.217992       -0.827818  1.748628 -0.473410  0.635921  0.998151\nCAPN15   2.091377       -2.678075  3.582153 -0.747616  0.454692  0.998151\nCHAMP1   1.247325       -1.986880  3.679234 -0.540025  0.589180  0.998151\nCHMP3    6.942525       -0.850036  1.229518 -0.691357  0.489341  0.998151\nCNEP1R1  1.755229        1.608028  1.591482  1.010397  0.312305  0.998151\n...           ...             ...       ...       ...       ...       ...\nZSWIM6   1.373032       -2.312784  3.768281 -0.613751  0.539380  0.998151\nZSWIM7   3.309607       -3.445589  3.643552 -0.945667  0.344318  0.998151\nZYG11B   1.782630        0.084542  2.033815  0.041568  0.966843  0.998151\nZYX      8.059483       -0.024670  1.593316 -0.015483  0.987646  0.998151\nZZEF1    3.417447       -3.474731  3.470360 -1.001259  0.316701  0.998151\n\n[1283 rows x 6 columns]",
      "text/html": "<div>\n<style scoped>\n    .dataframe tbody tr th:only-of-type {\n        vertical-align: middle;\n    }\n\n    .dataframe tbody tr th {\n        vertical-align: top;\n    }\n\n    .dataframe thead th {\n        text-align: right;\n    }\n</style>\n<table border=\"1\" class=\"dataframe\">\n  <thead>\n    <tr style=\"text-align: right;\">\n      <th></th>\n      <th>baseMean</th>\n      <th>log2FoldChange</th>\n      <th>lfcSE</th>\n      <th>stat</th>\n      <th>pvalue</th>\n      <th>padj</th>\n    </tr>\n  </thead>\n  <tbody>\n    <tr>\n      <th>ALYREF</th>\n      <td>3.217992</td>\n      <td>-0.827818</td>\n      <td>1.748628</td>\n      <td>-0.473410</td>\n      <td>0.635921</td>\n      <td>0.998151</td>\n    </tr>\n    <tr>\n      <th>CAPN15</th>\n      <td>2.091377</td>\n      <td>-2.678075</td>\n      <td>3.582153</td>\n      <td>-0.747616</td>\n      <td>0.454692</td>\n      <td>0.998151</td>\n    </tr>\n    <tr>\n      <th>CHAMP1</th>\n      <td>1.247325</td>\n      <td>-1.986880</td>\n      <td>3.679234</td>\n      <td>-0.540025</td>\n      <td>0.589180</td>\n      <td>0.998151</td>\n    </tr>\n    <tr>\n      <th>CHMP3</th>\n      <td>6.942525</td>\n      <td>-0.850036</td>\n      <td>1.229518</td>\n      <td>-0.691357</td>\n      <td>0.489341</td>\n      <td>0.998151</td>\n    </tr>\n    <tr>\n      <th>CNEP1R1</th>\n      <td>1.755229</td>\n      <td>1.608028</td>\n      <td>1.591482</td>\n      <td>1.010397</td>\n      <td>0.312305</td>\n      <td>0.998151</td>\n    </tr>\n    <tr>\n      <th>...</th>\n      <td>...</td>\n      <td>...</td>\n      <td>...</td>\n      <td>...</td>\n      <td>...</td>\n      <td>...</td>\n    </tr>\n    <tr>\n      <th>ZSWIM6</th>\n      <td>1.373032</td>\n      <td>-2.312784</td>\n      <td>3.768281</td>\n      <td>-0.613751</td>\n      <td>0.539380</td>\n      <td>0.998151</td>\n    </tr>\n    <tr>\n      <th>ZSWIM7</th>\n      <td>3.309607</td>\n      <td>-3.445589</td>\n      <td>3.643552</td>\n      <td>-0.945667</td>\n      <td>0.344318</td>\n      <td>0.998151</td>\n    </tr>\n    <tr>\n      <th>ZYG11B</th>\n      <td>1.782630</td>\n      <td>0.084542</td>\n      <td>2.033815</td>\n      <td>0.041568</td>\n      <td>0.966843</td>\n      <td>0.998151</td>\n    </tr>\n    <tr>\n      <th>ZYX</th>\n      <td>8.059483</td>\n      <td>-0.024670</td>\n      <td>1.593316</td>\n      <td>-0.015483</td>\n      <td>0.987646</td>\n      <td>0.998151</td>\n    </tr>\n    <tr>\n      <th>ZZEF1</th>\n      <td>3.417447</td>\n      <td>-3.474731</td>\n      <td>3.470360</td>\n      <td>-1.001259</td>\n      <td>0.316701</td>\n      <td>0.998151</td>\n    </tr>\n  </tbody>\n</table>\n<p>1283 rows × 6 columns</p>\n</div>"
     },
     "metadata": {},
     "output_type": "display_data"
    },
    {
     "name": "stderr",
     "output_type": "stream",
     "text": [
      "/Users/berni/miniforge3/envs/Rectangle/lib/python3.10/site-packages/pydeseq2/ds.py:414: RuntimeWarning: divide by zero encountered in divide\n",
      "  size = 1.0 / self.dds.varm[\"dispersions\"]\n",
      "/Users/berni/miniforge3/envs/Rectangle/lib/python3.10/site-packages/pydeseq2/utils.py:1198: RuntimeWarning: invalid value encountered in scalar divide\n",
      "  nbinomFn(\n",
      "/Users/berni/miniforge3/envs/Rectangle/lib/python3.10/site-packages/pydeseq2/utils.py:1220: RuntimeWarning: invalid value encountered in divide\n",
      "  counts - (counts + size) / (1 + size * np.exp(-xbeta - offset))\n",
      "/Users/berni/miniforge3/envs/Rectangle/lib/python3.10/site-packages/pydeseq2/grid_search.py:287: RuntimeWarning: invalid value encountered in scalar divide\n",
      "  pydeseq2.utils.nbinomFn(\n",
      "/Users/berni/miniforge3/envs/Rectangle/lib/python3.10/site-packages/pydeseq2/utils.py:1198: RuntimeWarning: invalid value encountered in scalar divide\n",
      "  nbinomFn(\n",
      "/Users/berni/miniforge3/envs/Rectangle/lib/python3.10/site-packages/pydeseq2/utils.py:1220: RuntimeWarning: invalid value encountered in divide\n",
      "  counts - (counts + size) / (1 + size * np.exp(-xbeta - offset))\n",
      "/Users/berni/miniforge3/envs/Rectangle/lib/python3.10/site-packages/pydeseq2/grid_search.py:287: RuntimeWarning: invalid value encountered in scalar divide\n",
      "  pydeseq2.utils.nbinomFn(\n",
      "/Users/berni/miniforge3/envs/Rectangle/lib/python3.10/site-packages/pydeseq2/utils.py:1198: RuntimeWarning: invalid value encountered in scalar divide\n",
      "  nbinomFn(\n",
      "/Users/berni/miniforge3/envs/Rectangle/lib/python3.10/site-packages/pydeseq2/utils.py:1220: RuntimeWarning: invalid value encountered in divide\n",
      "  counts - (counts + size) / (1 + size * np.exp(-xbeta - offset))\n",
      "/Users/berni/miniforge3/envs/Rectangle/lib/python3.10/site-packages/pydeseq2/grid_search.py:287: RuntimeWarning: invalid value encountered in scalar divide\n",
      "  pydeseq2.utils.nbinomFn(\n",
      "/Users/berni/miniforge3/envs/Rectangle/lib/python3.10/site-packages/pydeseq2/utils.py:1198: RuntimeWarning: invalid value encountered in scalar divide\n",
      "  nbinomFn(\n",
      "/Users/berni/miniforge3/envs/Rectangle/lib/python3.10/site-packages/pydeseq2/utils.py:1220: RuntimeWarning: invalid value encountered in divide\n",
      "  counts - (counts + size) / (1 + size * np.exp(-xbeta - offset))\n",
      "/Users/berni/miniforge3/envs/Rectangle/lib/python3.10/site-packages/pydeseq2/grid_search.py:287: RuntimeWarning: invalid value encountered in scalar divide\n",
      "  pydeseq2.utils.nbinomFn(\n",
      "/Users/berni/miniforge3/envs/Rectangle/lib/python3.10/site-packages/pydeseq2/utils.py:1198: RuntimeWarning: invalid value encountered in scalar divide\n",
      "  nbinomFn(\n",
      "/Users/berni/miniforge3/envs/Rectangle/lib/python3.10/site-packages/pydeseq2/utils.py:1220: RuntimeWarning: invalid value encountered in divide\n",
      "  counts - (counts + size) / (1 + size * np.exp(-xbeta - offset))\n",
      "/Users/berni/miniforge3/envs/Rectangle/lib/python3.10/site-packages/pydeseq2/grid_search.py:287: RuntimeWarning: invalid value encountered in scalar divide\n",
      "  pydeseq2.utils.nbinomFn(\n",
      "/Users/berni/miniforge3/envs/Rectangle/lib/python3.10/site-packages/pydeseq2/utils.py:1198: RuntimeWarning: invalid value encountered in scalar divide\n",
      "  nbinomFn(\n",
      "/Users/berni/miniforge3/envs/Rectangle/lib/python3.10/site-packages/pydeseq2/utils.py:1220: RuntimeWarning: invalid value encountered in divide\n",
      "  counts - (counts + size) / (1 + size * np.exp(-xbeta - offset))\n",
      "/Users/berni/miniforge3/envs/Rectangle/lib/python3.10/site-packages/pydeseq2/grid_search.py:287: RuntimeWarning: invalid value encountered in scalar divide\n",
      "  pydeseq2.utils.nbinomFn(\n",
      "/Users/berni/miniforge3/envs/Rectangle/lib/python3.10/site-packages/pydeseq2/utils.py:1198: RuntimeWarning: invalid value encountered in scalar divide\n",
      "  nbinomFn(\n",
      "/Users/berni/miniforge3/envs/Rectangle/lib/python3.10/site-packages/pydeseq2/utils.py:1220: RuntimeWarning: invalid value encountered in divide\n",
      "  counts - (counts + size) / (1 + size * np.exp(-xbeta - offset))\n",
      "/Users/berni/miniforge3/envs/Rectangle/lib/python3.10/site-packages/pydeseq2/grid_search.py:287: RuntimeWarning: invalid value encountered in scalar divide\n",
      "  pydeseq2.utils.nbinomFn(\n",
      "/Users/berni/miniforge3/envs/Rectangle/lib/python3.10/site-packages/pydeseq2/utils.py:1198: RuntimeWarning: invalid value encountered in scalar divide\n",
      "  nbinomFn(\n",
      "/Users/berni/miniforge3/envs/Rectangle/lib/python3.10/site-packages/pydeseq2/utils.py:1220: RuntimeWarning: invalid value encountered in divide\n",
      "  counts - (counts + size) / (1 + size * np.exp(-xbeta - offset))\n",
      "/Users/berni/miniforge3/envs/Rectangle/lib/python3.10/site-packages/pydeseq2/grid_search.py:287: RuntimeWarning: invalid value encountered in scalar divide\n",
      "  pydeseq2.utils.nbinomFn(\n",
      "/Users/berni/miniforge3/envs/Rectangle/lib/python3.10/site-packages/pydeseq2/utils.py:1230: RuntimeWarning: invalid value encountered in divide\n",
      "  frac = (counts + size) * size * exp_xbeta_off / (size + exp_xbeta_off) ** 2\n",
      "/Users/berni/miniforge3/envs/Rectangle/lib/python3.10/site-packages/pydeseq2/utils.py:1230: RuntimeWarning: invalid value encountered in divide\n",
      "  frac = (counts + size) * size * exp_xbeta_off / (size + exp_xbeta_off) ** 2\n",
      "/Users/berni/miniforge3/envs/Rectangle/lib/python3.10/site-packages/pydeseq2/utils.py:1230: RuntimeWarning: invalid value encountered in divide\n",
      "  frac = (counts + size) * size * exp_xbeta_off / (size + exp_xbeta_off) ** 2\n",
      "/Users/berni/miniforge3/envs/Rectangle/lib/python3.10/site-packages/pydeseq2/utils.py:1230: RuntimeWarning: invalid value encountered in divide\n",
      "  frac = (counts + size) * size * exp_xbeta_off / (size + exp_xbeta_off) ** 2\n",
      "/Users/berni/miniforge3/envs/Rectangle/lib/python3.10/site-packages/pydeseq2/utils.py:1230: RuntimeWarning: invalid value encountered in divide\n",
      "  frac = (counts + size) * size * exp_xbeta_off / (size + exp_xbeta_off) ** 2\n",
      "/Users/berni/miniforge3/envs/Rectangle/lib/python3.10/site-packages/pydeseq2/utils.py:1230: RuntimeWarning: invalid value encountered in divide\n",
      "  frac = (counts + size) * size * exp_xbeta_off / (size + exp_xbeta_off) ** 2\n",
      "/Users/berni/miniforge3/envs/Rectangle/lib/python3.10/site-packages/pydeseq2/utils.py:1230: RuntimeWarning: invalid value encountered in divide\n",
      "  frac = (counts + size) * size * exp_xbeta_off / (size + exp_xbeta_off) ** 2\n",
      "/Users/berni/miniforge3/envs/Rectangle/lib/python3.10/site-packages/pydeseq2/utils.py:1230: RuntimeWarning: invalid value encountered in divide\n",
      "  frac = (counts + size) * size * exp_xbeta_off / (size + exp_xbeta_off) ** 2\n"
     ]
    },
    {
     "name": "stdout",
     "output_type": "stream",
     "text": [
      "Shrunk log2 fold change & Wald test p-value: condition 1.0 vs 0.0\n"
     ]
    },
    {
     "data": {
      "text/plain": "         baseMean  log2FoldChange     lfcSE      stat    pvalue      padj\nALYREF   3.217992   -3.119311e-07  0.001071 -0.473410  0.635921  0.998151\nCAPN15   2.091377   -4.784180e-07  0.001059 -0.747616  0.454692  0.998151\nCHAMP1   1.247325   -3.111935e-07  0.001058 -0.540025  0.589180  0.998151\nCHMP3    6.942525   -6.498988e-07  0.001072 -0.691357  0.489341  0.998151\nCNEP1R1  1.755229    6.251299e-07  0.001107  1.010397  0.312305  0.998151\n...           ...             ...       ...       ...       ...       ...\nZSWIM6   1.373032   -3.166013e-07  0.001052 -0.613751  0.539380  0.998151\nZSWIM7   3.309607   -5.433553e-07  0.001049 -0.945667  0.344318  0.998151\nZYG11B   1.782630    2.209586e-08  0.001084  0.041568  0.966843  0.998151\nZYX      8.059483   -9.058221e-09  0.001102 -0.015483  0.987646  0.998151\nZZEF1    3.417447   -8.988249e-07  0.001058 -1.001259  0.316701  0.998151\n\n[1283 rows x 6 columns]",
      "text/html": "<div>\n<style scoped>\n    .dataframe tbody tr th:only-of-type {\n        vertical-align: middle;\n    }\n\n    .dataframe tbody tr th {\n        vertical-align: top;\n    }\n\n    .dataframe thead th {\n        text-align: right;\n    }\n</style>\n<table border=\"1\" class=\"dataframe\">\n  <thead>\n    <tr style=\"text-align: right;\">\n      <th></th>\n      <th>baseMean</th>\n      <th>log2FoldChange</th>\n      <th>lfcSE</th>\n      <th>stat</th>\n      <th>pvalue</th>\n      <th>padj</th>\n    </tr>\n  </thead>\n  <tbody>\n    <tr>\n      <th>ALYREF</th>\n      <td>3.217992</td>\n      <td>-3.119311e-07</td>\n      <td>0.001071</td>\n      <td>-0.473410</td>\n      <td>0.635921</td>\n      <td>0.998151</td>\n    </tr>\n    <tr>\n      <th>CAPN15</th>\n      <td>2.091377</td>\n      <td>-4.784180e-07</td>\n      <td>0.001059</td>\n      <td>-0.747616</td>\n      <td>0.454692</td>\n      <td>0.998151</td>\n    </tr>\n    <tr>\n      <th>CHAMP1</th>\n      <td>1.247325</td>\n      <td>-3.111935e-07</td>\n      <td>0.001058</td>\n      <td>-0.540025</td>\n      <td>0.589180</td>\n      <td>0.998151</td>\n    </tr>\n    <tr>\n      <th>CHMP3</th>\n      <td>6.942525</td>\n      <td>-6.498988e-07</td>\n      <td>0.001072</td>\n      <td>-0.691357</td>\n      <td>0.489341</td>\n      <td>0.998151</td>\n    </tr>\n    <tr>\n      <th>CNEP1R1</th>\n      <td>1.755229</td>\n      <td>6.251299e-07</td>\n      <td>0.001107</td>\n      <td>1.010397</td>\n      <td>0.312305</td>\n      <td>0.998151</td>\n    </tr>\n    <tr>\n      <th>...</th>\n      <td>...</td>\n      <td>...</td>\n      <td>...</td>\n      <td>...</td>\n      <td>...</td>\n      <td>...</td>\n    </tr>\n    <tr>\n      <th>ZSWIM6</th>\n      <td>1.373032</td>\n      <td>-3.166013e-07</td>\n      <td>0.001052</td>\n      <td>-0.613751</td>\n      <td>0.539380</td>\n      <td>0.998151</td>\n    </tr>\n    <tr>\n      <th>ZSWIM7</th>\n      <td>3.309607</td>\n      <td>-5.433553e-07</td>\n      <td>0.001049</td>\n      <td>-0.945667</td>\n      <td>0.344318</td>\n      <td>0.998151</td>\n    </tr>\n    <tr>\n      <th>ZYG11B</th>\n      <td>1.782630</td>\n      <td>2.209586e-08</td>\n      <td>0.001084</td>\n      <td>0.041568</td>\n      <td>0.966843</td>\n      <td>0.998151</td>\n    </tr>\n    <tr>\n      <th>ZYX</th>\n      <td>8.059483</td>\n      <td>-9.058221e-09</td>\n      <td>0.001102</td>\n      <td>-0.015483</td>\n      <td>0.987646</td>\n      <td>0.998151</td>\n    </tr>\n    <tr>\n      <th>ZZEF1</th>\n      <td>3.417447</td>\n      <td>-8.988249e-07</td>\n      <td>0.001058</td>\n      <td>-1.001259</td>\n      <td>0.316701</td>\n      <td>0.998151</td>\n    </tr>\n  </tbody>\n</table>\n<p>1283 rows × 6 columns</p>\n</div>"
     },
     "metadata": {},
     "output_type": "display_data"
    },
    {
     "name": "stderr",
     "output_type": "stream",
     "text": [
      "\u001B[32m2024-02-24 16:28:59.347\u001B[0m | \u001B[1mINFO    \u001B[0m | \u001B[36mrectanglepy.pp.create_signature\u001B[0m:\u001B[36m_get_marker_genes\u001B[0m:\u001B[36m184\u001B[0m - \u001B[1mOptimal condition number: 21\u001B[0m\n",
      "\u001B[32m2024-02-24 16:28:59.348\u001B[0m | \u001B[1mINFO    \u001B[0m | \u001B[36mrectanglepy.pp.create_signature\u001B[0m:\u001B[36m_count_marker_genes_per_cell_type\u001B[0m:\u001B[36m196\u001B[0m - \u001B[1mNumber of marker genes per cell type: {'1': 12, '2': 0, '5': 7, 'NK cells': 4, 'Plasma cells': 21, 'Tregs': 0}\u001B[0m\n"
     ]
    }
   ],
   "source": [
    "signature_result = rectangle.pp.build_rectangle_signatures(sc_adata, bulks=bulks)"
   ],
   "metadata": {
    "collapsed": false,
    "ExecuteTime": {
     "end_time": "2024-02-24T15:28:59.363627Z",
     "start_time": "2024-02-24T15:28:11.179494Z"
    }
   }
  },
  {
   "cell_type": "markdown",
   "source": [
    "This creates a {class}`rectanglepy.pp.RectangleSignatureResult` object."
   ],
   "metadata": {
    "collapsed": false
   }
  },
  {
   "cell_type": "markdown",
   "source": [
    "## Deconvolute bulk data"
   ],
   "metadata": {
    "collapsed": false
   }
  },
  {
   "cell_type": "code",
   "execution_count": 11,
   "outputs": [
    {
     "name": "stderr",
     "output_type": "stream",
     "text": [
      "2024-02-24 16:29:10.063 | INFO     | rectanglepy.tl.deconvolution:_process_bulk:208 - Deconvolute fractions for bulk: 1\n",
      "2024-02-24 16:29:10.096 | INFO     | rectanglepy.tl.deconvolution:_process_bulk:208 - Deconvolute fractions for bulk: 0\n",
      "/Users/berni/PycharmProjects/Rectangle/src/rectanglepy/tl/deconvolution.py:99: RuntimeWarning: divide by zero encountered in divide\n",
      "  weights = np.square(1 / (np.dot(signature, qp_gld)))\n",
      "/Users/berni/PycharmProjects/Rectangle/src/rectanglepy/tl/deconvolution.py:99: RuntimeWarning: divide by zero encountered in divide\n",
      "  weights = np.square(1 / (np.dot(signature, qp_gld)))\n",
      "2024-02-24 16:29:15.120 | INFO     | rectanglepy.tl.deconvolution:_process_bulk:211 - Finished deconvolution for bulk: 0\n",
      "2024-02-24 16:29:15.126 | INFO     | rectanglepy.tl.deconvolution:_process_bulk:211 - Finished deconvolution for bulk: 1\n"
     ]
    }
   ],
   "source": [
    "estimations = rectangle.tl.deconvolution(signature_result, bulks)"
   ],
   "metadata": {
    "collapsed": false,
    "ExecuteTime": {
     "end_time": "2024-02-24T15:29:15.132036Z",
     "start_time": "2024-02-24T15:29:09.605533Z"
    }
   }
  },
  {
   "cell_type": "code",
   "execution_count": 12,
   "outputs": [
    {
     "data": {
      "text/plain": "              B cells  Monocytes  NK cells  Plasma cells  T cells CD4 conv   \npbmc_1  -1.653677e-18   0.105667  0.029340      0.008662      3.723346e-01  \\\npbmc_10  1.641017e-17   0.242756  0.061698      0.001183      2.935494e-16   \n\n          T cells CD8         Tregs       mDC       pDC  Unknown  \npbmc_1   5.698229e-02  1.376688e-02  0.164630  0.248618      0.0  \npbmc_10  3.265707e-17 -3.973413e-17  0.278038  0.416326      0.0  ",
      "text/html": "<div>\n<style scoped>\n    .dataframe tbody tr th:only-of-type {\n        vertical-align: middle;\n    }\n\n    .dataframe tbody tr th {\n        vertical-align: top;\n    }\n\n    .dataframe thead th {\n        text-align: right;\n    }\n</style>\n<table border=\"1\" class=\"dataframe\">\n  <thead>\n    <tr style=\"text-align: right;\">\n      <th></th>\n      <th>B cells</th>\n      <th>Monocytes</th>\n      <th>NK cells</th>\n      <th>Plasma cells</th>\n      <th>T cells CD4 conv</th>\n      <th>T cells CD8</th>\n      <th>Tregs</th>\n      <th>mDC</th>\n      <th>pDC</th>\n      <th>Unknown</th>\n    </tr>\n  </thead>\n  <tbody>\n    <tr>\n      <th>pbmc_1</th>\n      <td>-1.653677e-18</td>\n      <td>0.105667</td>\n      <td>0.029340</td>\n      <td>0.008662</td>\n      <td>3.723346e-01</td>\n      <td>5.698229e-02</td>\n      <td>1.376688e-02</td>\n      <td>0.164630</td>\n      <td>0.248618</td>\n      <td>0.0</td>\n    </tr>\n    <tr>\n      <th>pbmc_10</th>\n      <td>1.641017e-17</td>\n      <td>0.242756</td>\n      <td>0.061698</td>\n      <td>0.001183</td>\n      <td>2.935494e-16</td>\n      <td>3.265707e-17</td>\n      <td>-3.973413e-17</td>\n      <td>0.278038</td>\n      <td>0.416326</td>\n      <td>0.0</td>\n    </tr>\n  </tbody>\n</table>\n</div>"
     },
     "execution_count": 12,
     "metadata": {},
     "output_type": "execute_result"
    }
   ],
   "source": [
    "estimations"
   ],
   "metadata": {
    "collapsed": false,
    "ExecuteTime": {
     "end_time": "2024-02-24T15:29:15.138138Z",
     "start_time": "2024-02-24T15:29:15.134966Z"
    }
   }
  },
  {
   "cell_type": "code",
   "execution_count": null,
   "outputs": [],
   "source": [],
   "metadata": {
    "collapsed": false
   }
  }
 ],
 "metadata": {
  "kernelspec": {
   "display_name": "Python 3.9.12 ('squidpy39')",
   "language": "python",
   "name": "python3"
  },
  "language_info": {
   "codemirror_mode": {
    "name": "ipython",
    "version": 3
   },
   "file_extension": ".py",
   "mimetype": "text/x-python",
   "name": "python",
   "nbconvert_exporter": "python",
   "pygments_lexer": "ipython3",
   "version": "3.9.12"
  },
  "vscode": {
   "interpreter": {
    "hash": "ae6466e8d4f517858789b5c9e8f0ed238fb8964458a36305fca7bddc149e9c64"
   }
  }
 },
 "nbformat": 4,
 "nbformat_minor": 4
}
