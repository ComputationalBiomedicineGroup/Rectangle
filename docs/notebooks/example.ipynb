{
 "cells": [
  {
   "cell_type": "markdown",
   "metadata": {},
   "source": "# Quick start"
  },
  {
   "cell_type": "markdown",
   "source": [],
   "metadata": {
    "collapsed": false
   }
  },
  {
   "cell_type": "code",
   "metadata": {
    "ExecuteTime": {
     "end_time": "2025-07-29T16:56:13.698141Z",
     "start_time": "2025-07-29T16:56:13.692629Z"
    }
   },
   "source": [
    "import rectanglepy as rectangle\n",
    "import pandas as pd\n",
    "from anndata import AnnData, read_h5ad"
   ],
   "outputs": [],
   "execution_count": 25
  },
  {
   "cell_type": "markdown",
   "source": "## Creating the input data",
   "metadata": {
    "collapsed": false
   }
  },
  {
   "metadata": {},
   "cell_type": "markdown",
   "source": "Rectangle requires the single-cell data in the form of a scverse [`AnnData`](https://anndata.readthedocs.io/en/latest/) object, and the bulk data as a pandas DataFrame."
  },
  {
   "metadata": {},
   "cell_type": "markdown",
   "source": "Do see an example of this, we can load the tutorial data provided by Rectangle."
  },
  {
   "cell_type": "code",
   "metadata": {
    "ExecuteTime": {
     "end_time": "2025-06-01T19:31:32.276065Z",
     "start_time": "2025-06-01T19:31:31.597456Z"
    }
   },
   "source": [
    "sc_counts, annotations, bulks  = rectangle.load_tutorial_data()"
   ],
   "outputs": [],
   "execution_count": 2
  },
  {
   "metadata": {},
   "cell_type": "markdown",
   "source": "The tutorial data set contains single-cell RNA-seq counts as a pandas DataFrame, with the cell type annotations as a pandas Series."
  },
  {
   "cell_type": "code",
   "source": "sc_counts.iloc[:, :5].head()",
   "metadata": {
    "collapsed": false,
    "ExecuteTime": {
     "end_time": "2025-06-01T19:31:35.537847Z",
     "start_time": "2025-06-01T19:31:35.529946Z"
    }
   },
   "outputs": [
    {
     "data": {
      "text/plain": [
       "                       MIR1302-2HG  AL627309.1  AL627309.4  AC114498.1   \n",
       "E2L4_GATGCTACAGGCACAA            0           0           0           0  \\\n",
       "L5_AACAACCAGGAACTAT              0           0           0           0   \n",
       "L5_TCCTTCTGTACTCCGG              0           0           0           0   \n",
       "L2_GCCCGAACACGTATAC              0           0           0           0   \n",
       "E2L2_ATGCATGTCACACCCT            0           0           0           0   \n",
       "\n",
       "                       AL669831.5  \n",
       "E2L4_GATGCTACAGGCACAA           0  \n",
       "L5_AACAACCAGGAACTAT             0  \n",
       "L5_TCCTTCTGTACTCCGG             0  \n",
       "L2_GCCCGAACACGTATAC             0  \n",
       "E2L2_ATGCATGTCACACCCT           0  "
      ],
      "text/html": [
       "<div>\n",
       "<style scoped>\n",
       "    .dataframe tbody tr th:only-of-type {\n",
       "        vertical-align: middle;\n",
       "    }\n",
       "\n",
       "    .dataframe tbody tr th {\n",
       "        vertical-align: top;\n",
       "    }\n",
       "\n",
       "    .dataframe thead th {\n",
       "        text-align: right;\n",
       "    }\n",
       "</style>\n",
       "<table border=\"1\" class=\"dataframe\">\n",
       "  <thead>\n",
       "    <tr style=\"text-align: right;\">\n",
       "      <th></th>\n",
       "      <th>MIR1302-2HG</th>\n",
       "      <th>AL627309.1</th>\n",
       "      <th>AL627309.4</th>\n",
       "      <th>AC114498.1</th>\n",
       "      <th>AL669831.5</th>\n",
       "    </tr>\n",
       "  </thead>\n",
       "  <tbody>\n",
       "    <tr>\n",
       "      <th>E2L4_GATGCTACAGGCACAA</th>\n",
       "      <td>0</td>\n",
       "      <td>0</td>\n",
       "      <td>0</td>\n",
       "      <td>0</td>\n",
       "      <td>0</td>\n",
       "    </tr>\n",
       "    <tr>\n",
       "      <th>L5_AACAACCAGGAACTAT</th>\n",
       "      <td>0</td>\n",
       "      <td>0</td>\n",
       "      <td>0</td>\n",
       "      <td>0</td>\n",
       "      <td>0</td>\n",
       "    </tr>\n",
       "    <tr>\n",
       "      <th>L5_TCCTTCTGTACTCCGG</th>\n",
       "      <td>0</td>\n",
       "      <td>0</td>\n",
       "      <td>0</td>\n",
       "      <td>0</td>\n",
       "      <td>0</td>\n",
       "    </tr>\n",
       "    <tr>\n",
       "      <th>L2_GCCCGAACACGTATAC</th>\n",
       "      <td>0</td>\n",
       "      <td>0</td>\n",
       "      <td>0</td>\n",
       "      <td>0</td>\n",
       "      <td>0</td>\n",
       "    </tr>\n",
       "    <tr>\n",
       "      <th>E2L2_ATGCATGTCACACCCT</th>\n",
       "      <td>0</td>\n",
       "      <td>0</td>\n",
       "      <td>0</td>\n",
       "      <td>0</td>\n",
       "      <td>0</td>\n",
       "    </tr>\n",
       "  </tbody>\n",
       "</table>\n",
       "</div>"
      ]
     },
     "execution_count": 3,
     "metadata": {},
     "output_type": "execute_result"
    }
   ],
   "execution_count": 3
  },
  {
   "cell_type": "code",
   "source": [
    "annotations.head()"
   ],
   "metadata": {
    "collapsed": false,
    "ExecuteTime": {
     "end_time": "2025-06-01T19:21:24.786234Z",
     "start_time": "2025-06-01T19:21:24.782923Z"
    }
   },
   "outputs": [
    {
     "data": {
      "text/plain": [
       "E2L4_GATGCTACAGGCACAA    Monocytes\n",
       "L5_AACAACCAGGAACTAT      Monocytes\n",
       "L5_TCCTTCTGTACTCCGG      Monocytes\n",
       "L2_GCCCGAACACGTATAC      Monocytes\n",
       "E2L2_ATGCATGTCACACCCT    Monocytes\n",
       "Name: 0, dtype: object"
      ]
     },
     "execution_count": 12,
     "metadata": {},
     "output_type": "execute_result"
    }
   ],
   "execution_count": 12
  },
  {
   "cell_type": "code",
   "source": "bulks.T.head()",
   "metadata": {
    "collapsed": false,
    "ExecuteTime": {
     "end_time": "2025-06-01T19:21:25.411563Z",
     "start_time": "2025-06-01T19:21:25.405777Z"
    }
   },
   "outputs": [
    {
     "data": {
      "text/plain": [
       "              pbmc_1   pbmc_10   pbmc_12\n",
       "UBE2Q2P2    0.000000  0.081115  0.000000\n",
       "SSX9        0.000000  0.000000  0.000000\n",
       "CXorf67     0.118865  0.086782  0.188464\n",
       "EFCAB8      0.000000  0.000000  0.031570\n",
       "SPATA31B1P  0.000000  0.000000  0.000000"
      ],
      "text/html": [
       "<div>\n",
       "<style scoped>\n",
       "    .dataframe tbody tr th:only-of-type {\n",
       "        vertical-align: middle;\n",
       "    }\n",
       "\n",
       "    .dataframe tbody tr th {\n",
       "        vertical-align: top;\n",
       "    }\n",
       "\n",
       "    .dataframe thead th {\n",
       "        text-align: right;\n",
       "    }\n",
       "</style>\n",
       "<table border=\"1\" class=\"dataframe\">\n",
       "  <thead>\n",
       "    <tr style=\"text-align: right;\">\n",
       "      <th></th>\n",
       "      <th>pbmc_1</th>\n",
       "      <th>pbmc_10</th>\n",
       "      <th>pbmc_12</th>\n",
       "    </tr>\n",
       "  </thead>\n",
       "  <tbody>\n",
       "    <tr>\n",
       "      <th>UBE2Q2P2</th>\n",
       "      <td>0.000000</td>\n",
       "      <td>0.081115</td>\n",
       "      <td>0.000000</td>\n",
       "    </tr>\n",
       "    <tr>\n",
       "      <th>SSX9</th>\n",
       "      <td>0.000000</td>\n",
       "      <td>0.000000</td>\n",
       "      <td>0.000000</td>\n",
       "    </tr>\n",
       "    <tr>\n",
       "      <th>CXorf67</th>\n",
       "      <td>0.118865</td>\n",
       "      <td>0.086782</td>\n",
       "      <td>0.188464</td>\n",
       "    </tr>\n",
       "    <tr>\n",
       "      <th>EFCAB8</th>\n",
       "      <td>0.000000</td>\n",
       "      <td>0.000000</td>\n",
       "      <td>0.031570</td>\n",
       "    </tr>\n",
       "    <tr>\n",
       "      <th>SPATA31B1P</th>\n",
       "      <td>0.000000</td>\n",
       "      <td>0.000000</td>\n",
       "      <td>0.000000</td>\n",
       "    </tr>\n",
       "  </tbody>\n",
       "</table>\n",
       "</div>"
      ]
     },
     "execution_count": 13,
     "metadata": {},
     "output_type": "execute_result"
    }
   ],
   "execution_count": 13
  },
  {
   "cell_type": "markdown",
   "metadata": {},
   "source": "The count dataframe with it's annotations can easily convert to an AnnData object.\n"
  },
  {
   "cell_type": "code",
   "source": [
    "sc_adata = AnnData(sc_counts, obs=annotations.to_frame(name=\"cell_type\"))"
   ],
   "metadata": {
    "collapsed": false,
    "ExecuteTime": {
     "end_time": "2025-06-01T19:31:39.172686Z",
     "start_time": "2025-06-01T19:31:39.143823Z"
    }
   },
   "outputs": [],
   "execution_count": 4
  },
  {
   "cell_type": "markdown",
   "source": "## Single step Rectangle workflow",
   "metadata": {
    "collapsed": false
   }
  },
  {
   "metadata": {},
   "cell_type": "markdown",
   "source": "To deconvolute the bulk data in a single step, use the \"rectangle\" method. This method returns a tuple of the estimated cell type proportions and the signature result."
  },
  {
   "cell_type": "code",
   "source": "estimations, signature_result = rectangle.rectangle(sc_adata, bulks)",
   "metadata": {
    "collapsed": false
   },
   "outputs": [],
   "execution_count": null
  },
  {
   "metadata": {},
   "cell_type": "markdown",
   "source": [
    "The rectangle method returns two objects:\n",
    "1. `estimations`: a pandas DataFrame with the estimated cell type proportions for each bulk sample.\n",
    "2. `signature_result`: a [`RectangleSignatureResult`](../generated/rectanglepy.pp.RectangleSignatureResult.rst) object containing  additional information about the signature and the unknown content.\n"
   ]
  },
  {
   "cell_type": "code",
   "source": "estimations",
   "metadata": {
    "collapsed": false,
    "ExecuteTime": {
     "end_time": "2025-06-01T19:32:21.785924Z",
     "start_time": "2025-06-01T19:32:21.777949Z"
    }
   },
   "outputs": [
    {
     "data": {
      "text/plain": [
       "          B cells       ILC  Monocytes  NK cells  Plasma cells  Platelet   \n",
       "pbmc_1   0.090739  0.011386   0.229843  0.022667      0.005956  0.004898  \\\n",
       "pbmc_10  0.110518  0.016910   0.297931  0.016344      0.000659  0.021996   \n",
       "pbmc_12  0.071532  0.007335   0.225517  0.101075      0.003095  0.018637   \n",
       "\n",
       "         T cells CD4 conv  T cells CD8     Tregs       mDC       pDC   Unknown  \n",
       "pbmc_1       2.833039e-02     0.162392  0.416964  0.024425  0.002401  0.000000  \n",
       "pbmc_10      8.220139e-18     0.118382  0.391830  0.020750  0.004678  0.000000  \n",
       "pbmc_12      0.000000e+00     0.275009  0.256503  0.010054  0.002985  0.028258  "
      ],
      "text/html": [
       "<div>\n",
       "<style scoped>\n",
       "    .dataframe tbody tr th:only-of-type {\n",
       "        vertical-align: middle;\n",
       "    }\n",
       "\n",
       "    .dataframe tbody tr th {\n",
       "        vertical-align: top;\n",
       "    }\n",
       "\n",
       "    .dataframe thead th {\n",
       "        text-align: right;\n",
       "    }\n",
       "</style>\n",
       "<table border=\"1\" class=\"dataframe\">\n",
       "  <thead>\n",
       "    <tr style=\"text-align: right;\">\n",
       "      <th></th>\n",
       "      <th>B cells</th>\n",
       "      <th>ILC</th>\n",
       "      <th>Monocytes</th>\n",
       "      <th>NK cells</th>\n",
       "      <th>Plasma cells</th>\n",
       "      <th>Platelet</th>\n",
       "      <th>T cells CD4 conv</th>\n",
       "      <th>T cells CD8</th>\n",
       "      <th>Tregs</th>\n",
       "      <th>mDC</th>\n",
       "      <th>pDC</th>\n",
       "      <th>Unknown</th>\n",
       "    </tr>\n",
       "  </thead>\n",
       "  <tbody>\n",
       "    <tr>\n",
       "      <th>pbmc_1</th>\n",
       "      <td>0.090739</td>\n",
       "      <td>0.011386</td>\n",
       "      <td>0.229843</td>\n",
       "      <td>0.022667</td>\n",
       "      <td>0.005956</td>\n",
       "      <td>0.004898</td>\n",
       "      <td>2.833039e-02</td>\n",
       "      <td>0.162392</td>\n",
       "      <td>0.416964</td>\n",
       "      <td>0.024425</td>\n",
       "      <td>0.002401</td>\n",
       "      <td>0.000000</td>\n",
       "    </tr>\n",
       "    <tr>\n",
       "      <th>pbmc_10</th>\n",
       "      <td>0.110518</td>\n",
       "      <td>0.016910</td>\n",
       "      <td>0.297931</td>\n",
       "      <td>0.016344</td>\n",
       "      <td>0.000659</td>\n",
       "      <td>0.021996</td>\n",
       "      <td>8.220139e-18</td>\n",
       "      <td>0.118382</td>\n",
       "      <td>0.391830</td>\n",
       "      <td>0.020750</td>\n",
       "      <td>0.004678</td>\n",
       "      <td>0.000000</td>\n",
       "    </tr>\n",
       "    <tr>\n",
       "      <th>pbmc_12</th>\n",
       "      <td>0.071532</td>\n",
       "      <td>0.007335</td>\n",
       "      <td>0.225517</td>\n",
       "      <td>0.101075</td>\n",
       "      <td>0.003095</td>\n",
       "      <td>0.018637</td>\n",
       "      <td>0.000000e+00</td>\n",
       "      <td>0.275009</td>\n",
       "      <td>0.256503</td>\n",
       "      <td>0.010054</td>\n",
       "      <td>0.002985</td>\n",
       "      <td>0.028258</td>\n",
       "    </tr>\n",
       "  </tbody>\n",
       "</table>\n",
       "</div>"
      ]
     },
     "execution_count": 6,
     "metadata": {},
     "output_type": "execute_result"
    }
   ],
   "execution_count": 6
  },
  {
   "metadata": {
    "ExecuteTime": {
     "end_time": "2025-06-01T19:33:38.353766Z",
     "start_time": "2025-06-01T19:33:38.350959Z"
    }
   },
   "cell_type": "code",
   "source": "signature_result",
   "outputs": [
    {
     "data": {
      "text/plain": [
       "<rectanglepy.pp.rectangle_signature.RectangleSignatureResult at 0x166e33280>"
      ]
     },
     "execution_count": 7,
     "metadata": {},
     "output_type": "execute_result"
    }
   ],
   "execution_count": 7
  },
  {
   "cell_type": "markdown",
   "source": "## 2-step Rectangle workflow",
   "metadata": {
    "collapsed": false
   }
  },
  {
   "cell_type": "markdown",
   "source": [
    "Rectangle can also be run in two steps, first creating the signature and then deconvoluting the bulk data."
   ],
   "metadata": {
    "collapsed": false
   }
  },
  {
   "cell_type": "markdown",
   "source": "**1. Create Signature result**",
   "metadata": {
    "collapsed": false
   }
  },
  {
   "cell_type": "code",
   "source": [
    "signature_result = rectangle.pp.build_rectangle_signatures(sc_adata, bulks=bulks)"
   ],
   "metadata": {
    "collapsed": false
   },
   "outputs": [],
   "execution_count": null
  },
  {
   "cell_type": "markdown",
   "source": [
    "This creates a [`RectangleSignatureResult`](../generated/rectanglepy.pp.RectangleSignatureResult.rst) object."
   ],
   "metadata": {
    "collapsed": false
   }
  },
  {
   "cell_type": "markdown",
   "source": "**2. Deconvolute bulk data**",
   "metadata": {
    "collapsed": false
   }
  },
  {
   "metadata": {},
   "cell_type": "markdown",
   "source": "We can then use the signature result to deconvolute the bulk data. This is done using the `deconvolution` method of the `RectangleSignatureResult` object."
  },
  {
   "cell_type": "code",
   "source": "estimations, _ = rectangle.tl.deconvolution(signature_result, bulks)",
   "metadata": {
    "collapsed": false
   },
   "outputs": [],
   "execution_count": null
  },
  {
   "cell_type": "markdown",
   "source": [
    "This returns a pandas DataFrame with the estimated cell type proportions."
   ],
   "metadata": {
    "collapsed": false
   }
  },
  {
   "cell_type": "code",
   "source": "estimations",
   "metadata": {
    "collapsed": false,
    "ExecuteTime": {
     "end_time": "2025-06-01T19:36:26.049491Z",
     "start_time": "2025-06-01T19:36:26.040208Z"
    }
   },
   "outputs": [
    {
     "data": {
      "text/plain": [
       "          B cells       ILC  Monocytes  NK cells  Plasma cells  Platelet   \n",
       "pbmc_1   0.090739  0.011386   0.229843  0.022667      0.005956  0.004898  \\\n",
       "pbmc_10  0.110518  0.016910   0.297931  0.016344      0.000659  0.021996   \n",
       "pbmc_12  0.071532  0.007335   0.225517  0.101075      0.003095  0.018637   \n",
       "\n",
       "         T cells CD4 conv  T cells CD8     Tregs       mDC       pDC   Unknown  \n",
       "pbmc_1       2.833039e-02     0.162392  0.416964  0.024425  0.002401  0.000000  \n",
       "pbmc_10      8.220139e-18     0.118382  0.391830  0.020750  0.004678  0.000000  \n",
       "pbmc_12      0.000000e+00     0.275009  0.256503  0.010054  0.002985  0.028258  "
      ],
      "text/html": [
       "<div>\n",
       "<style scoped>\n",
       "    .dataframe tbody tr th:only-of-type {\n",
       "        vertical-align: middle;\n",
       "    }\n",
       "\n",
       "    .dataframe tbody tr th {\n",
       "        vertical-align: top;\n",
       "    }\n",
       "\n",
       "    .dataframe thead th {\n",
       "        text-align: right;\n",
       "    }\n",
       "</style>\n",
       "<table border=\"1\" class=\"dataframe\">\n",
       "  <thead>\n",
       "    <tr style=\"text-align: right;\">\n",
       "      <th></th>\n",
       "      <th>B cells</th>\n",
       "      <th>ILC</th>\n",
       "      <th>Monocytes</th>\n",
       "      <th>NK cells</th>\n",
       "      <th>Plasma cells</th>\n",
       "      <th>Platelet</th>\n",
       "      <th>T cells CD4 conv</th>\n",
       "      <th>T cells CD8</th>\n",
       "      <th>Tregs</th>\n",
       "      <th>mDC</th>\n",
       "      <th>pDC</th>\n",
       "      <th>Unknown</th>\n",
       "    </tr>\n",
       "  </thead>\n",
       "  <tbody>\n",
       "    <tr>\n",
       "      <th>pbmc_1</th>\n",
       "      <td>0.090739</td>\n",
       "      <td>0.011386</td>\n",
       "      <td>0.229843</td>\n",
       "      <td>0.022667</td>\n",
       "      <td>0.005956</td>\n",
       "      <td>0.004898</td>\n",
       "      <td>2.833039e-02</td>\n",
       "      <td>0.162392</td>\n",
       "      <td>0.416964</td>\n",
       "      <td>0.024425</td>\n",
       "      <td>0.002401</td>\n",
       "      <td>0.000000</td>\n",
       "    </tr>\n",
       "    <tr>\n",
       "      <th>pbmc_10</th>\n",
       "      <td>0.110518</td>\n",
       "      <td>0.016910</td>\n",
       "      <td>0.297931</td>\n",
       "      <td>0.016344</td>\n",
       "      <td>0.000659</td>\n",
       "      <td>0.021996</td>\n",
       "      <td>8.220139e-18</td>\n",
       "      <td>0.118382</td>\n",
       "      <td>0.391830</td>\n",
       "      <td>0.020750</td>\n",
       "      <td>0.004678</td>\n",
       "      <td>0.000000</td>\n",
       "    </tr>\n",
       "    <tr>\n",
       "      <th>pbmc_12</th>\n",
       "      <td>0.071532</td>\n",
       "      <td>0.007335</td>\n",
       "      <td>0.225517</td>\n",
       "      <td>0.101075</td>\n",
       "      <td>0.003095</td>\n",
       "      <td>0.018637</td>\n",
       "      <td>0.000000e+00</td>\n",
       "      <td>0.275009</td>\n",
       "      <td>0.256503</td>\n",
       "      <td>0.010054</td>\n",
       "      <td>0.002985</td>\n",
       "      <td>0.028258</td>\n",
       "    </tr>\n",
       "  </tbody>\n",
       "</table>\n",
       "</div>"
      ]
     },
     "execution_count": 12,
     "metadata": {},
     "output_type": "execute_result"
    }
   ],
   "execution_count": 12
  },
  {
   "metadata": {},
   "cell_type": "markdown",
   "source": "# Bulk RNA-seq deconvolution"
  },
  {
   "metadata": {},
   "cell_type": "markdown",
   "source": [
    "Let us now see how we can use Rectangle to deconvolute bulk RNA-seq data.\n",
    "For the Bulk RNA-seq data, we will use the [Finotello](https://figshare.com/articles/dataset/Validation_real/25347757?file=44877523) dataset:\n",
    "\n",
    "*Finotello, F. et al. Molecular and pharmacological modulators of the tumor immune contexture revealed by deconvolution of RNA-seq data. Genome Med. 11, 34 (2019)*"
   ]
  },
  {
   "metadata": {
    "ExecuteTime": {
     "end_time": "2025-07-27T18:45:05.985903Z",
     "start_time": "2025-07-27T18:45:05.942408Z"
    }
   },
   "cell_type": "code",
   "source": [
    "bulks_fino = pd.read_csv(\"../data/bulks_finotello_tpm.csv\", index_col=0)\n",
    "bulks_fino.head()"
   ],
   "outputs": [
    {
     "data": {
      "text/plain": [
       "              pbmc_1   pbmc_10   pbmc_12    pbmc_2    pbmc_4    pbmc_5  \\\n",
       "UBE2Q2P2    0.000000  0.081115  0.000000  0.000000  0.059691  0.613015   \n",
       "SSX9        0.000000  0.000000  0.000000  0.000000  0.212565  0.000000   \n",
       "CXorf67     0.118865  0.086782  0.188464  0.094006  0.496705  0.196090   \n",
       "EFCAB8      0.000000  0.000000  0.031570  0.004499  0.346400  0.385828   \n",
       "SPATA31B1P  0.000000  0.000000  0.000000  0.000000  0.000000  0.000000   \n",
       "\n",
       "            pbmc_6    pbmc_7    pbmc_9  \n",
       "UBE2Q2P2       0.0  0.000000  0.000000  \n",
       "SSX9           0.0  0.000000  0.000000  \n",
       "CXorf67        0.0  0.165406  0.157926  \n",
       "EFCAB8         0.0  0.048187  0.041571  \n",
       "SPATA31B1P     0.0  0.000000  0.000000  "
      ],
      "text/html": [
       "<div>\n",
       "<style scoped>\n",
       "    .dataframe tbody tr th:only-of-type {\n",
       "        vertical-align: middle;\n",
       "    }\n",
       "\n",
       "    .dataframe tbody tr th {\n",
       "        vertical-align: top;\n",
       "    }\n",
       "\n",
       "    .dataframe thead th {\n",
       "        text-align: right;\n",
       "    }\n",
       "</style>\n",
       "<table border=\"1\" class=\"dataframe\">\n",
       "  <thead>\n",
       "    <tr style=\"text-align: right;\">\n",
       "      <th></th>\n",
       "      <th>pbmc_1</th>\n",
       "      <th>pbmc_10</th>\n",
       "      <th>pbmc_12</th>\n",
       "      <th>pbmc_2</th>\n",
       "      <th>pbmc_4</th>\n",
       "      <th>pbmc_5</th>\n",
       "      <th>pbmc_6</th>\n",
       "      <th>pbmc_7</th>\n",
       "      <th>pbmc_9</th>\n",
       "    </tr>\n",
       "  </thead>\n",
       "  <tbody>\n",
       "    <tr>\n",
       "      <th>UBE2Q2P2</th>\n",
       "      <td>0.000000</td>\n",
       "      <td>0.081115</td>\n",
       "      <td>0.000000</td>\n",
       "      <td>0.000000</td>\n",
       "      <td>0.059691</td>\n",
       "      <td>0.613015</td>\n",
       "      <td>0.0</td>\n",
       "      <td>0.000000</td>\n",
       "      <td>0.000000</td>\n",
       "    </tr>\n",
       "    <tr>\n",
       "      <th>SSX9</th>\n",
       "      <td>0.000000</td>\n",
       "      <td>0.000000</td>\n",
       "      <td>0.000000</td>\n",
       "      <td>0.000000</td>\n",
       "      <td>0.212565</td>\n",
       "      <td>0.000000</td>\n",
       "      <td>0.0</td>\n",
       "      <td>0.000000</td>\n",
       "      <td>0.000000</td>\n",
       "    </tr>\n",
       "    <tr>\n",
       "      <th>CXorf67</th>\n",
       "      <td>0.118865</td>\n",
       "      <td>0.086782</td>\n",
       "      <td>0.188464</td>\n",
       "      <td>0.094006</td>\n",
       "      <td>0.496705</td>\n",
       "      <td>0.196090</td>\n",
       "      <td>0.0</td>\n",
       "      <td>0.165406</td>\n",
       "      <td>0.157926</td>\n",
       "    </tr>\n",
       "    <tr>\n",
       "      <th>EFCAB8</th>\n",
       "      <td>0.000000</td>\n",
       "      <td>0.000000</td>\n",
       "      <td>0.031570</td>\n",
       "      <td>0.004499</td>\n",
       "      <td>0.346400</td>\n",
       "      <td>0.385828</td>\n",
       "      <td>0.0</td>\n",
       "      <td>0.048187</td>\n",
       "      <td>0.041571</td>\n",
       "    </tr>\n",
       "    <tr>\n",
       "      <th>SPATA31B1P</th>\n",
       "      <td>0.000000</td>\n",
       "      <td>0.000000</td>\n",
       "      <td>0.000000</td>\n",
       "      <td>0.000000</td>\n",
       "      <td>0.000000</td>\n",
       "      <td>0.000000</td>\n",
       "      <td>0.0</td>\n",
       "      <td>0.000000</td>\n",
       "      <td>0.000000</td>\n",
       "    </tr>\n",
       "  </tbody>\n",
       "</table>\n",
       "</div>"
      ]
     },
     "execution_count": 5,
     "metadata": {},
     "output_type": "execute_result"
    }
   ],
   "execution_count": 5
  },
  {
   "metadata": {},
   "cell_type": "markdown",
   "source": [
    "For the single-cell data, we select a [subset](https://figshare.com/articles/dataset/Training_sc/25348051?file=56063936) of the Hao CITE-seq single-cell dataset from human peripheral blood mononuclear cells (PBMC):\n",
    "\n",
    "*Hao Y, Hao S, Andersen-Nissen E, Mauck WM 3rd, Zheng S, Butler A, et al. Integrated analysis of multimodal single-cell data. Cell. 2021;184:3573–87.e29.*"
   ]
  },
  {
   "metadata": {
    "ExecuteTime": {
     "end_time": "2025-07-27T18:50:11.766153Z",
     "start_time": "2025-07-27T18:50:10.958546Z"
    }
   },
   "cell_type": "code",
   "source": [
    "haoSub_adata = read_h5ad(\"../data/haoSub_adata.h5ad\")\n",
    "haoSub_adata"
   ],
   "outputs": [
    {
     "data": {
      "text/plain": [
       "AnnData object with n_obs × n_vars = 14744 × 24049\n",
       "    obs: 'cell_type'"
      ]
     },
     "execution_count": 11,
     "metadata": {},
     "output_type": "execute_result"
    }
   ],
   "execution_count": 11
  },
  {
   "metadata": {},
   "cell_type": "markdown",
   "source": "We can use the `rectangle` method to deconvolute the bulk data using the single-cell data."
  },
  {
   "metadata": {},
   "cell_type": "code",
   "source": "estimations, signature_result = rectangle.rectangle(haoSub_adata, bulks_fino.T)",
   "execution_count": null,
   "outputs": []
  },
  {
   "metadata": {
    "ExecuteTime": {
     "end_time": "2025-07-27T18:57:44.073531Z",
     "start_time": "2025-07-27T18:57:43.977597Z"
    }
   },
   "cell_type": "code",
   "source": [
    "estimations.iloc[0].plot(kind='bar',\n",
    "                         title='Estimated cell type proportions for first bulk sample',\n",
    "                         ylabel='Proportion',\n",
    "                         xlabel='Cell type'\n",
    "                         )"
   ],
   "outputs": [
    {
     "data": {
      "text/plain": [
       "<Axes: title={'center': 'Estimated cell type proportions for first bulk sample'}, xlabel='Cell type', ylabel='Proportion'>"
      ]
     },
     "execution_count": 22,
     "metadata": {},
     "output_type": "execute_result"
    },
    {
     "data": {
      "text/plain": [
       "<Figure size 640x480 with 1 Axes>"
      ],
      "image/png": "[encoded data removed]"
     },
     "metadata": {},
     "output_type": "display_data"
    }
   ],
   "execution_count": 22
  },
  {
   "metadata": {},
   "cell_type": "markdown",
   "source": [
    "Though the following code is not unique to Rectangle, it is useful in real world scenarios to evaluate the estimation performance.\n",
    "\n",
    "So let us further explore the  estimation performance by plotting the estimated cell type proportions against the [true cell type proportions](https://figshare.com/articles/dataset/Validation_real/25347757?file=44877526).\n"
   ]
  },
  {
   "metadata": {
    "ExecuteTime": {
     "end_time": "2025-07-29T17:03:46.206561Z",
     "start_time": "2025-07-29T17:03:46.200142Z"
    }
   },
   "cell_type": "code",
   "source": [
    "finotello_true = pd.read_csv('../data/finotello_facs.csv', index_col=0).T\n",
    "finotello_true = finotello_true.fillna(0)\n",
    "finotello_true.columns = [\"NK cells\", 'B cells', 'Tregs', 'mDC', 'Monocytes', 'Neutrophils', 'T cells CD8',\n",
    "                         'T cells CD4 conv', 'Other']"
   ],
   "outputs": [],
   "execution_count": 47
  },
  {
   "metadata": {},
   "cell_type": "markdown",
   "source": "First we need to do some data wrangling to make the data compatible.\n"
  },
  {
   "metadata": {
    "ExecuteTime": {
     "end_time": "2025-07-29T17:03:47.195109Z",
     "start_time": "2025-07-29T17:03:47.186131Z"
    }
   },
   "cell_type": "code",
   "source": [
    "def match_dfs(df1, df2):\n",
    "    common_rows = df1.index.intersection(df2.index)\n",
    "    common_cols = df1.columns.intersection(df2.columns)\n",
    "    df1_matched = df1.loc[common_rows, common_cols].sort_index().sort_index(axis=1)\n",
    "    df2_matched = df2.loc[common_rows, common_cols].sort_index().sort_index(axis=1)\n",
    "    return df1_matched, df2_matched\n",
    "\n",
    "def create_evaluation_df(expected_df, estimated_df):\n",
    "    evalutation_df = expected_df.T.melt()\n",
    "    estimated_df_e = estimated_df.T.melt()\n",
    "    evalutation_df['result'] = estimated_df_e['value']\n",
    "    evalutation_df.columns = ['Cell type','True Fractions' , 'Estimated Fractions']\n",
    "    return evalutation_df\n",
    "\n",
    "true_m, finotello_m = match_dfs(finotello_true.T, estimations.T)\n",
    "true_m = true_m.sort_index(key=lambda x: x.str.lower())\n",
    "finotello_m = finotello_m.sort_index(key=lambda x: x.str.lower())\n",
    "\n",
    "evaluation_df = create_evaluation_df(true_m, finotello_m)\n"
   ],
   "outputs": [],
   "execution_count": 48
  },
  {
   "metadata": {},
   "cell_type": "markdown",
   "source": [
    "Next we calculate some perfomance metrics to evaluate the estimation performance.\n",
    "and plot the results."
   ]
  },
  {
   "metadata": {
    "ExecuteTime": {
     "end_time": "2025-07-29T17:03:48.116842Z",
     "start_time": "2025-07-29T17:03:47.938962Z"
    }
   },
   "cell_type": "code",
   "source": [
    "import numpy as np\n",
    "from scipy.stats import pearsonr\n",
    "import seaborn as sns\n",
    "\n",
    "def evaulate_total_df(df):\n",
    "    rsme_total = np.sqrt(np.mean((df['Estimated Fractions'] - df['True Fractions']) ** 2))\n",
    "    r_value_total, p_value_total =  pearsonr(df['Estimated Fractions'], df['True Fractions'])\n",
    "    return rsme_total, r_value_total, p_value_total\n",
    "\n",
    "rsme_finotello_rectangle, r_finotello_rectangle, p_finotello_rectangle = evaulate_total_df(evaluation_df)\n",
    "\n",
    "def create_scatter_plot_total(df, rsme, p_value, r_value, title=\"Total\", y_axis_label=\"Estimated Fractions\", x_axis_label=\"True Fractions\", hue=\"Cell type\"):\n",
    "    sns.set_style(\"white\")\n",
    "    g = sns.scatterplot(x=\"True Fractions\", y=\"Estimated Fractions\",hue=hue, data=df)\n",
    "    sns.regplot(x=\"True Fractions\", y=\"Estimated Fractions\", data=df, scatter=False, color='#444444', ci=None)\n",
    "    text = f\"r = {round(r_value, 3)}, p = {round(p_value, 10)} \\nRMSE = {round(rsme, 3)}\\nn = {len(df)}\"\n",
    "    g.set(xlabel=x_axis_label, ylabel=y_axis_label)\n",
    "    g.legend(loc='center left', bbox_to_anchor=(1, 0.5))\n",
    "    g.annotate(text, xy=(0.01, 0.95), xycoords=\"axes fraction\",\n",
    "                xytext=(5, -5), textcoords=\"offset points\",\n",
    "                ha=\"left\", va=\"top\")\n",
    "    g.set_xlim(0, g.get_xlim()[1])\n",
    "    g.set_ylim(0, g.get_ylim()[1])\n",
    "    return g\n",
    "\n",
    "rsme_finotello_rectangle, r_finotello_rectangle, p_finotello_rectangle = evaulate_total_df(evaluation_df)\n",
    "create_scatter_plot_total(evaluation_df, rsme_finotello_rectangle, p_finotello_rectangle, r_finotello_rectangle)"
   ],
   "outputs": [
    {
     "data": {
      "text/plain": [
       "<Axes: xlabel='True Fractions', ylabel='Estimated Fractions'>"
      ]
     },
     "execution_count": 49,
     "metadata": {},
     "output_type": "execute_result"
    },
    {
     "data": {
      "text/plain": [
       "<Figure size 640x480 with 1 Axes>"
      ],
      "image/png": "[encoded data removed]"
     },
     "metadata": {},
     "output_type": "display_data"
    }
   ],
   "execution_count": 49
  },
  {
   "metadata": {},
   "cell_type": "markdown",
   "source": "# Spatial transcriptomics deconvolution"
  },
  {
   "metadata": {},
   "cell_type": "markdown",
   "source": [
    "To see how Rectangle can be used with spatial data, we can load a remote dataset using the `spatialdata` package.\n",
    "See the [spatialdata documentation](https://spatialdata.scverse.org/en/stable/index.html) for more details.\n",
    "\n",
    "We use the [10x Visium data generated from the human dorsolateral prefrontal cortex](https://github.com/LieberInstitute/HumanPilot/tree/master/10X/151673)\n",
    "\n",
    "Which can be dowloaded from here:\n",
    "[https://spatial-dlpfc.s3.us-east-2.amazonaws.com/h5/151673_filtered_feature_bc_matrix.h5](https://spatial-dlpfc.s3.us-east-2.amazonaws.com/h5/151673_filtered_feature_bc_matrix.h5)"
   ]
  },
  {
   "metadata": {},
   "cell_type": "code",
   "source": [
    "import spatialdata\n",
    "import spatialdata_io\n",
    "\n",
    "s_data = spatialdata_io.visium(path='../data', dataset_id='151673',scalefactors_file='scalefactors_json.json', tissue_positions_file='tissue_positions.csv', counts_file='151673_filtered_feature_bc_matrix.h5')\n"
   ],
   "execution_count": null,
   "outputs": []
  },
  {
   "metadata": {},
   "cell_type": "markdown",
   "source": " To build the signature we will load the [M1 Allen Brain atlas](https://portal.brain-map.org/atlases-and-data/rnaseq/human-m1-10x)"
  },
  {
   "metadata": {},
   "cell_type": "code",
   "execution_count": null,
   "source": [
    "counts = pd.read_csv('../data/human_m1/matrix.csv', index_col=0)\n",
    "counts = counts.astype(int)\n",
    "metadata = pd.read_csv('../data/human_m1/metadata.csv', index_col=0)\n",
    "annotations = metadata['cell_type_alias_label']\n"
   ],
   "outputs": []
  },
  {
   "metadata": {},
   "cell_type": "markdown",
   "source": "We do a simple preprocessing of the annotations to group the cell types into broader categories."
  },
  {
   "metadata": {},
   "cell_type": "code",
   "outputs": [],
   "execution_count": null,
   "source": [
    "# remove anything after the second space(word)\n",
    "annotations = annotations.str.split(' ', n=2).str[:2].str.join(' ')\n",
    "# remove anything afert first minus\n",
    "annotations = annotations.str.split('-', n=1).str[0]"
   ]
  },
  {
   "metadata": {},
   "cell_type": "markdown",
   "source": "We can run Rectangle on the spatial data using the `rectangle` method, by using the 'table' object of the `SpatialData` object."
  },
  {
   "metadata": {},
   "cell_type": "code",
   "source": [
    "adata = AnnData(counts, obs=annotations.to_frame(name='cell_type'))\n",
    "\n",
    "data_table = s_data['table']\n",
    "bulks = data_table.to_df()\n",
    "# Convert bulks from counts to CPM\n",
    "bulks_cpm = bulks.div(bulks.sum(axis=1), axis=0) * 1e6\n"
   ],
   "outputs": [],
   "execution_count": null
  },
  {
   "metadata": {},
   "cell_type": "code",
   "outputs": [],
   "execution_count": null,
   "source": "estimations, signature_result = rectangle.rectangle(adata, bulks_cpm)\n"
  },
  {
   "metadata": {},
   "cell_type": "markdown",
   "source": "We can annotate the spatial data with the estimations by creating a new `AnnData` object from the estimations and adding it to the `SpatialData` object."
  },
  {
   "metadata": {},
   "cell_type": "code",
   "outputs": [],
   "execution_count": null,
   "source": [
    "from spatialdata.models import TableModel\n",
    "\n",
    "table_data = AnnData(estimations)\n",
    "adata_for_sdata = TableModel.parse(table_data)\n",
    "\n",
    "adata_for_sdata.uns[\"spatialdata_attrs\"] = {\n",
    "    \"region\": \"spots\",\n",
    "    \"region_key\": \"region\",\n",
    "    \"instance_key\": \"spot_id\",\n",
    "}\n",
    "\n",
    "adata_for_sdata.obs[\"region\"] = pd.Categorical([\"spots\"] * len(adata_for_sdata))\n",
    "adata_for_sdata.obs[\"spot_id\"] = s_data.tables.data['table'].obs[\"spot_id\"]\n",
    "\n",
    "s_data.tables[\"rectangle_results\"] = adata_for_sdata"
   ]
  }
 ],
 "metadata": {
  "kernelspec": {
   "display_name": "Python 3.9.12 ('squidpy39')",
   "language": "python",
   "name": "python3"
  },
  "language_info": {
   "codemirror_mode": {
    "name": "ipython",
    "version": 3
   },
   "file_extension": ".py",
   "mimetype": "text/x-python",
   "name": "python",
   "nbconvert_exporter": "python",
   "pygments_lexer": "ipython3",
   "version": "3.9.12"
  },
  "vscode": {
   "interpreter": {
    "hash": "ae6466e8d4f517858789b5c9e8f0ed238fb8964458a36305fca7bddc149e9c64"
   }
  }
 },
 "nbformat": 4,
 "nbformat_minor": 4
}
