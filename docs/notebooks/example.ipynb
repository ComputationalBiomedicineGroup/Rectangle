{
 "cells": [
  {
   "cell_type": "markdown",
   "metadata": {},
   "source": [
    "# Example workflow"
   ]
  },
  {
   "cell_type": "markdown",
   "source": [
    "### Import Packages"
   ],
   "metadata": {
    "collapsed": false
   }
  },
  {
   "cell_type": "code",
   "execution_count": 1,
   "metadata": {
    "ExecuteTime": {
     "end_time": "2023-11-21T11:20:57.733043Z",
     "start_time": "2023-11-21T11:20:56.452742Z"
    }
   },
   "outputs": [],
   "source": [
    "import rectanglepy as rectangle\n",
    "from anndata import AnnData"
   ]
  },
  {
   "cell_type": "markdown",
   "source": [
    "## Load tutorial data"
   ],
   "metadata": {
    "collapsed": false
   }
  },
  {
   "cell_type": "code",
   "execution_count": 2,
   "metadata": {
    "ExecuteTime": {
     "end_time": "2023-11-21T11:20:57.768456Z",
     "start_time": "2023-11-21T11:20:57.734002Z"
    }
   },
   "outputs": [],
   "source": [
    "sc_counts, annotations, bulks  = rectangle.pp.load_tutorial_sc_data()"
   ]
  },
  {
   "cell_type": "code",
   "execution_count": 3,
   "outputs": [
    {
     "data": {
      "text/plain": "         E2L4_GATGCTACAGGCACAA  L3_AACGTCACATCAGCAT  L3_GGAATGGGTCTAACGT   \nNOC2L                        0                    0                    0  \\\nHES4                        11                    0                    0   \nISG15                        7                    1                    0   \nSDF4                         0                    0                    2   \nB3GALT6                      2                    0                    0   \n\n         E2L7_GTCATTTAGGCCTTCG  E2L6_CCCTTAGCATTGACCA  E2L8_CTGAATGAGACGTCGA   \nNOC2L                        2                      0                      0  \\\nHES4                         1                      0                      0   \nISG15                        1                      0                      0   \nSDF4                         2                      1                      1   \nB3GALT6                      0                      0                      0   \n\n         E2L2_AAGCATCAGAAGATCT  E2L2_ACTTCCGTCTGGACCG  E2L6_GTCGTTCGTGTTACAC   \nNOC2L                        1                      0                      0  \\\nHES4                         0                      0                      0   \nISG15                        4                      0                      0   \nSDF4                         2                      0                      0   \nB3GALT6                      0                      0                      0   \n\n         E2L6_TTACCGCAGGTAGCCA  ...  E2L2_CGAGTGCAGCGCATCC   \nNOC2L                        0  ...                      3  \\\nHES4                         0  ...                      0   \nISG15                        1  ...                     13   \nSDF4                         0  ...                      5   \nB3GALT6                      0  ...                      0   \n\n         L2_CATGCGGCAATCGCGC  E2L1_CGGACACAGACTAGAT  L5_AGAAGCGCACGACAGA   \nNOC2L                      1                      0                    0  \\\nHES4                       0                      0                    0   \nISG15                      1                      0                    5   \nSDF4                       3                      4                    2   \nB3GALT6                    0                      0                    0   \n\n         L3_CATTGCCCAAGACAAT  E2L8_CCTTGTGTCACTCACC  E2L4_CTAGACACAGGACTAG   \nNOC2L                      1                      0                      2  \\\nHES4                       0                      0                      0   \nISG15                      0                      2                      0   \nSDF4                       1                      0                      1   \nB3GALT6                    0                      0                      2   \n\n         E2L5_GGTTGTACAGAATCGG  E2L5_ATGGTTGAGTGAGGTC  E2L3_GCTTTCGTCGACGATT  \nNOC2L                        1                      1                      1  \nHES4                         0                      0                      0  \nISG15                        4                      4                      3  \nSDF4                         0                      2                      0  \nB3GALT6                      0                      0                      0  \n\n[5 rows x 95 columns]",
      "text/html": "<div>\n<style scoped>\n    .dataframe tbody tr th:only-of-type {\n        vertical-align: middle;\n    }\n\n    .dataframe tbody tr th {\n        vertical-align: top;\n    }\n\n    .dataframe thead th {\n        text-align: right;\n    }\n</style>\n<table border=\"1\" class=\"dataframe\">\n  <thead>\n    <tr style=\"text-align: right;\">\n      <th></th>\n      <th>E2L4_GATGCTACAGGCACAA</th>\n      <th>L3_AACGTCACATCAGCAT</th>\n      <th>L3_GGAATGGGTCTAACGT</th>\n      <th>E2L7_GTCATTTAGGCCTTCG</th>\n      <th>E2L6_CCCTTAGCATTGACCA</th>\n      <th>E2L8_CTGAATGAGACGTCGA</th>\n      <th>E2L2_AAGCATCAGAAGATCT</th>\n      <th>E2L2_ACTTCCGTCTGGACCG</th>\n      <th>E2L6_GTCGTTCGTGTTACAC</th>\n      <th>E2L6_TTACCGCAGGTAGCCA</th>\n      <th>...</th>\n      <th>E2L2_CGAGTGCAGCGCATCC</th>\n      <th>L2_CATGCGGCAATCGCGC</th>\n      <th>E2L1_CGGACACAGACTAGAT</th>\n      <th>L5_AGAAGCGCACGACAGA</th>\n      <th>L3_CATTGCCCAAGACAAT</th>\n      <th>E2L8_CCTTGTGTCACTCACC</th>\n      <th>E2L4_CTAGACACAGGACTAG</th>\n      <th>E2L5_GGTTGTACAGAATCGG</th>\n      <th>E2L5_ATGGTTGAGTGAGGTC</th>\n      <th>E2L3_GCTTTCGTCGACGATT</th>\n    </tr>\n  </thead>\n  <tbody>\n    <tr>\n      <th>NOC2L</th>\n      <td>0</td>\n      <td>0</td>\n      <td>0</td>\n      <td>2</td>\n      <td>0</td>\n      <td>0</td>\n      <td>1</td>\n      <td>0</td>\n      <td>0</td>\n      <td>0</td>\n      <td>...</td>\n      <td>3</td>\n      <td>1</td>\n      <td>0</td>\n      <td>0</td>\n      <td>1</td>\n      <td>0</td>\n      <td>2</td>\n      <td>1</td>\n      <td>1</td>\n      <td>1</td>\n    </tr>\n    <tr>\n      <th>HES4</th>\n      <td>11</td>\n      <td>0</td>\n      <td>0</td>\n      <td>1</td>\n      <td>0</td>\n      <td>0</td>\n      <td>0</td>\n      <td>0</td>\n      <td>0</td>\n      <td>0</td>\n      <td>...</td>\n      <td>0</td>\n      <td>0</td>\n      <td>0</td>\n      <td>0</td>\n      <td>0</td>\n      <td>0</td>\n      <td>0</td>\n      <td>0</td>\n      <td>0</td>\n      <td>0</td>\n    </tr>\n    <tr>\n      <th>ISG15</th>\n      <td>7</td>\n      <td>1</td>\n      <td>0</td>\n      <td>1</td>\n      <td>0</td>\n      <td>0</td>\n      <td>4</td>\n      <td>0</td>\n      <td>0</td>\n      <td>1</td>\n      <td>...</td>\n      <td>13</td>\n      <td>1</td>\n      <td>0</td>\n      <td>5</td>\n      <td>0</td>\n      <td>2</td>\n      <td>0</td>\n      <td>4</td>\n      <td>4</td>\n      <td>3</td>\n    </tr>\n    <tr>\n      <th>SDF4</th>\n      <td>0</td>\n      <td>0</td>\n      <td>2</td>\n      <td>2</td>\n      <td>1</td>\n      <td>1</td>\n      <td>2</td>\n      <td>0</td>\n      <td>0</td>\n      <td>0</td>\n      <td>...</td>\n      <td>5</td>\n      <td>3</td>\n      <td>4</td>\n      <td>2</td>\n      <td>1</td>\n      <td>0</td>\n      <td>1</td>\n      <td>0</td>\n      <td>2</td>\n      <td>0</td>\n    </tr>\n    <tr>\n      <th>B3GALT6</th>\n      <td>2</td>\n      <td>0</td>\n      <td>0</td>\n      <td>0</td>\n      <td>0</td>\n      <td>0</td>\n      <td>0</td>\n      <td>0</td>\n      <td>0</td>\n      <td>0</td>\n      <td>...</td>\n      <td>0</td>\n      <td>0</td>\n      <td>0</td>\n      <td>0</td>\n      <td>0</td>\n      <td>0</td>\n      <td>2</td>\n      <td>0</td>\n      <td>0</td>\n      <td>0</td>\n    </tr>\n  </tbody>\n</table>\n<p>5 rows × 95 columns</p>\n</div>"
     },
     "execution_count": 3,
     "metadata": {},
     "output_type": "execute_result"
    }
   ],
   "source": [
    "sc_counts.head()"
   ],
   "metadata": {
    "collapsed": false,
    "ExecuteTime": {
     "end_time": "2023-11-21T11:20:57.780049Z",
     "start_time": "2023-11-21T11:20:57.770115Z"
    }
   }
  },
  {
   "cell_type": "code",
   "execution_count": 4,
   "outputs": [
    {
     "data": {
      "text/plain": "E2L4_GATGCTACAGGCACAA    Monocytes\nL3_AACGTCACATCAGCAT      Monocytes\nL3_GGAATGGGTCTAACGT      Monocytes\nE2L7_GTCATTTAGGCCTTCG    Monocytes\nE2L6_CCCTTAGCATTGACCA    Monocytes\nName: 0, dtype: object"
     },
     "execution_count": 4,
     "metadata": {},
     "output_type": "execute_result"
    }
   ],
   "source": [
    "annotations.head()"
   ],
   "metadata": {
    "collapsed": false,
    "ExecuteTime": {
     "end_time": "2023-11-21T11:20:57.783597Z",
     "start_time": "2023-11-21T11:20:57.778867Z"
    }
   }
  },
  {
   "cell_type": "code",
   "execution_count": 5,
   "outputs": [
    {
     "data": {
      "text/plain": "          pbmc_1     pbmc_10     pbmc_12      pbmc_2      pbmc_4      pbmc_5   \nACO2   61.622872   50.203845   52.941600   35.418700   32.456407   49.126300  \\\nAFF3    3.295273    3.252860    2.434910    1.679995    7.960524    7.122442   \nAIF1  597.287900  828.944100  660.822400  630.792900  511.570690  583.109220   \nAKNA   77.983332   61.366859   78.963328   76.144263  170.505107  161.732441   \nARF4   61.971550   44.870757   63.573104   37.797272   37.027217   45.130400   \n\n          pbmc_6      pbmc_7      pbmc_9  \nACO2   53.256380   45.731200   46.525152  \nAFF3    2.090572    3.170789    2.467964  \nAIF1  706.516940  880.898400  798.426800  \nAKNA   67.800729   84.280110   62.216777  \nARF4   62.890100   58.591060   50.318090  ",
      "text/html": "<div>\n<style scoped>\n    .dataframe tbody tr th:only-of-type {\n        vertical-align: middle;\n    }\n\n    .dataframe tbody tr th {\n        vertical-align: top;\n    }\n\n    .dataframe thead th {\n        text-align: right;\n    }\n</style>\n<table border=\"1\" class=\"dataframe\">\n  <thead>\n    <tr style=\"text-align: right;\">\n      <th></th>\n      <th>pbmc_1</th>\n      <th>pbmc_10</th>\n      <th>pbmc_12</th>\n      <th>pbmc_2</th>\n      <th>pbmc_4</th>\n      <th>pbmc_5</th>\n      <th>pbmc_6</th>\n      <th>pbmc_7</th>\n      <th>pbmc_9</th>\n    </tr>\n  </thead>\n  <tbody>\n    <tr>\n      <th>ACO2</th>\n      <td>61.622872</td>\n      <td>50.203845</td>\n      <td>52.941600</td>\n      <td>35.418700</td>\n      <td>32.456407</td>\n      <td>49.126300</td>\n      <td>53.256380</td>\n      <td>45.731200</td>\n      <td>46.525152</td>\n    </tr>\n    <tr>\n      <th>AFF3</th>\n      <td>3.295273</td>\n      <td>3.252860</td>\n      <td>2.434910</td>\n      <td>1.679995</td>\n      <td>7.960524</td>\n      <td>7.122442</td>\n      <td>2.090572</td>\n      <td>3.170789</td>\n      <td>2.467964</td>\n    </tr>\n    <tr>\n      <th>AIF1</th>\n      <td>597.287900</td>\n      <td>828.944100</td>\n      <td>660.822400</td>\n      <td>630.792900</td>\n      <td>511.570690</td>\n      <td>583.109220</td>\n      <td>706.516940</td>\n      <td>880.898400</td>\n      <td>798.426800</td>\n    </tr>\n    <tr>\n      <th>AKNA</th>\n      <td>77.983332</td>\n      <td>61.366859</td>\n      <td>78.963328</td>\n      <td>76.144263</td>\n      <td>170.505107</td>\n      <td>161.732441</td>\n      <td>67.800729</td>\n      <td>84.280110</td>\n      <td>62.216777</td>\n    </tr>\n    <tr>\n      <th>ARF4</th>\n      <td>61.971550</td>\n      <td>44.870757</td>\n      <td>63.573104</td>\n      <td>37.797272</td>\n      <td>37.027217</td>\n      <td>45.130400</td>\n      <td>62.890100</td>\n      <td>58.591060</td>\n      <td>50.318090</td>\n    </tr>\n  </tbody>\n</table>\n</div>"
     },
     "execution_count": 5,
     "metadata": {},
     "output_type": "execute_result"
    }
   ],
   "source": [
    "bulks.head()"
   ],
   "metadata": {
    "collapsed": false,
    "ExecuteTime": {
     "end_time": "2023-11-21T11:20:57.787753Z",
     "start_time": "2023-11-21T11:20:57.785601Z"
    }
   }
  },
  {
   "cell_type": "markdown",
   "metadata": {},
   "source": [
    "### Convert to AnnData object"
   ]
  },
  {
   "cell_type": "code",
   "execution_count": 6,
   "outputs": [],
   "source": [
    "sc_adata = AnnData(sc_counts.T, obs=annotations.to_frame(name=\"cell_type\"))\n",
    "bulks_adata = AnnData(bulks.T, obs=bulks.columns.to_frame(name=\"bulk\"))"
   ],
   "metadata": {
    "collapsed": false,
    "ExecuteTime": {
     "end_time": "2023-11-21T11:20:57.797391Z",
     "start_time": "2023-11-21T11:20:57.789658Z"
    }
   }
  },
  {
   "cell_type": "markdown",
   "source": [
    "## Create Signature result"
   ],
   "metadata": {
    "collapsed": false
   }
  },
  {
   "cell_type": "code",
   "execution_count": null,
   "outputs": [],
   "source": [
    "signature_result = rectangle.pp.build_rectangle_signatures(sc_adata)"
   ],
   "metadata": {
    "collapsed": false
   }
  },
  {
   "cell_type": "markdown",
   "source": [
    "This creates a {class}`rectanglepy.pp.RectangleSignatureResult` object."
   ],
   "metadata": {
    "collapsed": false
   }
  },
  {
   "cell_type": "markdown",
   "source": [
    "## Deconvolute bulk data"
   ],
   "metadata": {
    "collapsed": false
   }
  },
  {
   "cell_type": "code",
   "execution_count": 12,
   "outputs": [
    {
     "name": "stderr",
     "output_type": "stream",
     "text": [
      "\u001B[32m2023-11-21 12:32:37.365\u001B[0m | \u001B[1mINFO    \u001B[0m | \u001B[36mrectanglepy.tl.deconvolution\u001B[0m:\u001B[36mdeconvolution\u001B[0m:\u001B[36m178\u001B[0m - \u001B[1mPercentage of genes in the signature that are in bulk is 77.78%\u001B[0m\n",
      "2023-11-21 12:32:38.426 | INFO     | rectanglepy.tl.deconvolution:_process_bulk:197 - Deconvolute fractions for bulk: 0\n",
      "2023-11-21 12:32:39.309 | INFO     | rectanglepy.tl.deconvolution:_process_bulk:197 - Deconvolute fractions for bulk: 2\n",
      "2023-11-21 12:32:39.311 | INFO     | rectanglepy.tl.deconvolution:_process_bulk:197 - Deconvolute fractions for bulk: 6\n",
      "2023-11-21 12:32:39.313 | INFO     | rectanglepy.tl.deconvolution:_process_bulk:197 - Deconvolute fractions for bulk: 7\n",
      "2023-11-21 12:32:39.317 | INFO     | rectanglepy.tl.deconvolution:_process_bulk:197 - Deconvolute fractions for bulk: 5\n",
      "2023-11-21 12:32:39.321 | INFO     | rectanglepy.tl.deconvolution:_process_bulk:197 - Deconvolute fractions for bulk: 3\n",
      "2023-11-21 12:32:39.326 | INFO     | rectanglepy.tl.deconvolution:_process_bulk:197 - Deconvolute fractions for bulk: 1\n",
      "2023-11-21 12:32:39.331 | INFO     | rectanglepy.tl.deconvolution:_process_bulk:197 - Deconvolute fractions for bulk: 4\n",
      "2023-11-21 12:32:44.051 | INFO     | rectanglepy.tl.deconvolution:_process_bulk:200 - Finished deconvolution for bulk: 4\n",
      "2023-11-21 12:32:44.103 | INFO     | rectanglepy.tl.deconvolution:_process_bulk:197 - Deconvolute fractions for bulk: 8\n",
      "2023-11-21 12:32:44.770 | INFO     | rectanglepy.tl.deconvolution:_process_bulk:200 - Finished deconvolution for bulk: 5\n",
      "2023-11-21 12:32:44.977 | INFO     | rectanglepy.tl.deconvolution:_process_bulk:200 - Finished deconvolution for bulk: 7\n",
      "2023-11-21 12:32:45.132 | INFO     | rectanglepy.tl.deconvolution:_process_bulk:200 - Finished deconvolution for bulk: 2\n",
      "2023-11-21 12:32:52.808 | INFO     | rectanglepy.tl.deconvolution:_process_bulk:200 - Finished deconvolution for bulk: 6\n",
      "2023-11-21 12:32:52.816 | INFO     | rectanglepy.tl.deconvolution:_process_bulk:200 - Finished deconvolution for bulk: 0\n",
      "2023-11-21 12:32:53.167 | INFO     | rectanglepy.tl.deconvolution:_process_bulk:200 - Finished deconvolution for bulk: 3\n",
      "2023-11-21 12:32:53.228 | INFO     | rectanglepy.tl.deconvolution:_process_bulk:200 - Finished deconvolution for bulk: 1\n",
      "2023-11-21 12:32:56.560 | INFO     | rectanglepy.tl.deconvolution:_process_bulk:200 - Finished deconvolution for bulk: 8\n"
     ]
    }
   ],
   "source": [
    "estimations = rectangle.tl.deconvolution(signature_result, bulks_adata)"
   ],
   "metadata": {
    "collapsed": false,
    "ExecuteTime": {
     "end_time": "2023-11-21T11:32:56.569460Z",
     "start_time": "2023-11-21T11:32:37.366889Z"
    }
   }
  },
  {
   "cell_type": "code",
   "execution_count": 13,
   "outputs": [
    {
     "data": {
      "text/plain": "          B cells  Monocytes  NK cells  Plasma cells  T cells CD4 conv   \npbmc_1   0.024612   0.342098  0.052341  5.695104e-03          0.142145  \\\npbmc_10  0.017537   0.382264  0.027946  2.853735e-04          0.007032   \npbmc_12  0.016941   0.118410  0.111627  0.000000e+00          0.019852   \npbmc_2   0.001540   0.274858  0.052025  0.000000e+00          0.164213   \npbmc_4   0.038034   0.153828  0.138206  4.927018e-03          0.123980   \npbmc_5   0.084280   0.238558  0.082768  0.000000e+00          0.000581   \npbmc_6   0.016412   0.467883  0.050700  1.307287e-02          0.006617   \npbmc_7   0.005263   0.143307  0.144074  0.000000e+00          0.023120   \npbmc_9   0.000002   0.254132  0.118803  4.039122e-22          0.006600   \n\n         T cells CD8         Tregs       mDC       pDC   Unknown  \npbmc_1      0.283058  3.798142e-02  0.103029  0.009041  0.000000  \npbmc_10     0.225360  1.399217e-01  0.156580  0.043074  0.000000  \npbmc_12     0.423309  4.177850e-03  0.230941  0.033572  0.041170  \npbmc_2      0.278624 -2.115860e-17  0.198859  0.029880  0.000000  \npbmc_4      0.352626  4.161966e-02  0.102410  0.044369  0.000000  \npbmc_5      0.409376  2.996198e-20  0.157283  0.027154  0.000000  \npbmc_6      0.370235  2.652160e-18  0.063343  0.011738  0.000000  \npbmc_7      0.428678 -9.168158e-18  0.209814  0.025695  0.020049  \npbmc_9      0.328968 -4.042499e-18  0.217132  0.045488  0.028874  ",
      "text/html": "<div>\n<style scoped>\n    .dataframe tbody tr th:only-of-type {\n        vertical-align: middle;\n    }\n\n    .dataframe tbody tr th {\n        vertical-align: top;\n    }\n\n    .dataframe thead th {\n        text-align: right;\n    }\n</style>\n<table border=\"1\" class=\"dataframe\">\n  <thead>\n    <tr style=\"text-align: right;\">\n      <th></th>\n      <th>B cells</th>\n      <th>Monocytes</th>\n      <th>NK cells</th>\n      <th>Plasma cells</th>\n      <th>T cells CD4 conv</th>\n      <th>T cells CD8</th>\n      <th>Tregs</th>\n      <th>mDC</th>\n      <th>pDC</th>\n      <th>Unknown</th>\n    </tr>\n  </thead>\n  <tbody>\n    <tr>\n      <th>pbmc_1</th>\n      <td>0.024612</td>\n      <td>0.342098</td>\n      <td>0.052341</td>\n      <td>5.695104e-03</td>\n      <td>0.142145</td>\n      <td>0.283058</td>\n      <td>3.798142e-02</td>\n      <td>0.103029</td>\n      <td>0.009041</td>\n      <td>0.000000</td>\n    </tr>\n    <tr>\n      <th>pbmc_10</th>\n      <td>0.017537</td>\n      <td>0.382264</td>\n      <td>0.027946</td>\n      <td>2.853735e-04</td>\n      <td>0.007032</td>\n      <td>0.225360</td>\n      <td>1.399217e-01</td>\n      <td>0.156580</td>\n      <td>0.043074</td>\n      <td>0.000000</td>\n    </tr>\n    <tr>\n      <th>pbmc_12</th>\n      <td>0.016941</td>\n      <td>0.118410</td>\n      <td>0.111627</td>\n      <td>0.000000e+00</td>\n      <td>0.019852</td>\n      <td>0.423309</td>\n      <td>4.177850e-03</td>\n      <td>0.230941</td>\n      <td>0.033572</td>\n      <td>0.041170</td>\n    </tr>\n    <tr>\n      <th>pbmc_2</th>\n      <td>0.001540</td>\n      <td>0.274858</td>\n      <td>0.052025</td>\n      <td>0.000000e+00</td>\n      <td>0.164213</td>\n      <td>0.278624</td>\n      <td>-2.115860e-17</td>\n      <td>0.198859</td>\n      <td>0.029880</td>\n      <td>0.000000</td>\n    </tr>\n    <tr>\n      <th>pbmc_4</th>\n      <td>0.038034</td>\n      <td>0.153828</td>\n      <td>0.138206</td>\n      <td>4.927018e-03</td>\n      <td>0.123980</td>\n      <td>0.352626</td>\n      <td>4.161966e-02</td>\n      <td>0.102410</td>\n      <td>0.044369</td>\n      <td>0.000000</td>\n    </tr>\n    <tr>\n      <th>pbmc_5</th>\n      <td>0.084280</td>\n      <td>0.238558</td>\n      <td>0.082768</td>\n      <td>0.000000e+00</td>\n      <td>0.000581</td>\n      <td>0.409376</td>\n      <td>2.996198e-20</td>\n      <td>0.157283</td>\n      <td>0.027154</td>\n      <td>0.000000</td>\n    </tr>\n    <tr>\n      <th>pbmc_6</th>\n      <td>0.016412</td>\n      <td>0.467883</td>\n      <td>0.050700</td>\n      <td>1.307287e-02</td>\n      <td>0.006617</td>\n      <td>0.370235</td>\n      <td>2.652160e-18</td>\n      <td>0.063343</td>\n      <td>0.011738</td>\n      <td>0.000000</td>\n    </tr>\n    <tr>\n      <th>pbmc_7</th>\n      <td>0.005263</td>\n      <td>0.143307</td>\n      <td>0.144074</td>\n      <td>0.000000e+00</td>\n      <td>0.023120</td>\n      <td>0.428678</td>\n      <td>-9.168158e-18</td>\n      <td>0.209814</td>\n      <td>0.025695</td>\n      <td>0.020049</td>\n    </tr>\n    <tr>\n      <th>pbmc_9</th>\n      <td>0.000002</td>\n      <td>0.254132</td>\n      <td>0.118803</td>\n      <td>4.039122e-22</td>\n      <td>0.006600</td>\n      <td>0.328968</td>\n      <td>-4.042499e-18</td>\n      <td>0.217132</td>\n      <td>0.045488</td>\n      <td>0.028874</td>\n    </tr>\n  </tbody>\n</table>\n</div>"
     },
     "execution_count": 13,
     "metadata": {},
     "output_type": "execute_result"
    }
   ],
   "source": [
    "estimations"
   ],
   "metadata": {
    "collapsed": false,
    "ExecuteTime": {
     "end_time": "2023-11-21T11:33:00.804554Z",
     "start_time": "2023-11-21T11:33:00.795287Z"
    }
   }
  },
  {
   "cell_type": "code",
   "execution_count": null,
   "outputs": [],
   "source": [],
   "metadata": {
    "collapsed": false
   }
  }
 ],
 "metadata": {
  "kernelspec": {
   "display_name": "Python 3.9.12 ('squidpy39')",
   "language": "python",
   "name": "python3"
  },
  "language_info": {
   "codemirror_mode": {
    "name": "ipython",
    "version": 3
   },
   "file_extension": ".py",
   "mimetype": "text/x-python",
   "name": "python",
   "nbconvert_exporter": "python",
   "pygments_lexer": "ipython3",
   "version": "3.9.12"
  },
  "vscode": {
   "interpreter": {
    "hash": "ae6466e8d4f517858789b5c9e8f0ed238fb8964458a36305fca7bddc149e9c64"
   }
  }
 },
 "nbformat": 4,
 "nbformat_minor": 4
}
