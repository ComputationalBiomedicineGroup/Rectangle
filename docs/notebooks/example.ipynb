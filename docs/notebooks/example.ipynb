{
 "cells": [
  {
   "cell_type": "markdown",
   "metadata": {},
   "source": "# Quick start"
  },
  {
   "cell_type": "markdown",
   "source": [],
   "metadata": {
    "collapsed": false
   }
  },
  {
   "cell_type": "code",
   "metadata": {
    "ExecuteTime": {
     "end_time": "2025-06-01T19:31:30.746579Z",
     "start_time": "2025-06-01T19:31:29.128037Z"
    }
   },
   "source": [
    "import rectanglepy as rectangle\n",
    "from anndata import AnnData"
   ],
   "outputs": [],
   "execution_count": 1
  },
  {
   "cell_type": "markdown",
   "source": "## Creating the input data",
   "metadata": {
    "collapsed": false
   }
  },
  {
   "metadata": {},
   "cell_type": "markdown",
   "source": "Rectangle requires the single-cell data in the form of a scverse [`AnnData`](https://anndata.readthedocs.io/en/latest/) object, and the bulk data as a pandas DataFrame."
  },
  {
   "metadata": {},
   "cell_type": "markdown",
   "source": "Do see an example of this, we can load the tutorial data provided by Rectangle."
  },
  {
   "cell_type": "code",
   "metadata": {
    "ExecuteTime": {
     "end_time": "2025-06-01T19:31:32.276065Z",
     "start_time": "2025-06-01T19:31:31.597456Z"
    }
   },
   "source": [
    "sc_counts, annotations, bulks  = rectangle.load_tutorial_data()"
   ],
   "outputs": [],
   "execution_count": 2
  },
  {
   "metadata": {},
   "cell_type": "markdown",
   "source": "The tutorial data set contains single-cell RNA-seq counts as a pandas DataFrame, with the cell type annotations as a pandas Series."
  },
  {
   "cell_type": "code",
   "source": "sc_counts.iloc[:, :5].head()",
   "metadata": {
    "collapsed": false,
    "ExecuteTime": {
     "end_time": "2025-06-01T19:31:35.537847Z",
     "start_time": "2025-06-01T19:31:35.529946Z"
    }
   },
   "outputs": [
    {
     "data": {
      "text/plain": [
       "                       MIR1302-2HG  AL627309.1  AL627309.4  AC114498.1   \n",
       "E2L4_GATGCTACAGGCACAA            0           0           0           0  \\\n",
       "L5_AACAACCAGGAACTAT              0           0           0           0   \n",
       "L5_TCCTTCTGTACTCCGG              0           0           0           0   \n",
       "L2_GCCCGAACACGTATAC              0           0           0           0   \n",
       "E2L2_ATGCATGTCACACCCT            0           0           0           0   \n",
       "\n",
       "                       AL669831.5  \n",
       "E2L4_GATGCTACAGGCACAA           0  \n",
       "L5_AACAACCAGGAACTAT             0  \n",
       "L5_TCCTTCTGTACTCCGG             0  \n",
       "L2_GCCCGAACACGTATAC             0  \n",
       "E2L2_ATGCATGTCACACCCT           0  "
      ],
      "text/html": [
       "<div>\n",
       "<style scoped>\n",
       "    .dataframe tbody tr th:only-of-type {\n",
       "        vertical-align: middle;\n",
       "    }\n",
       "\n",
       "    .dataframe tbody tr th {\n",
       "        vertical-align: top;\n",
       "    }\n",
       "\n",
       "    .dataframe thead th {\n",
       "        text-align: right;\n",
       "    }\n",
       "</style>\n",
       "<table border=\"1\" class=\"dataframe\">\n",
       "  <thead>\n",
       "    <tr style=\"text-align: right;\">\n",
       "      <th></th>\n",
       "      <th>MIR1302-2HG</th>\n",
       "      <th>AL627309.1</th>\n",
       "      <th>AL627309.4</th>\n",
       "      <th>AC114498.1</th>\n",
       "      <th>AL669831.5</th>\n",
       "    </tr>\n",
       "  </thead>\n",
       "  <tbody>\n",
       "    <tr>\n",
       "      <th>E2L4_GATGCTACAGGCACAA</th>\n",
       "      <td>0</td>\n",
       "      <td>0</td>\n",
       "      <td>0</td>\n",
       "      <td>0</td>\n",
       "      <td>0</td>\n",
       "    </tr>\n",
       "    <tr>\n",
       "      <th>L5_AACAACCAGGAACTAT</th>\n",
       "      <td>0</td>\n",
       "      <td>0</td>\n",
       "      <td>0</td>\n",
       "      <td>0</td>\n",
       "      <td>0</td>\n",
       "    </tr>\n",
       "    <tr>\n",
       "      <th>L5_TCCTTCTGTACTCCGG</th>\n",
       "      <td>0</td>\n",
       "      <td>0</td>\n",
       "      <td>0</td>\n",
       "      <td>0</td>\n",
       "      <td>0</td>\n",
       "    </tr>\n",
       "    <tr>\n",
       "      <th>L2_GCCCGAACACGTATAC</th>\n",
       "      <td>0</td>\n",
       "      <td>0</td>\n",
       "      <td>0</td>\n",
       "      <td>0</td>\n",
       "      <td>0</td>\n",
       "    </tr>\n",
       "    <tr>\n",
       "      <th>E2L2_ATGCATGTCACACCCT</th>\n",
       "      <td>0</td>\n",
       "      <td>0</td>\n",
       "      <td>0</td>\n",
       "      <td>0</td>\n",
       "      <td>0</td>\n",
       "    </tr>\n",
       "  </tbody>\n",
       "</table>\n",
       "</div>"
      ]
     },
     "execution_count": 3,
     "metadata": {},
     "output_type": "execute_result"
    }
   ],
   "execution_count": 3
  },
  {
   "cell_type": "code",
   "source": [
    "annotations.head()"
   ],
   "metadata": {
    "collapsed": false,
    "ExecuteTime": {
     "end_time": "2025-06-01T19:21:24.786234Z",
     "start_time": "2025-06-01T19:21:24.782923Z"
    }
   },
   "outputs": [
    {
     "data": {
      "text/plain": [
       "E2L4_GATGCTACAGGCACAA    Monocytes\n",
       "L5_AACAACCAGGAACTAT      Monocytes\n",
       "L5_TCCTTCTGTACTCCGG      Monocytes\n",
       "L2_GCCCGAACACGTATAC      Monocytes\n",
       "E2L2_ATGCATGTCACACCCT    Monocytes\n",
       "Name: 0, dtype: object"
      ]
     },
     "execution_count": 12,
     "metadata": {},
     "output_type": "execute_result"
    }
   ],
   "execution_count": 12
  },
  {
   "cell_type": "code",
   "source": "bulks.T.head()",
   "metadata": {
    "collapsed": false,
    "ExecuteTime": {
     "end_time": "2025-06-01T19:21:25.411563Z",
     "start_time": "2025-06-01T19:21:25.405777Z"
    }
   },
   "outputs": [
    {
     "data": {
      "text/plain": [
       "              pbmc_1   pbmc_10   pbmc_12\n",
       "UBE2Q2P2    0.000000  0.081115  0.000000\n",
       "SSX9        0.000000  0.000000  0.000000\n",
       "CXorf67     0.118865  0.086782  0.188464\n",
       "EFCAB8      0.000000  0.000000  0.031570\n",
       "SPATA31B1P  0.000000  0.000000  0.000000"
      ],
      "text/html": [
       "<div>\n",
       "<style scoped>\n",
       "    .dataframe tbody tr th:only-of-type {\n",
       "        vertical-align: middle;\n",
       "    }\n",
       "\n",
       "    .dataframe tbody tr th {\n",
       "        vertical-align: top;\n",
       "    }\n",
       "\n",
       "    .dataframe thead th {\n",
       "        text-align: right;\n",
       "    }\n",
       "</style>\n",
       "<table border=\"1\" class=\"dataframe\">\n",
       "  <thead>\n",
       "    <tr style=\"text-align: right;\">\n",
       "      <th></th>\n",
       "      <th>pbmc_1</th>\n",
       "      <th>pbmc_10</th>\n",
       "      <th>pbmc_12</th>\n",
       "    </tr>\n",
       "  </thead>\n",
       "  <tbody>\n",
       "    <tr>\n",
       "      <th>UBE2Q2P2</th>\n",
       "      <td>0.000000</td>\n",
       "      <td>0.081115</td>\n",
       "      <td>0.000000</td>\n",
       "    </tr>\n",
       "    <tr>\n",
       "      <th>SSX9</th>\n",
       "      <td>0.000000</td>\n",
       "      <td>0.000000</td>\n",
       "      <td>0.000000</td>\n",
       "    </tr>\n",
       "    <tr>\n",
       "      <th>CXorf67</th>\n",
       "      <td>0.118865</td>\n",
       "      <td>0.086782</td>\n",
       "      <td>0.188464</td>\n",
       "    </tr>\n",
       "    <tr>\n",
       "      <th>EFCAB8</th>\n",
       "      <td>0.000000</td>\n",
       "      <td>0.000000</td>\n",
       "      <td>0.031570</td>\n",
       "    </tr>\n",
       "    <tr>\n",
       "      <th>SPATA31B1P</th>\n",
       "      <td>0.000000</td>\n",
       "      <td>0.000000</td>\n",
       "      <td>0.000000</td>\n",
       "    </tr>\n",
       "  </tbody>\n",
       "</table>\n",
       "</div>"
      ]
     },
     "execution_count": 13,
     "metadata": {},
     "output_type": "execute_result"
    }
   ],
   "execution_count": 13
  },
  {
   "cell_type": "markdown",
   "metadata": {},
   "source": "The count dataframe with it's annotations can easily convert to an AnnData object.\n"
  },
  {
   "cell_type": "code",
   "source": [
    "sc_adata = AnnData(sc_counts, obs=annotations.to_frame(name=\"cell_type\"))"
   ],
   "metadata": {
    "collapsed": false,
    "ExecuteTime": {
     "end_time": "2025-06-01T19:31:39.172686Z",
     "start_time": "2025-06-01T19:31:39.143823Z"
    }
   },
   "outputs": [],
   "execution_count": 4
  },
  {
   "cell_type": "markdown",
   "source": "## Single step Rectangle workflow",
   "metadata": {
    "collapsed": false
   }
  },
  {
   "metadata": {},
   "cell_type": "markdown",
   "source": "To deconvolute the bulk data in a single step, use the \"rectangle\" method. This method returns a tuple of the estimated cell type proportions and the signature result."
  },
  {
   "cell_type": "code",
   "source": "estimations, signature_result = rectangle.rectangle(sc_adata, bulks)",
   "metadata": {
    "collapsed": false
   },
   "outputs": [],
   "execution_count": null
  },
  {
   "metadata": {},
   "cell_type": "markdown",
   "source": [
    "The rectangle method returns two objects:\n",
    "1. `estimations`: a pandas DataFrame with the estimated cell type proportions for each bulk sample.\n",
    "2. `signature_result`: a [`RectangleSignatureResult`](../generated/rectanglepy.pp.RectangleSignatureResult.rst) object containing  additional information about the signature and the unknown content.\n"
   ]
  },
  {
   "cell_type": "code",
   "source": "estimations",
   "metadata": {
    "collapsed": false,
    "ExecuteTime": {
     "end_time": "2025-06-01T19:32:21.785924Z",
     "start_time": "2025-06-01T19:32:21.777949Z"
    }
   },
   "outputs": [
    {
     "data": {
      "text/plain": [
       "          B cells       ILC  Monocytes  NK cells  Plasma cells  Platelet   \n",
       "pbmc_1   0.090739  0.011386   0.229843  0.022667      0.005956  0.004898  \\\n",
       "pbmc_10  0.110518  0.016910   0.297931  0.016344      0.000659  0.021996   \n",
       "pbmc_12  0.071532  0.007335   0.225517  0.101075      0.003095  0.018637   \n",
       "\n",
       "         T cells CD4 conv  T cells CD8     Tregs       mDC       pDC   Unknown  \n",
       "pbmc_1       2.833039e-02     0.162392  0.416964  0.024425  0.002401  0.000000  \n",
       "pbmc_10      8.220139e-18     0.118382  0.391830  0.020750  0.004678  0.000000  \n",
       "pbmc_12      0.000000e+00     0.275009  0.256503  0.010054  0.002985  0.028258  "
      ],
      "text/html": [
       "<div>\n",
       "<style scoped>\n",
       "    .dataframe tbody tr th:only-of-type {\n",
       "        vertical-align: middle;\n",
       "    }\n",
       "\n",
       "    .dataframe tbody tr th {\n",
       "        vertical-align: top;\n",
       "    }\n",
       "\n",
       "    .dataframe thead th {\n",
       "        text-align: right;\n",
       "    }\n",
       "</style>\n",
       "<table border=\"1\" class=\"dataframe\">\n",
       "  <thead>\n",
       "    <tr style=\"text-align: right;\">\n",
       "      <th></th>\n",
       "      <th>B cells</th>\n",
       "      <th>ILC</th>\n",
       "      <th>Monocytes</th>\n",
       "      <th>NK cells</th>\n",
       "      <th>Plasma cells</th>\n",
       "      <th>Platelet</th>\n",
       "      <th>T cells CD4 conv</th>\n",
       "      <th>T cells CD8</th>\n",
       "      <th>Tregs</th>\n",
       "      <th>mDC</th>\n",
       "      <th>pDC</th>\n",
       "      <th>Unknown</th>\n",
       "    </tr>\n",
       "  </thead>\n",
       "  <tbody>\n",
       "    <tr>\n",
       "      <th>pbmc_1</th>\n",
       "      <td>0.090739</td>\n",
       "      <td>0.011386</td>\n",
       "      <td>0.229843</td>\n",
       "      <td>0.022667</td>\n",
       "      <td>0.005956</td>\n",
       "      <td>0.004898</td>\n",
       "      <td>2.833039e-02</td>\n",
       "      <td>0.162392</td>\n",
       "      <td>0.416964</td>\n",
       "      <td>0.024425</td>\n",
       "      <td>0.002401</td>\n",
       "      <td>0.000000</td>\n",
       "    </tr>\n",
       "    <tr>\n",
       "      <th>pbmc_10</th>\n",
       "      <td>0.110518</td>\n",
       "      <td>0.016910</td>\n",
       "      <td>0.297931</td>\n",
       "      <td>0.016344</td>\n",
       "      <td>0.000659</td>\n",
       "      <td>0.021996</td>\n",
       "      <td>8.220139e-18</td>\n",
       "      <td>0.118382</td>\n",
       "      <td>0.391830</td>\n",
       "      <td>0.020750</td>\n",
       "      <td>0.004678</td>\n",
       "      <td>0.000000</td>\n",
       "    </tr>\n",
       "    <tr>\n",
       "      <th>pbmc_12</th>\n",
       "      <td>0.071532</td>\n",
       "      <td>0.007335</td>\n",
       "      <td>0.225517</td>\n",
       "      <td>0.101075</td>\n",
       "      <td>0.003095</td>\n",
       "      <td>0.018637</td>\n",
       "      <td>0.000000e+00</td>\n",
       "      <td>0.275009</td>\n",
       "      <td>0.256503</td>\n",
       "      <td>0.010054</td>\n",
       "      <td>0.002985</td>\n",
       "      <td>0.028258</td>\n",
       "    </tr>\n",
       "  </tbody>\n",
       "</table>\n",
       "</div>"
      ]
     },
     "execution_count": 6,
     "metadata": {},
     "output_type": "execute_result"
    }
   ],
   "execution_count": 6
  },
  {
   "metadata": {
    "ExecuteTime": {
     "end_time": "2025-06-01T19:33:38.353766Z",
     "start_time": "2025-06-01T19:33:38.350959Z"
    }
   },
   "cell_type": "code",
   "source": "signature_result",
   "outputs": [
    {
     "data": {
      "text/plain": [
       "<rectanglepy.pp.rectangle_signature.RectangleSignatureResult at 0x166e33280>"
      ]
     },
     "execution_count": 7,
     "metadata": {},
     "output_type": "execute_result"
    }
   ],
   "execution_count": 7
  },
  {
   "cell_type": "markdown",
   "source": "## 2-step Rectangle workflow",
   "metadata": {
    "collapsed": false
   }
  },
  {
   "cell_type": "markdown",
   "source": [
    "Rectangle can also be run in two steps, first creating the signature and then deconvoluting the bulk data."
   ],
   "metadata": {
    "collapsed": false
   }
  },
  {
   "cell_type": "markdown",
   "source": [
    "## Create Signature result"
   ],
   "metadata": {
    "collapsed": false
   }
  },
  {
   "cell_type": "code",
   "source": [
    "signature_result = rectangle.pp.build_rectangle_signatures(sc_adata, bulks=bulks)"
   ],
   "metadata": {
    "collapsed": false
   },
   "outputs": [],
   "execution_count": null
  },
  {
   "cell_type": "markdown",
   "source": [
    "This creates a [`RectangleSignatureResult`](../generated/rectanglepy.pp.RectangleSignatureResult.rst) object."
   ],
   "metadata": {
    "collapsed": false
   }
  },
  {
   "cell_type": "markdown",
   "source": [
    "## Deconvolute bulk data"
   ],
   "metadata": {
    "collapsed": false
   }
  },
  {
   "metadata": {},
   "cell_type": "markdown",
   "source": "We can then use the signature result to deconvolute the bulk data. This is done using the `deconvolution` method of the `RectangleSignatureResult` object."
  },
  {
   "cell_type": "code",
   "source": "estimations, _ = rectangle.tl.deconvolution(signature_result, bulks)",
   "metadata": {
    "collapsed": false
   },
   "outputs": [],
   "execution_count": null
  },
  {
   "cell_type": "markdown",
   "source": [
    "This returns a pandas DataFrame with the estimated cell type proportions."
   ],
   "metadata": {
    "collapsed": false
   }
  },
  {
   "cell_type": "code",
   "source": "estimations",
   "metadata": {
    "collapsed": false,
    "ExecuteTime": {
     "end_time": "2025-06-01T19:36:26.049491Z",
     "start_time": "2025-06-01T19:36:26.040208Z"
    }
   },
   "outputs": [
    {
     "data": {
      "text/plain": [
       "          B cells       ILC  Monocytes  NK cells  Plasma cells  Platelet   \n",
       "pbmc_1   0.090739  0.011386   0.229843  0.022667      0.005956  0.004898  \\\n",
       "pbmc_10  0.110518  0.016910   0.297931  0.016344      0.000659  0.021996   \n",
       "pbmc_12  0.071532  0.007335   0.225517  0.101075      0.003095  0.018637   \n",
       "\n",
       "         T cells CD4 conv  T cells CD8     Tregs       mDC       pDC   Unknown  \n",
       "pbmc_1       2.833039e-02     0.162392  0.416964  0.024425  0.002401  0.000000  \n",
       "pbmc_10      8.220139e-18     0.118382  0.391830  0.020750  0.004678  0.000000  \n",
       "pbmc_12      0.000000e+00     0.275009  0.256503  0.010054  0.002985  0.028258  "
      ],
      "text/html": [
       "<div>\n",
       "<style scoped>\n",
       "    .dataframe tbody tr th:only-of-type {\n",
       "        vertical-align: middle;\n",
       "    }\n",
       "\n",
       "    .dataframe tbody tr th {\n",
       "        vertical-align: top;\n",
       "    }\n",
       "\n",
       "    .dataframe thead th {\n",
       "        text-align: right;\n",
       "    }\n",
       "</style>\n",
       "<table border=\"1\" class=\"dataframe\">\n",
       "  <thead>\n",
       "    <tr style=\"text-align: right;\">\n",
       "      <th></th>\n",
       "      <th>B cells</th>\n",
       "      <th>ILC</th>\n",
       "      <th>Monocytes</th>\n",
       "      <th>NK cells</th>\n",
       "      <th>Plasma cells</th>\n",
       "      <th>Platelet</th>\n",
       "      <th>T cells CD4 conv</th>\n",
       "      <th>T cells CD8</th>\n",
       "      <th>Tregs</th>\n",
       "      <th>mDC</th>\n",
       "      <th>pDC</th>\n",
       "      <th>Unknown</th>\n",
       "    </tr>\n",
       "  </thead>\n",
       "  <tbody>\n",
       "    <tr>\n",
       "      <th>pbmc_1</th>\n",
       "      <td>0.090739</td>\n",
       "      <td>0.011386</td>\n",
       "      <td>0.229843</td>\n",
       "      <td>0.022667</td>\n",
       "      <td>0.005956</td>\n",
       "      <td>0.004898</td>\n",
       "      <td>2.833039e-02</td>\n",
       "      <td>0.162392</td>\n",
       "      <td>0.416964</td>\n",
       "      <td>0.024425</td>\n",
       "      <td>0.002401</td>\n",
       "      <td>0.000000</td>\n",
       "    </tr>\n",
       "    <tr>\n",
       "      <th>pbmc_10</th>\n",
       "      <td>0.110518</td>\n",
       "      <td>0.016910</td>\n",
       "      <td>0.297931</td>\n",
       "      <td>0.016344</td>\n",
       "      <td>0.000659</td>\n",
       "      <td>0.021996</td>\n",
       "      <td>8.220139e-18</td>\n",
       "      <td>0.118382</td>\n",
       "      <td>0.391830</td>\n",
       "      <td>0.020750</td>\n",
       "      <td>0.004678</td>\n",
       "      <td>0.000000</td>\n",
       "    </tr>\n",
       "    <tr>\n",
       "      <th>pbmc_12</th>\n",
       "      <td>0.071532</td>\n",
       "      <td>0.007335</td>\n",
       "      <td>0.225517</td>\n",
       "      <td>0.101075</td>\n",
       "      <td>0.003095</td>\n",
       "      <td>0.018637</td>\n",
       "      <td>0.000000e+00</td>\n",
       "      <td>0.275009</td>\n",
       "      <td>0.256503</td>\n",
       "      <td>0.010054</td>\n",
       "      <td>0.002985</td>\n",
       "      <td>0.028258</td>\n",
       "    </tr>\n",
       "  </tbody>\n",
       "</table>\n",
       "</div>"
      ]
     },
     "execution_count": 12,
     "metadata": {},
     "output_type": "execute_result"
    }
   ],
   "execution_count": 12
  },
  {
   "metadata": {},
   "cell_type": "markdown",
   "source": "# Spatial transcriptomics deconvolution"
  },
  {
   "metadata": {},
   "cell_type": "markdown",
   "source": [
    "To see how Rectangle can be used with spatial data, we can load a remote dataset using the `spatialdata` package.\n",
    "See the [spatialdata documentation](https://spatialdata.scverse.org/en/stable/index.html) for more details.\n",
    "\n",
    "We use the [10x Visium data generated from the human dorsolateral prefrontal cortex](https://github.com/LieberInstitute/HumanPilot/tree/master/10X/151673)\n",
    "\n",
    "Which can be dowloaded from here:\n",
    "[https://spatial-dlpfc.s3.us-east-2.amazonaws.com/h5/151673_filtered_feature_bc_matrix.h5](https://spatial-dlpfc.s3.us-east-2.amazonaws.com/h5/151673_filtered_feature_bc_matrix.h5)"
   ]
  },
  {
   "metadata": {},
   "cell_type": "code",
   "source": [
    "import spatialdata\n",
    "import spatialdata_io\n",
    "import pandas as pd\n",
    "\n",
    "s_data = spatialdata_io.visium(path='../data', dataset_id='151673',scalefactors_file='scalefactors_json.json', tissue_positions_file='tissue_positions.csv', counts_file='151673_filtered_feature_bc_matrix.h5')\n"
   ],
   "execution_count": null,
   "outputs": []
  },
  {
   "metadata": {},
   "cell_type": "markdown",
   "source": " To build the signature we will load the [M1 Allen Brain atlas](https://portal.brain-map.org/atlases-and-data/rnaseq/human-m1-10x)"
  },
  {
   "metadata": {},
   "cell_type": "code",
   "execution_count": null,
   "source": [
    "counts = pd.read_csv('../data/human_m1/matrix.csv', index_col=0)\n",
    "counts = counts.astype(int)\n",
    "metadata = pd.read_csv('../data/human_m1/metadata.csv', index_col=0)\n",
    "annotations = metadata['cell_type_alias_label']\n"
   ],
   "outputs": []
  },
  {
   "metadata": {},
   "cell_type": "markdown",
   "source": "We do a simple preprocessing of the annotations to group the cell types into broader categories."
  },
  {
   "metadata": {},
   "cell_type": "code",
   "outputs": [],
   "execution_count": null,
   "source": [
    "# remove anything after the second space(word)\n",
    "annotations = annotations.str.split(' ', n=2).str[:2].str.join(' ')\n",
    "# remove anything afert first minus\n",
    "annotations = annotations.str.split('-', n=1).str[0]"
   ]
  },
  {
   "metadata": {},
   "cell_type": "markdown",
   "source": "We can run Rectangle on the spatial data using the `rectangle` method, by using the 'table' object of the `SpatialData` object."
  },
  {
   "metadata": {},
   "cell_type": "code",
   "source": [
    "adata = AnnData(counts, obs=annotations.to_frame(name='cell_type'))\n",
    "\n",
    "data_table = s_data['table']\n",
    "bulks = data_table.to_df()\n",
    "# Convert bulks from counts to CPM\n",
    "bulks_cpm = bulks.div(bulks.sum(axis=1), axis=0) * 1e6\n"
   ],
   "outputs": [],
   "execution_count": null
  },
  {
   "metadata": {},
   "cell_type": "code",
   "outputs": [],
   "execution_count": null,
   "source": "estimations, signature_result = rectangle.rectangle(adata, bulks_cpm)\n"
  },
  {
   "metadata": {},
   "cell_type": "markdown",
   "source": "We can annotate the spatial data with the estimations by creating a new `AnnData` object from the estimations and adding it to the `SpatialData` object."
  },
  {
   "metadata": {},
   "cell_type": "code",
   "outputs": [],
   "execution_count": null,
   "source": [
    "from spatialdata.models import TableModel\n",
    "\n",
    "table_data = AnnData(estimations)\n",
    "adata_for_sdata = TableModel.parse(table_data)\n",
    "\n",
    "adata_for_sdata.uns[\"spatialdata_attrs\"] = {\n",
    "    \"region\": \"spots\",\n",
    "    \"region_key\": \"region\",\n",
    "    \"instance_key\": \"spot_id\",\n",
    "}\n",
    "\n",
    "adata_for_sdata.obs[\"region\"] = pd.Categorical([\"spots\"] * len(adata_for_sdata))\n",
    "adata_for_sdata.obs[\"spot_id\"] = s_data.tables.data['table'].obs[\"spot_id\"]\n",
    "\n",
    "s_data.tables[\"rectangle_results\"] = adata_for_sdata"
   ]
  }
 ],
 "metadata": {
  "kernelspec": {
   "display_name": "Python 3.9.12 ('squidpy39')",
   "language": "python",
   "name": "python3"
  },
  "language_info": {
   "codemirror_mode": {
    "name": "ipython",
    "version": 3
   },
   "file_extension": ".py",
   "mimetype": "text/x-python",
   "name": "python",
   "nbconvert_exporter": "python",
   "pygments_lexer": "ipython3",
   "version": "3.9.12"
  },
  "vscode": {
   "interpreter": {
    "hash": "ae6466e8d4f517858789b5c9e8f0ed238fb8964458a36305fca7bddc149e9c64"
   }
  }
 },
 "nbformat": 4,
 "nbformat_minor": 4
}
